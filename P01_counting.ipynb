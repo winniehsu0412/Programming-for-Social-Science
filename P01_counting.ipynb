{
 "cells": [
  {
   "cell_type": "markdown",
   "metadata": {
    "id": "view-in-github",
    "slideshow": {
     "slide_type": "slide"
    },
    "tags": []
   },
   "source": [
    "<a href=\"https://colab.research.google.com/github/P4CSS/PSS/blob/master/P01_Counting.ipynb\" target=\"_parent\"><img src=\"https://colab.research.google.com/assets/colab-badge.svg\" alt=\"Open In Colab\"/></a>"
   ]
  },
  {
   "cell_type": "markdown",
   "metadata": {
    "id": "IO2oAUEcCFPz",
    "tags": []
   },
   "source": [
    "# P01-Counting\n",
    "\n",
    "* [Slide: Py01 Counting](https://docs.google.com/presentation/d/e/2PACX-1vT9xw6FZzdlR1QcXHZe-bQ8eeYftltAAutHPNTyyMcLkevEr2bHOBfrpaaZpMaTb1gb1ufUX00jeu8w/pub?start=false&loop=false&delayms=3000)\n",
    "* [Github Repo](https://github.com/P4CSS/PSS) \n",
    "\n",
    "## 計數\n",
    "\n",
    "寫程式是模仿你解決問題的邏輯，讓電腦幫你重複做，大量的做。因此，重要的是你解決問題的邏輯。例如計數／計量（Counting）就是一個簡單且實用的演算法邏輯。計數的程式邏輯目標是計算一堆物件中，每個物件各有幾個。相關範例有：\n",
    "\n",
    "* 全班有這麼多人，我想算算每個科系有多少人，好知道系所比例安排專題。\n",
    "* 我被當好人跑腿，幫全班買飲料。但現在飲料品項很多，且有糖量、冰量的選擇，通常會逐一詢問後，逐一登記眾人所提出來的品項，有重複的畫正字記號累計。\n",
    "* 在統計中常見的狀況是依照`[0, 10)`、`[10, 20)`依此類推計算學生的成績分布。\n",
    "* 在社會科學中常見的狀況是，計算某一篇文章裡面，每個詞出現幾次（詞頻）？\n",
    "\n",
    "以下這個例子將帶你從最基礎的語法，用Python最基礎的資料型態來「計數（counting）」。\n",
    "\n",
    "### 計數的任務定義\n",
    "\n",
    "「考慮一個狀況，有一個跟一座山一樣多的水果，不知道有幾種水果，也不知道有幾顆，你必須要數出各種水果有幾顆，你會怎麼數？」"
   ]
  },
  {
   "cell_type": "markdown",
   "metadata": {},
   "source": [
    "### 運算思維思考\n",
    "\n",
    "* 首先你會有一列水果（物品）：A(pple), B(anana), C(herry), G(rapes), A, A, G, C, G, O(range), O, ..\n",
    "* **想想若你在數水果實際上你是怎麼數？** 會從第一顆開始，一顆一顆地數，數到結束為止（水果有幾顆，就得數幾次）。\n",
    "* **那你怎麼記住哪一種水果有幾顆？** 拿出一張紙，看到一種沒看過的水果，就新增一個「對應」，將水果名稱對應到0，然後在對應的欄位數值遞增一。若已經看過該水果，那就直接找到那個欄位遞增一即可。\n",
    "\n",
    "    ```\n",
    "    iteration= 1, A, A: 1\n",
    "    iteration= 2, B, A: 1, B: 1\n",
    "    iteration= 3, C, A: 1, B: 1, C: 1\n",
    "    iteration= 4, G, A: 1, B: 1, C: 1, G: 1\n",
    "    iteration= 5, A, A: 2, B: 1, C: 1, G: 1\n",
    "    iteration= 6, A, A: 3, B: 1, C: 1, G: 1\n",
    "    iteration= 7, G, A: 3, B: 1, C: 1, G: 2\n",
    "    iteration= 8, C, A: 3, B: 1, C: 2, G: 2\n",
    "    iteration= 9, G, A: 3, B: 1, C: 2, G: 3\n",
    "    iteration=10, O, A: 3, B: 1, C: 2, G: 3, O: 1\n",
    "    iteration=11, O, A: 3, B: 1, C: 2, G: 3, O: 2\n",
    "    ```"
   ]
  },
  {
   "cell_type": "markdown",
   "metadata": {},
   "source": [
    "#### 用比較接近程式邏輯的方式來思考\n",
    "\n",
    "1. 先拿出一張紙做對應表， 左一行要寫水果名，右一行為他所對應到的水果數量\n",
    "2. 把水果排成一列準備一個一個數\n",
    "3. 對籃子裡的每一顆水果，逐一開始數：\n",
    "    * 如果沒看過該種水果\n",
    "        * 就在對應表記下該種水果，登記該水果為1顆。\n",
    "    * 若有看過該種水果\n",
    "        * 就把對應表上的那種水果所對應到的數字加1。"
   ]
  },
  {
   "cell_type": "markdown",
   "metadata": {
    "id": "KJdPfyydCFP7"
   },
   "source": [
    "#### 用英文來撰寫上述的邏輯思考\n",
    "\n",
    "程式語言的邏輯事實上和要解決問題的邏輯表述很像，連文字和關鍵字都很像。包含if-else（如果滿足條件就怎樣，不然就怎樣）等條件判斷結構，和`for a in alist`對於`alist`中的每個元素。\n",
    "\n",
    "1. Build a **look-up table**to record each fruit and number of the fruit(calls it dictionary), naming as `fruit_count`\n",
    "2. Keep all fruits in a **list** named `fruit_list`\n",
    "3. **For each** `fruit` in `fruit_list`: \n",
    "    * If the fruit does not appear in `fruit_count`\n",
    "        * Create a mapping in `fruit_count` to map the `fruit` name to 1\n",
    "    * else\n",
    "        * increase the mapped value of the `fruit` name in `fruit_count`      "
   ]
  },
  {
   "cell_type": "markdown",
   "metadata": {},
   "source": [
    "<div class=\"alert alert-block alert-info\">\n",
    "<b>別的程式語言會怎麼做？</b> 如果是Google Sheet或Excel要做到這件事的話，要先用`unique()`找出相異的data value，然後用`countif()`函式來計算，每個相異值個別出現過幾次。作法如<a href=\"https://paper.dropbox.com/doc/Excel-skills--AMhtEb1RwJRKglJS17HxOonIAQ-oFgGCjW9W1m7UXBsdq6UG\">Excel skills: How do I get the distinct/uniq</a>。如果你是用R來處理的話，那就會是`count(vec)`。\n",
    "</div>"
   ]
  },
  {
   "cell_type": "markdown",
   "metadata": {},
   "source": [
    "### Convert to Python\n",
    "\n",
    "將上述用英文撰寫的程式邏輯改用Python語法來撰寫程式碼如下。其中包含了Dict(ionary)、List的資料結構和變數、以及for-loop反覆迴圈邏輯和if-else的條件式判斷。\n"
   ]
  },
  {
   "cell_type": "code",
   "execution_count": 2,
   "metadata": {
    "ExecuteTime": {
     "end_time": "2020-03-09T16:31:01.002367Z",
     "start_time": "2020-03-09T16:31:00.995311Z"
    },
    "id": "P9P7hpirCFP8",
    "outputId": "0db58fd8-a9e3-41c7-82f0-514f1ef28623"
   },
   "outputs": [
    {
     "name": "stdout",
     "output_type": "stream",
     "text": [
      "{'apple': 4, 'banana': 3, 'grape': 1}\n"
     ]
    }
   ],
   "source": [
    "# Create an empty Dict(ionry) to store the key to value pairs\n",
    "# Assign an empty Dict(ionry) to a variable 'fruit_count'\n",
    "fruit_count = {}\n",
    "\n",
    "# Create a list to store all things to count\n",
    "# Assign the List with value to a new variable 'fruit_list'\n",
    "fruit_list = ['apple', 'apple', 'banana', 'apple', 'banana', 'grape', 'banana', 'apple'] # A list of fruit\n",
    "\n",
    "# For each fruit in the list...\n",
    "for fruit in fruit_list:\n",
    "    if fruit not in fruit_count:\n",
    "        fruit_count[fruit] = 1\n",
    "    else:\n",
    "        fruit_count[fruit] = fruit_count[fruit] + 1\n",
    "\n",
    "print(fruit_count)"
   ]
  },
  {
   "cell_type": "markdown",
   "metadata": {
    "id": "VD4jaMykCFP8",
    "tags": []
   },
   "source": [
    "在上述程式碼中，有幾個重要的概念\n",
    "\n",
    "#### Assignment\n",
    "* `=`稱為Assignment，將右側的數據Assign給左側的變數。\n",
    "* 例如`fruit_count = {}`即是把一個空的`Dict`(tionary) Assign給左側的變項`fruit_count`。\n",
    "* 例如`fruit_list = ['apple', 'apple', 'banana', 'apple', 'banana', 'grape', 'banana', 'apple']`便是把一列的水果名（字串）Assign給左側的變項`fruit_list`。 \n",
    "\n",
    "#### List資料型態（資料結構）\n",
    "* **Def**: List是一種有序結構，可以用整數作為索引來存取，從0開始編號，第0個、第1個、第2個。\n",
    "* **Access(Read)**: 可以用小於List長度的整數作為索引來取出List中的某個值，例如一個比較簡短的例子`alist = ['a', 'b', 'c']`中，`alist[0]`的值為`'a'`，`alist[2]`的值為`'c'`。\n",
    "* **Access(Write)**: 也可以用Assign覆寫List中某個元素值，例如`alist[2]=3`，那麼`alist[2]`的值就不再是`'c'`，而是`3`。\n",
    "\n",
    "#### Dict資料型態\n",
    "* **Def**: Dict(tionary)是一種無序（Unordered）的鍵值（key-to-value）對應結構結構。如`adict = {'a': 1, 'b': 2}`。\n",
    "* **Access(Read)**: 要知道Dict的某個key是mapping到哪一個value的話，亦是用`[]`來讀取，如上例`adict['a']`的值為1。\n",
    "* **Access(Write)**`fruit_count[fruit] = 1`是用來將值Assign給Dict某個key，承上例，如果`adict['a'] = 3`後再讀取一次`adict['a']`的值，便會是3。\n",
    "\n",
    "#### Iteration: for\n",
    "* **Def**: 這裡的for比較像是for-each的概念。`for fruit in fruit_list:`的意思是，依序將`fruit_list`中的每一個值，assign給`fruit`；簡而言之，`fruit`這個變項會走訪過每個`fruit_list`中的值。\n",
    "* for-loop中所要反覆執行的程式碼，必須向右多一個tab。\n",
    "\n",
    "\n",
    "#### Condition: if, else\n",
    "* `if...else`表示式的意義如英文字，如果滿足前述條件的話，就做什麼事，不然的話（else），就做什麼事。\n",
    "* if判斷式中，符合條件或不符合條件（else）所要執行的程式碼，亦必須向右多一個tab。\n",
    "* 因此，綜合本程式範例的Iteration和Condition，程式碼會縮排成這個樣子\n",
    "```\n",
    "for fruit in fruit_list:\n",
    "    if fruit not in fruit_count:\n",
    "        fruit_count[fruit] = 1\n",
    "    else:\n",
    "        fruit_count[fruit] = fruit_count[fruit] + 1\n",
    "```\n",
    "\n",
    "#### Incremental\n",
    "* `a = a + 1`是一種遞增運算，將原本的`a`加上1後Assign給原本的`a`，除了會覆蓋掉原本`a`的數值外，相當於將`a`遞增一。\n",
    "* `fruit_count[fruit] = fruit_count[fruit] + 1`即是將某種`fruit`作為key所對應到的Dict值遞增一。\n",
    "\n"
   ]
  },
  {
   "cell_type": "markdown",
   "metadata": {
    "id": "xDMyamfFCFP9"
   },
   "source": [
    "## Printing\n",
    "\n",
    "在前面我們介紹到兩種Python中非常重要的資料型態，寫程式過程經常會需要把這些變數或資料給列印出來看看，看是否資料處理是否照自己的邏輯走。\n",
    "\n",
    "### 印出整個變數內容\n",
    "\n",
    "如果是印出整個變數內容的話，那幾乎是差不多的，就直接用`print()`函式列印出該變數即可。如果沒有加上`print()`函式也會印出該變數的內容，但同一個cell，如果有多個變數在列，那只會印出最後一個，如下面的例子中，我希望印出`fruit_list`和`fruit_count`，在沒有用`print()`的狀況下，只會印出最後一個。\n",
    "* `{'apple': 4, 'banana': 3, 'grape': 1}`這種從key-to-value對應形態的資料稱之為`Dictionary`\n",
    "* `['apple', 'apple', 'banana', 'apple']`這種從0開始編號起，第0個、第1個、第2個的資料型態稱之為`List`。"
   ]
  },
  {
   "cell_type": "code",
   "execution_count": 4,
   "metadata": {
    "ExecuteTime": {
     "end_time": "2020-03-09T16:31:14.160029Z",
     "start_time": "2020-03-09T16:31:14.156614Z"
    },
    "id": "mPHTfzZDCFP9",
    "outputId": "6fd7496f-f9e9-456e-e8a2-133ba6916bab"
   },
   "outputs": [
    {
     "name": "stdout",
     "output_type": "stream",
     "text": [
      "['apple', 'apple', 'banana', 'apple', 'banana', 'grape', 'banana', 'apple']\n",
      "{'apple': 4, 'banana': 3, 'grape': 1}\n"
     ]
    },
    {
     "data": {
      "text/plain": [
       "{'apple': 4, 'banana': 3, 'grape': 1}"
      ]
     },
     "execution_count": 4,
     "metadata": {},
     "output_type": "execute_result"
    }
   ],
   "source": [
    "# print out fruit_list for observation\n",
    "print(fruit_list)\n",
    "\n",
    "# print out fruit_count\n",
    "print(fruit_count)\n",
    "\n",
    "# print out fruit_list\n",
    "fruit_list\n",
    "\n",
    "# print out fruit_count\n",
    "fruit_count"
   ]
  },
  {
   "cell_type": "markdown",
   "metadata": {},
   "source": [
    "### 印出Dict中的所有Key或Value\n",
    "\n",
    "`Dictionary`既然稱之為一種key-to-value鍵值對應形態的資料，那這種資料型態就應該會有一群keys，然後每個keys對應至唯一的values，不會有一個keys對應到多個values的情形。\n",
    "- `keys()`可以傳回一個dictionary的所有keys\n",
    "- `values()`可以傳回一個dictionary的所有values\n",
    "- `items()`可傳回一個dictionary的所有key-to-value pairs，以`(key1, value1), (key2, value2)`的型態。"
   ]
  },
  {
   "cell_type": "code",
   "execution_count": null,
   "metadata": {
    "ExecuteTime": {
     "end_time": "2020-03-09T16:32:55.075470Z",
     "start_time": "2020-03-09T16:32:55.069715Z"
    },
    "id": "RbTCy8X4CFP9",
    "outputId": "20f79303-5bd7-4d02-d043-a0e37a37438f"
   },
   "outputs": [
    {
     "name": "stdout",
     "output_type": "stream",
     "text": [
      "{'apple': 4, 'banana': 3, 'grape': 1}\n",
      "dict_keys(['apple', 'banana', 'grape'])\n",
      "dict_values([4, 3, 1])\n",
      "dict_items([('apple', 4), ('banana', 3), ('grape', 1)])\n"
     ]
    }
   ],
   "source": [
    "# Print the dictionary\n",
    "print(fruit_count)\n",
    "\n",
    "# Print all keys\n",
    "print(fruit_count.keys())\n",
    "\n",
    "# Print all values mapped by keys\n",
    "print(fruit_count.values())\n",
    "\n",
    "# Print all key-to-value pairs\n",
    "print(fruit_count.items())\n"
   ]
  },
  {
   "cell_type": "markdown",
   "metadata": {},
   "source": [
    "### 印出List中的每個項目\n",
    "\n",
    "將List中每個項目依序印出非常容易，就只要把它當for-each指令，然後用`print()`函式印出即可。\n",
    "\n",
    "\n",
    "\n"
   ]
  },
  {
   "cell_type": "code",
   "execution_count": 5,
   "metadata": {},
   "outputs": [
    {
     "name": "stdout",
     "output_type": "stream",
     "text": [
      "apple\n",
      "apple\n",
      "banana\n",
      "apple\n",
      "banana\n",
      "grape\n",
      "banana\n",
      "apple\n"
     ]
    }
   ],
   "source": [
    "for fruit in fruit_list:\n",
    "    print(fruit)"
   ]
  },
  {
   "cell_type": "markdown",
   "metadata": {},
   "source": [
    "### 印出Dict中的每個鍵值對\n",
    "\n",
    "因為Dict是一個鍵值對應（key-to-value mapping）結構，所以要先想好，要印的是key還是value。但通常是"
   ]
  },
  {
   "cell_type": "code",
   "execution_count": 10,
   "metadata": {
    "ExecuteTime": {
     "end_time": "2020-03-09T16:34:57.555124Z",
     "start_time": "2020-03-09T16:34:57.550281Z"
    },
    "id": "hqBtX5rtCFP-",
    "outputId": "08f569a1-6a4a-4a78-b464-ef0da714f974"
   },
   "outputs": [
    {
     "name": "stdout",
     "output_type": "stream",
     "text": [
      "apple \t 4\n",
      "banana \t 3\n",
      "grape \t 1\n"
     ]
    }
   ],
   "source": [
    "for k in fruit_count:\n",
    "    print(k, \"\\t\", fruit_count[k])\n",
    "#     print(key, fruit_count[key])"
   ]
  },
  {
   "cell_type": "code",
   "execution_count": null,
   "metadata": {
    "ExecuteTime": {
     "end_time": "2020-03-09T16:36:43.929868Z",
     "start_time": "2020-03-09T16:36:43.925989Z"
    },
    "id": "6Gg5Q2sUCFP-",
    "outputId": "e29114b9-be88-4307-9822-1fb767482386"
   },
   "outputs": [
    {
     "name": "stdout",
     "output_type": "stream",
     "text": [
      "apple \t 4\n",
      "banana \t 3\n",
      "grape \t 1\n"
     ]
    }
   ],
   "source": [
    "for k, v in fruit_count.items():\n",
    "    print(k, \"\\t\", v)\n",
    "    "
   ]
  },
  {
   "cell_type": "markdown",
   "metadata": {
    "id": "6cL8n-xJCFP-"
   },
   "source": [
    "## 計數的其他邏輯與語法\n",
    "\n",
    "### V1. Using list.count(key) to count the frequency of something\n",
    "\n",
    "用`list.count(x)`函式可以計算出一個List中為x的有多少個。所以，只要知道有多少種物件，就可以用`list.count(x)`來計算每種物件的數量。（註：`list.count(x)`的寫法，表示`list`類別中有一個成員函式（Member function）為`count(x)`，可以計算List類別中某個物件的數量。）"
   ]
  },
  {
   "cell_type": "code",
   "execution_count": 7,
   "metadata": {
    "ExecuteTime": {
     "end_time": "2020-03-09T05:01:20.187865Z",
     "start_time": "2020-03-09T05:01:20.184133Z"
    },
    "id": "tI8nc_Z_CFP_",
    "outputId": "96fdac61-f9c6-47fb-c38b-0c77bd727c7d"
   },
   "outputs": [
    {
     "data": {
      "text/plain": [
       "4"
      ]
     },
     "execution_count": 7,
     "metadata": {},
     "output_type": "execute_result"
    }
   ],
   "source": [
    "fruit_list.count(\"apple\")"
   ]
  },
  {
   "cell_type": "markdown",
   "metadata": {},
   "source": [
    "因此，也可以走訪過所有物件，當遇到沒看過的物件時，便計算一下在該list中有幾個該物件，如果有計算過該物件了，便略過之。用Python來表示這樣的程式邏輯結果如下。"
   ]
  },
  {
   "cell_type": "code",
   "execution_count": null,
   "metadata": {
    "ExecuteTime": {
     "end_time": "2020-03-09T05:00:54.948668Z",
     "start_time": "2020-03-09T05:00:54.944797Z"
    },
    "id": "TSlZeJjYCFP_",
    "outputId": "b0f711f7-42d4-47ca-e1e8-dbd85357165f"
   },
   "outputs": [
    {
     "name": "stdout",
     "output_type": "stream",
     "text": [
      "{'apple': 4, 'banana': 3, 'grape': 1}\n"
     ]
    }
   ],
   "source": [
    "fruit_count = {} # dictionary, key to value pairs\n",
    "\n",
    "fruit_list = ['apple', 'apple', 'banana', 'apple', 'banana', 'grape', 'banana', 'apple'] # A list of fruit\n",
    "\n",
    "for fruit in fruit_list:\n",
    "    if fruit not in fruit_count:\n",
    "        fruit_count[fruit] = fruit_list.count(fruit)\n",
    "print(fruit_count)"
   ]
  },
  {
   "cell_type": "markdown",
   "metadata": {
    "id": "tS1sseK8CFP_"
   },
   "source": [
    "### V2. Using set(fruit_list) to gaurantee unique value in the list¶\n",
    "\n",
    "前一個範例中引入了`list`類別的成員函式`count()`來計算List中某個物件的數量。但仍須要用if-not-in這樣的判斷式來判斷每個物件是否已經計算過數量。那有沒有辦法取出某個List中有哪些種類的物件？有的，可以用`set(alist)`這樣的集合函式來取出某個List中所有的物件種類。亦即某個List `alist`其實是由`set(alist)`所組成的。`set(alist)`中不會有重複的元素。這個網站PythoTutor可以視覺化程式邏輯的運作流程，可以幫助了解計數的意涵[Visualized by PythonTutor](http://pythontutor.com/visualize.html#code=fruit_list%20%3D%20%5B'apple',%20'apple',%20'banana',%20'apple',%20'banana',%20'grape',%20'banana',%20'apple'%5D%0Afruit_count%20%3D%20%7B%7D%0Afor%20k%20in%20set%28fruit_list%29%3A%0A%20%20%20%20fruit_count%5Bk%5D%20%3D%20fruit_list.count%28k%29%0Aprint%28fruit_count%29&cumulative=false&curInstr=10&heapPrimitives=nevernest&mode=display&origin=opt-frontend.js&py=3&rawInputLstJSON=%5B%5D&textReferences=false)。\n",
    "\n",
    "如下例。雖然`fruit_list`中的重複物件可能很多，但如果取`set(fruit_list)`的話，僅會列出`fruilt_list`中的不重複物件。此時，只需要用for-loop把`set(fruit_list)`中的每種物件都屬過一次各有幾個，便可以知道每種物件出現幾次。"
   ]
  },
  {
   "cell_type": "markdown",
   "metadata": {},
   "source": [
    "<div class=\"alert alert-block alert-info\">\n",
    "至此，我們一共講述了三種不一樣的結構，<b>List</b>、<b>Dict(ionary)</b>、<b>Set</b>。\n",
    "</div>"
   ]
  },
  {
   "cell_type": "code",
   "execution_count": 9,
   "metadata": {
    "ExecuteTime": {
     "end_time": "2020-03-09T05:02:41.876030Z",
     "start_time": "2020-03-09T05:02:41.871883Z"
    },
    "id": "QFMoZi9nCFP_",
    "outputId": "fdc7502a-f44d-4497-8881-6b75e89beba5"
   },
   "outputs": [
    {
     "data": {
      "text/plain": [
       "{'apple', 'banana', 'grape'}"
      ]
     },
     "execution_count": 9,
     "metadata": {},
     "output_type": "execute_result"
    }
   ],
   "source": [
    "set(fruit_list)"
   ]
  },
  {
   "cell_type": "code",
   "execution_count": null,
   "metadata": {
    "ExecuteTime": {
     "end_time": "2020-03-09T05:03:31.228211Z",
     "start_time": "2020-03-09T05:03:31.224314Z"
    },
    "code_folding": [],
    "id": "L4Badp5KCFQA",
    "outputId": "7f3bab00-01c7-42b4-f0d2-8b22bf132120"
   },
   "outputs": [
    {
     "name": "stdout",
     "output_type": "stream",
     "text": [
      "{'apple': 4, 'grape': 1, 'banana': 3}\n"
     ]
    }
   ],
   "source": [
    "fruit_count = {}\n",
    "for k in set(fruit_list):\n",
    "    fruit_count[k] = fruit_list.count(k)\n",
    "print(fruit_count)"
   ]
  },
  {
   "cell_type": "markdown",
   "metadata": {
    "id": "piAfZ4caCFQA"
   },
   "source": [
    "### V3. by Comprehensive dictionary\n",
    "\n",
    "Python有一套很特別的、稱為Comprehension的寫法，可以將上述的迴圈式子寫成單一指令的模樣如下。可以查找網路上「Python Comprehension」獲得範例與說明。常用Python的工程師也常會用Comprehension的方式來寫作，尤其是做資料分析的工程師。"
   ]
  },
  {
   "cell_type": "code",
   "execution_count": null,
   "metadata": {
    "ExecuteTime": {
     "end_time": "2020-03-09T05:04:50.778139Z",
     "start_time": "2020-03-09T05:04:50.772822Z"
    },
    "id": "5AONv9TfCFQA",
    "outputId": "0f361991-69d8-4043-af4c-0b13322e34dd"
   },
   "outputs": [
    {
     "name": "stdout",
     "output_type": "stream",
     "text": [
      "{'apple': 4, 'grape': 1, 'banana': 3}\n"
     ]
    }
   ],
   "source": [
    "fruit_count = {k:fruit_list.count(k) for k in set(fruit_list)}\n",
    "print(fruit_count)"
   ]
  },
  {
   "cell_type": "markdown",
   "metadata": {
    "id": "4FJrvPdQCFQA"
   },
   "source": [
    "### V4. by `Counter()`\n",
    "\n",
    "最後一個方法是我最愛用的方法，利用了`Collections`這個容器資料型態。`Collections`底下包含了`Counter()`這個Dict的子類別，可用來計算可雜湊 (hashable) 物件的數量。只要直接用`Counter(fruit_list)`便可以計算該List中每種物件的數量。\n",
    "\n",
    "不過該函式不會在Python一啟動的時候就自動載入。所以需要先載入`from collections import Counter`。[Visualized by PythonTutor](http://pythontutor.com/visualize.html#code=from%20collections%20import%20Counter%0Afruit_list%20%3D%20%5B'apple',%20'apple',%20'banana',%20'apple',%20'banana',%20'grape',%20'banana',%20'apple'%5D%20%23%20A%20list%20of%20fruit%0Afruit_count%20%3D%20Counter%28fruit_list%29%0Afor%20k,%20v,%20in%20fruit_count.items%28%29%3A%0A%20%20%20%20print%28k,%20%22%5Ct%22,%20v%29&cumulative=false&curInstr=9&heapPrimitives=nevernest&mode=display&origin=opt-frontend.js&py=3&rawInputLstJSON=%5B%5D&textReferences=false)"
   ]
  },
  {
   "cell_type": "code",
   "execution_count": 11,
   "metadata": {
    "ExecuteTime": {
     "end_time": "2020-03-09T05:05:59.139483Z",
     "start_time": "2020-03-09T05:05:59.135434Z"
    },
    "id": "_5s7vAXvCFQA",
    "outputId": "f057dbc7-23b9-4e4f-957c-720d22f7ab97"
   },
   "outputs": [
    {
     "name": "stdout",
     "output_type": "stream",
     "text": [
      "apple \t 4\n",
      "banana \t 3\n",
      "grape \t 1\n"
     ]
    }
   ],
   "source": [
    "from collections import Counter\n",
    "\n",
    "fruit_list = ['apple', 'apple', 'banana', 'apple', 'banana', 'grape', 'banana', 'apple'] # A list of fruit\n",
    "fruit_count = Counter(fruit_list)\n",
    "for k, v, in fruit_count.items():\n",
    "    print(k, \"\\t\", v)"
   ]
  },
  {
   "cell_type": "markdown",
   "metadata": {},
   "source": [
    "## Counting Applications"
   ]
  },
  {
   "cell_type": "markdown",
   "metadata": {
    "tags": []
   },
   "source": [
    "### 案例：計算班級中各系人數\n",
    "\n",
    "這個例子和數水果幾乎一模一樣，只是把水果種類換成每個學生的科系而已。但下面用了一個不同的思考，先將`stu_list`掃過一遍，將所有的key都先找出來，並對應到0。然後再用第二個for-loop將所有項目利用遞增運算子計算一遍。\n",
    "\n",
    "`stu_dict[student] += 1`的寫法和`stu_dict[student] =  stu_dict[student] + 1`的意義是相同的，為了避免冗長，所以多了一個這樣的運算子。"
   ]
  },
  {
   "cell_type": "code",
   "execution_count": 13,
   "metadata": {},
   "outputs": [
    {
     "name": "stdout",
     "output_type": "stream",
     "text": [
      "{'soc': 2, 'econ': 3, 'bio': 1, 'psy': 2, 'poli': 1}\n"
     ]
    }
   ],
   "source": [
    "stu_dict = {}\n",
    "stu_list = [\"soc\", \"soc\", \"econ\", \"bio\", \"psy\", \"psy\", \"econ\", \"poli\", \"econ\"]\n",
    "\n",
    "for student in stu_list:\n",
    "    stu_dict[student] = 0\n",
    "for student in stu_list:\n",
    "    stu_dict[student] += 1\n",
    "print(stu_dict)"
   ]
  },
  {
   "cell_type": "markdown",
   "metadata": {
    "id": "yLw2TAigCFQA"
   },
   "source": [
    "### 案例：計算Wikipedia文章詞頻\n",
    "\n",
    "「計數」其實是很多程式會應用到的演算邏輯。其他的演算邏輯單元還包含搜尋、排序等等，這些都是運算思維的一部分。在這個例子中，我打算要用計數邏輯來計算一篇Wikipedia文章的詞頻（Term frequency），亦即該篇文章中每個字出現幾遍，相當於把字詞當成上述範例中的水果。因此，一開始我需要把一篇文章斷開成單詞並存成如前面例子中的List。我會用Python的Wikipedia套件來取得某個Wikipedia頁面的摘要，這個套件為第三方套件，通常你的電腦都還沒安裝過這個套件，所以你需要在Terminal.app或cmd.exe中用`pip install wikipedia`安裝這個套件。用wikipedia的函式把某頁wikipedia的內容抓少許回來後，要先把該篇文章拆成字（用`str.split()`）。然後再用前面教的方法來計算每個字的出現次數。\n"
   ]
  },
  {
   "cell_type": "code",
   "execution_count": null,
   "metadata": {
    "colab": {
     "base_uri": "https://localhost:8080/"
    },
    "id": "ljHC7XTzCYGU",
    "outputId": "258a716f-5237-40f3-aa7e-bc3299616e85"
   },
   "outputs": [
    {
     "name": "stdout",
     "output_type": "stream",
     "text": [
      "Collecting wikipedia\n",
      "  Downloading https://files.pythonhosted.org/packages/67/35/25e68fbc99e672127cc6fbb14b8ec1ba3dfef035bf1e4c90f78f24a80b7d/wikipedia-1.4.0.tar.gz\n",
      "Requirement already satisfied: beautifulsoup4 in /usr/local/lib/python3.7/dist-packages (from wikipedia) (4.6.3)\n",
      "Requirement already satisfied: requests<3.0.0,>=2.0.0 in /usr/local/lib/python3.7/dist-packages (from wikipedia) (2.23.0)\n",
      "Requirement already satisfied: urllib3!=1.25.0,!=1.25.1,<1.26,>=1.21.1 in /usr/local/lib/python3.7/dist-packages (from requests<3.0.0,>=2.0.0->wikipedia) (1.24.3)\n",
      "Requirement already satisfied: certifi>=2017.4.17 in /usr/local/lib/python3.7/dist-packages (from requests<3.0.0,>=2.0.0->wikipedia) (2020.12.5)\n",
      "Requirement already satisfied: chardet<4,>=3.0.2 in /usr/local/lib/python3.7/dist-packages (from requests<3.0.0,>=2.0.0->wikipedia) (3.0.4)\n",
      "Requirement already satisfied: idna<3,>=2.5 in /usr/local/lib/python3.7/dist-packages (from requests<3.0.0,>=2.0.0->wikipedia) (2.10)\n",
      "Building wheels for collected packages: wikipedia\n",
      "  Building wheel for wikipedia (setup.py) ... \u001b[?25l\u001b[?25hdone\n",
      "  Created wheel for wikipedia: filename=wikipedia-1.4.0-cp37-none-any.whl size=11686 sha256=bf7d6d2d9a8691c604b66a95b2826405a9f7557fa8615856bd0246bcd5c3eb16\n",
      "  Stored in directory: /root/.cache/pip/wheels/87/2a/18/4e471fd96d12114d16fe4a446d00c3b38fb9efcb744bd31f4a\n",
      "Successfully built wikipedia\n",
      "Installing collected packages: wikipedia\n",
      "Successfully installed wikipedia-1.4.0\n"
     ]
    }
   ],
   "source": [
    "!pip install wikipedia  # install a new third-party library"
   ]
  },
  {
   "cell_type": "markdown",
   "metadata": {},
   "source": [
    "#### Obtaining some qurery result from wikipedia"
   ]
  },
  {
   "cell_type": "code",
   "execution_count": 16,
   "metadata": {
    "ExecuteTime": {
     "end_time": "2020-03-09T05:12:50.986631Z",
     "start_time": "2020-03-09T05:12:50.982786Z"
    },
    "id": "UL9KgOJQCFQB",
    "outputId": "7b7a757e-d6cf-44a4-b4ec-19e8cc35bd03"
   },
   "outputs": [
    {
     "name": "stdout",
     "output_type": "stream",
     "text": [
      "<class 'str'>\n",
      "Big data refers to data sets that are too large or complex to be dealt with by traditional data-processing application software. Data with many fields (rows) offer greater statistical power, while data with higher complexity (more attributes or columns) may lead to a higher false discovery rate. Big data analysis challenges include capturing data, data storage, data analysis, search, sharing, transfer, visualization, querying, updating, information privacy, and data source. Big data was originally associated with three key concepts: volume, variety, and velocity. The analysis of big data presents challenges in sampling, and thus previously allowing for only observations and sampling. Thus a fourth concept, veracity, refers to the quality or insightfulness of the data. Without sufficient investment in expertise for big data veracity, then the volume and variety of data can produce costs and risks that exceed an organization's capacity to create and capture value from big data.Current usage of the term big data tends to refer to the use of predictive analytics, user behavior analytics, or certain other advanced data analytics methods that extract value from big data, and seldom to a particular size of data set. \"There is little doubt that the quantities of data now available are indeed large, but that's not the most relevant characteristic of this new data ecosystem.\"\n",
      "Analysis of data sets can find new correlations to \"spot business trends, prevent diseases, combat crime and so on\". Scientists, business executives, medical practitioners, advertising and governments alike regularly meet difficulties with large data-sets in areas including Internet searches, fintech, healthcare analytics, geographic information systems, urban informatics, and business informatics. Scientists encounter limitations in e-Science work, including meteorology, genomics, connectomics, complex physics simulations, biology, and environmental research.The size and number of available data sets have grown rapidly as data is collected by devices such as mobile devices, cheap and numerous information-sensing Internet of things devices, aerial (remote sensing), software logs, cameras, microphones, radio-frequency identification (RFID) readers and wireless sensor networks.\n"
     ]
    }
   ],
   "source": [
    "import wikipedia    # import a 3rd-party library into runtime\n",
    "string_a  = wikipedia.summary(\"Big_data\", sentences = 10)   # get data by 3rd-party function\n",
    "print(type(string_a))\n",
    "print(string_a)\n",
    "# string_a = \"In 2004, Obama received national attention during his campaign to represent Illinois in the United States Senate with his victory in the March Democratic Party primary, his keynote address at the Democratic National Convention in July, and his election to the Senate in November. He began his presidential campaign in 2007 and, after a close primary campaign against Hillary Rodham Clinton in 2008, he won sufficient delegates in the Democratic Party primaries to receive the presidential nomination. He then defeated Republican nominee John McCain in the general election, and was inaugurated as president on January 20, 2009. Nine months after his inauguration, Obama was named the 2009 Nobel Peace Prize laureate\""
   ]
  },
  {
   "cell_type": "markdown",
   "metadata": {
    "id": "Ixh9X5ryCFQB"
   },
   "source": [
    "#### Text process - replacing punctuation"
   ]
  },
  {
   "cell_type": "code",
   "execution_count": 17,
   "metadata": {
    "ExecuteTime": {
     "end_time": "2020-03-09T05:14:24.641315Z",
     "start_time": "2020-03-09T05:14:24.637953Z"
    },
    "id": "dlqeoJjsCFQB",
    "outputId": "90a61c25-a4e3-4c1b-bcb7-6bfeeffda8db"
   },
   "outputs": [
    {
     "name": "stdout",
     "output_type": "stream",
     "text": [
      "<class 'str'>\n",
      "!\"#$%&'()*+,-./:;<=>?@[\\]^_`{|}~\n"
     ]
    }
   ],
   "source": [
    "import string\n",
    "print(type(string.punctuation))\n",
    "print(string.punctuation)"
   ]
  },
  {
   "cell_type": "code",
   "execution_count": 18,
   "metadata": {
    "ExecuteTime": {
     "end_time": "2020-03-09T05:15:09.691154Z",
     "start_time": "2020-03-09T05:15:09.686679Z"
    },
    "id": "v0mzGXiDCFQB",
    "outputId": "6abd8996-32eb-46b2-ba5b-03ac6a3015ca"
   },
   "outputs": [
    {
     "name": "stdout",
     "output_type": "stream",
     "text": [
      "<class 'str'>\n",
      "<class 'list'>\n",
      "['big', 'data', 'refers', 'to', 'data', 'sets', 'that', 'are', 'too', 'large']\n"
     ]
    }
   ],
   "source": [
    "print(type(string.punctuation))\n",
    "translator = str.maketrans('','',string.punctuation)\n",
    "string_a = string_a.translate(translator)\n",
    "string_a = string_a.lower()\n",
    "\n",
    "words = string_a.split()\n",
    "print(type(words))\n",
    "print(words[:10])"
   ]
  },
  {
   "cell_type": "markdown",
   "metadata": {},
   "source": [
    "#### Capitalization: Converting string to lower"
   ]
  },
  {
   "cell_type": "code",
   "execution_count": 19,
   "metadata": {
    "ExecuteTime": {
     "end_time": "2020-03-09T05:15:42.012652Z",
     "start_time": "2020-03-09T05:15:42.009506Z"
    },
    "id": "q_dpwDoTCFQB",
    "outputId": "02118265-297d-48bc-ad73-200c514fca65"
   },
   "outputs": [
    {
     "name": "stdout",
     "output_type": "stream",
     "text": [
      "big data refers to data sets that are too large or complex to be dealt with by traditional dataprocessing application software data with many fields rows offer greater statistical power while data with higher complexity more attributes or columns may lead to a higher false discovery rate big data analysis challenges include capturing data data storage data analysis search sharing transfer visualization querying updating information privacy and data source big data was originally associated with three key concepts volume variety and velocity the analysis of big data presents challenges in sampling and thus previously allowing for only observations and sampling thus a fourth concept veracity refers to the quality or insightfulness of the data without sufficient investment in expertise for big data veracity then the volume and variety of data can produce costs and risks that exceed an organizations capacity to create and capture value from big datacurrent usage of the term big data tends to refer to the use of predictive analytics user behavior analytics or certain other advanced data analytics methods that extract value from big data and seldom to a particular size of data set there is little doubt that the quantities of data now available are indeed large but thats not the most relevant characteristic of this new data ecosystem\n",
      "analysis of data sets can find new correlations to spot business trends prevent diseases combat crime and so on scientists business executives medical practitioners advertising and governments alike regularly meet difficulties with large datasets in areas including internet searches fintech healthcare analytics geographic information systems urban informatics and business informatics scientists encounter limitations in escience work including meteorology genomics connectomics complex physics simulations biology and environmental researchthe size and number of available data sets have grown rapidly as data is collected by devices such as mobile devices cheap and numerous informationsensing internet of things devices aerial remote sensing software logs cameras microphones radiofrequency identification rfid readers and wireless sensor networks\n"
     ]
    }
   ],
   "source": [
    "string_a = string_a.lower()\n",
    "print(string_a)"
   ]
  },
  {
   "cell_type": "markdown",
   "metadata": {},
   "source": [
    "#### Tokenization: splitting text to word"
   ]
  },
  {
   "cell_type": "code",
   "execution_count": 20,
   "metadata": {
    "ExecuteTime": {
     "end_time": "2020-03-09T05:16:53.546328Z",
     "start_time": "2020-03-09T05:16:53.542223Z"
    },
    "id": "NU2UIavHCFQC",
    "outputId": "dbdcbebc-a0af-4c5c-ddce-1a3c5ab3ed2a"
   },
   "outputs": [
    {
     "data": {
      "text/plain": [
       "['big', 'data', 'refers', 'to', 'data', 'sets', 'that', 'are', 'too', 'large']"
      ]
     },
     "execution_count": 20,
     "metadata": {},
     "output_type": "execute_result"
    }
   ],
   "source": [
    "# astring = astring.translate(None, string.punctuation) for python 2.x\n",
    "words = string_a.split()\n",
    "words[:10]"
   ]
  },
  {
   "cell_type": "markdown",
   "metadata": {},
   "source": [
    "#### Counting word frequency"
   ]
  },
  {
   "cell_type": "code",
   "execution_count": 22,
   "metadata": {
    "ExecuteTime": {
     "end_time": "2020-03-09T05:19:18.855528Z",
     "start_time": "2020-03-09T05:19:18.850787Z"
    },
    "id": "z1k4OmTJCFQC",
    "outputId": "87e314be-7166-44c5-f385-2d8ca7be0a9c"
   },
   "outputs": [
    {
     "data": {
      "text/plain": [
       "201"
      ]
     },
     "execution_count": 22,
     "metadata": {},
     "output_type": "execute_result"
    }
   ],
   "source": [
    "word_freq = {}\n",
    "for w in words:\n",
    "    if w not in word_freq: # dictionary key-value initilization\n",
    "        word_freq[w] = 0\n",
    "    word_freq[w] += 1\n",
    "#         word_freq[w] = word_freq[w] + 1\n",
    "len(word_freq)"
   ]
  },
  {
   "cell_type": "markdown",
   "metadata": {},
   "source": [
    "#### Applications: Zip'f law\n",
    "\n",
    "圖書資訊學有個Zip'f law在描述每個文字（字詞）的出現機率分佈。在一篇或多篇文章中，會有極少部分的字出現非常多次（例如代名詞、定冠詞、冠詞）等、大部分的字在整篇文章中只會出現過一次，而其他文字則出現2~多次不等。這種字詞出現數量分佈會呈現Power Distribution冪次分佈，大部分的物件出現次數都很少，少部分物件出現次數幾乎佔掉全體數量的甚至80%。\n",
    "\n",
    "在計算完詞頻後，只要在用`Counter(word_freq)`計算一次每個詞頻的出現次數（存在`word_freq`中），意即去計算出現1次的字有幾個、出現2次的字有幾個、...、出現n次的字有幾個，就可以得到此分佈。"
   ]
  },
  {
   "cell_type": "code",
   "execution_count": 27,
   "metadata": {
    "ExecuteTime": {
     "end_time": "2020-03-09T05:21:17.993018Z",
     "start_time": "2020-03-09T05:21:17.989536Z"
    },
    "id": "XlPiNAngCFQC",
    "outputId": "66f2a36c-fc74-4d1d-9e66-b43da227abd1"
   },
   "outputs": [
    {
     "name": "stdout",
     "output_type": "stream",
     "text": [
      "201\n",
      "dict_values([8, 23, 2, 9, 3, 4, 2, 1, 3, 4, 2, 1, 1, 5, 2, 1, 1, 1, 2, 1, 1, 1, 1, 1, 1, 1, 1, 2, 1, 1, 1, 1, 1, 1, 3, 1, 1, 1, 4, 2, 1, 1, 1, 1, 1, 1, 1, 1, 1, 2, 1, 15, 1, 1, 1, 1, 1, 1, 1, 2, 2, 1, 8, 11, 1, 4, 2, 2, 1, 1, 2, 1, 1, 1, 1, 2, 1, 1, 1, 1, 1, 1, 1, 2, 1, 1, 1, 1, 1, 1, 1, 1, 1, 2, 2, 1, 1, 1, 1, 1, 1, 1, 4, 1, 1, 1, 1, 1, 1, 1, 1, 1, 2, 1, 1, 2, 1, 1, 1, 1, 2, 1, 1, 1, 1, 1, 1, 1, 1, 2, 1, 1, 1, 1, 3, 1, 1, 1, 1, 1, 1, 1, 2, 1, 1, 1, 1, 1, 1, 1, 1, 1, 1, 1, 2, 2, 1, 1, 1, 1, 1, 1, 2, 1, 1, 1, 1, 1, 1, 1, 1, 1, 1, 1, 1, 1, 1, 1, 1, 2, 1, 3, 1, 1, 1, 1, 1, 1, 1, 1, 1, 1, 1, 1, 1, 1, 1, 1, 1, 1, 1])\n",
      "Counter({1: 158, 2: 26, 3: 5, 4: 5, 8: 2, 23: 1, 9: 1, 5: 1, 15: 1, 11: 1})\n"
     ]
    }
   ],
   "source": [
    "word_freq = Counter(words)\n",
    "print(len(word_freq))\n",
    "print(word_freq.values())\n",
    "\n",
    "value_freq = Counter(word_freq.values())\n",
    "print(value_freq)"
   ]
  },
  {
   "cell_type": "markdown",
   "metadata": {
    "id": "IgflyrEXCFQC"
   },
   "source": [
    "#### Plot histogram of word frequency"
   ]
  },
  {
   "cell_type": "code",
   "execution_count": 26,
   "metadata": {
    "ExecuteTime": {
     "end_time": "2020-03-07T11:17:57.307440Z",
     "start_time": "2020-03-07T11:17:56.990520Z"
    },
    "id": "h44r7Ew_CFQD",
    "outputId": "4d2ef66c-3a12-445a-f97d-7aeb878a9cca"
   },
   "outputs": [
    {
     "data": {
      "text/plain": [
       "(array([184.,   5.,   5.,   1.,   0.,   0.,   2.,   1.,   0.,   1.,   0.,\n",
       "          0.,   1.,   0.,   0.,   0.,   0.,   0.,   0.,   1.]),\n",
       " array([ 1. ,  2.1,  3.2,  4.3,  5.4,  6.5,  7.6,  8.7,  9.8, 10.9, 12. ,\n",
       "        13.1, 14.2, 15.3, 16.4, 17.5, 18.6, 19.7, 20.8, 21.9, 23. ]),\n",
       " <BarContainer object of 20 artists>)"
      ]
     },
     "execution_count": 26,
     "metadata": {},
     "output_type": "execute_result"
    },
    {
     "data": {
      "image/png": "[encoded data removed]",
      "text/plain": [
       "<Figure size 432x288 with 1 Axes>"
      ]
     },
     "metadata": {
      "needs_background": "light"
     },
     "output_type": "display_data"
    }
   ],
   "source": [
    "%matplotlib inline\n",
    "import matplotlib.pyplot as plt\n",
    "plt.hist(word_freq.values(), facecolor='green', alpha=0.5, bins=20)"
   ]
  },
  {
   "cell_type": "markdown",
   "metadata": {
    "id": "eospbSG7CFQD"
   },
   "source": [
    "#### More: A shortest version to count word frequency"
   ]
  },
  {
   "cell_type": "code",
   "execution_count": null,
   "metadata": {
    "ExecuteTime": {
     "end_time": "2020-03-09T05:22:01.961484Z",
     "start_time": "2020-03-09T05:22:01.957786Z"
    },
    "id": "yr3RRiXHCFQD"
   },
   "outputs": [],
   "source": [
    "word_freq = {k:words.count(k) for k in set(words)}"
   ]
  },
  {
   "cell_type": "markdown",
   "metadata": {
    "id": "rh4KsJJCCFQD"
   },
   "source": [
    "#### More:Sorting all pairs of key and value"
   ]
  },
  {
   "cell_type": "code",
   "execution_count": null,
   "metadata": {
    "ExecuteTime": {
     "end_time": "2020-03-09T05:24:48.432616Z",
     "start_time": "2020-03-09T05:24:48.428332Z"
    },
    "id": "QaqgTleNCFQD",
    "outputId": "f31635ca-5079-4ece-e9d4-0fb0e1acc0c6"
   },
   "outputs": [
    {
     "name": "stdout",
     "output_type": "stream",
     "text": [
      "('data', 21)\n",
      "('and', 11)\n",
      "('of', 11)\n",
      "('to', 10)\n",
      "('the', 7)\n",
      "('with', 7)\n"
     ]
    }
   ],
   "source": [
    "import operator\n",
    "sorted_x = sorted(word_freq.items(), \n",
    "                  key=operator.itemgetter(1), \n",
    "                  reverse=True)\n",
    "\n",
    "for k in sorted_x[:6]:\n",
    "    print(k)"
   ]
  },
  {
   "cell_type": "markdown",
   "metadata": {},
   "source": [
    "### 案例：成績百分制轉等第制\n",
    "\n",
    "最近台灣也開始用等第制來給分，一方面是為了符合國際的標準，另一原因據說是為了避免學生對成績太錙銖必較，雖然我自己的感覺是，學生對於為何從A+和A的差別更計較了，甚至會來追問，原始成績是多少，為何會變成A。不過，很多老師在給分還是採用百分制，學校在讓老師上傳成績的時候，就有個選項是可自動把百分制轉為等第制，這個範例是這件事的簡化版，我們只轉出A、B、C和F四種等第。\n",
    "\n",
    "首先，先造一筆測試資料，分別是75個由35~99間的隨機整數，可重複取出。再來，初始化一個Dictionary來存放每個等第的個數（一開始均為0）。最後，使用if-elif-else條件判斷式來判斷每一筆成績落在哪個區間。\n"
   ]
  },
  {
   "cell_type": "markdown",
   "metadata": {},
   "source": [
    "#### Generating grades\n",
    "先不要管下面怎麼做的，先知道這樣的方式可以產生隨機75個35~99間的數字並儲存到`grades`這個`list`中。"
   ]
  },
  {
   "cell_type": "code",
   "execution_count": 23,
   "metadata": {},
   "outputs": [
    {
     "name": "stdout",
     "output_type": "stream",
     "text": [
      "Length of:  75\n",
      "Grades:  74 37 91 92 40 64 74 56 66 56 35 47 64 73 43 55 73 88 79 69 95 51 43 81 67 96 46 62 45 82 99 97 55 95 62 74 82 55 35 100 59 56 45 99 85 80 57 35 79 64 83 47 96 59 70 66 38 69 78 56 49 43 92 97 95 78 59 69 68 52 48 83 100 56 72\n"
     ]
    }
   ],
   "source": [
    "import random\n",
    "grades  =  [random.randint(35, 100) for i in range(0, 75)]\n",
    "print(\"Length of: \", len(grades))\n",
    "print(\"Grades: \", \" \".join(str(g) for g in grades))"
   ]
  },
  {
   "cell_type": "markdown",
   "metadata": {
    "tags": []
   },
   "source": [
    "#### Initializing a dict to store the frequency"
   ]
  },
  {
   "cell_type": "code",
   "execution_count": 22,
   "metadata": {
    "id": "vzsckBKOCFQF",
    "outputId": "be501730-ab57-4233-b5e8-593c115789a8"
   },
   "outputs": [
    {
     "name": "stdout",
     "output_type": "stream",
     "text": [
      "{'F': 23, 'C': 16, 'B': 5, 'A': 31}\n"
     ]
    }
   ],
   "source": [
    "# Initializing level frequency\n",
    "grade_dict = {'F':0, \"C\":0, \"B\":0, \"A\":0}\n",
    "\n",
    "# Counting level frequency\n",
    "for g in grades:\n",
    "    if 100 >= g >= 80:\n",
    "        grade_dict[\"A\"] += 1\n",
    "    elif 79 >= g >= 72:\n",
    "        grade_dict[\"B\"] += 1\n",
    "    elif 71 >= g >= 60:\n",
    "        grade_dict[\"C\"] += 1\n",
    "    else:\n",
    "        grade_dict[\"F\"] += 1\n",
    "print(grade_dict)"
   ]
  },
  {
   "cell_type": "markdown",
   "metadata": {
    "id": "OnhiyWOLCFQD",
    "tags": []
   },
   "source": [
    "## Sort the data by value\n",
    "\n",
    "前面的教學涵蓋了各種技術方法和Python程式語言的基本邏輯，但回到這個問題本身，尤其是「詞頻」這個議題，通常我們會想問，哪些詞出現的頻率最高、或者哪些種類的物件出現頻率最高。要用數據的方式來解答這個問題最好的方式就是將key-to-value的對應按照value由大到小來排列，這樣就可以知道，是哪些key的出現次數最高，這樣的動作稱為排序（Sorting）。\n",
    "\n",
    "如果是List的排序很簡單，只需要用`sorted()`這個函式就可以將一個List從小到大或由大而小排序。但Dict是一種Mapping型態，需要照value將key-value對一起排序。注意，此時我們只是希望將排序的結果列印出來而已，不見得要保留原本Dict的資料型態。這樣一共有三種作法如下："
   ]
  },
  {
   "cell_type": "code",
   "execution_count": 33,
   "metadata": {},
   "outputs": [
    {
     "data": {
      "text/plain": [
       "[5, 5, 5, 4, 3, 3, 2, 1, 1]"
      ]
     },
     "execution_count": 33,
     "metadata": {},
     "output_type": "execute_result"
    }
   ],
   "source": [
    "sorted([3, 1, 2, 4, 5, 5, 5, 3, 1], reverse = True)"
   ]
  },
  {
   "cell_type": "markdown",
   "metadata": {},
   "source": [
    "### Method 1\n",
    "\n",
    "先將`fruit_count`用`.items()`這個成員函式轉為tuble型態，tuble第一個位置為key，第二個位置為value。然後在`sorted()`函式中指定用第二個位置（`operator.itemgetter(1)`指的是第二個位置，如果括號中為0指的是第一個位置）來作為排序依據；`reverse=True`的意思是由大而小排序。\n"
   ]
  },
  {
   "cell_type": "code",
   "execution_count": 31,
   "metadata": {},
   "outputs": [
    {
     "name": "stdout",
     "output_type": "stream",
     "text": [
      "('apple', 4)\n",
      "('banana', 3)\n",
      "('grape', 1)\n"
     ]
    }
   ],
   "source": [
    "import operator\n",
    "sorted_x = sorted(fruit_count.items(), \n",
    "                  key=operator.itemgetter(1), \n",
    "                  reverse=True)\n",
    "\n",
    "for k in sorted_x:\n",
    "    print(k)"
   ]
  },
  {
   "cell_type": "markdown",
   "metadata": {},
   "source": [
    "### Method 2\n",
    "\n",
    "第二種寫法比較簡單，不用先用`items()`轉為tuple的型態，而直接用`.get()`這個Dict的成員函式指定用value來排序（`dict.get()`指的便是key-to-value的value）。"
   ]
  },
  {
   "cell_type": "code",
   "execution_count": null,
   "metadata": {
    "ExecuteTime": {
     "end_time": "2020-03-09T05:09:33.596159Z",
     "start_time": "2020-03-09T05:09:33.592828Z"
    },
    "id": "EfO-yoy_CFQE",
    "outputId": "5488140d-250f-4937-b056-95a98549a489"
   },
   "outputs": [
    {
     "name": "stdout",
     "output_type": "stream",
     "text": [
      "['apple', 'banana', 'grape']\n"
     ]
    }
   ],
   "source": [
    "sorted_keys = sorted(fruit_count, key=fruit_count.get, reverse=True)\n",
    "print(sorted_keys)"
   ]
  },
  {
   "cell_type": "code",
   "execution_count": 25,
   "metadata": {
    "ExecuteTime": {
     "end_time": "2020-03-09T05:09:35.698455Z",
     "start_time": "2020-03-09T05:09:35.694962Z"
    },
    "id": "eieJAQj7CFQE",
    "outputId": "3885cdea-ac09-4b70-b1a6-25a636011c1b"
   },
   "outputs": [
    {
     "name": "stdout",
     "output_type": "stream",
     "text": [
      "apple 4\n",
      "banana 3\n"
     ]
    }
   ],
   "source": [
    "for key in sorted_keys[:2]:\n",
    "    print(key, fruit_count[key])"
   ]
  },
  {
   "cell_type": "markdown",
   "metadata": {},
   "source": [
    "### Method 3\n",
    "\n",
    "第三種方式是我最愛用的方式，用`Counter()`直接計算個數後，用成員函式`most_common()`直接依照出現個數由大而小輸出。`most_commnon(n)`中可填入一數字，如果是10的話即為前10大。"
   ]
  },
  {
   "cell_type": "code",
   "execution_count": 32,
   "metadata": {},
   "outputs": [
    {
     "name": "stdout",
     "output_type": "stream",
     "text": [
      "apple 4\n",
      "banana 3\n",
      "grape 1\n"
     ]
    }
   ],
   "source": [
    "for f, c in Counter(fruit_list).most_common():\n",
    "    print(f, c)"
   ]
  }
 ],
 "metadata": {
  "colab": {
   "collapsed_sections": [],
   "name": "P01_counting.ipynb",
   "provenance": [],
   "toc_visible": true
  },
  "kernelspec": {
   "display_name": "Python 3 (ipykernel)",
   "language": "python",
   "name": "python3"
  },
  "language_info": {
   "codemirror_mode": {
    "name": "ipython",
    "version": 3
   },
   "file_extension": ".py",
   "mimetype": "text/x-python",
   "name": "python",
   "nbconvert_exporter": "python",
   "pygments_lexer": "ipython3",
   "version": "3.9.12"
  },
  "toc": {
   "base_numbering": 1,
   "nav_menu": {},
   "number_sections": true,
   "sideBar": true,
   "skip_h1_title": false,
   "title_cell": "Table of Contents",
   "title_sidebar": "INDEX",
   "toc_cell": false,
   "toc_position": {
    "height": "751px",
    "left": "188px",
    "top": "79px",
    "width": "193px"
   },
   "toc_section_display": true,
   "toc_window_display": true
  },
  "toc-autonumbering": false,
  "toc-showmarkdowntxt": false,
  "toc-showtags": false,
  "varInspector": {
   "cols": {
    "lenName": 16,
    "lenType": 16,
    "lenVar": 40
   },
   "kernels_config": {
    "python": {
     "delete_cmd_postfix": "",
     "delete_cmd_prefix": "del ",
     "library": "var_list.py",
     "varRefreshCmd": "print(var_dic_list())"
    },
    "r": {
     "delete_cmd_postfix": ") ",
     "delete_cmd_prefix": "rm(",
     "library": "var_list.r",
     "varRefreshCmd": "cat(var_dic_list()) "
    }
   },
   "types_to_exclude": [
    "module",
    "function",
    "builtin_function_or_method",
    "instance",
    "_Feature"
   ],
   "window_display": false
  }
 },
 "nbformat": 4,
 "nbformat_minor": 4
}
