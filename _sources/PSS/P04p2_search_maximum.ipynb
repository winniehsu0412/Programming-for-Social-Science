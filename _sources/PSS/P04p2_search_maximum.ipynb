{
  "cells": [
    {
      "cell_type": "markdown",
      "metadata": {
        "id": "OlnvF7JxOHa0",
        "tags": []
      },
      "source": [
        "# P04 Practice02 Search & Maximum\n",
        "\n",
        "**for-loop + if-else: conditional operators**\n",
        "\n",
        "<div style=\"border:2px solid gray; padding:5px; background-color:#F8F8F8\">\n",
        "\n",
        "* **Counting**: <br>把所有文字看過一遍，計算文字的出現次數。讀取一個文字字符串，使用for迴圈和if條件語句來計算每個字元或單詞出現的次數。例子: \"apple\" 中，'p'出現了2次。\n",
        "* **Filtering**: <br>透過for迴圈和if條件語句來選擇並顯示特定的youbike站台，例如只顯示滿載的站台。例子: 從10個站台中找出滿載的站台。\n",
        "* **Detecting prominants**: <br>透過比較來找到最大值和最小值\n",
        "    - Top value: 找出數字列表中的最大值。例子: [3, 9, 2] 中，最大值是9。\n",
        "    - Top site：從youbike站台列表中找出擁有最高評分或最多使用者的站台。例子: \"站台A\", \"站台B\", \"站台C\" 中，\"站台B\" 最熱門。\n",
        "    - Top 3 sites：找出前三個最熱門的站台。\n",
        "* **Conditional Replacing**: <br>使用if條件語句來檢測AQX數據中的缺失值，並規定當缺失值出現時如何進行替換或處理。也可用於檢查輸入日期的合法性。例子: 如果AQI值為NaN，則替換為平均AQI值。\n",
        "* **Sorting**: <br>使用`for`迴圈來遍歷AQI數據，然後找出具有最高AQI或者前三高AQI的站台。\n",
        "例子: 從10個AQI值中找出最大的或前三大的。\n",
        "* **Rescaling**: <br>透過一個標準的映射表，將AQI數值轉換為五個等級：非常高、高、中、低、非常低，以便使用者更容易理解。例子: AQI 67轉換為\"高\"等級。\n",
        "\n",
        "</div>"
      ]
    },
    {
      "cell_type": "markdown",
      "metadata": {
        "id": "Y6wmkndCOHa5"
      },
      "source": [
        "## 空氣品質指數（AQX）案例研究\n",
        "\n",
        "**簡介與資料來源**\n",
        "\n",
        "這個案例研究旨在分析來自行政院環保署的即時空氣品質數據。這些數據可以在[行政院環保署的空氣品質監測網站](https://taqm.epa.gov.tw/taqm/tw/default.aspx)上查詢，並會按照AQI值用不同顏色代表其嚴重程度。更即時的數據也可在行政院環保署的[開放資料平台](https://opendata.epa.gov.tw/api/v1/AQI?%24skip=0&%24top=1000&%24format=json)找到。\n",
        "\n",
        "**分析策略**\n",
        "\n",
        "對於空氣品質或相似數據（如水污染、噪音、紫外線）的分析，以下是幾個主要的分析方向：\n",
        "\n",
        "1. **識別突出的數據點**：找出AQI值最高（最嚴重）的地區。如果有多個地區同樣嚴重，那麼所有這些地區都應該被列出。這涉及到遍歷所有的數據，並透過比較大小找出最高的AQI值。\n",
        "2. **排序與篩選**：除了找出最嚴重的地區，我們也可能對前三、前五或前10%的地區感興趣。這通常需要對數據進行排序。\n",
        "3. **數據摘要**：計算各種統計量，例如平均值、四分位數，以及數據的分佈型態（如常態分佈或幂律分佈）。\n",
        "4. **描述數據分佈**：了解不同等級的空氣品質在各測站中的分佈情況。這通常涉及到「分類」和「計數」的基本操作。\n",
        "5. **目標觀察與比較**：例如，對比大都市和非大都市的空氣品質，特別是PM2.5或O3等指標。\n",
        "\n",
        "**重要性與溝通**\n",
        "\n",
        "為何需要這樣的分析？主要是為了將複雜的數據以容易理解的方式傳達給大眾。儘管數據分析主要是由專家進行，但其目的通常是為了解釋或傳達某種特定信息給一般人。為了做到這一點，使用簡單明瞭的語言是關鍵——例如，「大部分地區」、「最嚴重地區」或「前幾名」等。有了數據和統計支持，我們就可以更自信地，也更準確地傳達這些信息。"
      ]
    },
    {
      "cell_type": "markdown",
      "metadata": {
        "id": "zXnpOWwHOHa5",
        "tags": []
      },
      "source": [
        "### Load AQX data\n",
        "\n",
        "1. 本案例所使用的資料仍然是網頁上json格式的資料，因此，仍需要用`requests`函式庫將其取回，再用`json()`將json格式的文字解析為Python的dict與list。\n",
        "2. 原始網頁為https://airtw.moenv.gov.tw/cht/EnvMonitoring/Central/CentralMonitoring.aspx。\n",
        "3. json資料網址為https://airtw.moenv.gov.tw/gis_ajax.aspx?Type=GetAQInfo&Layer=EPA&QueryTime=2025/03/12%2011:00，其中QueryTime為查詢的時間，格式為YYYY/MM/DD HH:MM，例如2025/03/12 11:00。需要改為合理且近日的日期。\n"
      ]
    },
    {
      "cell_type": "code",
      "execution_count": null,
      "metadata": {
        "ExecuteTime": {
          "end_time": "2020-03-23T04:35:13.229614Z",
          "start_time": "2020-03-23T04:35:12.866082Z"
        },
        "colab": {
          "base_uri": "https://localhost:8080/",
          "height": 345
        },
        "id": "oMUojEBsOHa6",
        "outputId": "cdd51151-497b-40df-b18f-dade95fa6658"
      },
      "outputs": [
        {
          "name": "stdout",
          "output_type": "stream",
          "text": [
            "Type of aqdata: <class 'list'>\n",
            "Type of the first element in aqdata: <class 'dict'>\n"
          ]
        }
      ],
      "source": [
        "import requests\n",
        "import json\n",
        "url = \"https://airtw.moenv.gov.tw/gis_ajax.aspx?Type=GetAQInfo&Layer=EPA&QueryTime=2025/09/19%2011:00\"\n",
        "aqdata = requests.get(url).json()\n",
        "\n",
        "print(\"Type of aqdata:\", type(aqdata))\n",
        "print(\"Type of the first element in aqdata:\", type(aqdata[0]))"
      ]
    },
    {
      "cell_type": "markdown",
      "metadata": {
        "id": "S6HRMj2BT7tG"
      },
      "source": [
        "如果要更清楚地觀察，可以用`json.dumps()`將其轉回json格式的文字，並用縮排來顯示。"
      ]
    },
    {
      "cell_type": "code",
      "execution_count": null,
      "metadata": {
        "id": "6TSEvQSMT7tH",
        "outputId": "1d23134f-c33e-4463-94eb-558914e135f4"
      },
      "outputs": [
        {
          "name": "stdout",
          "output_type": "stream",
          "text": [
            "[\n",
            "    {\n",
            "        \"SiteID\": \"1\",\n",
            "        \"SiteName\": \"二林\",\n",
            "        \"AQI\": \"43\",\n",
            "        \"ViewName\": \"二林\",\n",
            "        \"AreaName\": \"中部空品區\",\n",
            "        \"AreaID\": \"3\",\n",
            "        \"COUNTY_Eng\": \"Changhua\",\n",
            "        \"POLLUTANT\": \"\",\n",
            "        \"SiteAddres\": \"彰化縣二林鎮萬合里江山巷1號\",\n",
            "        \"TWD97_Lon\": 120.409653,\n",
            "        \"TWD97_Lat\": 23.925175,\n",
            "        \"SiteType\": \"一般站\",\n",
            "        \"SiteType2\": \"中央政府\",\n",
            "        \"siteowner\": \"環境部\"\n",
            "    },\n",
            "    {\n",
            "        \"SiteID\": \"2\",\n",
            "        \"SiteName\": \"三重\",\n",
            "        \"AQI\": \"29\",\n",
            "        \"ViewName\": \"三重\",\n",
            "        \"AreaName\": \"北部空品區\",\n",
            "        \"AreaID\": \"1\",\n",
            "        \"COUNTY_Eng\": \"Newtaipei\",\n",
            "        \"POLLUTANT\": \"\",\n",
            "        \"SiteAddres\": \"新北市三重區三和路重陽路交口\",\n",
            "        \"TWD97_Lon\": 121.493806,\n",
            "        \"TWD97_Lat\": 25.072611,\n",
            "        \"SiteType\": \"交通站\",\n",
            "        \"SiteType2\": \"中央政府\",\n",
            "        \"siteowner\": \"環境部\"\n",
            "    },\n",
            "    {\n",
            "        \"SiteID\": \"3\",\n",
            "        \"SiteName\": \"三義\",\n",
            "        \"AQI\": \"78\",\n",
            "        \"ViewName\": \"三義\",\n",
            "        \"AreaName\": \"竹苗空品區\",\n",
            "        \"AreaID\": \"2\",\n",
            "        \"COUNTY_Eng\": \"Miaoli\",\n",
            "        \"POLLUTANT\": \"細懸浮微粒\",\n",
            "        \"SiteAddres\": \"苗栗縣三義鄉西湖村上湖61-1號\",\n",
            "        \"TWD97_Lon\": 120.75956754,\n",
            "        \"TWD97_Lat\": 24.38248443,\n",
            "        \"SiteType\": \"一般站\",\n",
            "        \"SiteType2\": \"中央政府\",\n",
            "        \"siteowner\": \"環境部\"\n",
            "    }\n",
            "]\n"
          ]
        }
      ],
      "source": [
        "# print aqdata in pretty format\n",
        "print(json.dumps(aqdata[:3], indent=4, ensure_ascii=False))"
      ]
    },
    {
      "cell_type": "markdown",
      "metadata": {
        "id": "_iAP6BGOT7tH"
      },
      "source": [
        "### Traverse AQI content\n",
        "\n",
        "既然傳回來的資料看起來是個list of dict的結構，外層為一個list，不失一般性地取index為0的第一筆資料來觀察。\n",
        "* **法則一：如果偵測出他是一個list**，那就取出第0筆資料往下追蹤。\n",
        "* **法則二：如果偵測出他是一個dict**，就用`dict.keys()`將其所有的key給列印出來，然後挑你所需要的key往下追蹤。但如果`.keys()`印出來的結果是類似流水號的id（e.g., youbike data），那就代表設計者把id對應到該id的資料。此時，也是不失一般性，取第一個id作為索引來往下存取即可。"
      ]
    },
    {
      "cell_type": "code",
      "execution_count": null,
      "metadata": {
        "id": "KQc6mh9k-jnv"
      },
      "outputs": [],
      "source": [
        "# print the data type\n",
        "\n",
        "\n",
        "# Print the content of the first data entry\n"
      ]
    },
    {
      "cell_type": "code",
      "execution_count": null,
      "metadata": {
        "ExecuteTime": {
          "end_time": "2020-03-23T04:35:14.934070Z",
          "start_time": "2020-03-23T04:35:14.930267Z"
        },
        "id": "EhRr5vq5OHa7"
      },
      "outputs": [],
      "source": [
        "# Print the length of the data\n",
        "\n",
        "# Print all keys of one data entry\n"
      ]
    },
    {
      "cell_type": "markdown",
      "metadata": {
        "id": "HiFstx_wT7tJ"
      },
      "source": [
        "### Print and observe each data entry\n",
        "列印出相關資料來做觀察，包含AQI、POLLUTANT（污染物種類）。如果資料筆數過多不易觀察的話，應該用List Slicing取出前數筆（例如`alist[:10]`）或後數筆（例如`alist[-3:]`）來觀察\n",
        "\n",
        "```\n",
        "二林\t79\t細懸浮微粒\n",
        "三重\t58\t細懸浮微粒\n",
        "三義\t57\t細懸浮微粒\n",
        "土城\t51\t懸浮微粒\n",
        "士林\t57\t細懸浮微粒\n",
        "```\n"
      ]
    },
    {
      "cell_type": "code",
      "execution_count": null,
      "metadata": {
        "ExecuteTime": {
          "end_time": "2020-03-23T04:36:46.464964Z",
          "start_time": "2020-03-23T04:36:46.458233Z"
        },
        "id": "fpw_SeRvOHa8"
      },
      "outputs": [],
      "source": [
        "# Print AQI and POLLUTANT of each site\n",
        "# for site in aqdata:\n",
        "#     print(\"{}\\t{}\\t{}\".format(site['SiteName'], site['AQI'], site['POLLUTANT']))\n",
        "\n",
        "# Print AQI and POLLUTANT of the first 10 sites\n"
      ]
    },
    {
      "cell_type": "markdown",
      "metadata": {
        "id": "Dsr1WL82OHa9"
      },
      "source": [
        "### `range()` to traverse list by index\n",
        "\n",
        "1. 因為`aqdata`是一個list，也可以透過index去access`aqdata`中第0個、第1個、第2個dict的內容。<br>但此時你就要去用index存取`aqdata`內的值，你的程式碼會稍微長一點點。\n",
        "2. `range(n)`函式，相當於`range(0, n)`，可以產生`0`至`n-1`的list。<br>用`list()`轉換後（例如`list(range(10))`)便會顯示出其內容。\n",
        "3. `range(s, t)`表從`s`至`t-1`。\n",
        "4. `range(s, t, u)`表示從`s`至`t-1`，每間隔`u`，如果`u`等於2的話，就等於隔一個數字。所以`range(3, 10, 2)`會是`[3, 5, 7, 9]`。\n",
        "\n",
        "Question: 什麼時候會用到？取樣的時候，例如多加一個if判斷式，來取出偶數位置的樣本。"
      ]
    },
    {
      "cell_type": "code",
      "execution_count": null,
      "metadata": {
        "id": "L1t6-N4hT7tK",
        "outputId": "9a5673d3-dcf2-467c-e2dc-d60b18d15571"
      },
      "outputs": [
        {
          "name": "stdout",
          "output_type": "stream",
          "text": [
            "[0, 1, 2, 3, 4, 5, 6, 7, 8, 9]\n",
            "[0, 1, 2, 3, 4, 5, 6, 7, 8, 9]\n",
            "[1, 2, 3, 4, 5, 6, 7, 8, 9]\n",
            "[1, 3, 5, 7, 9]\n",
            "1\n",
            "3\n",
            "5\n",
            "7\n",
            "9\n"
          ]
        }
      ],
      "source": [
        "print(list(range(10)))\n",
        "print(list(range(0, 10)))\n",
        "print(list(range(1, 10)))\n",
        "print(list(range(1, 10, 2)))\n",
        "for i in range(1, 10, 2):\n",
        "    print(i)"
      ]
    },
    {
      "cell_type": "markdown",
      "metadata": {
        "id": "KIGDBavLT7tN"
      },
      "source": [
        "而`aqdata`這個list的長度為`len(aqdataa)`，其list index從0至`len(aqdataa)`，所以使用`for i in range(len(aqdata)):`可以走訪整個list的內容。（註：以下的例子只列印出前10個）"
      ]
    },
    {
      "cell_type": "code",
      "execution_count": null,
      "metadata": {
        "ExecuteTime": {
          "end_time": "2020-03-23T04:39:18.999034Z",
          "start_time": "2020-03-23T04:39:18.994103Z"
        },
        "id": "cX4dOFnSOHa9"
      },
      "outputs": [],
      "source": [
        "\n",
        "\n",
        "\n"
      ]
    },
    {
      "cell_type": "markdown",
      "metadata": {
        "id": "M0sU2eXHOHa9"
      },
      "source": [
        "### `enumerate()` to access index and item simultaneously\n",
        "\n",
        "前面我們介紹到兩個版本，\n",
        "1. `for site in aqdata[\"Data\"]:`是用`site`作為臨時變數以在for-loop中存取所有的資料項目。\n",
        "2. `for i in range(len(aqdata[\"Data\"])):`的做法則是用`i`作為index來存取原本的`aqdata[\"Data\"]`。\n",
        "\n",
        "但其實還有第三種選擇就是用`enumerate()`來同時存取index和資料項目。<br>\n",
        "當需要存取這是第幾個項目時，那我就用index，但我如果只是要判斷一下大小，那我就可以用被取出來的資料項目。<br>寫法如下：\n",
        "```python\n",
        "for i, site in enumerate(aqdata):`\n",
        "```"
      ]
    },
    {
      "cell_type": "code",
      "execution_count": null,
      "metadata": {
        "ExecuteTime": {
          "end_time": "2020-03-23T04:42:22.383029Z",
          "start_time": "2020-03-23T04:42:22.377452Z"
        },
        "id": "2YY8k7VMOHa9"
      },
      "outputs": [],
      "source": [
        "print(type(enumerate(aqdata)))\n",
        "\n",
        "\n",
        "\n",
        "\n",
        "\n"
      ]
    },
    {
      "cell_type": "markdown",
      "metadata": {
        "id": "6qgk27FrkX9K"
      },
      "source": [
        "## Prepare data for search and query\n",
        "\n",
        "顯然AQI資料是一個非常標準的JSON格式，轉換為Python的資料型態就會變成list of dict。<br>\n",
        "但我希望可以用空品站名稱來查詢空品站的指標，要怎麼做呢？有兩種方法：<br>\n",
        "1. 我可以用for-loop把所有資料跑一遍，如果等於該空品站名稱的話，那就列印出來。\n",
        "2. 我想要建立一個新的`aqdict`，希望可以用`aqdict[\"三重\"]`就直接列印出`三重`的資料。"
      ]
    },
    {
      "cell_type": "markdown",
      "metadata": {
        "id": "WrtV9IpvT7tP"
      },
      "source": [
        "### Method 01. Search with for-loop\n",
        "\n",
        "就把所有資料用for-loop走訪一遍，如果站台名稱等於所欲查詢的站台的話，那就把他列印出來。"
      ]
    },
    {
      "cell_type": "code",
      "execution_count": null,
      "metadata": {
        "id": "XXIfcP8xT7tP",
        "outputId": "e8bf5fea-8e13-41af-e806-9eec71496225"
      },
      "outputs": [
        {
          "name": "stdout",
          "output_type": "stream",
          "text": [
            "{'SiteID': '2', 'SiteName': '三重', 'AQI': '28', 'ViewName': '三重', 'AreaName': '北部空品區', 'AreaID': '1', 'COUNTY_Eng': 'Newtaipei', 'POLLUTANT': '', 'SiteAddres': '新北市三重區三和路重陽路交口', 'TWD97_Lon': 121.493806, 'TWD97_Lat': 25.072611, 'SiteType': '交通站', 'SiteType2': '中央政府', 'siteowner': '行政院環境保護署'}\n"
          ]
        }
      ],
      "source": [
        "query = \"三重\"\n",
        "\n",
        "\n",
        "\n"
      ]
    },
    {
      "cell_type": "code",
      "execution_count": null,
      "metadata": {
        "id": "76rCs8AjT7tP",
        "outputId": "815da814-3c90-4f06-934c-bb3159a18aaa"
      },
      "outputs": [
        {
          "name": "stdout",
          "output_type": "stream",
          "text": [
            "{'SiteID': '2', 'SiteName': '三重', 'AQI': '28', 'ViewName': '三重', 'AreaName': '北部空品區', 'AreaID': '1', 'COUNTY_Eng': 'Newtaipei', 'POLLUTANT': '', 'SiteAddres': '新北市三重區三和路重陽路交口', 'TWD97_Lon': 121.493806, 'TWD97_Lat': 25.072611, 'SiteType': '交通站', 'SiteType2': '中央政府', 'siteowner': '行政院環境保護署'}\n",
            "{'SiteID': '61', 'SiteName': '萬里', 'AQI': '29', 'ViewName': '萬里', 'AreaName': '北部空品區', 'AreaID': '1', 'COUNTY_Eng': 'Newtaipei', 'POLLUTANT': '', 'SiteAddres': '新北市萬里區瑪鋉路221號', 'TWD97_Lon': 121.689881, 'TWD97_Lat': 25.179667, 'SiteType': '一般站', 'SiteType2': '中央政府', 'siteowner': '行政院環境保護署'}\n",
            "{'SiteID': '62', 'SiteName': '萬華', 'AQI': '12', 'ViewName': '萬華', 'AreaName': '北部空品區', 'AreaID': '1', 'COUNTY_Eng': 'Taipei', 'POLLUTANT': '', 'SiteAddres': '臺北市萬華區中華路1段66號', 'TWD97_Lon': 121.507972, 'TWD97_Lat': 25.046503, 'SiteType': '一般站', 'SiteType2': '中央政府', 'siteowner': '行政院環境保護署'}\n"
          ]
        }
      ],
      "source": [
        "queries = [\"三重\", \"萬里\", \"萬華\"]\n",
        "\n",
        "\n",
        "\n"
      ]
    },
    {
      "cell_type": "markdown",
      "metadata": {
        "id": "GEtjVFXFT7tP"
      },
      "source": [
        "### Method 02. Convert data structure - hashing\n",
        "\n",
        "1. 如果希望可以用`aqdict[\"三重\"]`就直接列印出三重的資料，有一個方法是重建一個新的以測站作為key的dict，這樣只需要有站名，就可以直接藉由key-to-value的對應找到該站的資料，所以要建的dict是站名對應到該空品站資料的對應。\n",
        "2. 建立方法是把整個list of dict走訪過一遍，把list中每個dict assign給該dict中的測站名稱 `site[\"SiteName\"]`"
      ]
    },
    {
      "cell_type": "code",
      "execution_count": null,
      "metadata": {
        "id": "ewqqc_U_kX9K",
        "outputId": "93249a8b-abb8-40e9-81f9-545377118ec3"
      },
      "outputs": [
        {
          "name": "stdout",
          "output_type": "stream",
          "text": [
            "{'SiteID': '2', 'SiteName': '三重', 'AQI': '28', 'ViewName': '三重', 'AreaName': '北部空品區', 'AreaID': '1', 'COUNTY_Eng': 'Newtaipei', 'POLLUTANT': '', 'SiteAddres': '新北市三重區三和路重陽路交口', 'TWD97_Lon': 121.493806, 'TWD97_Lat': 25.072611, 'SiteType': '交通站', 'SiteType2': '中央政府', 'siteowner': '行政院環境保護署'}\n",
            "{'SiteID': '61', 'SiteName': '萬里', 'AQI': '29', 'ViewName': '萬里', 'AreaName': '北部空品區', 'AreaID': '1', 'COUNTY_Eng': 'Newtaipei', 'POLLUTANT': '', 'SiteAddres': '新北市萬里區瑪鋉路221號', 'TWD97_Lon': 121.689881, 'TWD97_Lat': 25.179667, 'SiteType': '一般站', 'SiteType2': '中央政府', 'siteowner': '行政院環境保護署'}\n",
            "{'SiteID': '62', 'SiteName': '萬華', 'AQI': '12', 'ViewName': '萬華', 'AreaName': '北部空品區', 'AreaID': '1', 'COUNTY_Eng': 'Taipei', 'POLLUTANT': '', 'SiteAddres': '臺北市萬華區中華路1段66號', 'TWD97_Lon': 121.507972, 'TWD97_Lat': 25.046503, 'SiteType': '一般站', 'SiteType2': '中央政府', 'siteowner': '行政院環境保護署'}\n"
          ]
        }
      ],
      "source": [
        "aqdict = {}  # Initialize a new dictionary\n",
        "\n",
        "\n",
        "\n",
        "\n"
      ]
    },
    {
      "cell_type": "markdown",
      "metadata": {
        "id": "2pbrcWWd3i-n"
      },
      "source": [
        "### Dump new dict to .json\n",
        "\n",
        "在Python中把資料dump成json會遠比csv來得方便，在R中則剛好相反。原因是Python的dictionary與list兩項資料結構恰好json的格式一一相符，所以非常容易就可以把資料dump出去或者read進來。如果是要dump成csv檔的話，就必須想辦法把資料整理成pandas dataframe的二維型態。\n"
      ]
    },
    {
      "cell_type": "code",
      "execution_count": null,
      "metadata": {
        "id": "1APlQ8yQ3ppo"
      },
      "outputs": [],
      "source": [
        "# json.dump(aqdict, open('aqi.json', 'w'))"
      ]
    },
    {
      "cell_type": "markdown",
      "metadata": {
        "id": "RyuplV_aOHa9"
      },
      "source": [
        "## Rescale AQI index\n",
        "\n",
        "前面說到一般大眾其實不了解AQI數值的意義，也不知道最大最小值是多少，所以在對外作呈現的時候，呈現AQI數值是沒意義的。大眾比較容易了解的是「現在嚴不嚴重」。因此，我們可以依照環保署對於空氣品質的等級劃分方法來將所有站台區分成幾個等級，相當於是按照數值做統計上的分層，將數值轉為factor的操作。\n",
        "\n",
        "而程式邏輯上要做的事情是，用if-elif-else來設計好不同的區間判斷，然後用for-loop把所有AQI的值走訪過一遍，看每個站台落入哪個區間。\n",
        "\n",
        "![image.png](attachment:47374209-14dd-44c8-a5cc-dc60f9565867.png)"
      ]
    },
    {
      "cell_type": "code",
      "execution_count": null,
      "metadata": {
        "ExecuteTime": {
          "end_time": "2020-03-22T15:53:03.498552Z",
          "start_time": "2020-03-22T15:53:03.452584Z"
        },
        "colab": {
          "base_uri": "https://localhost:8080/",
          "height": 239
        },
        "id": "hWxjriE3OHa-",
        "outputId": "aedaec82-8e9b-49f9-ae6a-9481af30e45f"
      },
      "outputs": [
        {
          "name": "stdout",
          "output_type": "stream",
          "text": [
            "二林 66 普通\n",
            "三重 28 良好\n",
            "三義 36 良好\n",
            "土城 13 良好\n",
            "士林 20 良好\n",
            "大同 39 良好\n",
            "大里 57 普通\n",
            "大園 23 良好\n",
            "大寮 84 普通\n",
            "小港 76 普通\n",
            "中山 18 良好\n",
            "中壢 20 良好\n",
            "仁武 78 普通\n",
            "斗六 57 普通\n",
            "冬山 13 良好\n",
            "古亭 14 良好\n",
            "左營 65 普通\n",
            "平鎮 15 良好\n",
            "永和 19 良好\n",
            "安南 62 普通\n",
            "朴子 67 普通\n",
            "汐止 13 良好\n",
            "竹山 43 良好\n",
            "竹東 29 良好\n",
            "西屯 59 普通\n",
            "沙鹿 43 良好\n",
            "宜蘭 13 良好\n",
            "忠明 54 普通\n",
            "松山 14 良好\n",
            "板橋 22 良好\n",
            "林口 13 良好\n",
            "林園 68 普通\n",
            "花蓮 16 良好\n",
            "金門 47 良好\n",
            "前金 67 普通\n",
            "前鎮 65 普通\n",
            "南投 62 普通\n",
            "屏東 79 普通\n",
            "恆春 10 良好\n",
            "美濃 67 普通\n",
            "苗栗 21 良好\n",
            "埔里 43 良好\n",
            "桃園 19 良好\n",
            "馬公 36 良好\n",
            "馬祖 71 普通\n",
            "基隆 17 良好\n",
            "崙背 61 普通\n",
            "淡水 17 良好\n",
            "麥寮 54 普通\n",
            "善化 67 普通\n",
            "復興 61 普通\n",
            "湖口 30 良好\n",
            "菜寮 20 良好\n",
            "陽明 18 良好\n",
            "新竹 19 良好\n",
            "新店 12 良好\n",
            "新莊 21 良好\n",
            "新港 71 普通\n",
            "新營 60 普通\n",
            "楠梓 70 普通\n",
            "萬里 29 良好\n",
            "萬華 12 良好\n",
            "嘉義 71 普通\n",
            "彰化 58 普通\n",
            "臺西 62 普通\n",
            "臺東 9 良好\n",
            "臺南 66 普通\n",
            "鳳山 73 普通\n",
            "潮州 63 普通\n",
            "線西 48 良好\n",
            "橋頭 71 普通\n",
            "頭份 13 良好\n",
            "龍潭 13 良好\n",
            "豐原 52 普通\n",
            "關山 7 良好\n",
            "觀音 54 普通\n",
            "彰化(員林) 65 普通\n",
            "高雄(湖內) 77 普通\n",
            "臺南(麻豆) 58 普通\n",
            "屏東(琉球) -1 Unknown\n",
            "桃園(三民) 18 良好\n",
            "新北(樹林) 20 良好\n",
            "臺南(學甲) 51 普通\n",
            "屏東(枋寮) 47 良好\n",
            "富貴角 34 良好\n",
            "大城 66 普通\n"
          ]
        }
      ],
      "source": [
        "# for site in aqdata:\n",
        "\n",
        "\n",
        "\n",
        "\n",
        "\n",
        "\n",
        "\n",
        "\n",
        "\n",
        "    # print(site[\"SiteName\"], site[\"AQI\"], site[\"Quality\"])\n"
      ]
    },
    {
      "cell_type": "markdown",
      "metadata": {
        "id": "aNbL-IMNOHa-"
      },
      "source": [
        "### (Option) Rescale better\n",
        "\n",
        "為了避免過多的if-elif-else或者switch的使用，可以先把scale和category寫成兩個List，然後用多一層for-loop來trace該value會落在List的哪個區間。\n",
        "![image.png](attachment:636ae1de-2309-4048-9d44-46fb039807ec.png)"
      ]
    },
    {
      "cell_type": "code",
      "execution_count": null,
      "metadata": {
        "ExecuteTime": {
          "end_time": "2020-03-22T15:58:49.104837Z",
          "start_time": "2020-03-22T15:58:49.087594Z"
        },
        "id": "LadW4QkbOHa-",
        "outputId": "ee58392d-677e-4ac9-c67f-00ee0b3194a3"
      },
      "outputs": [
        {
          "name": "stdout",
          "output_type": "stream",
          "text": [
            "{-1: 'Unknown', 50: '良好', 100: '普通', 150: '對敏感族群不健康', 200: '對所有族群不健康', 300: '非常不健康', 1000: '危害'}\n",
            "二林 66 普通 普通\n",
            "三重 28 良好 良好\n",
            "三義 36 良好 良好\n",
            "土城 13 良好 良好\n",
            "士林 20 良好 良好\n",
            "大同 39 良好 良好\n",
            "大里 57 普通 普通\n",
            "大園 23 良好 良好\n",
            "大寮 84 普通 普通\n",
            "小港 76 普通 普通\n",
            "中山 18 良好 良好\n",
            "中壢 20 良好 良好\n",
            "仁武 78 普通 普通\n",
            "斗六 57 普通 普通\n",
            "冬山 13 良好 良好\n",
            "古亭 14 良好 良好\n",
            "左營 65 普通 普通\n",
            "平鎮 15 良好 良好\n",
            "永和 19 良好 良好\n",
            "安南 62 普通 普通\n",
            "朴子 67 普通 普通\n",
            "汐止 13 良好 良好\n",
            "竹山 43 良好 良好\n",
            "竹東 29 良好 良好\n",
            "西屯 59 普通 普通\n",
            "沙鹿 43 良好 良好\n",
            "宜蘭 13 良好 良好\n",
            "忠明 54 普通 普通\n",
            "松山 14 良好 良好\n",
            "板橋 22 良好 良好\n",
            "林口 13 良好 良好\n",
            "林園 68 普通 普通\n",
            "花蓮 16 良好 良好\n",
            "金門 47 良好 良好\n",
            "前金 67 普通 普通\n",
            "前鎮 65 普通 普通\n",
            "南投 62 普通 普通\n",
            "屏東 79 普通 普通\n",
            "恆春 10 良好 良好\n",
            "美濃 67 普通 普通\n",
            "苗栗 21 良好 良好\n",
            "埔里 43 良好 良好\n",
            "桃園 19 良好 良好\n",
            "馬公 36 良好 良好\n",
            "馬祖 71 普通 普通\n",
            "基隆 17 良好 良好\n",
            "崙背 61 普通 普通\n",
            "淡水 17 良好 良好\n",
            "麥寮 54 普通 普通\n",
            "善化 67 普通 普通\n",
            "復興 61 普通 普通\n",
            "湖口 30 良好 良好\n",
            "菜寮 20 良好 良好\n",
            "陽明 18 良好 良好\n",
            "新竹 19 良好 良好\n",
            "新店 12 良好 良好\n",
            "新莊 21 良好 良好\n",
            "新港 71 普通 普通\n",
            "新營 60 普通 普通\n",
            "楠梓 70 普通 普通\n",
            "萬里 29 良好 良好\n",
            "萬華 12 良好 良好\n",
            "嘉義 71 普通 普通\n",
            "彰化 58 普通 普通\n",
            "臺西 62 普通 普通\n",
            "臺東 9 良好 良好\n",
            "臺南 66 普通 普通\n",
            "鳳山 73 普通 普通\n",
            "潮州 63 普通 普通\n",
            "線西 48 良好 良好\n",
            "橋頭 71 普通 普通\n",
            "頭份 13 良好 良好\n",
            "龍潭 13 良好 良好\n",
            "豐原 52 普通 普通\n",
            "關山 7 良好 良好\n",
            "觀音 54 普通 普通\n",
            "彰化(員林) 65 普通 普通\n",
            "高雄(湖內) 77 普通 普通\n",
            "臺南(麻豆) 58 普通 普通\n",
            "屏東(琉球) -1 Unknown Unknown\n",
            "桃園(三民) 18 良好 良好\n",
            "新北(樹林) 20 良好 良好\n",
            "臺南(學甲) 51 普通 普通\n",
            "屏東(枋寮) 47 良好 良好\n",
            "富貴角 34 良好 良好\n",
            "大城 66 普通 普通\n"
          ]
        }
      ],
      "source": [
        "degree = [\"Unknown\", \"良好\", \"普通\", \"對敏感族群不健康\", \"對所有族群不健康\", \"非常不健康\", \"危害\"]\n",
        "scaler = [-1, 50, 100, 150, 200, 300, 1000]\n",
        "\n",
        "sdict = {k:v for k, v in zip(scaler, degree)}\n",
        "print(sdict)\n",
        "\n",
        "# scaler = {-1:\"Unknown\", 50:\"良好\", 100:\"普通\", 150:\"對敏感族群不健康\", 200:\"對所有族群不健康\", 300:\"非常不健康\", 1000:\"危害\"}\n",
        "\n",
        "\n",
        "\n",
        "\n",
        "\n",
        "\n"
      ]
    },
    {
      "cell_type": "markdown",
      "metadata": {
        "id": "K8qCd43FOHa_"
      },
      "source": [
        "## Detect prominant data\n",
        "\n",
        "有了這類的資料後，可以做出什麼樣的資料描述呢？通常第一個想到的分析方法就是找到最嚴重、最差、變化最劇烈的地區。以下這是個非常好的例子說明要如何運用`if`和`for`找出AQI最高的地區。在過程中，必須要注意，原本的資料的資料型態為何，甚至要注意，原本的資料是否有缺漏。\n",
        "\n",
        "這個案例企圖找出AQI最高的是哪些站台，且把該站台列印出來。注意，要列印的是AQI最高的站台，而不是最高的AQI值；此外還要注意，AQI最高的站台可能不只一個（這時候該怎麼處理？）。\n"
      ]
    },
    {
      "cell_type": "markdown",
      "metadata": {
        "id": "TtP23jM-QVDB"
      },
      "source": [
        "### Find the maximum\n",
        "\n",
        "找到最大值或最小值的概念：就個人的邏輯思考一下，要怎麼找到一群數的最大值？解題邏輯：把第一個數先拿來當標準，之後確認過每個數，有沒有比這個數更大的，若有的話，最大值就代換成找到的那個數，沒有的話，那第一個數就是最大值。"
      ]
    },
    {
      "cell_type": "code",
      "execution_count": null,
      "metadata": {
        "ExecuteTime": {
          "end_time": "2020-03-23T04:49:54.180908Z",
          "start_time": "2020-03-23T04:49:54.177160Z"
        },
        "colab": {
          "base_uri": "https://localhost:8080/"
        },
        "id": "ktUTofr7OHa_",
        "outputId": "f4ad85b4-71a3-4921-92df-dd445634187b"
      },
      "outputs": [
        {
          "name": "stdout",
          "output_type": "stream",
          "text": [
            "大寮 84\n",
            "屏東(琉球) -1\n"
          ]
        }
      ],
      "source": [
        "# finding the maximum value\n",
        "\n",
        "\n",
        "# mina, maxa = 100, 0\n",
        "\n",
        "\n",
        "\n",
        "#     print maxa, a\n",
        "# print(max_site, maxa)\n",
        "# print(min_site, mina)\n",
        "\n",
        "\n"
      ]
    },
    {
      "cell_type": "markdown",
      "metadata": {
        "id": "HlLKVRP4OHa_"
      },
      "source": [
        "### Use built-in functions\n",
        "\n",
        "這類比較大小的簡單功能一定都有人幫忙寫好了（如以下的例子），只要記得使用它就好。但是，要記得這樣的函式其實就是透過類似上述方法來比較大小以找到最大值。"
      ]
    },
    {
      "cell_type": "code",
      "execution_count": null,
      "metadata": {
        "ExecuteTime": {
          "end_time": "2020-03-23T04:49:57.965340Z",
          "start_time": "2020-03-23T04:49:57.961824Z"
        },
        "colab": {
          "base_uri": "https://localhost:8080/"
        },
        "id": "y4DYTLI6OHa_",
        "outputId": "e1290b87-1e28-4700-e74a-3da17eead480"
      },
      "outputs": [
        {
          "name": "stdout",
          "output_type": "stream",
          "text": [
            "1 82 197 13 15.153846153846153\n",
            "[66, 28, 36, 13, 20, 39, 57, 23, 84, 76, 18, 20, 78, 57, 13, 14, 65, 15, 19, 62, 67, 13, 43, 29, 59, 43, 13, 54, 14, 22, 13, 68, 16, 47, 67, 65, 62, 79, 10, 67, 21, 43, 19, 36, 71, 17, 61, 17, 54, 67, 61, 30, 20, 18, 19, 12, 21, 71, 60, 70, 29, 12, 71, 58, 62, 9, 66, 73, 63, 48, 71, 13, 13, 52, 7, 54, 65, 77, 58, -1, 18, 20, 51, 47, 34, 66]\n",
            "大寮 84\n"
          ]
        },
        {
          "data": {
            "text/plain": [
              "84"
            ]
          },
          "execution_count": 88,
          "metadata": {},
          "output_type": "execute_result"
        }
      ],
      "source": [
        "alist = [5, 3, 2, 4, 1, 3, 2, 4, 7, 82, 19, 23, 42]\n",
        "print(min(alist), max(alist), sum(alist), len(alist), float(sum(alist))/len(alist))\n",
        "\n",
        "\n",
        "# sorted(aqlist, reverse = True)[0]\n"
      ]
    },
    {
      "cell_type": "markdown",
      "metadata": {
        "id": "NrhVLfZNQzf3"
      },
      "source": [
        "### Find top n\n",
        "\n",
        "前面的例子是只要找最大值，所以只需要用一個變數來存放最大值。但現在的任務如果是要找到前n大，那就必須要有n個變數來儲存。往往實用上這個n還常常開放給使用者自行輸入，必須是可變動的。那最好的解決方法就是，乾脆把所有數值由大到小排列好，放在一個List裡面，然後看看要取前n大，就用List Slicing取出前面n個數值。\n",
        "\n",
        "#### Sorted by `sorted` function\n",
        "\n",
        "1. 開一個空的List，用For將所有資料走訪一遍，把所有的AQI的值給`append()`在該List中。\n",
        "2. 存起來以後，我用`sorted()`這個函式把這些值做排序。"
      ]
    },
    {
      "cell_type": "code",
      "execution_count": null,
      "metadata": {
        "ExecuteTime": {
          "end_time": "2020-03-23T04:59:34.138897Z",
          "start_time": "2020-03-23T04:59:34.135057Z"
        },
        "id": "c68mStlZOHbA",
        "outputId": "775baf79-1af1-440d-fa75-8c266d6b32e0"
      },
      "outputs": [
        {
          "name": "stdout",
          "output_type": "stream",
          "text": [
            "[66, 28, 36, 13, 20, 39, 57, 23, 84, 76, 18, 20, 78, 57, 13, 14, 65, 15, 19, 62, 67, 13, 43, 29, 59, 43, 13, 54, 14, 22, 13, 68, 16, 47, 67, 65, 62, 79, 10, 67, 21, 43, 19, 36, 71, 17, 61, 17, 54, 67, 61, 30, 20, 18, 19, 12, 21, 71, 60, 70, 29, 12, 71, 58, 62, 9, 66, 73, 63, 48, 71, 13, 13, 52, 7, 54, 65, 77, 58, -1, 18, 20, 51, 47, 34, 66]\n",
            "大寮 84\n",
            "小港 76\n",
            "仁武 78\n",
            "屏東 79\n",
            "高雄(湖內) 77\n"
          ]
        }
      ],
      "source": [
        "## Use a list to store all PM2.5 value\n",
        "\n",
        "aqlist = []\n",
        "for site in aqdata:\n",
        "    aqlist.append(int(site[\"AQI\"]))\n",
        "print(aqlist)\n",
        "\n",
        "\n",
        "\n",
        "\n",
        "\n",
        "\n",
        "## sort the list by sorted()\n",
        "\n",
        "\n"
      ]
    },
    {
      "cell_type": "markdown",
      "metadata": {
        "id": "kXv7yyQ4OHbA"
      },
      "source": [
        "### (Practice) Print out the site which values are larger than the first quarter\n",
        "\n",
        "有了排序後的List，就可以很方便地取一個閾值把要的資料取出來（最大值、前四分之一大的值或者是前三大的值），例如把大於該閾值的站台都給列印出來，即為所求。"
      ]
    },
    {
      "cell_type": "code",
      "execution_count": null,
      "metadata": {
        "ExecuteTime": {
          "end_time": "2020-03-23T04:59:01.851648Z",
          "start_time": "2020-03-23T04:59:01.846195Z"
        },
        "id": "HSku9IYTOHbA",
        "outputId": "22007652-642c-413e-c918-2dab3f9d7dd7"
      },
      "outputs": [
        {
          "name": "stdout",
          "output_type": "stream",
          "text": [
            "二林 66\n",
            "大寮 84\n",
            "小港 76\n",
            "仁武 78\n",
            "左營 65\n",
            "朴子 67\n",
            "林園 68\n",
            "前金 67\n",
            "前鎮 65\n",
            "屏東 79\n",
            "美濃 67\n",
            "馬祖 71\n",
            "善化 67\n",
            "新港 71\n",
            "楠梓 70\n",
            "嘉義 71\n",
            "臺南 66\n",
            "鳳山 73\n",
            "橋頭 71\n",
            "彰化(員林) 65\n",
            "高雄(湖內) 77\n",
            "大城 66\n"
          ]
        }
      ],
      "source": [
        "\n",
        "\n",
        "\n"
      ]
    },
    {
      "cell_type": "markdown",
      "metadata": {
        "id": "qZvs6FSMOHbB"
      },
      "source": [
        "### (Practice) Print out sites with top 3 serious values\n",
        "\n",
        "取出Top-3的範例"
      ]
    },
    {
      "cell_type": "code",
      "execution_count": null,
      "metadata": {
        "ExecuteTime": {
          "end_time": "2020-03-23T04:58:16.977345Z",
          "start_time": "2020-03-23T04:58:16.974380Z"
        },
        "id": "AvshK16xOHbB",
        "outputId": "d9adeee4-2f5a-4a1f-a5ac-2aa4eaf02c15"
      },
      "outputs": [
        {
          "name": "stdout",
          "output_type": "stream",
          "text": [
            "103\n",
            "金門 126\n",
            "馬公 115\n",
            "馬祖 122\n"
          ]
        }
      ],
      "source": [
        "print(sorted(aqlist, reverse=True)[3])\n",
        "for site in aqdata:\n",
        "    if int(site['AQI']) >= aqlist[2]:\n",
        "        print(site['SiteName'], site['AQI'])"
      ]
    },
    {
      "cell_type": "markdown",
      "metadata": {
        "id": "I7c2FsfUT7ta"
      },
      "source": [
        "#### (Option) By comperhensive style"
      ]
    },
    {
      "cell_type": "code",
      "execution_count": null,
      "metadata": {
        "id": "X85-rjIST7ta",
        "outputId": "e5f576ed-f57a-481f-d80a-c383c1741d86"
      },
      "outputs": [
        {
          "data": {
            "text/plain": [
              "[('大寮', '84'), ('仁武', '78'), ('屏東', '79')]"
            ]
          },
          "execution_count": 91,
          "metadata": {},
          "output_type": "execute_result"
        }
      ],
      "source": [
        "aqlist = sorted([int(site['AQI']) for site in aqdata], reverse=True)\n",
        "[(site['SiteName'], site['AQI']) for site in aqdata if int(site['AQI']) >= aqlist[2]]"
      ]
    },
    {
      "cell_type": "markdown",
      "metadata": {
        "id": "LA0KQZp0OHbC"
      },
      "source": [
        "### (Option) Sorting Algorithm by hand\n",
        "\n",
        "前例用了一個`sorted`函式就排序了所有的AQI的值，那這類`sorted`的排序函式是怎麼寫的呢？排序邏輯可以有很多種，但最容易理解的一種可以用兩層的排序演算法來達成。觀念很簡單：\n",
        "1. 先抓住第一個，一一和後面比較，看看有沒有人比它大，有的話，就和後面做置換（Swap），沒有的話就不動，這樣跑過一輪，就可以保證第一個最大。\n",
        "2. 接下來抓住第二個，一一和後面比較，看看有沒有人比它大，，有的話，就和後面做置換（Swap），沒有的話就不動，這樣跑過一輪，就可以保證第二個是次大的。\n",
        "3. 依此類推。\n",
        "\n",
        "Reference\n",
        "1. https://www.geeksforgeeks.org/bubble-sort/\n",
        "2. https://en.wikipedia.org/wiki/Bubble_sort\n"
      ]
    },
    {
      "cell_type": "code",
      "execution_count": null,
      "metadata": {
        "id": "gphsI8eJDsRc"
      },
      "outputs": [],
      "source": [
        "alist = [8, 3, 1, 3, 2, 4, 5]\n",
        "alist = [8, 5, 1, 3, 2, 3, 4]\n",
        "alist = [8, 5, 4, 1, 2, 3, 3]\n",
        "alist = [8, 5, 4, 3, 1, 2, 3]\n",
        "alist = [8, 5, 4, 3, 3, 1, 2]\n",
        "alist = [8, 5, 4, 3, 3, 2, 1]"
      ]
    },
    {
      "cell_type": "code",
      "execution_count": null,
      "metadata": {
        "ExecuteTime": {
          "end_time": "2020-03-23T05:03:10.051814Z",
          "start_time": "2020-03-23T05:03:10.046325Z"
        },
        "id": "egonmmd3OHbC",
        "outputId": "9c89a281-b190-4680-df77-8c5263aa9e81"
      },
      "outputs": [
        {
          "name": "stdout",
          "output_type": "stream",
          "text": [
            "[84, 79, 78, 77, 76, 73, 71, 71, 71, 71, 70, 68, 67, 67, 67, 67, 66, 66, 66, 65, 65, 65, 63, 62, 62, 62, 61, 61, 60, 59, 58, 58, 57, 57, 54, 54, 54, 52, 51, 48, 47, 47, 43, 43, 43, 39, 36, 36, 34, 30, 29, 29, 28, 23, 22, 21, 21, 20, 20, 20, 20, 19, 19, 19, 18, 18, 18, 17, 17, 16, 15, 14, 14, 13, 13, 13, 13, 13, 13, 13, 12, 12, 10, 9, 7, -1]\n"
          ]
        }
      ],
      "source": [
        "aqlist = []\n",
        "site_list = []\n",
        "for site in aqdata:x\n",
        "    if site['AQI'] != \"\" or site['AQI'] != \"ND\":\n",
        "        aqlist.append(int(site['AQI']))\n",
        "        site_list.append(site['SiteName'])\n",
        "\n",
        "for i in range(len(aqlist)):\n",
        "    for j in range(i+1, len(aqlist)):\n",
        "        if aqlist[i] < aqlist[j]:\n",
        "            aqlist[i], aqlist[j] = aqlist[j], aqlist[i]\n",
        "\n",
        "print(aqlist)"
      ]
    },
    {
      "cell_type": "markdown",
      "metadata": {
        "id": "z1dWwVCTT7tc"
      },
      "source": [
        "## Convert data to dataframe\n",
        "\n",
        "操作開放資料的時候，經常會為了方便處理，把資料轉成未來pandas可以處理的形式。而這樣的形式通常是list of dictionary。"
      ]
    },
    {
      "cell_type": "markdown",
      "metadata": {
        "id": "lbVGjI-qT7tc"
      },
      "source": [
        "### AQX data to pandas dataframe"
      ]
    },
    {
      "cell_type": "code",
      "execution_count": null,
      "metadata": {
        "id": "3cnlU0MnT7tc",
        "outputId": "0cc6c3f5-9b52-40b8-ca82-8b950a647270"
      },
      "outputs": [
        {
          "data": {
            "application/vnd.microsoft.datawrangler.viewer.v0+json": {
              "columns": [
                {
                  "name": "index",
                  "rawType": "int64",
                  "type": "integer"
                },
                {
                  "name": "SiteID",
                  "rawType": "object",
                  "type": "string"
                },
                {
                  "name": "SiteName",
                  "rawType": "object",
                  "type": "string"
                },
                {
                  "name": "AQI",
                  "rawType": "object",
                  "type": "string"
                },
                {
                  "name": "ViewName",
                  "rawType": "object",
                  "type": "string"
                },
                {
                  "name": "AreaName",
                  "rawType": "object",
                  "type": "string"
                },
                {
                  "name": "AreaID",
                  "rawType": "object",
                  "type": "string"
                },
                {
                  "name": "COUNTY_Eng",
                  "rawType": "object",
                  "type": "string"
                },
                {
                  "name": "POLLUTANT",
                  "rawType": "object",
                  "type": "string"
                },
                {
                  "name": "SiteAddres",
                  "rawType": "object",
                  "type": "string"
                },
                {
                  "name": "TWD97_Lon",
                  "rawType": "float64",
                  "type": "float"
                },
                {
                  "name": "TWD97_Lat",
                  "rawType": "float64",
                  "type": "float"
                },
                {
                  "name": "SiteType",
                  "rawType": "object",
                  "type": "string"
                },
                {
                  "name": "SiteType2",
                  "rawType": "object",
                  "type": "string"
                },
                {
                  "name": "siteowner",
                  "rawType": "object",
                  "type": "string"
                }
              ],
              "ref": "efcd97df-34c2-4e6e-a4a0-4a4f549e243d",
              "rows": [
                [
                  "0",
                  "1",
                  "二林",
                  "48",
                  "二林",
                  "中部空品區",
                  "3",
                  "Changhua",
                  "",
                  "彰化縣二林鎮萬合里江山巷1號",
                  "120.409653",
                  "23.925175",
                  "一般站",
                  "中央政府",
                  "環境部"
                ],
                [
                  "1",
                  "2",
                  "三重",
                  "57",
                  "三重",
                  "北部空品區",
                  "1",
                  "Newtaipei",
                  "二氧化氮",
                  "新北市三重區三和路重陽路交口",
                  "121.493806",
                  "25.072611",
                  "交通站",
                  "中央政府",
                  "環境部"
                ],
                [
                  "2",
                  "3",
                  "三義",
                  "27",
                  "三義",
                  "竹苗空品區",
                  "2",
                  "Miaoli",
                  "",
                  "苗栗縣三義鄉西湖村上湖61-1號",
                  "120.75956754",
                  "24.38248443",
                  "一般站",
                  "中央政府",
                  "環境部"
                ],
                [
                  "3",
                  "4",
                  "土城",
                  "52",
                  "土城",
                  "北部空品區",
                  "1",
                  "Newtaipei",
                  "細懸浮微粒",
                  "新北市土城區學府路一段241號",
                  "121.451861",
                  "24.982528",
                  "一般站",
                  "中央政府",
                  "環境部"
                ],
                [
                  "4",
                  "5",
                  "士林",
                  "33",
                  "士林",
                  "北部空品區",
                  "1",
                  "Taipei",
                  "",
                  "臺北市北投區文林北路77號",
                  "121.51666356",
                  "25.10334003",
                  "一般站",
                  "中央政府",
                  "環境部"
                ]
              ],
              "shape": {
                "columns": 14,
                "rows": 5
              }
            },
            "text/html": [
              "<div>\n",
              "<style scoped>\n",
              "    .dataframe tbody tr th:only-of-type {\n",
              "        vertical-align: middle;\n",
              "    }\n",
              "\n",
              "    .dataframe tbody tr th {\n",
              "        vertical-align: top;\n",
              "    }\n",
              "\n",
              "    .dataframe thead th {\n",
              "        text-align: right;\n",
              "    }\n",
              "</style>\n",
              "<table border=\"1\" class=\"dataframe\">\n",
              "  <thead>\n",
              "    <tr style=\"text-align: right;\">\n",
              "      <th></th>\n",
              "      <th>SiteID</th>\n",
              "      <th>SiteName</th>\n",
              "      <th>AQI</th>\n",
              "      <th>ViewName</th>\n",
              "      <th>AreaName</th>\n",
              "      <th>AreaID</th>\n",
              "      <th>COUNTY_Eng</th>\n",
              "      <th>POLLUTANT</th>\n",
              "      <th>SiteAddres</th>\n",
              "      <th>TWD97_Lon</th>\n",
              "      <th>TWD97_Lat</th>\n",
              "      <th>SiteType</th>\n",
              "      <th>SiteType2</th>\n",
              "      <th>siteowner</th>\n",
              "    </tr>\n",
              "  </thead>\n",
              "  <tbody>\n",
              "    <tr>\n",
              "      <th>0</th>\n",
              "      <td>1</td>\n",
              "      <td>二林</td>\n",
              "      <td>48</td>\n",
              "      <td>二林</td>\n",
              "      <td>中部空品區</td>\n",
              "      <td>3</td>\n",
              "      <td>Changhua</td>\n",
              "      <td></td>\n",
              "      <td>彰化縣二林鎮萬合里江山巷1號</td>\n",
              "      <td>120.409653</td>\n",
              "      <td>23.925175</td>\n",
              "      <td>一般站</td>\n",
              "      <td>中央政府</td>\n",
              "      <td>環境部</td>\n",
              "    </tr>\n",
              "    <tr>\n",
              "      <th>1</th>\n",
              "      <td>2</td>\n",
              "      <td>三重</td>\n",
              "      <td>57</td>\n",
              "      <td>三重</td>\n",
              "      <td>北部空品區</td>\n",
              "      <td>1</td>\n",
              "      <td>Newtaipei</td>\n",
              "      <td>二氧化氮</td>\n",
              "      <td>新北市三重區三和路重陽路交口</td>\n",
              "      <td>121.493806</td>\n",
              "      <td>25.072611</td>\n",
              "      <td>交通站</td>\n",
              "      <td>中央政府</td>\n",
              "      <td>環境部</td>\n",
              "    </tr>\n",
              "    <tr>\n",
              "      <th>2</th>\n",
              "      <td>3</td>\n",
              "      <td>三義</td>\n",
              "      <td>27</td>\n",
              "      <td>三義</td>\n",
              "      <td>竹苗空品區</td>\n",
              "      <td>2</td>\n",
              "      <td>Miaoli</td>\n",
              "      <td></td>\n",
              "      <td>苗栗縣三義鄉西湖村上湖61-1號</td>\n",
              "      <td>120.759568</td>\n",
              "      <td>24.382484</td>\n",
              "      <td>一般站</td>\n",
              "      <td>中央政府</td>\n",
              "      <td>環境部</td>\n",
              "    </tr>\n",
              "    <tr>\n",
              "      <th>3</th>\n",
              "      <td>4</td>\n",
              "      <td>土城</td>\n",
              "      <td>52</td>\n",
              "      <td>土城</td>\n",
              "      <td>北部空品區</td>\n",
              "      <td>1</td>\n",
              "      <td>Newtaipei</td>\n",
              "      <td>細懸浮微粒</td>\n",
              "      <td>新北市土城區學府路一段241號</td>\n",
              "      <td>121.451861</td>\n",
              "      <td>24.982528</td>\n",
              "      <td>一般站</td>\n",
              "      <td>中央政府</td>\n",
              "      <td>環境部</td>\n",
              "    </tr>\n",
              "    <tr>\n",
              "      <th>4</th>\n",
              "      <td>5</td>\n",
              "      <td>士林</td>\n",
              "      <td>33</td>\n",
              "      <td>士林</td>\n",
              "      <td>北部空品區</td>\n",
              "      <td>1</td>\n",
              "      <td>Taipei</td>\n",
              "      <td></td>\n",
              "      <td>臺北市北投區文林北路77號</td>\n",
              "      <td>121.516664</td>\n",
              "      <td>25.103340</td>\n",
              "      <td>一般站</td>\n",
              "      <td>中央政府</td>\n",
              "      <td>環境部</td>\n",
              "    </tr>\n",
              "  </tbody>\n",
              "</table>\n",
              "</div>"
            ],
            "text/plain": [
              "  SiteID SiteName AQI ViewName AreaName AreaID COUNTY_Eng POLLUTANT  \\\n",
              "0      1       二林  48       二林    中部空品區      3   Changhua             \n",
              "1      2       三重  57       三重    北部空品區      1  Newtaipei      二氧化氮   \n",
              "2      3       三義  27       三義    竹苗空品區      2     Miaoli             \n",
              "3      4       土城  52       土城    北部空品區      1  Newtaipei     細懸浮微粒   \n",
              "4      5       士林  33       士林    北部空品區      1     Taipei             \n",
              "\n",
              "         SiteAddres   TWD97_Lon  TWD97_Lat SiteType SiteType2 siteowner  \n",
              "0    彰化縣二林鎮萬合里江山巷1號  120.409653  23.925175      一般站      中央政府       環境部  \n",
              "1    新北市三重區三和路重陽路交口  121.493806  25.072611      交通站      中央政府       環境部  \n",
              "2  苗栗縣三義鄉西湖村上湖61-1號  120.759568  24.382484      一般站      中央政府       環境部  \n",
              "3   新北市土城區學府路一段241號  121.451861  24.982528      一般站      中央政府       環境部  \n",
              "4     臺北市北投區文林北路77號  121.516664  25.103340      一般站      中央政府       環境部  "
            ]
          },
          "execution_count": 5,
          "metadata": {},
          "output_type": "execute_result"
        }
      ],
      "source": [
        "import requests\n",
        "import pandas as pd\n",
        "url = \"https://airtw.moenv.gov.tw/gis_ajax.aspx?Type=GetAQInfo&Layer=EPA&QueryTime=2025/09/12%2011:00\"\n",
        "aqdata = requests.get(url).json()\n",
        "\n",
        "pd.DataFrame(aqdata).head()"
      ]
    },
    {
      "cell_type": "markdown",
      "metadata": {
        "id": "B3aHpnrFT7tc"
      },
      "source": [
        "### Youbike data to pandas dataframe\n",
        "\n",
        "新的Youbike的原始資料為list-of-dict的型態，相當容易可以被轉換成pandas的dataframe。"
      ]
    },
    {
      "cell_type": "code",
      "execution_count": null,
      "metadata": {
        "id": "E7YSDx_TT7tc",
        "outputId": "208cc5a1-bdc3-4b74-dbc2-731b8272a8a7"
      },
      "outputs": [
        {
          "name": "stdout",
          "output_type": "stream",
          "text": [
            "Type of ubike data: <class 'list'>\n"
          ]
        },
        {
          "data": {
            "application/vnd.microsoft.datawrangler.viewer.v0+json": {
              "columns": [
                {
                  "name": "index",
                  "rawType": "int64",
                  "type": "integer"
                },
                {
                  "name": "sno",
                  "rawType": "object",
                  "type": "string"
                },
                {
                  "name": "sna",
                  "rawType": "object",
                  "type": "string"
                },
                {
                  "name": "sarea",
                  "rawType": "object",
                  "type": "string"
                },
                {
                  "name": "mday",
                  "rawType": "object",
                  "type": "string"
                },
                {
                  "name": "ar",
                  "rawType": "object",
                  "type": "string"
                },
                {
                  "name": "sareaen",
                  "rawType": "object",
                  "type": "string"
                },
                {
                  "name": "snaen",
                  "rawType": "object",
                  "type": "string"
                },
                {
                  "name": "aren",
                  "rawType": "object",
                  "type": "string"
                },
                {
                  "name": "act",
                  "rawType": "object",
                  "type": "string"
                },
                {
                  "name": "srcUpdateTime",
                  "rawType": "object",
                  "type": "string"
                },
                {
                  "name": "updateTime",
                  "rawType": "object",
                  "type": "string"
                },
                {
                  "name": "infoTime",
                  "rawType": "object",
                  "type": "string"
                },
                {
                  "name": "infoDate",
                  "rawType": "object",
                  "type": "string"
                },
                {
                  "name": "Quantity",
                  "rawType": "int64",
                  "type": "integer"
                },
                {
                  "name": "available_rent_bikes",
                  "rawType": "int64",
                  "type": "integer"
                },
                {
                  "name": "latitude",
                  "rawType": "float64",
                  "type": "float"
                },
                {
                  "name": "longitude",
                  "rawType": "float64",
                  "type": "float"
                },
                {
                  "name": "available_return_bikes",
                  "rawType": "int64",
                  "type": "integer"
                }
              ],
              "ref": "23568bd6-ecf4-468b-9100-59fe428a0c17",
              "rows": [
                [
                  "0",
                  "500101001",
                  "YouBike2.0_捷運科技大樓站",
                  "大安區",
                  "2025-09-20 22:52:15",
                  "復興南路二段235號前",
                  "Daan Dist.",
                  "YouBike2.0_MRT Technology Bldg. Sta.",
                  "No.235， Sec. 2， Fuxing S. Rd.",
                  "1",
                  "2025-09-20 22:52:29",
                  "2025-09-20 22:52:52",
                  "2025-09-20 22:52:15",
                  "2025-09-20",
                  "28",
                  "0",
                  "25.02605",
                  "121.5436",
                  "28"
                ],
                [
                  "1",
                  "500101002",
                  "YouBike2.0_復興南路二段273號前",
                  "大安區",
                  "2025-09-20 22:42:02",
                  "復興南路二段273號西側",
                  "Daan Dist.",
                  "YouBike2.0_No.273， Sec. 2， Fuxing S. Rd.",
                  "No.273， Sec. 2， Fuxing S. Rd. (West)",
                  "1",
                  "2025-09-20 22:52:29",
                  "2025-09-20 22:52:52",
                  "2025-09-20 22:42:02",
                  "2025-09-20",
                  "21",
                  "5",
                  "25.02565",
                  "121.54357",
                  "15"
                ],
                [
                  "2",
                  "500101003",
                  "YouBike2.0_國北教大實小東側門",
                  "大安區",
                  "2025-09-20 22:30:03",
                  "和平東路二段96巷7號",
                  "Daan Dist.",
                  "YouBike2.0_NTUE Experiment Elementary School (East)",
                  "No. 7， Ln. 96， Sec. 2， Heping E. Rd",
                  "1",
                  "2025-09-20 22:52:29",
                  "2025-09-20 22:52:52",
                  "2025-09-20 22:30:03",
                  "2025-09-20",
                  "28",
                  "17",
                  "25.02429",
                  "121.54124",
                  "11"
                ],
                [
                  "3",
                  "500101004",
                  "YouBike2.0_和平公園東側",
                  "大安區",
                  "2025-09-20 22:10:02",
                  "和平東路二段118巷33號",
                  "Daan Dist.",
                  "YouBike2.0_Heping Park (East)",
                  "No. 33， Ln. 118， Sec. 2， Heping E. Rd",
                  "1",
                  "2025-09-20 22:52:29",
                  "2025-09-20 22:52:52",
                  "2025-09-20 22:10:02",
                  "2025-09-20",
                  "11",
                  "6",
                  "25.02351",
                  "121.54282",
                  "5"
                ],
                [
                  "4",
                  "500101005",
                  "YouBike2.0_辛亥復興路口西北側",
                  "大安區",
                  "2025-09-20 22:42:02",
                  "復興南路二段368號",
                  "Daan Dist.",
                  "YouBike2.0_Xinhai Fuxing Rd. Intersection (Northwest)",
                  "No. 368， Sec. 2， Fuxing S. Rd.",
                  "1",
                  "2025-09-20 22:52:29",
                  "2025-09-20 22:52:52",
                  "2025-09-20 22:42:02",
                  "2025-09-20",
                  "16",
                  "15",
                  "25.02153",
                  "121.54299",
                  "1"
                ]
              ],
              "shape": {
                "columns": 18,
                "rows": 5
              }
            },
            "text/html": [
              "<div>\n",
              "<style scoped>\n",
              "    .dataframe tbody tr th:only-of-type {\n",
              "        vertical-align: middle;\n",
              "    }\n",
              "\n",
              "    .dataframe tbody tr th {\n",
              "        vertical-align: top;\n",
              "    }\n",
              "\n",
              "    .dataframe thead th {\n",
              "        text-align: right;\n",
              "    }\n",
              "</style>\n",
              "<table border=\"1\" class=\"dataframe\">\n",
              "  <thead>\n",
              "    <tr style=\"text-align: right;\">\n",
              "      <th></th>\n",
              "      <th>sno</th>\n",
              "      <th>sna</th>\n",
              "      <th>sarea</th>\n",
              "      <th>mday</th>\n",
              "      <th>ar</th>\n",
              "      <th>sareaen</th>\n",
              "      <th>snaen</th>\n",
              "      <th>aren</th>\n",
              "      <th>act</th>\n",
              "      <th>srcUpdateTime</th>\n",
              "      <th>updateTime</th>\n",
              "      <th>infoTime</th>\n",
              "      <th>infoDate</th>\n",
              "      <th>Quantity</th>\n",
              "      <th>available_rent_bikes</th>\n",
              "      <th>latitude</th>\n",
              "      <th>longitude</th>\n",
              "      <th>available_return_bikes</th>\n",
              "    </tr>\n",
              "  </thead>\n",
              "  <tbody>\n",
              "    <tr>\n",
              "      <th>0</th>\n",
              "      <td>500101001</td>\n",
              "      <td>YouBike2.0_捷運科技大樓站</td>\n",
              "      <td>大安區</td>\n",
              "      <td>2025-09-20 22:52:15</td>\n",
              "      <td>復興南路二段235號前</td>\n",
              "      <td>Daan Dist.</td>\n",
              "      <td>YouBike2.0_MRT Technology Bldg. Sta.</td>\n",
              "      <td>No.235， Sec. 2， Fuxing S. Rd.</td>\n",
              "      <td>1</td>\n",
              "      <td>2025-09-20 22:52:29</td>\n",
              "      <td>2025-09-20 22:52:52</td>\n",
              "      <td>2025-09-20 22:52:15</td>\n",
              "      <td>2025-09-20</td>\n",
              "      <td>28</td>\n",
              "      <td>0</td>\n",
              "      <td>25.02605</td>\n",
              "      <td>121.54360</td>\n",
              "      <td>28</td>\n",
              "    </tr>\n",
              "    <tr>\n",
              "      <th>1</th>\n",
              "      <td>500101002</td>\n",
              "      <td>YouBike2.0_復興南路二段273號前</td>\n",
              "      <td>大安區</td>\n",
              "      <td>2025-09-20 22:42:02</td>\n",
              "      <td>復興南路二段273號西側</td>\n",
              "      <td>Daan Dist.</td>\n",
              "      <td>YouBike2.0_No.273， Sec. 2， Fuxing S. Rd.</td>\n",
              "      <td>No.273， Sec. 2， Fuxing S. Rd. (West)</td>\n",
              "      <td>1</td>\n",
              "      <td>2025-09-20 22:52:29</td>\n",
              "      <td>2025-09-20 22:52:52</td>\n",
              "      <td>2025-09-20 22:42:02</td>\n",
              "      <td>2025-09-20</td>\n",
              "      <td>21</td>\n",
              "      <td>5</td>\n",
              "      <td>25.02565</td>\n",
              "      <td>121.54357</td>\n",
              "      <td>15</td>\n",
              "    </tr>\n",
              "    <tr>\n",
              "      <th>2</th>\n",
              "      <td>500101003</td>\n",
              "      <td>YouBike2.0_國北教大實小東側門</td>\n",
              "      <td>大安區</td>\n",
              "      <td>2025-09-20 22:30:03</td>\n",
              "      <td>和平東路二段96巷7號</td>\n",
              "      <td>Daan Dist.</td>\n",
              "      <td>YouBike2.0_NTUE Experiment Elementary School (...</td>\n",
              "      <td>No. 7， Ln. 96， Sec. 2， Heping E. Rd</td>\n",
              "      <td>1</td>\n",
              "      <td>2025-09-20 22:52:29</td>\n",
              "      <td>2025-09-20 22:52:52</td>\n",
              "      <td>2025-09-20 22:30:03</td>\n",
              "      <td>2025-09-20</td>\n",
              "      <td>28</td>\n",
              "      <td>17</td>\n",
              "      <td>25.02429</td>\n",
              "      <td>121.54124</td>\n",
              "      <td>11</td>\n",
              "    </tr>\n",
              "    <tr>\n",
              "      <th>3</th>\n",
              "      <td>500101004</td>\n",
              "      <td>YouBike2.0_和平公園東側</td>\n",
              "      <td>大安區</td>\n",
              "      <td>2025-09-20 22:10:02</td>\n",
              "      <td>和平東路二段118巷33號</td>\n",
              "      <td>Daan Dist.</td>\n",
              "      <td>YouBike2.0_Heping Park (East)</td>\n",
              "      <td>No. 33， Ln. 118， Sec. 2， Heping E. Rd</td>\n",
              "      <td>1</td>\n",
              "      <td>2025-09-20 22:52:29</td>\n",
              "      <td>2025-09-20 22:52:52</td>\n",
              "      <td>2025-09-20 22:10:02</td>\n",
              "      <td>2025-09-20</td>\n",
              "      <td>11</td>\n",
              "      <td>6</td>\n",
              "      <td>25.02351</td>\n",
              "      <td>121.54282</td>\n",
              "      <td>5</td>\n",
              "    </tr>\n",
              "    <tr>\n",
              "      <th>4</th>\n",
              "      <td>500101005</td>\n",
              "      <td>YouBike2.0_辛亥復興路口西北側</td>\n",
              "      <td>大安區</td>\n",
              "      <td>2025-09-20 22:42:02</td>\n",
              "      <td>復興南路二段368號</td>\n",
              "      <td>Daan Dist.</td>\n",
              "      <td>YouBike2.0_Xinhai Fuxing Rd. Intersection (Nor...</td>\n",
              "      <td>No. 368， Sec. 2， Fuxing S. Rd.</td>\n",
              "      <td>1</td>\n",
              "      <td>2025-09-20 22:52:29</td>\n",
              "      <td>2025-09-20 22:52:52</td>\n",
              "      <td>2025-09-20 22:42:02</td>\n",
              "      <td>2025-09-20</td>\n",
              "      <td>16</td>\n",
              "      <td>15</td>\n",
              "      <td>25.02153</td>\n",
              "      <td>121.54299</td>\n",
              "      <td>1</td>\n",
              "    </tr>\n",
              "  </tbody>\n",
              "</table>\n",
              "</div>"
            ],
            "text/plain": [
              "         sno                     sna sarea                 mday  \\\n",
              "0  500101001      YouBike2.0_捷運科技大樓站   大安區  2025-09-20 22:52:15   \n",
              "1  500101002  YouBike2.0_復興南路二段273號前   大安區  2025-09-20 22:42:02   \n",
              "2  500101003    YouBike2.0_國北教大實小東側門   大安區  2025-09-20 22:30:03   \n",
              "3  500101004       YouBike2.0_和平公園東側   大安區  2025-09-20 22:10:02   \n",
              "4  500101005    YouBike2.0_辛亥復興路口西北側   大安區  2025-09-20 22:42:02   \n",
              "\n",
              "              ar     sareaen  \\\n",
              "0    復興南路二段235號前  Daan Dist.   \n",
              "1   復興南路二段273號西側  Daan Dist.   \n",
              "2    和平東路二段96巷7號  Daan Dist.   \n",
              "3  和平東路二段118巷33號  Daan Dist.   \n",
              "4     復興南路二段368號  Daan Dist.   \n",
              "\n",
              "                                               snaen  \\\n",
              "0               YouBike2.0_MRT Technology Bldg. Sta.   \n",
              "1           YouBike2.0_No.273， Sec. 2， Fuxing S. Rd.   \n",
              "2  YouBike2.0_NTUE Experiment Elementary School (...   \n",
              "3                      YouBike2.0_Heping Park (East)   \n",
              "4  YouBike2.0_Xinhai Fuxing Rd. Intersection (Nor...   \n",
              "\n",
              "                                    aren act        srcUpdateTime  \\\n",
              "0          No.235， Sec. 2， Fuxing S. Rd.   1  2025-09-20 22:52:29   \n",
              "1   No.273， Sec. 2， Fuxing S. Rd. (West)   1  2025-09-20 22:52:29   \n",
              "2    No. 7， Ln. 96， Sec. 2， Heping E. Rd   1  2025-09-20 22:52:29   \n",
              "3  No. 33， Ln. 118， Sec. 2， Heping E. Rd   1  2025-09-20 22:52:29   \n",
              "4         No. 368， Sec. 2， Fuxing S. Rd.   1  2025-09-20 22:52:29   \n",
              "\n",
              "            updateTime             infoTime    infoDate  Quantity  \\\n",
              "0  2025-09-20 22:52:52  2025-09-20 22:52:15  2025-09-20        28   \n",
              "1  2025-09-20 22:52:52  2025-09-20 22:42:02  2025-09-20        21   \n",
              "2  2025-09-20 22:52:52  2025-09-20 22:30:03  2025-09-20        28   \n",
              "3  2025-09-20 22:52:52  2025-09-20 22:10:02  2025-09-20        11   \n",
              "4  2025-09-20 22:52:52  2025-09-20 22:42:02  2025-09-20        16   \n",
              "\n",
              "   available_rent_bikes  latitude  longitude  available_return_bikes  \n",
              "0                     0  25.02605  121.54360                      28  \n",
              "1                     5  25.02565  121.54357                      15  \n",
              "2                    17  25.02429  121.54124                      11  \n",
              "3                     6  25.02351  121.54282                       5  \n",
              "4                    15  25.02153  121.54299                       1  "
            ]
          },
          "execution_count": 21,
          "metadata": {},
          "output_type": "execute_result"
        }
      ],
      "source": [
        "import requests\n",
        "import json\n",
        "response = requests.get('https://tcgbusfs.blob.core.windows.net/dotapp/youbike/v2/youbike_immediate.json')\n",
        "data = response.json()\n",
        "print(\"Type of ubike data:\", type(data))\n",
        "pd.DataFrame(data).head()"
      ]
    },
    {
      "cell_type": "code",
      "source": [
        "import requests\n",
        "import json\n",
        "response = requests.get('https://tcgbusfs.blob.core.windows.net/dotapp/youbike/v2/youbike_immediate.json')\n",
        "data = response.json()\n",
        "print(\"Type of ubike data:\", type(data))\n",
        "\n",
        "print(data[0].keys())\n",
        "\n",
        "for site in data:\n",
        "  fullness = site[\"available_rent_bikes\"]/site[\"Quantity\"]\n",
        "if fullness > 0.8:\n",
        "    print(site[\"sna\"], fullness)"
      ],
      "metadata": {
        "id": "dA-UDILPUU-c",
        "outputId": "d8cccae3-d1e2-4b99-8c1b-321adba5e1d5",
        "colab": {
          "base_uri": "https://localhost:8080/"
        }
      },
      "execution_count": 1,
      "outputs": [
        {
          "output_type": "stream",
          "name": "stdout",
          "text": [
            "Type of ubike data: <class 'list'>\n",
            "dict_keys(['sno', 'sna', 'sarea', 'mday', 'ar', 'sareaen', 'snaen', 'aren', 'act', 'srcUpdateTime', 'updateTime', 'infoTime', 'infoDate', 'Quantity', 'available_rent_bikes', 'latitude', 'longitude', 'available_return_bikes'])\n"
          ]
        }
      ]
    },
    {
      "cell_type": "code",
      "source": [
        "import requests\n",
        "import json\n",
        "response = requests.get('https://tcgbusfs.blob.core.windows.net/dotapp/youbike/v2/youbike_immediate.json')\n",
        "data = response.json()\n",
        "print(\"Type of ubike data:\", type(data))\n",
        "\n",
        "print(data[0].keys())\n",
        "\n",
        "for site in data:\n",
        "  fullness = site[\"available_rent_bikes\"]/site[\"Quantity\"]\n",
        "  if fullness > 0.8:\n",
        "    site[\"fullness\"] = \"full\"\n",
        "  elif fullness < 0.2:\n",
        "    site[\"fullness\"] = \"empty\"\n",
        "  else:\n",
        "    site[\"fullness\"] = \"normal\""
      ],
      "metadata": {
        "id": "Jhx6uGZXVUm7",
        "outputId": "265b97dd-7b47-41c9-afb2-88e2cec97e16",
        "colab": {
          "base_uri": "https://localhost:8080/"
        }
      },
      "execution_count": 2,
      "outputs": [
        {
          "output_type": "stream",
          "name": "stdout",
          "text": [
            "Type of ubike data: <class 'list'>\n",
            "dict_keys(['sno', 'sna', 'sarea', 'mday', 'ar', 'sareaen', 'snaen', 'aren', 'act', 'srcUpdateTime', 'updateTime', 'infoTime', 'infoDate', 'Quantity', 'available_rent_bikes', 'latitude', 'longitude', 'available_return_bikes'])\n"
          ]
        }
      ]
    }
  ],
  "metadata": {
    "anaconda-cloud": {},
    "colab": {
      "collapsed_sections": [
        "YIULaGwuOHa-"
      ],
      "name": "P04_for_if_else_blank.ipynb",
      "provenance": [],
      "toc_visible": true
    },
    "kernelspec": {
      "display_name": "new_tm_py310",
      "language": "python",
      "name": "python3"
    },
    "language_info": {
      "codemirror_mode": {
        "name": "ipython",
        "version": 3
      },
      "file_extension": ".py",
      "mimetype": "text/x-python",
      "name": "python",
      "nbconvert_exporter": "python",
      "pygments_lexer": "ipython3",
      "version": "3.10.18"
    },
    "metadata": {
      "interpreter": {
        "hash": "31f2aee4e71d21fbe5cf8b01ff0e069b9275f58929596ceb00d14d90e3e16cd6"
      }
    },
    "toc": {
      "base_numbering": 1,
      "nav_menu": {
        "height": "413px",
        "width": "160px"
      },
      "number_sections": true,
      "sideBar": true,
      "skip_h1_title": false,
      "title_cell": "Table of Contents",
      "title_sidebar": "Contents",
      "toc_cell": false,
      "toc_position": {
        "height": "calc(100% - 180px)",
        "left": "10px",
        "top": "150px",
        "width": "295px"
      },
      "toc_section_display": true,
      "toc_window_display": true
    },
    "varInspector": {
      "cols": {
        "lenName": 16,
        "lenType": 16,
        "lenVar": 40
      },
      "kernels_config": {
        "python": {
          "delete_cmd_postfix": "",
          "delete_cmd_prefix": "del ",
          "library": "var_list.py",
          "varRefreshCmd": "print(var_dic_list())"
        },
        "r": {
          "delete_cmd_postfix": ") ",
          "delete_cmd_prefix": "rm(",
          "library": "var_list.r",
          "varRefreshCmd": "cat(var_dic_list()) "
        }
      },
      "types_to_exclude": [
        "module",
        "function",
        "builtin_function_or_method",
        "instance",
        "_Feature"
      ],
      "window_display": false
    }
  },
  "nbformat": 4,
  "nbformat_minor": 0
}