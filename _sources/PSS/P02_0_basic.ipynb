{
  "cells": [
    {
      "cell_type": "markdown",
      "metadata": {
        "id": "view-in-github",
        "colab_type": "text"
      },
      "source": [
        "<a href=\"https://colab.research.google.com/github/winniehsu0412/Programming-for-Social-Science/blob/main/_sources/PSS/P02_0_basic.ipynb\" target=\"_parent\"><img src=\"https://colab.research.google.com/assets/colab-badge.svg\" alt=\"Open In Colab\"/></a>"
      ]
    },
    {
      "cell_type": "markdown",
      "metadata": {
        "id": "hzg-pAHOWMd5"
      },
      "source": [
        "# P02-Python Basic\n",
        "\n",
        "* [Slide: Py02 Basic](https://docs.google.com/presentation/d/e/2PACX-1vSlofAj4mFI_gXntfgMTelq-9qKHj1XE6-36DI87vGoKdyW9vaF-jeJzZqGIT7d-kknaQQc4M4DfROx/pub?start=false&loop=false&delayms=3000)"
      ]
    },
    {
      "cell_type": "markdown",
      "metadata": {
        "id": "rSa4e2fkV4wE"
      },
      "source": [
        "<div style=\"border:2px solid gray; padding:5px; background-color:#F8F8F8\">\n",
        "\n",
        "**Objectives:**\n",
        "- **Print and print format**: 介紹如何使用 `print()` 函數，包括格式化輸出。\n",
        "  - **Print multiple objects**: 使用逗號在 `print()` 中輸出多個變數或物件。\n",
        "  - **Print with variables**: 顯示變數值。\n",
        "- **Variables and variable types**: 變數的定義和類型。\n",
        "  - **Naming of variable**: 變數命名規則。\n",
        "  - **Type conversion**: 數據類型轉換。\n",
        "- **Arithmetic operations**: 四則運算和其他數學運算。\n",
        "  - **Example: Converting temperature format**: 溫度轉換示例。\n",
        "\n",
        "**詳細內容**\n",
        "- **Comments**: 註解的使用。\n",
        "- **String**: 字串的定義和操作。\n",
        "- **Type by Assignments**: 動態類型和賦值。\n",
        "- **Using type() to check data type**: 使用 `type()` 檢查數據類型。\n",
        "- **Converting data type**: 數據類型轉換方法。\n",
        "- **Arithmetic operations +, -, *, **, /, %**: 進一步的數學運算。\n",
        "\n",
        "</div>"
      ]
    },
    {
      "cell_type": "markdown",
      "metadata": {
        "id": "TfL6xn2sV4wJ"
      },
      "source": [
        "## print\n",
        "\n",
        "語法是`print()`。\n",
        "1. 可用於印出字串、數字、以及變數的內容。\n",
        "2. 若是一個變數的話，會印出變數的內容；\n",
        "3. 若是一個「運算式」的話，會印出運算式的結果。\n",
        "\n",
        "### 印出字串\n",
        "\n",
        "1. 以下兩者是相同的，但不可以交錯使用，例如`print('hello world\")`會產生Error。\n",
        "2. 如果要印出雙引號，外部需要加上單引號；反之亦然。"
      ]
    },
    {
      "cell_type": "code",
      "execution_count": null,
      "metadata": {
        "ExecuteTime": {
          "end_time": "2020-03-16T16:36:55.580891Z",
          "start_time": "2020-03-16T16:36:55.574389Z"
        },
        "id": "hbaBwSDSV4wK",
        "outputId": "9cfa6453-ce46-4f96-b7e2-25939ab90f01"
      },
      "outputs": [
        {
          "name": "stdout",
          "output_type": "stream",
          "text": [
            "hello world\n",
            "hello world\n",
            "'hello world'\n",
            "\"hello world\"\n"
          ]
        }
      ],
      "source": [
        "print(\"hello world\")\n",
        "print('hello world')\n",
        "print(\"'hello world'\")\n",
        "print('\"hello world\"')"
      ]
    },
    {
      "cell_type": "markdown",
      "metadata": {
        "id": "gp2BZYklTx2h"
      },
      "source": [
        "### 列印計算式\n",
        "\n",
        "可以直接列印運算的結果，甚至像是`\"-\"`這種文字型態資料的也可以運算，`\"-\"*20`的意思是該符號重複20次。"
      ]
    },
    {
      "cell_type": "code",
      "execution_count": null,
      "metadata": {
        "id": "e0CvY1WaTx2i",
        "outputId": "6ee4138a-53a8-4992-9ff4-267acaaa5437"
      },
      "outputs": [
        {
          "name": "stdout",
          "output_type": "stream",
          "text": [
            "12\n",
            "--------------------\n",
            "13\n",
            "19311\n"
          ]
        }
      ],
      "source": [
        "print(1+2+4+5)\n",
        "print(\"-\"*20)\n",
        "print((3-1)*4+5)\n",
        "print(123*345-(188*123))"
      ]
    },
    {
      "cell_type": "markdown",
      "metadata": {
        "id": "DtSjUi5sV4wL"
      },
      "source": [
        "### Print multiple terms\n",
        "「`,`」在`print()`中可列印數個變數或值。可以把它想像成「接下去印」的意思。"
      ]
    },
    {
      "cell_type": "code",
      "execution_count": null,
      "metadata": {
        "ExecuteTime": {
          "end_time": "2020-03-17T02:41:59.841939Z",
          "start_time": "2020-03-17T02:41:59.838671Z"
        },
        "id": "R6yfVvg1V4wL",
        "outputId": "f9c490dc-693a-43b3-a79a-ba04d7cf140a"
      },
      "outputs": [
        {
          "name": "stdout",
          "output_type": "stream",
          "text": [
            "1 2 2\n",
            "33 4 6\n"
          ]
        }
      ],
      "source": [
        "a, b, c = 1, 2, 3\n",
        "print(a, b, b)\n",
        "print(\"33\", 4, c*2)"
      ]
    },
    {
      "cell_type": "markdown",
      "metadata": {
        "id": "LfRe0WwPV4wM"
      },
      "source": [
        "### Print tab and newline\n",
        "\n",
        "在程式語言中，`\\t`代表一個tab，`\\n`代表使用者敲Enter下去時所產生的換行符號（Newline）。這些也可以用`print()`列印出來。通常要列印`\\t`或`\\n`是為了使得印出更容易閱讀。\n"
      ]
    },
    {
      "cell_type": "code",
      "execution_count": null,
      "metadata": {
        "ExecuteTime": {
          "end_time": "2020-03-17T02:43:26.296920Z",
          "start_time": "2020-03-17T02:43:26.294023Z"
        },
        "id": "tfJoTVEwV4wM",
        "outputId": "2409de0e-0258-44ae-95f3-590db1b9eebf"
      },
      "outputs": [
        {
          "name": "stdout",
          "output_type": "stream",
          "text": [
            "a+b =  \t 7\n",
            "a*b =  \t 10\n",
            "a/b =  \t 2.5\n",
            "a%b =  \t 1\n",
            "a**b =  \t 25\n"
          ]
        }
      ],
      "source": [
        "a, b, c = 5, 2, 3\n",
        "print(\"a+b = \", \"\\t\", a+b)\n",
        "print(\"a*b = \", \"\\t\", a*b)\n",
        "print(\"a/b = \", \"\\t\", a/b)\n",
        "print(\"a%b = \", \"\\t\", a%b)\n",
        "print(\"a**b = \", \"\\t\", a**b)\n"
      ]
    },
    {
      "cell_type": "markdown",
      "metadata": {
        "id": "c6hvzDIyTx2k"
      },
      "source": [
        "## Comments\n",
        "\n",
        "註解（Comments）是用來讓別人或自己後續還可以看得懂自己的程式碼的。優秀的程式設計師會把註解寫得很清楚，以利團隊合作。只要是`#`開頭的程式碼便是註解，都不會被程式所執行。"
      ]
    },
    {
      "cell_type": "code",
      "execution_count": null,
      "metadata": {
        "id": "WN-NtZWfTx2k",
        "outputId": "b5e3aa92-25b5-43a9-9471-3dcab14df079"
      },
      "outputs": [
        {
          "name": "stdout",
          "output_type": "stream",
          "text": [
            "This is not a comment\n"
          ]
        }
      ],
      "source": [
        "# print(\"123\")\n",
        "print(\"This is not a comment\")"
      ]
    },
    {
      "cell_type": "markdown",
      "metadata": {
        "id": "8lyOmqh0V4wM"
      },
      "source": [
        "## Variable\n",
        "\n",
        "### Assignment  =\n",
        "\n",
        "**自右而左的Assignment：**在幾乎所有的程式語言中，`=`的記號均為assignment，意是把右方演算的結果，Assign（指）給左方的變數。`=`符號左方幾乎都是變數。且右方的資料如果是整數，Assign給左方時，左方就是個整數；如果右方資料是文字字串，Assign給左方變數，左方變數便是文字字串。\n",
        "\n",
        "**那「等於」的符號是什麼？**如果想要在程式語言中表達「相等」，通常是連續兩個等號`==`，例如`1/2 == 4/2`，為邏輯運算式，邏輯運算的結果會得到`true`或`false`。\n",
        "\n",
        "在Python中最特別的是，Assignment的使用可以多對多，例如`a, b = 1, 2`"
      ]
    },
    {
      "cell_type": "markdown",
      "metadata": {
        "id": "W4gcALujTx2l"
      },
      "source": [
        "### Naming of variables\n",
        "\n",
        "* 不可用數字開始，例如`123b = 13a + 14b`。當然也不可以是中文。\n",
        "* 中間不得有空白，例如`my book = 13a + 14b` (why?)\n",
        "* 不可使用保留字（[reserved word](https://docs.python.org/2.5/ref/keywords.html)）(why?) 。因為這些保留字都是程式碼的基本語法，如果把它們拿來當變數，你的程式編輯器怎麼看得懂，這到底是一個指令，還是一個變數呢？基本保留字有這些。\n",
        "    ```\n",
        "    and       del       from      not       while    \n",
        "    as        elif      global    or        with     \n",
        "    assert    else      if        pass      yield    \n",
        "    break     except    import    print              \n",
        "    class     exec      in        raise              \n",
        "    continue  finally   is        return             \n",
        "    def       for       lambda    try\n",
        "    ```\n",
        "* 關於Python程式寫作的風格，可參考[PEP 0008](https://www.python.org/dev/peps/pep-0008/)，其中，[Naming conventions](https://www.python.org/dev/peps/pep-0008/#naming-conventions)一節有提到變數要如何命名。\n",
        "    * 若全部是大寫的，多半是常數，例如最大寬度、PI的值。\n",
        "    * 若是底線開頭的，應該是區域變數（Local variable，你還不用知道）"
      ]
    },
    {
      "cell_type": "markdown",
      "metadata": {
        "id": "jV6OR57aTx2l"
      },
      "source": [
        "以下這些都是合法的（參考自[W3School: Python Varialbe Names](https://www.w3schools.com/python/python_variables_names.asp)）"
      ]
    },
    {
      "cell_type": "code",
      "execution_count": null,
      "metadata": {
        "id": "ZhhdcKOtTx2l"
      },
      "outputs": [],
      "source": [
        "myvar = \"Hsieh\"\n",
        "my_var = \"Hsieh\"\n",
        "_my_var = \"Hsieh\"\n",
        "myVar = \"Hsieh\"\n",
        "MYVAR = \"Hsieh\"\n",
        "myvar2 = \"Hsieh\""
      ]
    },
    {
      "cell_type": "markdown",
      "metadata": {
        "id": "9tTsTrDiTx2l"
      },
      "source": [
        "以下這些都是不合法的變數名稱，(1) 不可以是數字開頭，(2)中間可以有`_`但不可以有`-`，(3)不可以有空白，不然程式不知道，這是兩個字還是一個字，(4)不可以有dot（但R是允許有dot的）"
      ]
    },
    {
      "cell_type": "code",
      "execution_count": null,
      "metadata": {
        "id": "Cyxybe1PV4wM",
        "outputId": "fb16c5d8-c5fb-4a6d-8217-c444fac2f6ce"
      },
      "outputs": [
        {
          "ename": "SyntaxError",
          "evalue": "invalid syntax (3828854825.py, line 1)",
          "output_type": "error",
          "traceback": [
            "\u001b[0;36m  Input \u001b[0;32mIn [19]\u001b[0;36m\u001b[0m\n\u001b[0;31m    2myvar = \"Hsieh\"\u001b[0m\n\u001b[0m     ^\u001b[0m\n\u001b[0;31mSyntaxError\u001b[0m\u001b[0;31m:\u001b[0m invalid syntax\n"
          ]
        }
      ],
      "source": [
        "2myvar = \"Hsieh\" # cannot start with number\n",
        "my-var = \"Hsieh\" # cannot have dash\n",
        "my var = \"Hsieh\" # cannot have space\n",
        "my.var = \"Hsieh\" # cannot have dot"
      ]
    },
    {
      "cell_type": "markdown",
      "metadata": {
        "id": "mR5UGXS6V4wN",
        "tags": []
      },
      "source": [
        "## Python 內建資料型態\n",
        "\n",
        "`list`, `dictionary`是python這個程式語言的內建資料型態。請參閱[5. Built-in Types](https://docs.python.org/2/library/stdtypes.html)。常見的資料型態共有以下幾種\n",
        "\n",
        "\n",
        "**基本型態**\n",
        "\n",
        "* **(1) 真／偽（Boolean）**\n",
        "  * 只有 `True` 和 `False` 兩個值。\n",
        "  * 常用於條件判斷和循環控制。\n",
        "  * 如果`a=3`，然後用等號測試變數`a`是否等於3時，`a==3`的結果即會傳回`True`。\n",
        "  \n",
        "* **(2) 數值型態（Numeric Types）**\n",
        "  * `int`: 整數，例如 `a = 5`\n",
        "  * `float`: 浮點數，例如 `b = 5.5`，粗略地來說是有小數點的數。\n",
        "  * `complex`: 複數，例如 `c = 3 + 4j`\n",
        "\n",
        "**文字型態**\n",
        "\n",
        "* **(3) 字串（String）**\n",
        "  * 包含Unicode字符的不可變序列。\n",
        "  * 支持多種操作，如連接、切片和格式化。\n",
        "  * 用成對的雙引號或單引號括起來的為文字。例如`\"test\"`和`'test'`其實是相同的，只是用單引號或雙引號而已，但不可以交錯使用。\n",
        "\n",
        "**容器型態**\n",
        "\n",
        "* **(4) 序列（Sequence Types）**\n",
        "  * `list`: 有順序且可變的容器，例如 `[1, 2, 3]`\n",
        "  * `tuple`: 有順序但不可變的容器，例如 `(1, 2, 3)`\n",
        "  * `str`: 字串也是一種序列型態，例如 `\"hello\"`\n",
        "\n",
        "* **(5) 集合（Set Types）**\n",
        "  * `set`: 無順序且不包含重複元素的容器，例如 `{1, 2, 3}`\n",
        "  * `frozenset`: 不可變的集合，例如 `frozenset([1, 2, 3])`\n",
        "\n",
        "* **(6) 對應（Mapping Types）**\n",
        "  * `dict`: 由鍵值對構成的無順序容器，例如 `{'key': 'value'}`\n",
        "  * 例如`bdict = {5:2, '5':6, 12:[13, 14], 13:{14:'15', '16':[17]}}`\n",
        "\n",
        "**其他**\n",
        "\n",
        "* **(7) 檔案對象（File Objects）**\n",
        "  * 用於讀寫文件。\n",
        "  * 可以是二進位或文字模式。"
      ]
    },
    {
      "cell_type": "code",
      "source": [
        "alist = [11, 22, 33, 44, 55]\n",
        "alist[3:]#List slicing"
      ],
      "metadata": {
        "id": "Rh-L6oSyZ0Xg",
        "outputId": "7ae96bab-601f-4a90-f11b-e675bba9afc4",
        "colab": {
          "base_uri": "https://localhost:8080/"
        }
      },
      "execution_count": 3,
      "outputs": [
        {
          "output_type": "execute_result",
          "data": {
            "text/plain": [
              "[44, 55]"
            ]
          },
          "metadata": {},
          "execution_count": 3
        }
      ]
    },
    {
      "cell_type": "code",
      "execution_count": null,
      "metadata": {
        "id": "HyiFhvC1Tx2m",
        "outputId": "c09d42ec-391d-4cbc-fc76-91db3ea75020"
      },
      "outputs": [
        {
          "name": "stdout",
          "output_type": "stream",
          "text": [
            "True False True True\n",
            "{5: 2, '5': 6, 12: [13, 14], 13: {14: '15', '16': [17]}}\n",
            "[13, 14]\n",
            "6\n",
            "2\n"
          ]
        }
      ],
      "source": [
        "\"\"\"\n",
        "在下例中的`bdict`，整數`5`和字串`'5'`分別對應到兩個不同的數值。\n",
        "可見是字串或文字是不可混淆的。\n",
        "除此之外，數字可以拿來相除，字串是不能拿來相除的。\n",
        "\"\"\"\n",
        "\n",
        "\n",
        "print(True, False, 4/2==2, 5/2==2.5)\n",
        "bdict = {5:2, '5':6, 12:[13, 14], 13:{14:'15', '16':[17]}}\n",
        "\n",
        "print(bdict)\n",
        "print(bdict[12])\n",
        "print(bdict['5'])\n",
        "print(bdict[5])"
      ]
    },
    {
      "cell_type": "code",
      "execution_count": null,
      "metadata": {
        "id": "rZXRp-Z3Tx2m",
        "outputId": "21eb2ce1-5033-4a01-c485-a1831bd8f41d"
      },
      "outputs": [
        {
          "name": "stdout",
          "output_type": "stream",
          "text": [
            "True\n",
            "False\n",
            "if '2'==2? False\n",
            "if 2==2.0? True\n"
          ]
        }
      ],
      "source": [
        "print(\"test\"=='test')\n",
        "print(\"5\"==5)\n",
        "a, b, c = '2', 2, 2.0\n",
        "print(\"if '2'==2?\", a==b)\n",
        "print(\"if 2==2.0?\", b==c)"
      ]
    },
    {
      "cell_type": "markdown",
      "metadata": {
        "id": "tqVtIqw1Tx2n"
      },
      "source": [
        "### String\n",
        "\n",
        "字串（String）是一種基本的資料型態，在Python中常用來儲存和操作文字資料。一個字串是由一系列的字符（characters）組成，這些字符可以是字母、數字、符號或其他Unicode字符。在Python中，字串可以用單引號（'）或雙引號（\"）來定義，例如 'hello' 或 \"world\"。文字字串（`str`）也是一種序列型態。所以，如果有一個文字`word = banana`的話，`word[0]`會是`b`，而`word[1]`會是`a`，依此類推。\n",
        "\n",
        "但字串是不可變（immutable）的，意味著一旦它被創建，內部的內容不能被更改。例如下方程式碼`my_string[3] = '1'`會產生`TypeError`。然而，你可以透過各種操作來創建新的字串，例如連接（concatenation）、切片（slicing）和格式化（formatting）。"
      ]
    },
    {
      "cell_type": "code",
      "execution_count": null,
      "metadata": {
        "id": "Bm3KRNdrTx2n",
        "outputId": "25374114-de59-437e-d065-69c30e689323"
      },
      "outputs": [
        {
          "name": "stdout",
          "output_type": "stream",
          "text": [
            "H\n",
            "!\n",
            "World\n"
          ]
        },
        {
          "ename": "TypeError",
          "evalue": "'str' object does not support item assignment",
          "output_type": "error",
          "traceback": [
            "\u001b[0;31m---------------------------------------------------------------------------\u001b[0m",
            "\u001b[0;31mTypeError\u001b[0m                                 Traceback (most recent call last)",
            "\u001b[1;32m/Users/jirlong/Library/CloudStorage/Dropbox/Programming/pssbook/PSS/P02_0_basic.ipynb 儲存格 24\u001b[0m line \u001b[0;36m5\n\u001b[1;32m      <a href='vscode-notebook-cell:/Users/jirlong/Library/CloudStorage/Dropbox/Programming/pssbook/PSS/P02_0_basic.ipynb#X66sZmlsZQ%3D%3D?line=2'>3</a>\u001b[0m \u001b[39mprint\u001b[39m(my_string[\u001b[39m-\u001b[39m\u001b[39m1\u001b[39m]) \u001b[39m# 輸出 '!'\u001b[39;00m\n\u001b[1;32m      <a href='vscode-notebook-cell:/Users/jirlong/Library/CloudStorage/Dropbox/Programming/pssbook/PSS/P02_0_basic.ipynb#X66sZmlsZQ%3D%3D?line=3'>4</a>\u001b[0m \u001b[39mprint\u001b[39m(my_string[\u001b[39m7\u001b[39m:\u001b[39m12\u001b[39m]) \u001b[39m# 輸出 'World'\u001b[39;00m\n\u001b[0;32m----> <a href='vscode-notebook-cell:/Users/jirlong/Library/CloudStorage/Dropbox/Programming/pssbook/PSS/P02_0_basic.ipynb#X66sZmlsZQ%3D%3D?line=4'>5</a>\u001b[0m my_string[\u001b[39m3\u001b[39;49m] \u001b[39m=\u001b[39m \u001b[39m'\u001b[39m\u001b[39m1\u001b[39m\u001b[39m'\u001b[39m \u001b[39m# 字串不可變動 (immutability)\u001b[39;00m\n",
            "\u001b[0;31mTypeError\u001b[0m: 'str' object does not support item assignment"
          ]
        }
      ],
      "source": [
        "my_string = \"Hello, World!\"\n",
        "print(my_string[0])  # 輸出 'H'\n",
        "print(my_string[-1]) # 輸出 '!'\n",
        "print(my_string[7:12]) # 輸出 'World'\n",
        "my_string[3] = '1' # 字串不可變動 (immutability)\n"
      ]
    },
    {
      "cell_type": "markdown",
      "metadata": {
        "id": "EqNx-w7OTx2n"
      },
      "source": [
        "#### Defining String\n",
        "在Python中有好幾種定義字串的方式。\n",
        "1. 字串（String）: 這是最基本的文字型態，使用單引號（'）或雙引號（\"）來表示。例如：'hello' 或 \"world\"。\n",
        "2. 多行字串: 你可以使用三個單引號（'''）或三個雙引號（\"\"\"）來定義多行字串。\n",
        "3. Unicode 字串: Python 3.x 以上版本中，所有的字串都是 Unicode 字串。這意味著你可以很容易地處理非英語文字。\n",
        "4. Raw 字串: 前面加上 r 或 R，表示字串中的特殊字符將不會被轉義。\n",
        "5. 格式化字串（F-strings）: 從 Python 3.6 版本開始，支援使用 F-strings 來格式化字串。"
      ]
    },
    {
      "cell_type": "code",
      "execution_count": null,
      "metadata": {
        "id": "OhiZFn2iTx2n",
        "outputId": "d21295f3-f2f1-4519-a2dd-a77d28259fab"
      },
      "outputs": [
        {
          "name": "stdout",
          "output_type": "stream",
          "text": [
            "這是\n",
            "一個\n",
            "多行\n",
            "字串 \n",
            "\n",
            " 這裡的 \n",
            " 不會被轉義\n",
            "\\n 這裡的 \\n 不會被轉義\n",
            "John is 30 years old.\n"
          ]
        }
      ],
      "source": [
        "multi_line_string = \"\"\"這是\n",
        "一個\n",
        "多行\n",
        "字串 \"\"\"\n",
        "print(multi_line_string)\n",
        "\n",
        "normal_string = \"\\n 這裡的 \\n 不會被轉義\"\n",
        "print(normal_string)\n",
        "raw_string = r\"\\n 這裡的 \\n 不會被轉義\"\n",
        "print(raw_string)\n",
        "\n",
        "name = \"John\"\n",
        "age = 30\n",
        "f_string = f\"{name} is {age} years old.\"\n",
        "print(f_string)\n"
      ]
    },
    {
      "cell_type": "markdown",
      "metadata": {
        "id": "P89HWBwfTx2o"
      },
      "source": [
        "### More: Print formatting"
      ]
    },
    {
      "cell_type": "code",
      "execution_count": null,
      "metadata": {
        "id": "6Xt0DnugTx2o",
        "outputId": "cb491604-3b6d-4687-ad9f-190409d0ce63"
      },
      "outputs": [
        {
          "name": "stdout",
          "output_type": "stream",
          "text": [
            "Your name is HSIEH ! Your age is 42.0\n",
            "Your name is HSIEH and age 42.0\n",
            "Your name is HSIEH      and age       42.0\n",
            "Your name is HSIEH      and age       42.0\n"
          ]
        }
      ],
      "source": [
        "name = \"HSIEH\"\n",
        "age = 42.0\n",
        "print(\"Your name is {} ! Your age is {}\".format(name, age))\n",
        "print(f\"Your name is {name} and age {age}\")\n",
        "print(\"Your name is {:10} and age {:10}\".format(name, age))\n",
        "print(f\"Your name is {name:10} and age {age:10}\")"
      ]
    },
    {
      "cell_type": "code",
      "execution_count": null,
      "metadata": {
        "id": "yAj8C3mfTx2o",
        "outputId": "e0c83df1-1932-4e5b-e527-0a7363ac6283"
      },
      "outputs": [
        {
          "name": "stdout",
          "output_type": "stream",
          "text": [
            "Sjoerd     ==>      41273\n",
            "Jack       ==>        409\n",
            "Dcab       ==>       7678\n"
          ]
        }
      ],
      "source": [
        "table = {'Sjoerd': 41273, 'Jack': 409, 'Dcab': 7678}\n",
        "for name, id in table.items():\n",
        "    print(f'{name:10} ==> {id:10}')"
      ]
    },
    {
      "cell_type": "markdown",
      "metadata": {
        "id": "IR4ZuAbgV4wN"
      },
      "source": [
        "### Type by Assignments\n",
        "變數使用Assignment（指派）來讓程式知道該變數的變數型態為何。右側的運算必然會產生一個某種變數型態的值，當把這樣的變數型態assign給左側的變數時，左側的變數便會自動被設定為該型態。這種特性稱為「Dynamic Typing」。注意！一定是把右方的內容（右方可能是數值也可能是變數）指定給左方的變數。\n",
        "\n",
        "下例把`a = 2`，那麼`a`就是整數的`2`；若是`a = 2.0`，那麼`a`就會是浮點數（floating point，也就是有小數點的）的`a`。"
      ]
    },
    {
      "cell_type": "code",
      "execution_count": null,
      "metadata": {
        "ExecuteTime": {
          "end_time": "2020-02-22T14:10:36.293269Z",
          "start_time": "2020-02-22T14:10:36.289458Z"
        },
        "id": "vOgsw8EnV4wN"
      },
      "outputs": [],
      "source": [
        "a = 2 # integer\n",
        "b = 3.0 # floating point number\n",
        "c = '1.123' # string\n",
        "d = \"2\" # string"
      ]
    },
    {
      "cell_type": "markdown",
      "metadata": {
        "id": "hFTi6ZHUV4wO"
      },
      "source": [
        "#### Using `type()` to check data type\n",
        "\n",
        "承上節，因為在Python中，Assignment後會自動將「=」右方的變數型態Assign給左方的變數，我們可以用`type()`函式來得知某個變數的變數型態。"
      ]
    },
    {
      "cell_type": "code",
      "execution_count": null,
      "metadata": {
        "ExecuteTime": {
          "end_time": "2020-02-22T14:10:33.650103Z",
          "start_time": "2020-02-22T14:10:33.641249Z"
        },
        "id": "5NqUW-msV4wO",
        "outputId": "200efc9e-9019-4add-f4da-80484883cee3"
      },
      "outputs": [
        {
          "name": "stdout",
          "output_type": "stream",
          "text": [
            "<class 'str'> <class 'str'>\n",
            "<class 'bool'>\n",
            "<class 'float'>\n",
            "<class 'float'>\n",
            "<class 'list'>\n",
            "<class 'dict'>\n"
          ]
        }
      ],
      "source": [
        "x, y = '1.1', \"1.1\" # string\n",
        "print(type(x), type(y))\n",
        "print(type(x==y))\n",
        "print(type(5/2))\n",
        "print(type(4/2))\n",
        "\n",
        "# check the type of d, e\n",
        "z, w = [], {}\n",
        "print(type(z))\n",
        "print(type(w))\n"
      ]
    },
    {
      "cell_type": "markdown",
      "metadata": {
        "id": "B7GOk98wV4wO"
      },
      "source": [
        "### Converting data type\n",
        "\n",
        "* 變數可以用`int()`、`float()`和`str()`在彼此間轉換（左側為最常用的三個）。\n",
        "* 但要注意的是，`float()`相當於是有小數點的數字，若被`int()`強制轉換，會伴隨精確度的流失。例如`a = int(2.3)`會只剩下`2`，且沒辦法復原。\n",
        "* 如果將`integer`乘上`float`的話，整個變數會變成`float`。如下面的例子中，type將會是`float`。"
      ]
    },
    {
      "cell_type": "code",
      "execution_count": null,
      "metadata": {
        "ExecuteTime": {
          "end_time": "2020-03-17T03:05:34.452727Z",
          "start_time": "2020-03-17T03:05:34.449073Z"
        },
        "id": "aiPwL9BoV4wP",
        "outputId": "2ddfe27c-70cc-4ead-f24e-317a31cbf645"
      },
      "outputs": [
        {
          "name": "stdout",
          "output_type": "stream",
          "text": [
            "2.3 \t type(2.3): <class 'float'>\n",
            "2 \t type(int(2.3)): <class 'int'>\n",
            "2.3 \t type(str(2.3)): <class 'str'>\n",
            "3 <class 'int'>\n",
            "9.0 <class 'float'>\n"
          ]
        }
      ],
      "source": [
        "# convert a to integer, then assign to b\n",
        "print(2.3, '\\t', \"type(2.3):\", type(2.3))\n",
        "print(int(2.3), '\\t', 'type(int(2.3)):', type(int(2.3)))\n",
        "print(str(2.3), '\\t', 'type(str(2.3)):', type(str(2.3)))\n",
        "\n",
        "a = 3\n",
        "print(a, type(a))\n",
        "print(a*3.0, type(a*3.0))"
      ]
    },
    {
      "cell_type": "markdown",
      "metadata": {
        "id": "EuDxODHyV4wQ"
      },
      "source": [
        "## Arithemetic operations +, -, *, **, /, %\n",
        "\n",
        "四則運算的計算方式和普遍數學的運算相同，由左而右，括號內先做，先乘除後加減。\n",
        "\n",
        "* `**` - \"power of.\"\n",
        "* `%` - \"mod\" e.g., `5%3==2`, `4%2==0`.\n",
        "* `/` - \"divide\" varied by data type of numberator and denominator"
      ]
    },
    {
      "cell_type": "code",
      "execution_count": null,
      "metadata": {
        "ExecuteTime": {
          "end_time": "2020-03-17T03:16:31.910318Z",
          "start_time": "2020-03-17T03:16:31.904837Z"
        },
        "id": "QyoSUIbiV4wQ",
        "outputId": "4e602af1-709c-444b-d6a7-0c84298ed9a3"
      },
      "outputs": [
        {
          "name": "stdout",
          "output_type": "stream",
          "text": [
            "a = 10, b = 3\n",
            "a/b= 3.3333333333333335 a/b= 1\n",
            "a/b=3.3333333333333335, a%b=1\n",
            "a/b=3.333333, a%b=1.000000\n",
            "3.3333333333333335\n",
            "3.3333333333333335\n",
            "((a+b)**2+(a-b)**2)/float(a**2+b**2) =  2.0\n"
          ]
        }
      ],
      "source": [
        "a, b = 10, 3\n",
        "\n",
        "# print a and b\n",
        "print(f\"a = {a}, b = {b}\")\n",
        "\n",
        "# print the result of a/b and a%b\n",
        "print(\"a/b=\", a/b, \"a/b=\", a%b)\n",
        "\n",
        "# print a/b and a%b but formatted to integer\n",
        "print(f\"a/b={a/b}, a%b={a%b}\")\n",
        "\n",
        "# print a/b and a%b but formatted to float\n",
        "print(f\"a/b={a/b:f}, a%b={a%b:f}\")\n",
        "\n",
        "\n",
        "# a divided by float(b)\n",
        "print(a/float(b))\n",
        "\n",
        "# b divides float(a)\n",
        "print(float(a)/b)\n",
        "\n",
        "# print ((a+b)**2+(a-b)**2)/float(a**2+b**2) and it result\n",
        "print(\"((a+b)**2+(a-b)**2)/float(a**2+b**2) = \", ((a+b)**2+(a-b)**2)/float(a**2+b**2))\n"
      ]
    },
    {
      "cell_type": "markdown",
      "metadata": {
        "id": "A848xMgwV4wR"
      },
      "source": [
        "**字串除以數字**：如果把字串除以整數的話會產生什麼樣的情形？字串是沒辦法除以整數的，因為沒有意義，所以會產生*TypeError*。"
      ]
    },
    {
      "cell_type": "code",
      "execution_count": null,
      "metadata": {
        "id": "f3HoXyg7Tx2q",
        "outputId": "62ec512a-5651-4359-dfa6-e146d9c21474"
      },
      "outputs": [
        {
          "name": "stdout",
          "output_type": "stream",
          "text": [
            "    1 ==>   -17.22\n",
            "    2 ==>   -16.67\n",
            "    3 ==>   -16.11\n",
            "    4 ==>   -15.56\n",
            "    5 ==>   -15.00\n",
            "    6 ==>   -14.44\n",
            "    7 ==>   -13.89\n",
            "    8 ==>   -13.33\n",
            "    9 ==>   -12.78\n"
          ]
        }
      ],
      "source": [
        "for tf in range(1, 10):\n",
        "    tc = (tf-32)*5/9\n",
        "    print(f'{tf:5} ==> {tc:-8.2f}')"
      ]
    }
  ],
  "metadata": {
    "colab": {
      "name": "P02_basic_blank.ipynb",
      "provenance": [],
      "toc_visible": true,
      "include_colab_link": true
    },
    "kernelspec": {
      "display_name": "Python 3 (ipykernel)",
      "language": "python",
      "name": "python3"
    },
    "language_info": {
      "codemirror_mode": {
        "name": "ipython",
        "version": 3
      },
      "file_extension": ".py",
      "mimetype": "text/x-python",
      "name": "python",
      "nbconvert_exporter": "python",
      "pygments_lexer": "ipython3",
      "version": "3.9.16"
    },
    "toc": {
      "base_numbering": 1,
      "nav_menu": {},
      "number_sections": true,
      "sideBar": true,
      "skip_h1_title": false,
      "title_cell": "Table of Contents",
      "title_sidebar": "Contents",
      "toc_cell": false,
      "toc_position": {},
      "toc_section_display": true,
      "toc_window_display": true
    },
    "toc-autonumbering": false,
    "toc-showcode": false,
    "toc-showmarkdowntxt": false,
    "toc-showtags": false,
    "varInspector": {
      "cols": {
        "lenName": 16,
        "lenType": 16,
        "lenVar": 40
      },
      "kernels_config": {
        "python": {
          "delete_cmd_postfix": "",
          "delete_cmd_prefix": "del ",
          "library": "var_list.py",
          "varRefreshCmd": "print(var_dic_list())"
        },
        "r": {
          "delete_cmd_postfix": ") ",
          "delete_cmd_prefix": "rm(",
          "library": "var_list.r",
          "varRefreshCmd": "cat(var_dic_list()) "
        }
      },
      "types_to_exclude": [
        "module",
        "function",
        "builtin_function_or_method",
        "instance",
        "_Feature"
      ],
      "window_display": false
    }
  },
  "nbformat": 4,
  "nbformat_minor": 0
}