{
  "cells": [
    {
      "cell_type": "markdown",
      "id": "2503d695-03d1-43e4-9e4e-0b1402dc982d",
      "metadata": {
        "id": "2503d695-03d1-43e4-9e4e-0b1402dc982d"
      },
      "source": [
        "# P04 Practice01: for loop"
      ]
    },
    {
      "cell_type": "markdown",
      "id": "960bb2fe",
      "metadata": {
        "id": "960bb2fe"
      },
      "source": [
        "## Q1. Sum-up values in a list\n",
        "\n",
        "在數據處理和分析中，計算一組數據中所有數值的總和是一個常見的操作。這個練習要求使用Python程式碼來計算一個列表中所有數值的總和。\n",
        "1. 定義一個`list`，其中包含一組數值（整數或浮點數）。\n",
        "2. 使用迴圈（例如 `for` 迴圈）來遍歷列表中的每一個數值。\n",
        "3. 在迴圈中，將每一個數值加到一個累計變數（例如 `sum`）上。\n",
        "4. 在迴圈結束後，輸出或返回這個累計變數的值，即列表中所有數值的總和。\n",
        "\n",
        "練習目的：\n",
        "1. 練習使用迴圈來遍歷列表。\n",
        "2. 練習使用累計變數來計算總和。\n",
        "3. 理解如何使用基本的Python語法來解決實際問題。\n",
        "\n",
        "提示：\n",
        "- 注意要初始化累計變數（通常為0）。\n",
        "- 注意如何在迴圈中更新累計變數的值。"
      ]
    },
    {
      "cell_type": "code",
      "execution_count": null,
      "id": "aa1f2516",
      "metadata": {
        "id": "aa1f2516"
      },
      "outputs": [],
      "source": [
        "alist = [1, 3, 4, 2, 5, 2, 4, 1, 1, 3, 5, 2, 4, 1]\n",
        "# Your code here\n"
      ]
    },
    {
      "cell_type": "markdown",
      "id": "a97fade5",
      "metadata": {
        "id": "a97fade5"
      },
      "source": [
        "### Q1.1 使用`sum()`函數\n",
        "\n",
        "試著用`sum()`函數來解決這個問題。"
      ]
    },
    {
      "cell_type": "code",
      "execution_count": null,
      "id": "785e4ed4",
      "metadata": {
        "id": "785e4ed4"
      },
      "outputs": [],
      "source": [
        "# Your code here\n"
      ]
    },
    {
      "cell_type": "markdown",
      "id": "ebb7e1af",
      "metadata": {
        "id": "ebb7e1af"
      },
      "source": [
        "### Q1.2 加總全台北市Youbike的腳踏車總數\n",
        "\n",
        "計算讀到的資料中，目前共有多少個ubike停駐位、又有多少ubike目前正停駐在車格上"
      ]
    },
    {
      "cell_type": "code",
      "execution_count": null,
      "id": "1bdd21fd",
      "metadata": {
        "id": "1bdd21fd",
        "outputId": "73454918-4ebe-4e4d-d602-912bc1093d17"
      },
      "outputs": [
        {
          "name": "stdout",
          "output_type": "stream",
          "text": [
            "<class 'requests.models.Response'>\n",
            "<class 'str'>\n"
          ]
        }
      ],
      "source": [
        "import requests\n",
        "import json\n",
        "response = requests.get('https://tcgbusfs.blob.core.windows.net/dotapp/youbike/v2/youbike_immediate.json')\n",
        "print(type(response)) # <class 'requests.models.Response'>\n",
        "print(type(response.text)) # <class 'str'>\n",
        "bike_data = json.loads(response.text)"
      ]
    },
    {
      "cell_type": "code",
      "execution_count": null,
      "id": "d3dc3fff",
      "metadata": {
        "id": "d3dc3fff"
      },
      "outputs": [],
      "source": [
        "# Your code here\n",
        "\n",
        "\n",
        "\n",
        "\n",
        "\n"
      ]
    },
    {
      "cell_type": "markdown",
      "id": "413f0235-6a85-461f-9d44-2c69fe7df9eb",
      "metadata": {
        "id": "413f0235-6a85-461f-9d44-2c69fe7df9eb"
      },
      "source": [
        "## Q2. Nested for loop"
      ]
    },
    {
      "cell_type": "markdown",
      "id": "fd7a39f5",
      "metadata": {
        "id": "fd7a39f5"
      },
      "source": [
        "### Q2.1. Printing a tree: Nested for-loop\n",
        "\n",
        "使用Python程式語言撰寫一個程式，印出如下所示的樹形圖案。這個練習的目的是讓學生熟悉使用迴圈控制結構，特別是`for`迴圈，來生成特定模式的輸出。同時，這個練習也有助於學生理解如何控制行數和印出的星號數目。\n",
        "1. 你可以使用嵌套的`for`迴圈來處理這個任務，一個迴圈用於控制行數，另一個用於印出星號。\n",
        "2. 在第一行，只印出一個星號。\n",
        "3. 在每一行，星號的數目比上一行多一個。\n",
        "4. 您可以使用`print`函數來印出星號，並使用`end=\"\"`來避免換行，使星號在同一行上印出。\n",
        "\n",
        "```\n",
        "\n",
        "*\n",
        "**\n",
        "***\n",
        "****\n",
        "```"
      ]
    },
    {
      "cell_type": "code",
      "execution_count": null,
      "id": "8c1408e9-fb38-4271-b24a-b462cd2033da",
      "metadata": {
        "id": "8c1408e9-fb38-4271-b24a-b462cd2033da"
      },
      "outputs": [],
      "source": [
        "# Your code here\n"
      ]
    },
    {
      "cell_type": "markdown",
      "id": "3f966e6a",
      "metadata": {
        "id": "3f966e6a"
      },
      "source": [
        "### Q2.2 Nested for-loop II\n",
        "\n",
        "- 首先，在第一行印出一個星號，並在星號前面添加4個空格，使星號位於行中央。\n",
        "- 在第二行，印出三個星號，並在星號前面添加3個空格，以實現對齊效果。\n",
        "- 以此類推，每一行印出的星號數目比上一行多兩個，同時在開頭添加更多的空格，以實現樹形效果。\n",
        "```\n",
        "     *\n",
        "    ***\n",
        "   *****\n",
        "  *******\n",
        " *********\n",
        "```"
      ]
    },
    {
      "cell_type": "code",
      "execution_count": null,
      "id": "fcd7d462-a22a-446b-93a9-7abf70846a53",
      "metadata": {
        "id": "fcd7d462-a22a-446b-93a9-7abf70846a53"
      },
      "outputs": [],
      "source": [
        "# Your code here\n"
      ]
    },
    {
      "cell_type": "markdown",
      "id": "f2c6285f-3b5b-45e2-bbf6-937b87f401c0",
      "metadata": {
        "id": "f2c6285f-3b5b-45e2-bbf6-937b87f401c0"
      },
      "source": [
        "## Q3. Fibonacci Number\n",
        "\n",
        "費氏數列是一個數學中非常著名的數列。在這個數列中，第一項是0，第二項是1，從第三項開始，每一項都是前兩項的和。本次練習的目的是使用 for-loop 來生成費氏數列，並找出第10項的值。\n",
        "\n",
        "提示：\n",
        "1. 初始化兩個變數，一個用於儲存當前項（初始值為0），另一個用於儲存前一項（初始值為1）。\n",
        "   1. f(1) = 0\n",
        "   2. f(2) = 1\n",
        "2. 使用 for-loop 從第3項開始，計算到第10項。\n",
        "3. 在每次迴圈中，將當前項和前一項相加以得到新的當前項，然後更新前一項的值。f(n+1) = f(n) + f(n-1)\n",
        "\n",
        "要求：\n",
        "1. 使用 for-loop 來計算費氏數列。\n",
        "2. 計算並輸出第10項的值。\n",
        "3. 將你的輸出格式化為以下模樣：\n",
        "\n",
        "```\n",
        "1 \t 0\n",
        "2 \t 1\n",
        "3 \t 2\n",
        "4 \t 3\n",
        "5 \t 5\n",
        "6 \t 8\n",
        "7 \t 13\n",
        "8 \t 21\n",
        "9 \t 34\n",
        "10 \t 55\n",
        "```"
      ]
    },
    {
      "cell_type": "code",
      "execution_count": null,
      "id": "3041cd45-0b06-42dc-977b-d33e18e2e336",
      "metadata": {
        "id": "3041cd45-0b06-42dc-977b-d33e18e2e336"
      },
      "outputs": [],
      "source": [
        "a = 0 # f(1)\n",
        "b = 1 # f(2)\n",
        "n = 10\n",
        "# Your code here\n"
      ]
    },
    {
      "cell_type": "markdown",
      "id": "68d40185-e10e-4ae6-abfc-aecfc86740fd",
      "metadata": {
        "id": "68d40185-e10e-4ae6-abfc-aecfc86740fd"
      },
      "source": [
        "## Q4. Two-layers For-loop: Finding Prime Number\n",
        "\n",
        "這是一個綜合練習，目的是讓學生練習使用兩層 `for-loop` 來解決一個經典的數學問題：判斷一個數字是否為質數（prime number）。質數是指大於1且只能被1和自身整除的自然數。在這個練習中，將會用到兩層 `for-loop` 來檢查一個給定的整數是否為質數。除此之外，還會運用`break`和`else`來優化程式結構。\n",
        "\n",
        "請使用 `for-loop` 寫一個 Python 程式，用來判斷輸入的整數（n）是否為一個質數。程式需求：\n",
        "1. 使用者輸入一個正整數，例如：`n=29`\n",
        "2. 使用 `for-loop` 從`2`到 `n-1`，檢查`n`是否有其他數字可以整除。\n",
        "3. 如果`n`可以被其他數字整除，則輸出`n`不是質數。\n",
        "4. 如果`n`不能被任何數字（除了 1 和自己）整除，則輸出`n`是質數。\n",
        "\n",
        "輸出範例：\n",
        "\n",
        "```\n",
        "29 是一個質數。\n",
        "```\n",
        "\n",
        "提示：\n",
        "   1. 用 `for-loop` 從 2 迭代到`n-1`，用 `if` 判斷`n`是否能被當前的數字整除。\n",
        "2. 若能，則立即跳出迴圈，並判斷`n`不是質數。\n",
        "3. 若迴圈完成，則`n`是質數。\n",
        "\n",
        "加分：\n",
        "1. 其實不用跑到`n-1`就可以知道他是不是質數了，請嘗試使用不同的方法來優化你的程式，例如提前結束迴圈等。\n",
        "2. 問ChatGPT有沒有更好的寫法？有沒有自訂函數的寫法？有沒有更好的演算法？"
      ]
    },
    {
      "cell_type": "code",
      "execution_count": null,
      "id": "77f8954c-f906-4fe6-98c4-427aa9071565",
      "metadata": {
        "id": "77f8954c-f906-4fe6-98c4-427aa9071565"
      },
      "outputs": [],
      "source": [
        "n = 29\n",
        "# Your code here\n"
      ]
    },
    {
      "cell_type": "markdown",
      "id": "248d330b",
      "metadata": {
        "id": "248d330b"
      },
      "source": [
        "## Q5. Generating Pi\n",
        "\n",
        "格雷戈里（Gregory）和萊布尼茲（Leibniz）發現了一個用於計算π（圓周率）的無窮級數公式。這個公式可以用來逼近π的值，並且是數學中一個非常重要的發現（https://mathworld.wolfram.com/PiFormulas.html）。這個公式的形式如下：\n",
        "\n",
        "Gregory and Leibniz found Pi/4 = 1 - 1/3 + 1/5 - 1/7 + 1/9...\n",
        "\n",
        "\n",
        "在這個練習中，我們將使用 for-loop 來計算這個公式的前100項，並且計算出π的近似值。\n",
        "\n",
        "要求：\n",
        "1. 使用程式碼來實現這個無窮級數。\n",
        "2. 計算並輸出逼近π的值。\n",
        "3. 考慮如何提高計算的精確度。\n",
        "\n",
        "提示：\n",
        "1. 初始化一個變數來儲存逼近π的值（初始值為1，因為第一項是1）。\n",
        "2. 使用迴圈（例如 for-loop 或 while-loop）來計算後續的項。\n",
        "3. 注意正負號的變化。\n",
        "4. 考慮如何確定迴圈的終止條件，以達到所需的精確度。"
      ]
    },
    {
      "cell_type": "code",
      "execution_count": null,
      "id": "d6cf1743",
      "metadata": {
        "id": "d6cf1743"
      },
      "outputs": [],
      "source": [
        "# Your code here\n"
      ]
    },
    {
      "cell_type": "markdown",
      "id": "37a09288",
      "metadata": {
        "id": "37a09288"
      },
      "source": [
        "## Q6. Binning: Assign continue values into equal length brackets\n",
        "\n",
        "之前在做Counting時，每個項目是離散的，但今天我如果要把成績的百分制等分均分至數個區間後（0-10, 10-20, ..., 90-100, 100），分別計算每個區間有多少人要怎麼做？\n",
        "\n",
        "### Q6.1 by `matplotlib`'s `hist()` function\n",
        "\n",
        "一個有趣的視覺化做法是利用`matplotlib`的`hist()`函式，可以將資料分成數個區間，並計算每個區間的頻率，然後畫出長條圖。\n",
        "\n"
      ]
    },
    {
      "cell_type": "code",
      "execution_count": null,
      "id": "48c690ba",
      "metadata": {
        "id": "48c690ba",
        "outputId": "1c283953-3d1b-4bcb-f8e1-def5d59acf5f"
      },
      "outputs": [
        {
          "data": {
            "text/plain": [
              "(array([9., 7., 3., 8., 5., 3., 7., 4., 8., 6.]),\n",
              " array([ 0. ,  9.9, 19.8, 29.7, 39.6, 49.5, 59.4, 69.3, 79.2, 89.1, 99. ]),\n",
              " <BarContainer object of 10 artists>)"
            ]
          },
          "execution_count": 14,
          "metadata": {},
          "output_type": "execute_result"
        },
        {
          "data": {
            "image/png": "[encoded data removed]",
            "text/plain": [
              "<Figure size 640x480 with 1 Axes>"
            ]
          },
          "metadata": {},
          "output_type": "display_data"
        }
      ],
      "source": [
        "grades = [17, 65, 5, 74, 93, 1, 94, 16, 80, 95, 32, 78, 17, 70, 22, 43, 95, 67, 3, 30, 40, 51, 96, 17, 13, 21, 4, 47, 19, 44, 59, 6, 0, 83, 40, 89, 39, 57, 99, 35, 81, 31, 89, 63, 80, 85, 36, 60, 17, 68, 62, 36, 3, 28, 8, 38, 83, 73, 67, 2]\n",
        "\n",
        "%matplotlib inline\n",
        "import matplotlib.pyplot as plt\n",
        "plt.hist(grades, 10, facecolor='green', alpha=0.5)  #可以快速在視覺化上把grade分成10堆"
      ]
    },
    {
      "cell_type": "markdown",
      "id": "531bf2bb",
      "metadata": {
        "id": "531bf2bb"
      },
      "source": [
        "### Q6.2 Counting then plotting by `bar()`\n",
        "\n",
        "在這個新版本的Python程式中，我們用了一個名為`glist`的列表來儲存每10分一個區段（也就是每個\"bracket\"）的學生數量。這個列表初始為11個0（從0到100分，共11個區段）。我們還使用了`matplotlib`來視覺化這些數據。\n",
        "\n",
        "構想\n",
        "1. **使用列表**: 利用列表`glist`的索引值來表示分數的區段（0-9, 10-19, ..., 90-99, 100）是非常巧妙的。這避免了使用多個`if-else`語句來判斷分數落在哪一個區段。\n",
        "2. **整數索引**: 通過`int(g/10)`，我們可以把任何分數直接映射到相應的區段。例如，分數72（72/10=7.2）會被映射到`glist[7]`。\n",
        "3. **數據視覺化**: 使用`matplotlib`的`bar`函數，我們可以直觀地看到不同區段的學生數量。\n",
        "\n",
        "提示\n",
        "1. **列表初始化**: 確保`glist`有足夠的元素（在這裡是11個）來代表所有可能的分數區段。\n",
        "2. **資料驗證**: 確保所有學生成績都在0到100之間，這樣`int(g/10)`不會超出`glist`的索引範圍。\n",
        "3. **視覺化選項**: 在`plt.bar()`函數中，`width=10`表示每個柱子的寬度為10。你可以調整這個數值以達到不同的視覺效果。\n"
      ]
    },
    {
      "cell_type": "code",
      "execution_count": null,
      "id": "cc6e9963",
      "metadata": {
        "id": "cc6e9963",
        "outputId": "f487132f-9d56-475f-e83c-6f7496c7455a"
      },
      "outputs": [
        {
          "name": "stdout",
          "output_type": "stream",
          "text": [
            "11\n",
            "[0, 10, 20, 30, 40, 50, 60, 70, 80, 90, 100]\n",
            "[0, 0, 0, 0, 0, 0, 6, 3, 0, 2, 1]\n"
          ]
        },
        {
          "data": {
            "text/plain": [
              "<BarContainer object of 11 artists>"
            ]
          },
          "execution_count": 16,
          "metadata": {},
          "output_type": "execute_result"
        },
        {
          "data": {
            "image/png": "[encoded data removed]",
            "text/plain": [
              "<Figure size 640x480 with 1 Axes>"
            ]
          },
          "metadata": {},
          "output_type": "display_data"
        }
      ],
      "source": [
        "grades = [60, 65, 62, 65, 62, 73, 78, 90, 100, 99, 67, 73]\n",
        "glist = [0, 0, 0, 0, 0, 0, 0, 0, 0, 0, 0]\n",
        "\n",
        "%matplotlib inline\n",
        "import matplotlib.pyplot as plt\n",
        "\n",
        "print(len(glist))\n",
        "for g in grades:\n",
        "    glist[int(g/10)] += 1\n",
        "\n",
        "print(list(range(0, 101, 10)))\n",
        "print(glist)\n",
        "\n",
        "plt.bar(list(range(0, 101, 10)), glist, width=10)"
      ]
    }
  ],
  "metadata": {
    "kernelspec": {
      "display_name": "Python 3 (ipykernel)",
      "language": "python",
      "name": "python3"
    },
    "language_info": {
      "codemirror_mode": {
        "name": "ipython",
        "version": 3
      },
      "file_extension": ".py",
      "mimetype": "text/x-python",
      "name": "python",
      "nbconvert_exporter": "python",
      "pygments_lexer": "ipython3",
      "version": "3.9.16"
    },
    "colab": {
      "provenance": [],
      "toc_visible": true
    }
  },
  "nbformat": 4,
  "nbformat_minor": 5
}