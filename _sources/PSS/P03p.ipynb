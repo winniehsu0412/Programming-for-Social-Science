{
  "cells": [
    {
      "cell_type": "markdown",
      "metadata": {
        "id": "DF4moxsAQXfn"
      },
      "source": [
        "# P03 Practice: Accessing dict and list\n",
        "\n",
        "## Q1. Accessing youbike data\n",
        "\n",
        "**資料來源**：（[https://tcgbusfs.blob.core.windows.net/dotapp/youbike/v2/youbike_immediate.json](https://tcgbusfs.blob.core.windows.net/dotapp/youbike/v2/youbike_immediate.json)）。\n",
        "\n",
        "**目的**：使用該API可以取得當下所有YouBike站點的資訊，包括站點名稱、經緯度、可借車輛數、可停空位數等。我想要統計，目前全台北市的可借車輛數和可停空位數的總和，藉此來計算目前全台北市的YouBike使用率。此時我會需要用到Python中的List和Dictionary，來幫助我遍歷（traverse）YouBike資料，並進行加總計數。\n",
        "\n",
        "**擷取YouBike資料的步驟**\n",
        "\n",
        "1. 利用 `requests` 庫中的 `.get()` 方法來向指定的URL發送HTTP GET請求，以獲得該網址的回應。\n",
        "2. 獲得的HTTP回應會存儲在 `response` 物件中，這個物件的 `.text` 屬性包含了回應的文字內容，其資料型態為 `str`（字串）。\n",
        "3. 因為我們知道返回的文字內容是用JSON格式儲存的，我們可以使用兩種方式將其轉換成Python的資料結構：\n",
        "   - 使用 `response.json()` 直接轉換。\n",
        "   - 或是使用 `json.loads(response.text)`，這會將JSON格式的字串轉換成Python的字典和列表結構。\n",
        "4. 一旦資料被轉換成Python的資料結構，我們就可以按照需求來存取其各個部分，通常這會是一個由多層的列表和字典組成的巢狀結構。"
      ]
    },
    {
      "cell_type": "markdown",
      "metadata": {
        "id": "g4FR3xvoQXfp"
      },
      "source": [
        "### Getting Data\n",
        "\n",
        "這一節將教授如何從網路上獲取資料並將其轉換成Python的字典（dict）和列表（list）結構。注意，不要太在意抓取資料的細節暫，未來會有更詳細的教學。這裡主要是使用一個實際例子來展示如何存取字典（dict）。\n",
        "\n",
        "1. `requests` 是一個專門用來發送網路請求的Python函式庫。在這裡，我們使用 `.get()` 方法來向指定的URL發送HTTP GET請求，並獲得回應。你可以使用 `type()` 函數來查看 `response` 的資料型態，它應該會返回 `<class 'requests.models.Response'>`。\n",
        "\n",
        "2. `response` 是儲存網路請求回應的物件，其中包含了很多有用的資訊。關於這個物件的更多細節，你可以參考 [Python_request_response](https://www.w3schools.com/python/ref_requests_response.asp)。\n",
        "    * `response.text`：這個屬性包含了HTTP回應的主要文本內容。\n",
        "    * `response.status_code`：這個屬性會返回HTTP狀態碼，這個碼可以告訴你請求是成功還是失敗，或者是其他情況。對狀態碼的完整列表，請參見 [Wikipedia: Network Status Code](https://en.wikipedia.org/wiki/List_of_HTTP_status_codes)。\n",
        "    * `response.json()`：如果你事先知道返回的內容是以JSON格式儲存的，那麼你可以使用 `.json()` 方法將其轉換為Python的字典和列表結構。JSON（JavaScript Object Notation）是一種廣泛用於JavaScript的資料格式，它的結構類似於Python的字典和列表，因此能夠很容易地轉換過來。\n",
        "\n",
        "透過這些步驟，你就能夠從網路上獲取資料，並將其轉換為Python程式能夠操作的數據格式。"
      ]
    },
    {
      "cell_type": "code",
      "execution_count": 2,
      "metadata": {
        "colab": {
          "base_uri": "https://localhost:8080/"
        },
        "id": "inX_nLJXQXfq",
        "outputId": "9f6d7492-7688-4de3-f7be-0ea48f869e98"
      },
      "outputs": [
        {
          "output_type": "stream",
          "name": "stdout",
          "text": [
            "<class 'requests.models.Response'>\n",
            "<class 'str'>\n",
            "<class 'list'>\n"
          ]
        }
      ],
      "source": [
        "# import requests library to send web query\n",
        "import requests\n",
        "\n",
        "# import json library to parse json format\n",
        "import json\n",
        "\n",
        "response = requests.get('https://tcgbusfs.blob.core.windows.net/dotapp/youbike/v2/youbike_immediate.json')\n",
        "print(type(response)) # <class 'requests.models.Response'>\n",
        "print(type(response.text)) # <class 'str'>\n",
        "data = response.json()\n",
        "# data = json.loads(response.text) # Alternative way\n",
        "print(type(data))"
      ]
    },
    {
      "cell_type": "code",
      "source": [
        "type(data)\n",
        "type(data[0])\n",
        "data[0]\n",
        "print(data[0].keys())\n",
        "print(data[0][\"sna\"])\n",
        "print(data[0][\"available_rent_bikes\"])\n",
        "print(data[0][\"Quantity\"])\n",
        "print(len(data))"
      ],
      "metadata": {
        "colab": {
          "base_uri": "https://localhost:8080/"
        },
        "id": "w4rwrsbrQir1",
        "outputId": "1211be1b-15dd-40fb-a5f6-47b5b79baa9e"
      },
      "execution_count": 5,
      "outputs": [
        {
          "output_type": "stream",
          "name": "stdout",
          "text": [
            "dict_keys(['sno', 'sna', 'sarea', 'mday', 'ar', 'sareaen', 'snaen', 'aren', 'act', 'srcUpdateTime', 'updateTime', 'infoTime', 'infoDate', 'Quantity', 'available_rent_bikes', 'latitude', 'longitude', 'available_return_bikes'])\n",
            "YouBike2.0_捷運科技大樓站\n",
            "0\n",
            "28\n",
            "1652\n"
          ]
        }
      ]
    },
    {
      "cell_type": "code",
      "source": [
        "total=0\n",
        "for i in range(len(data)):\n",
        "   # print(data[i][\"sna\"], data[i][\"available_rent_bikes\"])\n",
        "   # total=total+data[i][\"available_rent_bikes\"]\n",
        "   total+=data[i][\"available_rent_bikes\"]\n",
        "print(total)"
      ],
      "metadata": {
        "colab": {
          "base_uri": "https://localhost:8080/"
        },
        "id": "H02LGR1LR9dP",
        "outputId": "8fbcf1ac-500e-44bb-e094-7d924d50e240"
      },
      "execution_count": 9,
      "outputs": [
        {
          "output_type": "stream",
          "name": "stdout",
          "text": [
            "14191\n"
          ]
        }
      ]
    },
    {
      "cell_type": "code",
      "source": [],
      "metadata": {
        "id": "Lf1tDoWzUNRZ"
      },
      "execution_count": null,
      "outputs": []
    },
    {
      "cell_type": "code",
      "execution_count": null,
      "metadata": {
        "id": "0ln6LteCQXfu",
        "outputId": "5f7791e9-ffe3-42c4-b39f-82afaf2601b7"
      },
      "outputs": [
        {
          "name": "stdout",
          "output_type": "stream",
          "text": [
            "[\n",
            "    {\n",
            "        \"sno\": \"500101001\",\n",
            "        \"sna\": \"YouBike2.0_捷運科技大樓站\",\n",
            "        \"sarea\": \"大安區\",\n",
            "        \"mday\": \"2025-09-14 23:39:16\",\n",
            "        \"ar\": \"復興南路二段235號前\",\n",
            "        \"sareaen\": \"Daan Dist.\",\n",
            "        \"snaen\": \"YouBike2.0_MRT Technology Bldg. Sta.\",\n",
            "        \"aren\": \"No.235， Sec. 2， Fuxing S. Rd.\",\n",
            "        \"act\": \"1\",\n",
            "        \"srcUpdateTime\": \"2025-09-14 23:44:29\",\n",
            "        \"updateTime\": \"2025-09-14 23:44:52\",\n",
            "        \"infoTime\": \"2025-09-14 23:39:16\",\n",
            "        \"infoDate\": \"2025-09-14\",\n",
            "        \"Quantity\": 28,\n",
            "        \"available_rent_bikes\": 1,\n",
            "        \"latitude\": 25.02605,\n",
            "        \"longitude\": 121.5436,\n",
            "        \"available_return_bikes\": 26\n",
            "    },\n",
            "    {\n",
            "        \"sno\": \"500101002\",\n",
            "        \"sna\": \"YouBike2.0_復興南路二段273號前\",\n",
            "        \"sarea\": \"大安區\",\n",
            "        \"mday\": \"2025-09-14 23:41:14\",\n",
            "        \"ar\": \"復興南路二段273號西側\",\n",
            "        \"sareaen\": \"Daan Dist.\",\n",
            "        \"snaen\": \"YouBike2.0_No.273， Sec. 2， Fuxing S. Rd.\",\n",
            "        \"aren\": \"No.273， Sec. 2， Fuxing S. Rd. (West)\",\n",
            "        \"act\": \"1\",\n",
            "        \"srcUpdateTime\": \"2025-09-14 23:44:29\",\n",
            "        \"updateTime\": \"2025-09-14 23:44:52\",\n",
            "        \"infoTime\": \"2025-09-14 23:41:14\",\n",
            "        \"infoDate\": \"2025-09-14\",\n",
            "        \"Quantity\": 21,\n",
            "        \"available_rent_bikes\": 1,\n",
            "        \"latitude\": 25.02565,\n",
            "        \"longitude\": 121.54357,\n",
            "        \"available_return_bikes\": 20\n",
            "    },\n",
            "    {\n",
            "        \"sno\": \"500101003\",\n",
            "        \"sna\": \"YouBike2.0_國北教大實小東側門\",\n",
            "        \"sarea\": \"大安區\",\n",
            "        \"mday\": \"2025-09-14 23:26:02\",\n",
            "        \"ar\": \"和平東路二段96巷7號\",\n",
            "        \"sareaen\": \"Daan Dist.\",\n",
            "        \"snaen\": \"YouBike2.0_NTUE Experiment Elementary School (East)\",\n",
            "        \"aren\": \"No. 7， Ln. 96， Sec. 2， Heping E. Rd\",\n",
            "        \"act\": \"1\",\n",
            "        \"srcUpdateTime\": \"2025-09-14 23:44:29\",\n",
            "        \"updateTime\": \"2025-09-14 23:44:52\",\n",
            "        \"infoTime\": \"2025-09-14 23:26:02\",\n",
            "        \"infoDate\": \"2025-09-14\",\n",
            "        \"Quantity\": 28,\n",
            "        \"available_rent_bikes\": 25,\n",
            "        \"latitude\": 25.02429,\n",
            "        \"longitude\": 121.54124,\n",
            "        \"available_return_bikes\": 3\n",
            "    },\n",
            "    {\n",
            "        \"sno\": \"500101004\",\n",
            "        \"sna\": \"YouBike2.0_和平公園東側\",\n",
            "        \"sarea\": \"大安區\",\n",
            "        \"mday\": \"2025-09-14 23:37:15\",\n",
            "        \"ar\": \"和平東路二段118巷33號\",\n",
            "        \"sareaen\": \"Daan Dist.\",\n",
            "        \"snaen\": \"YouBike2.0_Heping Park (East)\",\n",
            "        \"aren\": \"No. 33， Ln. 118， Sec. 2， Heping E. Rd\",\n",
            "        \"act\": \"1\",\n",
            "        \"srcUpdateTime\": \"2025-09-14 23:44:29\",\n",
            "        \"updateTime\": \"2025-09-14 23:44:52\",\n",
            "        \"infoTime\": \"2025-09-14 23:37:15\",\n",
            "        \"infoDate\": \"2025-09-14\",\n",
            "        \"Quantity\": 11,\n",
            "        \"available_rent_bikes\": 10,\n",
            "        \"latitude\": 25.02351,\n",
            "        \"longitude\": 121.54282,\n",
            "        \"available_return_bikes\": 0\n",
            "    },\n",
            "    {\n",
            "        \"sno\": \"500101005\",\n",
            "        \"sna\": \"YouBike2.0_辛亥復興路口西北側\",\n",
            "        \"sarea\": \"大安區\",\n",
            "        \"mday\": \"2025-09-14 23:30:03\",\n",
            "        \"ar\": \"復興南路二段368號\",\n",
            "        \"sareaen\": \"Daan Dist.\",\n",
            "        \"snaen\": \"YouBike2.0_Xinhai Fuxing Rd. Intersection (Northwest)\",\n",
            "        \"aren\": \"No. 368， Sec. 2， Fuxing S. Rd.\",\n",
            "        \"act\": \"1\",\n",
            "        \"srcUpdateTime\": \"2025-09-14 23:44:29\",\n",
            "        \"updateTime\": \"2025-09-14 23:44:52\",\n",
            "        \"infoTime\": \"2025-09-14 23:30:03\",\n",
            "        \"infoDate\": \"2025-09-14\",\n",
            "        \"Quantity\": 16,\n",
            "        \"available_rent_bikes\": 1,\n",
            "        \"latitude\": 25.02153,\n",
            "        \"longitude\": 121.54299,\n",
            "        \"available_return_bikes\": 14\n",
            "    }\n",
            "]\n"
          ]
        }
      ],
      "source": [
        "print(json.dumps(data[:5], indent=4, ensure_ascii=False))"
      ]
    },
    {
      "cell_type": "markdown",
      "metadata": {
        "id": "GtAzKb8lQXfu"
      },
      "source": [
        "### Traversing JSON data:\n",
        "\n",
        "採用系統性的測試策略，逐步探索由列表（list）與字典（dict）所組成的資料結構。透過這兩個基本法則，我們可以有系統地探索和理解複雜的JSON資料結構：\n",
        "\n",
        "* **法則一：用type()確認資料型態**。\n",
        "* **法則二：遇到列表型態（list）時**，選擇第0筆資料作為出發點繼續深入探索。\n",
        "\n",
        "* **法則三：遇到字典型態（dict）時**，使用`dict.keys()`方法列出所有的鍵（key）。接著，不失一般性地，抽取你感興趣的鍵（key）作為下一步的追蹤目標，通常會第0個。特別注意，如果`.keys()`的輸出顯示為一系列類似於識別碼（id）的鍵（例如，youbike資料），那通常意味著設計者使用這些id來映射對應的資料。在這種情況下，你同樣可以選擇第一個識別碼（id）作為下一步追蹤的起點。"
      ]
    },
    {
      "cell_type": "code",
      "execution_count": null,
      "metadata": {
        "id": "2XoycntTQXfv"
      },
      "outputs": [],
      "source": [
        "# Your code here\n"
      ]
    },
    {
      "cell_type": "markdown",
      "metadata": {
        "id": "jmlcX0MtQXfv"
      },
      "source": [
        "### Observing data\n",
        "\n",
        "實際觀察該JSON資料結構後，你可能會注意到以下幾個特點：\n",
        "* 該資料結構由List of dictionaries構成，List中所包含的每一個dict為一個站台的即時資料。\n",
        "* `'total'`這個鍵（key）所對應的值（value）是總車格數，`'available_rent_bikes'`是可借車輛數，`'available_return_bikes'`是可停空位數。\n",
        "* 這些資料是即時更新的，因此你可能會注意到`'mday'`這個key所對應的value是最後更新的時間。\n",
        "* 另外還有經緯度的資訊，以及站台的名稱、區域等。\n",
        "\n",
        "    ```python\n",
        "    [\n",
        "        {\n",
        "            \"sno\": \"500101001\",\n",
        "            \"sna\": \"YouBike2.0_捷運科技大樓站\",\n",
        "            \"sarea\": \"大安區\",\n",
        "            \"mday\": \"2025-03-09 11:45:29\",\n",
        "            \"ar\": \"復興南路二段235號前\",\n",
        "            \"sareaen\": \"Daan Dist.\",\n",
        "            \"snaen\": \"YouBike2.0_MRT Technology Bldg. Sta.\",\n",
        "            \"aren\": \"No.235， Sec. 2， Fuxing S. Rd.\",\n",
        "            \"act\": \"1\",\n",
        "            \"srcUpdateTime\": \"2025-03-09 11:46:20\",\n",
        "            \"updateTime\": \"2025-03-09 11:46:52\",\n",
        "            \"infoTime\": \"2025-03-09 11:45:29\",\n",
        "            \"infoDate\": \"2025-03-09\",\n",
        "            \"total\": 28,\n",
        "            \"available_rent_bikes\": 17,\n",
        "            \"latitude\": 25.02605,\n",
        "            \"longitude\": 121.5436,\n",
        "            \"available_return_bikes\": 11\n",
        "        },\n",
        "        {\n",
        "            \"sno\": \"500101002\",\n",
        "            \"sna\": \"YouBike2.0_復興南路二段273號前\",\n",
        "            \"sarea\": \"大安區\",\n",
        "            \"mday\": \"2025-03-09 11:45:29\",\n",
        "            \"ar\": \"復興南路二段273號西側\",\n",
        "            \"sareaen\": \"Daan Dist.\",\n",
        "            \"snaen\": \"YouBike2.0_No.273， Sec. 2， Fuxing S. Rd.\",\n",
        "            \"aren\": \"No.273， Sec. 2， Fuxing S. Rd. (West)\",\n",
        "            \"act\": \"1\",\n",
        "            \"srcUpdateTime\": \"2025-03-09 11:46:20\",\n",
        "            \"updateTime\": \"2025-03-09 11:46:52\",\n",
        "            \"infoTime\": \"2025-03-09 11:45:29\",\n",
        "            \"infoDate\": \"2025-03-09\",\n",
        "            \"total\": 21,\n",
        "            \"available_rent_bikes\": 21,\n",
        "            \"latitude\": 25.02565,\n",
        "            \"longitude\": 121.54357,\n",
        "            \"available_return_bikes\": 0\n",
        "        },\n",
        "    ...\n",
        "    ]\n",
        "    ```"
      ]
    },
    {
      "cell_type": "markdown",
      "metadata": {
        "id": "zzpwvu8QQXfw"
      },
      "source": [
        "### Getting all keys and values\n",
        "使用`.keys()`與`.values()`與`.items()`分別取出dict的內容"
      ]
    },
    {
      "cell_type": "code",
      "execution_count": 12,
      "metadata": {
        "colab": {
          "base_uri": "https://localhost:8080/"
        },
        "id": "Y8C1MnSgQXfw",
        "outputId": "abce0e3c-d7a3-45b5-cca2-e9c7f86e6a34"
      },
      "outputs": [
        {
          "output_type": "execute_result",
          "data": {
            "text/plain": [
              "dict_items([('sno', '500101001'), ('sna', 'YouBike2.0_捷運科技大樓站'), ('sarea', '大安區'), ('mday', '2025-09-15 10:43:17'), ('ar', '復興南路二段235號前'), ('sareaen', 'Daan Dist.'), ('snaen', 'YouBike2.0_MRT Technology Bldg. Sta.'), ('aren', 'No.235， Sec. 2， Fuxing S. Rd.'), ('act', '1'), ('srcUpdateTime', '2025-09-15 10:47:30'), ('updateTime', '2025-09-15 10:47:52'), ('infoTime', '2025-09-15 10:43:17'), ('infoDate', '2025-09-15'), ('Quantity', 28), ('available_rent_bikes', 0), ('latitude', 25.02605), ('longitude', 121.5436), ('available_return_bikes', 28)])"
            ]
          },
          "metadata": {},
          "execution_count": 12
        }
      ],
      "source": [
        "# Your code here\n",
        "data[0].keys()\n",
        "data[0].values()\n",
        "data[0].items() # convert a dictionary to a list of tuples."
      ]
    },
    {
      "cell_type": "markdown",
      "metadata": {
        "id": "7HbbJ4HZQXfx"
      },
      "source": [
        "### Iterating data\n",
        "\n",
        "嘗試用`for`-loop將所有的`'total'`與`'available_return_bikes'`值給列印出來，觀察看看不使用`.items()`和使用`.items()`的用法有何差異。"
      ]
    },
    {
      "cell_type": "code",
      "source": [
        "data[:10]"
      ],
      "metadata": {
        "colab": {
          "base_uri": "https://localhost:8080/"
        },
        "id": "ogluUgNEXIes",
        "outputId": "8f5acc7d-eb27-4626-a12f-11cd895db499"
      },
      "execution_count": 15,
      "outputs": [
        {
          "output_type": "execute_result",
          "data": {
            "text/plain": [
              "[{'sno': '500101001',\n",
              "  'sna': 'YouBike2.0_捷運科技大樓站',\n",
              "  'sarea': '大安區',\n",
              "  'mday': '2025-09-15 10:43:17',\n",
              "  'ar': '復興南路二段235號前',\n",
              "  'sareaen': 'Daan Dist.',\n",
              "  'snaen': 'YouBike2.0_MRT Technology Bldg. Sta.',\n",
              "  'aren': 'No.235， Sec. 2， Fuxing S. Rd.',\n",
              "  'act': '1',\n",
              "  'srcUpdateTime': '2025-09-15 10:47:30',\n",
              "  'updateTime': '2025-09-15 10:47:52',\n",
              "  'infoTime': '2025-09-15 10:43:17',\n",
              "  'infoDate': '2025-09-15',\n",
              "  'Quantity': 28,\n",
              "  'available_rent_bikes': 0,\n",
              "  'latitude': 25.02605,\n",
              "  'longitude': 121.5436,\n",
              "  'available_return_bikes': 28},\n",
              " {'sno': '500101002',\n",
              "  'sna': 'YouBike2.0_復興南路二段273號前',\n",
              "  'sarea': '大安區',\n",
              "  'mday': '2025-09-15 10:45:16',\n",
              "  'ar': '復興南路二段273號西側',\n",
              "  'sareaen': 'Daan Dist.',\n",
              "  'snaen': 'YouBike2.0_No.273， Sec. 2， Fuxing S. Rd.',\n",
              "  'aren': 'No.273， Sec. 2， Fuxing S. Rd. (West)',\n",
              "  'act': '1',\n",
              "  'srcUpdateTime': '2025-09-15 10:47:30',\n",
              "  'updateTime': '2025-09-15 10:47:52',\n",
              "  'infoTime': '2025-09-15 10:45:16',\n",
              "  'infoDate': '2025-09-15',\n",
              "  'Quantity': 21,\n",
              "  'available_rent_bikes': 0,\n",
              "  'latitude': 25.02565,\n",
              "  'longitude': 121.54357,\n",
              "  'available_return_bikes': 21},\n",
              " {'sno': '500101003',\n",
              "  'sna': 'YouBike2.0_國北教大實小東側門',\n",
              "  'sarea': '大安區',\n",
              "  'mday': '2025-09-15 10:46:03',\n",
              "  'ar': '和平東路二段96巷7號',\n",
              "  'sareaen': 'Daan Dist.',\n",
              "  'snaen': 'YouBike2.0_NTUE Experiment Elementary School (East)',\n",
              "  'aren': 'No. 7， Ln. 96， Sec. 2， Heping E. Rd',\n",
              "  'act': '1',\n",
              "  'srcUpdateTime': '2025-09-15 10:47:30',\n",
              "  'updateTime': '2025-09-15 10:47:52',\n",
              "  'infoTime': '2025-09-15 10:46:03',\n",
              "  'infoDate': '2025-09-15',\n",
              "  'Quantity': 28,\n",
              "  'available_rent_bikes': 1,\n",
              "  'latitude': 25.02429,\n",
              "  'longitude': 121.54124,\n",
              "  'available_return_bikes': 27},\n",
              " {'sno': '500101004',\n",
              "  'sna': 'YouBike2.0_和平公園東側',\n",
              "  'sarea': '大安區',\n",
              "  'mday': '2025-09-15 10:40:03',\n",
              "  'ar': '和平東路二段118巷33號',\n",
              "  'sareaen': 'Daan Dist.',\n",
              "  'snaen': 'YouBike2.0_Heping Park (East)',\n",
              "  'aren': 'No. 33， Ln. 118， Sec. 2， Heping E. Rd',\n",
              "  'act': '1',\n",
              "  'srcUpdateTime': '2025-09-15 10:47:30',\n",
              "  'updateTime': '2025-09-15 10:47:52',\n",
              "  'infoTime': '2025-09-15 10:40:03',\n",
              "  'infoDate': '2025-09-15',\n",
              "  'Quantity': 11,\n",
              "  'available_rent_bikes': 1,\n",
              "  'latitude': 25.02351,\n",
              "  'longitude': 121.54282,\n",
              "  'available_return_bikes': 10},\n",
              " {'sno': '500101005',\n",
              "  'sna': 'YouBike2.0_辛亥復興路口西北側',\n",
              "  'sarea': '大安區',\n",
              "  'mday': '2025-09-15 10:47:18',\n",
              "  'ar': '復興南路二段368號',\n",
              "  'sareaen': 'Daan Dist.',\n",
              "  'snaen': 'YouBike2.0_Xinhai Fuxing Rd. Intersection (Northwest)',\n",
              "  'aren': 'No. 368， Sec. 2， Fuxing S. Rd.',\n",
              "  'act': '1',\n",
              "  'srcUpdateTime': '2025-09-15 10:47:30',\n",
              "  'updateTime': '2025-09-15 10:47:52',\n",
              "  'infoTime': '2025-09-15 10:47:18',\n",
              "  'infoDate': '2025-09-15',\n",
              "  'Quantity': 16,\n",
              "  'available_rent_bikes': 0,\n",
              "  'latitude': 25.02153,\n",
              "  'longitude': 121.54299,\n",
              "  'available_return_bikes': 16},\n",
              " {'sno': '500101006',\n",
              "  'sna': 'YouBike2.0_復興南路二段280號前',\n",
              "  'sarea': '大安區',\n",
              "  'mday': '2025-09-15 10:44:15',\n",
              "  'ar': '復興南路二段280號',\n",
              "  'sareaen': 'Daan Dist.',\n",
              "  'snaen': 'YouBike2.0_No. 280， Sec. 2， Fuxing S. Rd.',\n",
              "  'aren': 'No. 280， Sec. 2， Fuxing S. Rd.',\n",
              "  'act': '1',\n",
              "  'srcUpdateTime': '2025-09-15 10:47:30',\n",
              "  'updateTime': '2025-09-15 10:47:52',\n",
              "  'infoTime': '2025-09-15 10:44:15',\n",
              "  'infoDate': '2025-09-15',\n",
              "  'Quantity': 27,\n",
              "  'available_rent_bikes': 1,\n",
              "  'latitude': 25.02429,\n",
              "  'longitude': 121.54328,\n",
              "  'available_return_bikes': 26},\n",
              " {'sno': '500101007',\n",
              "  'sna': 'YouBike2.0_復興南路二段340巷口',\n",
              "  'sarea': '大安區',\n",
              "  'mday': '2025-09-15 10:23:02',\n",
              "  'ar': '復興南路二段342號',\n",
              "  'sareaen': 'Daan Dist.',\n",
              "  'snaen': 'YouBike2.0_Ln. 340， Sec. 2， Fuxing S. Rd.',\n",
              "  'aren': 'No. 342， Sec. 2， Fuxing S. Rd.',\n",
              "  'act': '1',\n",
              "  'srcUpdateTime': '2025-09-15 10:47:30',\n",
              "  'updateTime': '2025-09-15 10:47:52',\n",
              "  'infoTime': '2025-09-15 10:23:02',\n",
              "  'infoDate': '2025-09-15',\n",
              "  'Quantity': 11,\n",
              "  'available_rent_bikes': 1,\n",
              "  'latitude': 25.02253,\n",
              "  'longitude': 121.54326,\n",
              "  'available_return_bikes': 10},\n",
              " {'sno': '500101008',\n",
              "  'sna': 'YouBike2.0_新生南路三段52號前',\n",
              "  'sarea': '大安區',\n",
              "  'mday': '2025-09-15 10:30:18',\n",
              "  'ar': '新生南路三段52號',\n",
              "  'sareaen': 'Daan Dist.',\n",
              "  'snaen': 'YouBike2.0_No. 52， Sec. 3， Xinsheng S. Rd.',\n",
              "  'aren': 'No. 52， Sec. 3， Xinsheng S. Rd.',\n",
              "  'act': '1',\n",
              "  'srcUpdateTime': '2025-09-15 10:47:30',\n",
              "  'updateTime': '2025-09-15 10:47:52',\n",
              "  'infoTime': '2025-09-15 10:30:18',\n",
              "  'infoDate': '2025-09-15',\n",
              "  'Quantity': 17,\n",
              "  'available_rent_bikes': 1,\n",
              "  'latitude': 25.02112,\n",
              "  'longitude': 121.53407,\n",
              "  'available_return_bikes': 15},\n",
              " {'sno': '500101009',\n",
              "  'sna': 'YouBike2.0_新生南路三段66號前',\n",
              "  'sarea': '大安區',\n",
              "  'mday': '2025-09-15 10:45:03',\n",
              "  'ar': '新生南路三段66號東側',\n",
              "  'sareaen': 'Daan Dist.',\n",
              "  'snaen': 'YouBike2.0_No. 66， Sec. 3， Xinsheng S. Rd.',\n",
              "  'aren': 'No. 66， Sec. 3， Xinsheng S. Rd. (East)',\n",
              "  'act': '1',\n",
              "  'srcUpdateTime': '2025-09-15 10:47:30',\n",
              "  'updateTime': '2025-09-15 10:47:52',\n",
              "  'infoTime': '2025-09-15 10:45:03',\n",
              "  'infoDate': '2025-09-15',\n",
              "  'Quantity': 16,\n",
              "  'available_rent_bikes': 2,\n",
              "  'latitude': 25.01976,\n",
              "  'longitude': 121.53384,\n",
              "  'available_return_bikes': 14},\n",
              " {'sno': '500101010',\n",
              "  'sna': 'YouBike2.0_新生南路三段82號前',\n",
              "  'sarea': '大安區',\n",
              "  'mday': '2025-09-15 10:39:16',\n",
              "  'ar': '新生南路三段82號',\n",
              "  'sareaen': 'Daan Dist.',\n",
              "  'snaen': 'YouBike2.0_No. 82， Sec. 3， Xinsheng S. Rd.',\n",
              "  'aren': 'No. 82， Sec. 3， Xinsheng S. Rd.',\n",
              "  'act': '1',\n",
              "  'srcUpdateTime': '2025-09-15 10:47:30',\n",
              "  'updateTime': '2025-09-15 10:47:52',\n",
              "  'infoTime': '2025-09-15 10:39:16',\n",
              "  'infoDate': '2025-09-15',\n",
              "  'Quantity': 20,\n",
              "  'available_rent_bikes': 0,\n",
              "  'latitude': 25.01894,\n",
              "  'longitude': 121.53361,\n",
              "  'available_return_bikes': 20}]"
            ]
          },
          "metadata": {},
          "execution_count": 15
        }
      ]
    },
    {
      "cell_type": "code",
      "execution_count": 16,
      "metadata": {
        "colab": {
          "base_uri": "https://localhost:8080/"
        },
        "id": "3TUUc3iyQXfx",
        "outputId": "dabe30f6-bca3-42d8-eae9-1c185a5b5cef"
      },
      "outputs": [
        {
          "output_type": "stream",
          "name": "stdout",
          "text": [
            "102 104\n"
          ]
        }
      ],
      "source": [
        "availabe, total=0, 0\n",
        "for i in range(len(data[:5])):\n",
        "    # print(data[i]['sna'], data[i]['available_return_bikes'])\n",
        "    availabe+=data[i]['available_return_bikes']\n",
        "    total+=data[i]['Quantity']\n",
        "print(availabe, total)"
      ]
    },
    {
      "cell_type": "markdown",
      "metadata": {
        "id": "Xt3X4DlaQXfy"
      },
      "source": [
        "## Q2. Sum-up total number of sbi and tot\n",
        "\n",
        "我想要知道，在全天候24小時中，ubike的使用率何時較高、何時較低。所以我打算統計全台北市所有YouBike站點的可借車輛數（`available_return_bikes`）和可停空位數（`total`）的總和，並計算兩者的比例。這樣一來，我就可以知道該時刻全台北市的YouBike使用率了。未來，我只需要寫一隻爬蟲，每五分鐘就收一次YouBike的資料，並計算出YouBike的使用率，就可以知道全天候24小時中，YouBike的使用率何時較高、何時較低了。\n",
        "\n",
        "所以接下來，我打算計算 `data`中所有 `available_return_bikes` 和 `total` 值的總和，以及這兩個總和的比例：\n",
        "\n",
        "1. **Initialize variables**<br> `available_sum` 和 `total_sum`，都設為0。這兩個變數將用於累加特定的數值。\n",
        "2. **Traversing data**<br>資料使用 `for` 迴圈遍歷 `data` 字典的所有鍵（`key`）。\n",
        "    - `available_sum` 累加每個 `key` 對應的 `available` 值（需先轉換為整數）。\n",
        "    - `total_sum` 累加每個 `key` 對應的 `total` 值（需先轉換為整數）。\n",
        "3. **Sum-up data**<br>最後，返回三個值：`available_sum`（`available` 的總和）、`total_sum`（`total` 的總和）以及 `available_sum/total_sum`（`available` 總和與 `total` 總和的比例）。"
      ]
    },
    {
      "cell_type": "code",
      "execution_count": null,
      "metadata": {
        "id": "FJ1Cd0lMQXfy"
      },
      "outputs": [],
      "source": [
        "# Your code here"
      ]
    },
    {
      "cell_type": "markdown",
      "metadata": {
        "id": "8l1pkcvLQXfy"
      },
      "source": [
        "## Q3: Counting ubike site number of each area\n",
        "\n",
        "現在，我們已經可以用簡單的for-loop逐一跑過所有的Youbike即時資料。但我發現在資料中，`sarea`欄位資料為行政區，所以我想要統計，每個行政區有幾個Youbike站點。這樣一來，我就可以知道哪個行政區的Youbike站點最多了。相同的，我也可以統計，每個行政區的Youbike站點的可借車輛數（`available`）和可停空位數（`total`）的總和，並計算兩者的比例。這樣一來，我就可以知道哪個行政區的Youbike使用率最高了。"
      ]
    },
    {
      "cell_type": "markdown",
      "metadata": {
        "id": "I0SZB957QXfz"
      },
      "source": [
        "### Counting sites by area"
      ]
    },
    {
      "cell_type": "code",
      "execution_count": 24,
      "metadata": {
        "colab": {
          "base_uri": "https://localhost:8080/"
        },
        "id": "syGuXmMCQXfz",
        "outputId": "3f5975a7-1c3d-43a3-92b2-bbf57902d8dd"
      },
      "outputs": [
        {
          "output_type": "stream",
          "name": "stdout",
          "text": [
            "{'大安區': 201, '大同區': 76, '士林區': 140, '文山區': 116, '中正區': 131, '中山區': 190, '內湖區': 202, '北投區': 111, '松山區': 101, '南港區': 114, '信義區': 123, '萬華區': 88, '臺大公館校區': 59}\n",
            "{}\n"
          ]
        }
      ],
      "source": [
        "# Your code here\n",
        "area_count={}\n",
        "area_sum={}\n",
        "for i in range(len(data)):\n",
        "  sarea=data[i]['sarea']\n",
        "  if sarea not in area_count:\n",
        "    area_count[sarea]=1\n",
        "  else:\n",
        "    area_count[sarea]+=1\n",
        "print(area_count)\n",
        "print(area_sum)"
      ]
    },
    {
      "cell_type": "markdown",
      "metadata": {
        "id": "Vsmz5QMoQXfz"
      },
      "source": [
        "# Q4: Traversing AQI data\n",
        "\n",
        "以下為存取環保署開放資料平台空品資料的API連結與方法，請仿照Trace Youbike data的方法依序回答以下兩個問題。"
      ]
    },
    {
      "cell_type": "code",
      "execution_count": null,
      "metadata": {
        "id": "-H95BmjOQXfz",
        "outputId": "9d0a63d2-beda-468a-ae21-c47c95b5100e"
      },
      "outputs": [
        {
          "name": "stdout",
          "output_type": "stream",
          "text": [
            "<class 'list'>\n"
          ]
        }
      ],
      "source": [
        "import requests\n",
        "import json\n",
        "url = \"https://airtw.moenv.gov.tw/gis_ajax.aspx?Type=GetAQInfo&Layer=EPA&QueryTime=2025/09/12%2011:00\"\n",
        "aqdata = requests.get(url).json()\n",
        "\n",
        "print(type(aqdata)) # <class 'list'>"
      ]
    },
    {
      "cell_type": "markdown",
      "metadata": {
        "id": "NGBUoeiHQXf0"
      },
      "source": [
        "### AQI.1 Accessing list\n",
        "\n",
        "請Access該筆資料列印出第一個站台的站台名稱為何？"
      ]
    },
    {
      "cell_type": "code",
      "execution_count": null,
      "metadata": {
        "id": "mEHbuTJQQXf0"
      },
      "outputs": [],
      "source": [
        "# Your code here"
      ]
    },
    {
      "cell_type": "markdown",
      "metadata": {
        "id": "lzmEXypBQXf0"
      },
      "source": [
        "###  AQI.2 Checking data type\n",
        "\n",
        "請Access空品資料的任一筆資料，觀察資料內容，用程式列印出AQI的Data type為何？"
      ]
    },
    {
      "cell_type": "code",
      "execution_count": null,
      "metadata": {
        "id": "SX_AIi3GQXf0"
      },
      "outputs": [],
      "source": [
        "# Your code here"
      ]
    },
    {
      "cell_type": "markdown",
      "metadata": {
        "id": "sIK_7FvFQXf0"
      },
      "source": [
        "### AQI.3: Converting data structure\n",
        "\n",
        "目前的資料是將所有測站資料存放在一個List中，這樣會使得我們無法查詢例如「三重」測站的資料。因此，我們需要將資料結構轉換成Dictionary，以便我們可以透過測站名稱來查詢資料。怎麼做？"
      ]
    },
    {
      "cell_type": "code",
      "execution_count": null,
      "metadata": {
        "id": "wHDxJSCmQXf1",
        "outputId": "88ce6044-1419-4cfe-91f5-3c68abacd1d8"
      },
      "outputs": [
        {
          "name": "stdout",
          "output_type": "stream",
          "text": [
            "54\n"
          ]
        }
      ],
      "source": [
        "for site in aqdata:\n",
        "    if site['SiteName'] == '三重':\n",
        "        print(site['AQI'])"
      ]
    },
    {
      "cell_type": "code",
      "execution_count": null,
      "metadata": {
        "id": "2QTO2t6SQXf1"
      },
      "outputs": [],
      "source": [
        "aqdict = {}\n",
        "# Your code here"
      ]
    },
    {
      "cell_type": "markdown",
      "metadata": {
        "id": "ca38948b"
      },
      "source": [
        "# Task\n",
        "Fetch YouBike data every 5 minutes for 288 iterations to determine the time of day with the fewest available bikes."
      ]
    },
    {
      "cell_type": "markdown",
      "metadata": {
        "id": "229ae9d6"
      },
      "source": [
        "## Define a function to fetch data\n",
        "\n",
        "### Subtask:\n",
        "Create a Python function that fetches the YouBike data from the API and returns the list of dictionaries.\n"
      ]
    },
    {
      "cell_type": "markdown",
      "metadata": {
        "id": "dfc1d681"
      },
      "source": [
        "**Reasoning**:\n",
        "Define the `fetch_youbike_data` function to fetch and return YouBike data from the API.\n",
        "\n"
      ]
    },
    {
      "cell_type": "code",
      "metadata": {
        "id": "89f68f5f"
      },
      "source": [
        "def fetch_youbike_data():\n",
        "    \"\"\"Fetches YouBike data from the API and returns a list of dictionaries.\"\"\"\n",
        "    url = 'https://tcgbusfs.blob.core.windows.net/dotapp/youbike/v2/youbike_immediate.json'\n",
        "    response = requests.get(url)\n",
        "    data = response.json()\n",
        "    return data"
      ],
      "execution_count": 10,
      "outputs": []
    },
    {
      "cell_type": "markdown",
      "metadata": {
        "id": "1ca9e7bc"
      },
      "source": [
        "## Set up the loop and time delay\n",
        "\n",
        "### Subtask:\n",
        "Use a `for` loop to iterate 288 times. Inside the loop, call the data fetching function and include a 5-minute time delay between iterations using the `time` module.\n"
      ]
    },
    {
      "cell_type": "markdown",
      "metadata": {
        "id": "1866e2de"
      },
      "source": [
        "**Reasoning**:\n",
        "Import the time module, initialize an empty list, and start a for loop to fetch data and sleep for 5 minutes in each iteration.\n",
        "\n"
      ]
    },
    {
      "cell_type": "code",
      "metadata": {
        "colab": {
          "base_uri": "https://localhost:8080/",
          "height": 176
        },
        "id": "3592152d",
        "outputId": "65e10b5d-e387-4922-f60b-c2cc692000cd"
      },
      "source": [
        "=import time\n",
        "\n",
        "all_youbike_data = []\n",
        "\n",
        "for _ in range(288):\n",
        "    youbike_data = fetch_youbike_data()\n",
        "    all_youbike_data.append(youbike_data)\n",
        "    time.sleep(300)"
      ],
      "execution_count": 11,
      "outputs": [
        {
          "output_type": "error",
          "ename": "KeyboardInterrupt",
          "evalue": "",
          "traceback": [
            "\u001b[0;31m---------------------------------------------------------------------------\u001b[0m",
            "\u001b[0;31mKeyboardInterrupt\u001b[0m                         Traceback (most recent call last)",
            "\u001b[0;32m/tmp/ipython-input-455016404.py\u001b[0m in \u001b[0;36m<cell line: 0>\u001b[0;34m()\u001b[0m\n\u001b[1;32m      6\u001b[0m     \u001b[0myoubike_data\u001b[0m \u001b[0;34m=\u001b[0m \u001b[0mfetch_youbike_data\u001b[0m\u001b[0;34m(\u001b[0m\u001b[0;34m)\u001b[0m\u001b[0;34m\u001b[0m\u001b[0;34m\u001b[0m\u001b[0m\n\u001b[1;32m      7\u001b[0m     \u001b[0mall_youbike_data\u001b[0m\u001b[0;34m.\u001b[0m\u001b[0mappend\u001b[0m\u001b[0;34m(\u001b[0m\u001b[0myoubike_data\u001b[0m\u001b[0;34m)\u001b[0m\u001b[0;34m\u001b[0m\u001b[0;34m\u001b[0m\u001b[0m\n\u001b[0;32m----> 8\u001b[0;31m     \u001b[0mtime\u001b[0m\u001b[0;34m.\u001b[0m\u001b[0msleep\u001b[0m\u001b[0;34m(\u001b[0m\u001b[0;36m300\u001b[0m\u001b[0;34m)\u001b[0m\u001b[0;34m\u001b[0m\u001b[0;34m\u001b[0m\u001b[0m\n\u001b[0m",
            "\u001b[0;31mKeyboardInterrupt\u001b[0m: "
          ]
        }
      ]
    }
  ],
  "metadata": {
    "kernelspec": {
      "display_name": "new_tm",
      "language": "python",
      "name": "python3"
    },
    "language_info": {
      "codemirror_mode": {
        "name": "ipython",
        "version": 3
      },
      "file_extension": ".py",
      "mimetype": "text/x-python",
      "name": "python",
      "nbconvert_exporter": "python",
      "pygments_lexer": "ipython3",
      "version": "3.9.7"
    },
    "colab": {
      "provenance": []
    }
  },
  "nbformat": 4,
  "nbformat_minor": 0
}