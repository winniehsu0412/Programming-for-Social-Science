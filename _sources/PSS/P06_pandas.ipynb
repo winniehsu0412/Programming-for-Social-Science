{
  "cells": [
    {
      "cell_type": "markdown",
      "id": "3d0eef1e-9926-43fd-9f6c-3cf2f638349f",
      "metadata": {
        "id": "3d0eef1e-9926-43fd-9f6c-3cf2f638349f"
      },
      "source": [
        "# P06 Pandas\n",
        "\n",
        "- [Slide: Py06 Pandas and data manipulation](https://docs.google.com/presentation/d/1OP8GcjUUWc9MWxfPNW2Ch47iENpXyOKeMKGzSth1UPs/edit?usp=sharing)\n",
        "- Pandas cheat sheet: https://pandas.pydata.org/Pandas_Cheat_Sheet.pdf\n",
        "- [stackoverflow: Convert to json](https://stackoverflow.com/questions/20638006/convert-list-of-dictionaries-to-dataframe)\n",
        "\n",
        "## 1. Introduction to Pandas and DataFrame\n",
        "\n",
        "Pandas模仿Matlab或R的dataframe的函式庫。在資料科學逐漸發展的過程，這些資料大多以類似統計軟體或者Excel等試算表（Sheet）的狀態儲存，也就是二維的表格，且通常是直欄為變數、而橫列為資料列。\n",
        "\n",
        "把這些資料讀進Python時，固然可以讀成List-of-dictionary或List-of-list的型態，但大部分資料操作的思考邏輯，都是以欄和列為基礎，例如增加一個欄是refactor以後的結果、或者篩選出某些變數符合條件的資料列，或者依據某個欄來重新排列資料列的位置。而Pandas可以說就是被設計來滿足這樣的需求的，\n",
        "\n",
        "隨著資料科學受世人重視，而發展的越來越完整。例如，Pandas中便有以下函式：\n",
        "  1. Reading files: `pd.read_csv('data.csv')`或讀取JSON `pd.read_json('data.json')`\n",
        "  2. Filtering data: Slicing data `df[0:10]`、Selecting data `df['col1']`、Filtering data `df[df['col1'] > 0]`\n",
        "  3. Mutating a new variable(on column), Observing a variable, Changing data type\n",
        "  4. Arranging (Sorting) data: `df.sort_values(by = 'col1')`\n",
        "  5. Summarizing data (group by columns): `df.groupby('col1').mean()`\n",
        "  6. NA removal: `df.dropna()`, Duplicate removal: `df.drop_duplicates(inplace = True)`\n",
        "  7. Basic correlation: `df.corr()`\n",
        "  8. Pivot table and reshape data: `df.pivot_table(index = 'col1', columns = 'col2', values = 'col3')`\n",
        "  9. Joining data: `pd.merge(df1, df2, on = 'col1')`\n",
        "  10. Concatenating data: `pd.concat([df1, df2])`\n",
        "\n",
        "學習資源：[Pandas cheat sheet (from pandas)](https://pandas.pydata.org/Pandas_Cheat_Sheet.pdf)\n"
      ]
    },
    {
      "cell_type": "markdown",
      "id": "a0b7cbae",
      "metadata": {
        "id": "a0b7cbae"
      },
      "source": [
        "\n",
        "## 2. Creating dataframe\n",
        "\n",
        "Most datasets can be thought of in a **tabular** form, where **rows** represent individual records and **columns** represent attributes. This is why the **Pandas** **DataFrame** is such a powerful and widely used tool. Unlike a simple one-layer List or Dict, real-world data often comes in more complex structures—such as nested lists/dictionaries, or collections of multiple lists and dictionaries. Among these, the most common and practical format is the **list of dictionaries**, which maps naturally to rows and columns and can be easily converted into a DataFrame for analysis.\n"
      ]
    },
    {
      "cell_type": "code",
      "execution_count": null,
      "id": "85706f7b",
      "metadata": {
        "id": "85706f7b",
        "outputId": "589c83ed-414a-4aff-cb9e-4e49fd79d633"
      },
      "outputs": [
        {
          "data": {
            "application/vnd.microsoft.datawrangler.viewer.v0+json": {
              "columns": [
                {
                  "name": "index",
                  "rawType": "int64",
                  "type": "integer"
                },
                {
                  "name": "name",
                  "rawType": "object",
                  "type": "string"
                },
                {
                  "name": "age",
                  "rawType": "int64",
                  "type": "integer"
                },
                {
                  "name": "city",
                  "rawType": "object",
                  "type": "string"
                }
              ],
              "ref": "d89e432a-0ea4-4b41-b078-f32464699a23",
              "rows": [
                [
                  "0",
                  "Alice",
                  "25",
                  "Taipei"
                ],
                [
                  "1",
                  "Bob",
                  "30",
                  "Tainan"
                ],
                [
                  "2",
                  "Cathy",
                  "28",
                  "Taichung"
                ]
              ],
              "shape": {
                "columns": 3,
                "rows": 3
              }
            },
            "text/html": [
              "<div>\n",
              "<style scoped>\n",
              "    .dataframe tbody tr th:only-of-type {\n",
              "        vertical-align: middle;\n",
              "    }\n",
              "\n",
              "    .dataframe tbody tr th {\n",
              "        vertical-align: top;\n",
              "    }\n",
              "\n",
              "    .dataframe thead th {\n",
              "        text-align: right;\n",
              "    }\n",
              "</style>\n",
              "<table border=\"1\" class=\"dataframe\">\n",
              "  <thead>\n",
              "    <tr style=\"text-align: right;\">\n",
              "      <th></th>\n",
              "      <th>name</th>\n",
              "      <th>age</th>\n",
              "      <th>city</th>\n",
              "    </tr>\n",
              "  </thead>\n",
              "  <tbody>\n",
              "    <tr>\n",
              "      <th>0</th>\n",
              "      <td>Alice</td>\n",
              "      <td>25</td>\n",
              "      <td>Taipei</td>\n",
              "    </tr>\n",
              "    <tr>\n",
              "      <th>1</th>\n",
              "      <td>Bob</td>\n",
              "      <td>30</td>\n",
              "      <td>Tainan</td>\n",
              "    </tr>\n",
              "    <tr>\n",
              "      <th>2</th>\n",
              "      <td>Cathy</td>\n",
              "      <td>28</td>\n",
              "      <td>Taichung</td>\n",
              "    </tr>\n",
              "  </tbody>\n",
              "</table>\n",
              "</div>"
            ],
            "text/plain": [
              "    name  age      city\n",
              "0  Alice   25    Taipei\n",
              "1    Bob   30    Tainan\n",
              "2  Cathy   28  Taichung"
            ]
          },
          "execution_count": 19,
          "metadata": {},
          "output_type": "execute_result"
        }
      ],
      "source": [
        "import pandas as pd\n",
        "\n",
        "data = [\n",
        "    {\"name\": \"Alice\", \"age\": 25, \"city\": \"Taipei\"},\n",
        "    {\"name\": \"Bob\", \"age\": 30, \"city\": \"Tainan\"},\n",
        "    {\"name\": \"Cathy\", \"age\": 28, \"city\": \"Taichung\"}\n",
        "]\n",
        "\n",
        "df = pd.DataFrame(data)\n",
        "df"
      ]
    },
    {
      "cell_type": "markdown",
      "id": "8064dc2d",
      "metadata": {
        "id": "8064dc2d"
      },
      "source": [
        "### 2.1 Read CSV: 違規藥品廣告\n",
        "\n",
        "違規藥品廣告資料集 https://data.nat.gov.tw/dataset/14196\n",
        "\n",
        "The dataset contains information about illegal drug advertisements, including the name of the drug, the type of advertisement, the date it was reported, and the source of the report. We will use `pd.read_csv()` to read the url and load the data into a DataFrame."
      ]
    },
    {
      "cell_type": "code",
      "execution_count": null,
      "id": "3ddc5bad",
      "metadata": {
        "id": "3ddc5bad",
        "outputId": "5e8fa513-28a0-4c62-d9e1-3e8d32b07aae"
      },
      "outputs": [
        {
          "data": {
            "application/vnd.microsoft.datawrangler.viewer.v0+json": {
              "columns": [
                {
                  "name": "index",
                  "rawType": "int64",
                  "type": "integer"
                },
                {
                  "name": "違規產品名稱",
                  "rawType": "object",
                  "type": "string"
                },
                {
                  "name": "違規廠商名稱或負責人",
                  "rawType": "object",
                  "type": "string"
                },
                {
                  "name": "處分機關",
                  "rawType": "object",
                  "type": "unknown"
                },
                {
                  "name": "處分日期",
                  "rawType": "object",
                  "type": "string"
                },
                {
                  "name": "處分法條",
                  "rawType": "object",
                  "type": "unknown"
                },
                {
                  "name": "違規情節",
                  "rawType": "object",
                  "type": "string"
                },
                {
                  "name": "刊播日期",
                  "rawType": "object",
                  "type": "string"
                },
                {
                  "name": "刊播媒體類別",
                  "rawType": "object",
                  "type": "string"
                },
                {
                  "name": "刊播媒體",
                  "rawType": "object",
                  "type": "string"
                },
                {
                  "name": "查處情形",
                  "rawType": "object",
                  "type": "unknown"
                }
              ],
              "conversionMethod": "pd.DataFrame",
              "ref": "49923aa2-a3ea-4ac1-95f7-654624c450dc",
              "rows": [
                [
                  "0",
                  "維他肝",
                  "豐怡生化科技股份有限公司/朱O",
                  null,
                  "03 31 2022 12:00AM",
                  null,
                  "廣告內容誇大不實",
                  "02 2 2022 12:00AM",
                  "廣播電台",
                  "噶瑪蘭廣播電台股份有限公司",
                  null
                ],
                [
                  "1",
                  "現貨澳洲Swisse ULTIBOOST維他命D片calcium vitamin VITAMIN D400粒 補鈣 骨頭",
                  "張O雯/張O雯",
                  null,
                  "01 21 2022 12:00AM",
                  null,
                  "廣告違規",
                  "11 30 2021 12:00AM",
                  "網路",
                  "蝦皮購物",
                  "輔導結案"
                ],
                [
                  "2",
                  "✈日本 代購 參天製藥 處方簽點眼液",
                  "蘇O涵/蘇O涵",
                  null,
                  "01 25 2022 12:00AM",
                  null,
                  "無照藥商",
                  "08 27 2021 12:00AM",
                  "網路",
                  "蝦皮購物",
                  null
                ],
                [
                  "3",
                  "✈日本 代購 TSUMURA 中將湯 24天包裝",
                  "蘇O涵/蘇O涵",
                  null,
                  "01 25 2022 12:00AM",
                  null,
                  "無照藥商",
                  "08 27 2021 12:00AM",
                  "網路",
                  "蝦皮購物",
                  "輔導結案"
                ],
                [
                  "4",
                  "_Salty.shop 日本代購 樂敦小花",
                  "曾O嫺/曾O嫺",
                  null,
                  "02 17 2022 12:00AM",
                  "藥事法第27條",
                  "無照藥商",
                  "12 6 2021 12:00AM",
                  "網路",
                  "蝦皮購物",
                  "處分結案"
                ]
              ],
              "shape": {
                "columns": 10,
                "rows": 5
              }
            },
            "text/html": [
              "<div>\n",
              "<style scoped>\n",
              "    .dataframe tbody tr th:only-of-type {\n",
              "        vertical-align: middle;\n",
              "    }\n",
              "\n",
              "    .dataframe tbody tr th {\n",
              "        vertical-align: top;\n",
              "    }\n",
              "\n",
              "    .dataframe thead th {\n",
              "        text-align: right;\n",
              "    }\n",
              "</style>\n",
              "<table border=\"1\" class=\"dataframe\">\n",
              "  <thead>\n",
              "    <tr style=\"text-align: right;\">\n",
              "      <th></th>\n",
              "      <th>違規產品名稱</th>\n",
              "      <th>違規廠商名稱或負責人</th>\n",
              "      <th>處分機關</th>\n",
              "      <th>處分日期</th>\n",
              "      <th>處分法條</th>\n",
              "      <th>違規情節</th>\n",
              "      <th>刊播日期</th>\n",
              "      <th>刊播媒體類別</th>\n",
              "      <th>刊播媒體</th>\n",
              "      <th>查處情形</th>\n",
              "    </tr>\n",
              "  </thead>\n",
              "  <tbody>\n",
              "    <tr>\n",
              "      <th>0</th>\n",
              "      <td>維他肝</td>\n",
              "      <td>豐怡生化科技股份有限公司/朱O</td>\n",
              "      <td>NaN</td>\n",
              "      <td>03 31 2022 12:00AM</td>\n",
              "      <td>NaN</td>\n",
              "      <td>廣告內容誇大不實</td>\n",
              "      <td>02 2 2022 12:00AM</td>\n",
              "      <td>廣播電台</td>\n",
              "      <td>噶瑪蘭廣播電台股份有限公司</td>\n",
              "      <td>NaN</td>\n",
              "    </tr>\n",
              "    <tr>\n",
              "      <th>1</th>\n",
              "      <td>現貨澳洲Swisse ULTIBOOST維他命D片calcium vitamin VITAM...</td>\n",
              "      <td>張O雯/張O雯</td>\n",
              "      <td>NaN</td>\n",
              "      <td>01 21 2022 12:00AM</td>\n",
              "      <td>NaN</td>\n",
              "      <td>廣告違規</td>\n",
              "      <td>11 30 2021 12:00AM</td>\n",
              "      <td>網路</td>\n",
              "      <td>蝦皮購物</td>\n",
              "      <td>輔導結案</td>\n",
              "    </tr>\n",
              "    <tr>\n",
              "      <th>2</th>\n",
              "      <td>✈日本 代購 參天製藥 處方簽點眼液</td>\n",
              "      <td>蘇O涵/蘇O涵</td>\n",
              "      <td>NaN</td>\n",
              "      <td>01 25 2022 12:00AM</td>\n",
              "      <td>NaN</td>\n",
              "      <td>無照藥商</td>\n",
              "      <td>08 27 2021 12:00AM</td>\n",
              "      <td>網路</td>\n",
              "      <td>蝦皮購物</td>\n",
              "      <td>NaN</td>\n",
              "    </tr>\n",
              "    <tr>\n",
              "      <th>3</th>\n",
              "      <td>✈日本 代購 TSUMURA 中將湯 24天包裝</td>\n",
              "      <td>蘇O涵/蘇O涵</td>\n",
              "      <td>NaN</td>\n",
              "      <td>01 25 2022 12:00AM</td>\n",
              "      <td>NaN</td>\n",
              "      <td>無照藥商</td>\n",
              "      <td>08 27 2021 12:00AM</td>\n",
              "      <td>網路</td>\n",
              "      <td>蝦皮購物</td>\n",
              "      <td>輔導結案</td>\n",
              "    </tr>\n",
              "    <tr>\n",
              "      <th>4</th>\n",
              "      <td>_Salty.shop 日本代購 樂敦小花</td>\n",
              "      <td>曾O嫺/曾O嫺</td>\n",
              "      <td>NaN</td>\n",
              "      <td>02 17 2022 12:00AM</td>\n",
              "      <td>藥事法第27條</td>\n",
              "      <td>無照藥商</td>\n",
              "      <td>12 6 2021 12:00AM</td>\n",
              "      <td>網路</td>\n",
              "      <td>蝦皮購物</td>\n",
              "      <td>處分結案</td>\n",
              "    </tr>\n",
              "  </tbody>\n",
              "</table>\n",
              "</div>"
            ],
            "text/plain": [
              "                                              違規產品名稱       違規廠商名稱或負責人 處分機關  \\\n",
              "0                                                維他肝  豐怡生化科技股份有限公司/朱O  NaN   \n",
              "1  現貨澳洲Swisse ULTIBOOST維他命D片calcium vitamin VITAM...          張O雯/張O雯  NaN   \n",
              "2                                 ✈日本 代購 參天製藥 處方簽點眼液          蘇O涵/蘇O涵  NaN   \n",
              "3                           ✈日本 代購 TSUMURA 中將湯 24天包裝          蘇O涵/蘇O涵  NaN   \n",
              "4                              _Salty.shop 日本代購 樂敦小花          曾O嫺/曾O嫺  NaN   \n",
              "\n",
              "                 處分日期     處分法條      違規情節                刊播日期 刊播媒體類別  \\\n",
              "0  03 31 2022 12:00AM      NaN  廣告內容誇大不實   02 2 2022 12:00AM   廣播電台   \n",
              "1  01 21 2022 12:00AM      NaN      廣告違規  11 30 2021 12:00AM     網路   \n",
              "2  01 25 2022 12:00AM      NaN      無照藥商  08 27 2021 12:00AM     網路   \n",
              "3  01 25 2022 12:00AM      NaN      無照藥商  08 27 2021 12:00AM     網路   \n",
              "4  02 17 2022 12:00AM  藥事法第27條      無照藥商   12 6 2021 12:00AM     網路   \n",
              "\n",
              "            刊播媒體  查處情形  \n",
              "0  噶瑪蘭廣播電台股份有限公司   NaN  \n",
              "1           蝦皮購物  輔導結案  \n",
              "2           蝦皮購物   NaN  \n",
              "3           蝦皮購物  輔導結案  \n",
              "4           蝦皮購物  處分結案  "
            ]
          },
          "metadata": {},
          "output_type": "display_data"
        }
      ],
      "source": [
        "import pandas as pd\n",
        "drug_df = pd.read_csv('https://raw.githubusercontent.com/p4css/py4css/main/data/drug_156_2.csv')\n",
        "drug_df.head()"
      ]
    },
    {
      "cell_type": "code",
      "execution_count": null,
      "id": "6b4625aa",
      "metadata": {
        "id": "6b4625aa",
        "outputId": "9e03191c-ad45-4d6b-ee06-69133401c6d6"
      },
      "outputs": [
        {
          "name": "stdout",
          "output_type": "stream",
          "text": [
            "drug_df\t pd\t \n"
          ]
        }
      ],
      "source": [
        "# `%who` is a magic command that lists all variables of the current session\n",
        "%who"
      ]
    },
    {
      "cell_type": "code",
      "source": [
        "import pandas as pd\n",
        "#pd.read_csv(url)\n",
        "drug_df = pd.read_csv('https://raw.githubusercontent.com/p4css/py4css/main/data/drug_156_2.csv')\n",
        "display(drug_df.head())  #取前5筆資料 #若要取前3筆，輸入(3)\n",
        "\n",
        "ubike_df = pd.read_json('https://tcgbusfs.blob.core.windows.net/dotapp/youbike/v2/youbike_immediate.json')\n",
        "display(ubike_df.head())"
      ],
      "metadata": {
        "colab": {
          "base_uri": "https://localhost:8080/",
          "height": 1000
        },
        "id": "KASOzbutZ8Cy",
        "outputId": "783a2746-4f9c-4e48-ac82-39d59a6a25c0"
      },
      "id": "KASOzbutZ8Cy",
      "execution_count": 1,
      "outputs": [
        {
          "output_type": "display_data",
          "data": {
            "text/plain": [
              "                                              違規產品名稱       違規廠商名稱或負責人 處分機關  \\\n",
              "0                                                維他肝  豐怡生化科技股份有限公司/朱O  NaN   \n",
              "1  現貨澳洲Swisse ULTIBOOST維他命D片calcium vitamin VITAM...          張O雯/張O雯  NaN   \n",
              "2                                 ✈日本 代購 參天製藥 處方簽點眼液          蘇O涵/蘇O涵  NaN   \n",
              "3                           ✈日本 代購 TSUMURA 中將湯 24天包裝          蘇O涵/蘇O涵  NaN   \n",
              "4                              _Salty.shop 日本代購 樂敦小花          曾O嫺/曾O嫺  NaN   \n",
              "\n",
              "                 處分日期     處分法條      違規情節                刊播日期 刊播媒體類別  \\\n",
              "0  03 31 2022 12:00AM      NaN  廣告內容誇大不實   02 2 2022 12:00AM   廣播電台   \n",
              "1  01 21 2022 12:00AM      NaN      廣告違規  11 30 2021 12:00AM     網路   \n",
              "2  01 25 2022 12:00AM      NaN      無照藥商  08 27 2021 12:00AM     網路   \n",
              "3  01 25 2022 12:00AM      NaN      無照藥商  08 27 2021 12:00AM     網路   \n",
              "4  02 17 2022 12:00AM  藥事法第27條      無照藥商   12 6 2021 12:00AM     網路   \n",
              "\n",
              "            刊播媒體  查處情形  \n",
              "0  噶瑪蘭廣播電台股份有限公司   NaN  \n",
              "1           蝦皮購物  輔導結案  \n",
              "2           蝦皮購物   NaN  \n",
              "3           蝦皮購物  輔導結案  \n",
              "4           蝦皮購物  處分結案  "
            ],
            "text/html": [
              "\n",
              "  <div id=\"df-39d7fa38-1220-4516-9427-20e096732d9c\" class=\"colab-df-container\">\n",
              "    <div>\n",
              "<style scoped>\n",
              "    .dataframe tbody tr th:only-of-type {\n",
              "        vertical-align: middle;\n",
              "    }\n",
              "\n",
              "    .dataframe tbody tr th {\n",
              "        vertical-align: top;\n",
              "    }\n",
              "\n",
              "    .dataframe thead th {\n",
              "        text-align: right;\n",
              "    }\n",
              "</style>\n",
              "<table border=\"1\" class=\"dataframe\">\n",
              "  <thead>\n",
              "    <tr style=\"text-align: right;\">\n",
              "      <th></th>\n",
              "      <th>違規產品名稱</th>\n",
              "      <th>違規廠商名稱或負責人</th>\n",
              "      <th>處分機關</th>\n",
              "      <th>處分日期</th>\n",
              "      <th>處分法條</th>\n",
              "      <th>違規情節</th>\n",
              "      <th>刊播日期</th>\n",
              "      <th>刊播媒體類別</th>\n",
              "      <th>刊播媒體</th>\n",
              "      <th>查處情形</th>\n",
              "    </tr>\n",
              "  </thead>\n",
              "  <tbody>\n",
              "    <tr>\n",
              "      <th>0</th>\n",
              "      <td>維他肝</td>\n",
              "      <td>豐怡生化科技股份有限公司/朱O</td>\n",
              "      <td>NaN</td>\n",
              "      <td>03 31 2022 12:00AM</td>\n",
              "      <td>NaN</td>\n",
              "      <td>廣告內容誇大不實</td>\n",
              "      <td>02 2 2022 12:00AM</td>\n",
              "      <td>廣播電台</td>\n",
              "      <td>噶瑪蘭廣播電台股份有限公司</td>\n",
              "      <td>NaN</td>\n",
              "    </tr>\n",
              "    <tr>\n",
              "      <th>1</th>\n",
              "      <td>現貨澳洲Swisse ULTIBOOST維他命D片calcium vitamin VITAM...</td>\n",
              "      <td>張O雯/張O雯</td>\n",
              "      <td>NaN</td>\n",
              "      <td>01 21 2022 12:00AM</td>\n",
              "      <td>NaN</td>\n",
              "      <td>廣告違規</td>\n",
              "      <td>11 30 2021 12:00AM</td>\n",
              "      <td>網路</td>\n",
              "      <td>蝦皮購物</td>\n",
              "      <td>輔導結案</td>\n",
              "    </tr>\n",
              "    <tr>\n",
              "      <th>2</th>\n",
              "      <td>✈日本 代購 參天製藥 處方簽點眼液</td>\n",
              "      <td>蘇O涵/蘇O涵</td>\n",
              "      <td>NaN</td>\n",
              "      <td>01 25 2022 12:00AM</td>\n",
              "      <td>NaN</td>\n",
              "      <td>無照藥商</td>\n",
              "      <td>08 27 2021 12:00AM</td>\n",
              "      <td>網路</td>\n",
              "      <td>蝦皮購物</td>\n",
              "      <td>NaN</td>\n",
              "    </tr>\n",
              "    <tr>\n",
              "      <th>3</th>\n",
              "      <td>✈日本 代購 TSUMURA 中將湯 24天包裝</td>\n",
              "      <td>蘇O涵/蘇O涵</td>\n",
              "      <td>NaN</td>\n",
              "      <td>01 25 2022 12:00AM</td>\n",
              "      <td>NaN</td>\n",
              "      <td>無照藥商</td>\n",
              "      <td>08 27 2021 12:00AM</td>\n",
              "      <td>網路</td>\n",
              "      <td>蝦皮購物</td>\n",
              "      <td>輔導結案</td>\n",
              "    </tr>\n",
              "    <tr>\n",
              "      <th>4</th>\n",
              "      <td>_Salty.shop 日本代購 樂敦小花</td>\n",
              "      <td>曾O嫺/曾O嫺</td>\n",
              "      <td>NaN</td>\n",
              "      <td>02 17 2022 12:00AM</td>\n",
              "      <td>藥事法第27條</td>\n",
              "      <td>無照藥商</td>\n",
              "      <td>12 6 2021 12:00AM</td>\n",
              "      <td>網路</td>\n",
              "      <td>蝦皮購物</td>\n",
              "      <td>處分結案</td>\n",
              "    </tr>\n",
              "  </tbody>\n",
              "</table>\n",
              "</div>\n",
              "    <div class=\"colab-df-buttons\">\n",
              "\n",
              "  <div class=\"colab-df-container\">\n",
              "    <button class=\"colab-df-convert\" onclick=\"convertToInteractive('df-39d7fa38-1220-4516-9427-20e096732d9c')\"\n",
              "            title=\"Convert this dataframe to an interactive table.\"\n",
              "            style=\"display:none;\">\n",
              "\n",
              "  <svg xmlns=\"http://www.w3.org/2000/svg\" height=\"24px\" viewBox=\"0 -960 960 960\">\n",
              "    <path d=\"M120-120v-720h720v720H120Zm60-500h600v-160H180v160Zm220 220h160v-160H400v160Zm0 220h160v-160H400v160ZM180-400h160v-160H180v160Zm440 0h160v-160H620v160ZM180-180h160v-160H180v160Zm440 0h160v-160H620v160Z\"/>\n",
              "  </svg>\n",
              "    </button>\n",
              "\n",
              "  <style>\n",
              "    .colab-df-container {\n",
              "      display:flex;\n",
              "      gap: 12px;\n",
              "    }\n",
              "\n",
              "    .colab-df-convert {\n",
              "      background-color: #E8F0FE;\n",
              "      border: none;\n",
              "      border-radius: 50%;\n",
              "      cursor: pointer;\n",
              "      display: none;\n",
              "      fill: #1967D2;\n",
              "      height: 32px;\n",
              "      padding: 0 0 0 0;\n",
              "      width: 32px;\n",
              "    }\n",
              "\n",
              "    .colab-df-convert:hover {\n",
              "      background-color: #E2EBFA;\n",
              "      box-shadow: 0px 1px 2px rgba(60, 64, 67, 0.3), 0px 1px 3px 1px rgba(60, 64, 67, 0.15);\n",
              "      fill: #174EA6;\n",
              "    }\n",
              "\n",
              "    .colab-df-buttons div {\n",
              "      margin-bottom: 4px;\n",
              "    }\n",
              "\n",
              "    [theme=dark] .colab-df-convert {\n",
              "      background-color: #3B4455;\n",
              "      fill: #D2E3FC;\n",
              "    }\n",
              "\n",
              "    [theme=dark] .colab-df-convert:hover {\n",
              "      background-color: #434B5C;\n",
              "      box-shadow: 0px 1px 3px 1px rgba(0, 0, 0, 0.15);\n",
              "      filter: drop-shadow(0px 1px 2px rgba(0, 0, 0, 0.3));\n",
              "      fill: #FFFFFF;\n",
              "    }\n",
              "  </style>\n",
              "\n",
              "    <script>\n",
              "      const buttonEl =\n",
              "        document.querySelector('#df-39d7fa38-1220-4516-9427-20e096732d9c button.colab-df-convert');\n",
              "      buttonEl.style.display =\n",
              "        google.colab.kernel.accessAllowed ? 'block' : 'none';\n",
              "\n",
              "      async function convertToInteractive(key) {\n",
              "        const element = document.querySelector('#df-39d7fa38-1220-4516-9427-20e096732d9c');\n",
              "        const dataTable =\n",
              "          await google.colab.kernel.invokeFunction('convertToInteractive',\n",
              "                                                    [key], {});\n",
              "        if (!dataTable) return;\n",
              "\n",
              "        const docLinkHtml = 'Like what you see? Visit the ' +\n",
              "          '<a target=\"_blank\" href=https://colab.research.google.com/notebooks/data_table.ipynb>data table notebook</a>'\n",
              "          + ' to learn more about interactive tables.';\n",
              "        element.innerHTML = '';\n",
              "        dataTable['output_type'] = 'display_data';\n",
              "        await google.colab.output.renderOutput(dataTable, element);\n",
              "        const docLink = document.createElement('div');\n",
              "        docLink.innerHTML = docLinkHtml;\n",
              "        element.appendChild(docLink);\n",
              "      }\n",
              "    </script>\n",
              "  </div>\n",
              "\n",
              "\n",
              "    <div id=\"df-2495193a-eb90-4719-86b0-ff29c9acdc4d\">\n",
              "      <button class=\"colab-df-quickchart\" onclick=\"quickchart('df-2495193a-eb90-4719-86b0-ff29c9acdc4d')\"\n",
              "                title=\"Suggest charts\"\n",
              "                style=\"display:none;\">\n",
              "\n",
              "<svg xmlns=\"http://www.w3.org/2000/svg\" height=\"24px\"viewBox=\"0 0 24 24\"\n",
              "     width=\"24px\">\n",
              "    <g>\n",
              "        <path d=\"M19 3H5c-1.1 0-2 .9-2 2v14c0 1.1.9 2 2 2h14c1.1 0 2-.9 2-2V5c0-1.1-.9-2-2-2zM9 17H7v-7h2v7zm4 0h-2V7h2v10zm4 0h-2v-4h2v4z\"/>\n",
              "    </g>\n",
              "</svg>\n",
              "      </button>\n",
              "\n",
              "<style>\n",
              "  .colab-df-quickchart {\n",
              "      --bg-color: #E8F0FE;\n",
              "      --fill-color: #1967D2;\n",
              "      --hover-bg-color: #E2EBFA;\n",
              "      --hover-fill-color: #174EA6;\n",
              "      --disabled-fill-color: #AAA;\n",
              "      --disabled-bg-color: #DDD;\n",
              "  }\n",
              "\n",
              "  [theme=dark] .colab-df-quickchart {\n",
              "      --bg-color: #3B4455;\n",
              "      --fill-color: #D2E3FC;\n",
              "      --hover-bg-color: #434B5C;\n",
              "      --hover-fill-color: #FFFFFF;\n",
              "      --disabled-bg-color: #3B4455;\n",
              "      --disabled-fill-color: #666;\n",
              "  }\n",
              "\n",
              "  .colab-df-quickchart {\n",
              "    background-color: var(--bg-color);\n",
              "    border: none;\n",
              "    border-radius: 50%;\n",
              "    cursor: pointer;\n",
              "    display: none;\n",
              "    fill: var(--fill-color);\n",
              "    height: 32px;\n",
              "    padding: 0;\n",
              "    width: 32px;\n",
              "  }\n",
              "\n",
              "  .colab-df-quickchart:hover {\n",
              "    background-color: var(--hover-bg-color);\n",
              "    box-shadow: 0 1px 2px rgba(60, 64, 67, 0.3), 0 1px 3px 1px rgba(60, 64, 67, 0.15);\n",
              "    fill: var(--button-hover-fill-color);\n",
              "  }\n",
              "\n",
              "  .colab-df-quickchart-complete:disabled,\n",
              "  .colab-df-quickchart-complete:disabled:hover {\n",
              "    background-color: var(--disabled-bg-color);\n",
              "    fill: var(--disabled-fill-color);\n",
              "    box-shadow: none;\n",
              "  }\n",
              "\n",
              "  .colab-df-spinner {\n",
              "    border: 2px solid var(--fill-color);\n",
              "    border-color: transparent;\n",
              "    border-bottom-color: var(--fill-color);\n",
              "    animation:\n",
              "      spin 1s steps(1) infinite;\n",
              "  }\n",
              "\n",
              "  @keyframes spin {\n",
              "    0% {\n",
              "      border-color: transparent;\n",
              "      border-bottom-color: var(--fill-color);\n",
              "      border-left-color: var(--fill-color);\n",
              "    }\n",
              "    20% {\n",
              "      border-color: transparent;\n",
              "      border-left-color: var(--fill-color);\n",
              "      border-top-color: var(--fill-color);\n",
              "    }\n",
              "    30% {\n",
              "      border-color: transparent;\n",
              "      border-left-color: var(--fill-color);\n",
              "      border-top-color: var(--fill-color);\n",
              "      border-right-color: var(--fill-color);\n",
              "    }\n",
              "    40% {\n",
              "      border-color: transparent;\n",
              "      border-right-color: var(--fill-color);\n",
              "      border-top-color: var(--fill-color);\n",
              "    }\n",
              "    60% {\n",
              "      border-color: transparent;\n",
              "      border-right-color: var(--fill-color);\n",
              "    }\n",
              "    80% {\n",
              "      border-color: transparent;\n",
              "      border-right-color: var(--fill-color);\n",
              "      border-bottom-color: var(--fill-color);\n",
              "    }\n",
              "    90% {\n",
              "      border-color: transparent;\n",
              "      border-bottom-color: var(--fill-color);\n",
              "    }\n",
              "  }\n",
              "</style>\n",
              "\n",
              "      <script>\n",
              "        async function quickchart(key) {\n",
              "          const quickchartButtonEl =\n",
              "            document.querySelector('#' + key + ' button');\n",
              "          quickchartButtonEl.disabled = true;  // To prevent multiple clicks.\n",
              "          quickchartButtonEl.classList.add('colab-df-spinner');\n",
              "          try {\n",
              "            const charts = await google.colab.kernel.invokeFunction(\n",
              "                'suggestCharts', [key], {});\n",
              "          } catch (error) {\n",
              "            console.error('Error during call to suggestCharts:', error);\n",
              "          }\n",
              "          quickchartButtonEl.classList.remove('colab-df-spinner');\n",
              "          quickchartButtonEl.classList.add('colab-df-quickchart-complete');\n",
              "        }\n",
              "        (() => {\n",
              "          let quickchartButtonEl =\n",
              "            document.querySelector('#df-2495193a-eb90-4719-86b0-ff29c9acdc4d button');\n",
              "          quickchartButtonEl.style.display =\n",
              "            google.colab.kernel.accessAllowed ? 'block' : 'none';\n",
              "        })();\n",
              "      </script>\n",
              "    </div>\n",
              "\n",
              "    </div>\n",
              "  </div>\n"
            ],
            "application/vnd.google.colaboratory.intrinsic+json": {
              "type": "dataframe",
              "repr_error": "Out of range float values are not JSON compliant: nan"
            }
          },
          "metadata": {}
        },
        {
          "output_type": "display_data",
          "data": {
            "text/plain": [
              "         sno                     sna sarea                 mday  \\\n",
              "0  500101001      YouBike2.0_捷運科技大樓站   大安區  2025-09-22 11:03:17   \n",
              "1  500101002  YouBike2.0_復興南路二段273號前   大安區  2025-09-22 10:59:15   \n",
              "2  500101003    YouBike2.0_國北教大實小東側門   大安區  2025-09-22 11:09:16   \n",
              "3  500101004       YouBike2.0_和平公園東側   大安區  2025-09-22 10:20:25   \n",
              "4  500101005    YouBike2.0_辛亥復興路口西北側   大安區  2025-09-22 11:02:03   \n",
              "\n",
              "              ar     sareaen  \\\n",
              "0    復興南路二段235號前  Daan Dist.   \n",
              "1   復興南路二段273號西側  Daan Dist.   \n",
              "2    和平東路二段96巷7號  Daan Dist.   \n",
              "3  和平東路二段118巷33號  Daan Dist.   \n",
              "4     復興南路二段368號  Daan Dist.   \n",
              "\n",
              "                                               snaen  \\\n",
              "0               YouBike2.0_MRT Technology Bldg. Sta.   \n",
              "1           YouBike2.0_No.273， Sec. 2， Fuxing S. Rd.   \n",
              "2  YouBike2.0_NTUE Experiment Elementary School (...   \n",
              "3                      YouBike2.0_Heping Park (East)   \n",
              "4  YouBike2.0_Xinhai Fuxing Rd. Intersection (Nor...   \n",
              "\n",
              "                                    aren  act        srcUpdateTime  \\\n",
              "0          No.235， Sec. 2， Fuxing S. Rd.    1  2025-09-22 11:11:29   \n",
              "1   No.273， Sec. 2， Fuxing S. Rd. (West)    1  2025-09-22 11:11:29   \n",
              "2    No. 7， Ln. 96， Sec. 2， Heping E. Rd    1  2025-09-22 11:11:29   \n",
              "3  No. 33， Ln. 118， Sec. 2， Heping E. Rd    1  2025-09-22 11:11:29   \n",
              "4         No. 368， Sec. 2， Fuxing S. Rd.    1  2025-09-22 11:11:29   \n",
              "\n",
              "            updateTime             infoTime    infoDate  Quantity  \\\n",
              "0  2025-09-22 11:11:48  2025-09-22 11:03:17  2025-09-22        28   \n",
              "1  2025-09-22 11:11:48  2025-09-22 10:59:15  2025-09-22        21   \n",
              "2  2025-09-22 11:11:48  2025-09-22 11:09:16  2025-09-22        28   \n",
              "3  2025-09-22 11:11:48  2025-09-22 10:20:25  2025-09-22        11   \n",
              "4  2025-09-22 11:11:48  2025-09-22 11:02:03  2025-09-22        16   \n",
              "\n",
              "   available_rent_bikes  latitude  longitude  available_return_bikes  \n",
              "0                     0  25.02605  121.54360                      26  \n",
              "1                     1  25.02565  121.54357                      20  \n",
              "2                     0  25.02429  121.54124                      27  \n",
              "3                     0  25.02351  121.54282                      11  \n",
              "4                     3  25.02153  121.54299                      13  "
            ],
            "text/html": [
              "\n",
              "  <div id=\"df-8c7c6c24-d052-43dc-8daf-9cfbf30900e1\" class=\"colab-df-container\">\n",
              "    <div>\n",
              "<style scoped>\n",
              "    .dataframe tbody tr th:only-of-type {\n",
              "        vertical-align: middle;\n",
              "    }\n",
              "\n",
              "    .dataframe tbody tr th {\n",
              "        vertical-align: top;\n",
              "    }\n",
              "\n",
              "    .dataframe thead th {\n",
              "        text-align: right;\n",
              "    }\n",
              "</style>\n",
              "<table border=\"1\" class=\"dataframe\">\n",
              "  <thead>\n",
              "    <tr style=\"text-align: right;\">\n",
              "      <th></th>\n",
              "      <th>sno</th>\n",
              "      <th>sna</th>\n",
              "      <th>sarea</th>\n",
              "      <th>mday</th>\n",
              "      <th>ar</th>\n",
              "      <th>sareaen</th>\n",
              "      <th>snaen</th>\n",
              "      <th>aren</th>\n",
              "      <th>act</th>\n",
              "      <th>srcUpdateTime</th>\n",
              "      <th>updateTime</th>\n",
              "      <th>infoTime</th>\n",
              "      <th>infoDate</th>\n",
              "      <th>Quantity</th>\n",
              "      <th>available_rent_bikes</th>\n",
              "      <th>latitude</th>\n",
              "      <th>longitude</th>\n",
              "      <th>available_return_bikes</th>\n",
              "    </tr>\n",
              "  </thead>\n",
              "  <tbody>\n",
              "    <tr>\n",
              "      <th>0</th>\n",
              "      <td>500101001</td>\n",
              "      <td>YouBike2.0_捷運科技大樓站</td>\n",
              "      <td>大安區</td>\n",
              "      <td>2025-09-22 11:03:17</td>\n",
              "      <td>復興南路二段235號前</td>\n",
              "      <td>Daan Dist.</td>\n",
              "      <td>YouBike2.0_MRT Technology Bldg. Sta.</td>\n",
              "      <td>No.235， Sec. 2， Fuxing S. Rd.</td>\n",
              "      <td>1</td>\n",
              "      <td>2025-09-22 11:11:29</td>\n",
              "      <td>2025-09-22 11:11:48</td>\n",
              "      <td>2025-09-22 11:03:17</td>\n",
              "      <td>2025-09-22</td>\n",
              "      <td>28</td>\n",
              "      <td>0</td>\n",
              "      <td>25.02605</td>\n",
              "      <td>121.54360</td>\n",
              "      <td>26</td>\n",
              "    </tr>\n",
              "    <tr>\n",
              "      <th>1</th>\n",
              "      <td>500101002</td>\n",
              "      <td>YouBike2.0_復興南路二段273號前</td>\n",
              "      <td>大安區</td>\n",
              "      <td>2025-09-22 10:59:15</td>\n",
              "      <td>復興南路二段273號西側</td>\n",
              "      <td>Daan Dist.</td>\n",
              "      <td>YouBike2.0_No.273， Sec. 2， Fuxing S. Rd.</td>\n",
              "      <td>No.273， Sec. 2， Fuxing S. Rd. (West)</td>\n",
              "      <td>1</td>\n",
              "      <td>2025-09-22 11:11:29</td>\n",
              "      <td>2025-09-22 11:11:48</td>\n",
              "      <td>2025-09-22 10:59:15</td>\n",
              "      <td>2025-09-22</td>\n",
              "      <td>21</td>\n",
              "      <td>1</td>\n",
              "      <td>25.02565</td>\n",
              "      <td>121.54357</td>\n",
              "      <td>20</td>\n",
              "    </tr>\n",
              "    <tr>\n",
              "      <th>2</th>\n",
              "      <td>500101003</td>\n",
              "      <td>YouBike2.0_國北教大實小東側門</td>\n",
              "      <td>大安區</td>\n",
              "      <td>2025-09-22 11:09:16</td>\n",
              "      <td>和平東路二段96巷7號</td>\n",
              "      <td>Daan Dist.</td>\n",
              "      <td>YouBike2.0_NTUE Experiment Elementary School (...</td>\n",
              "      <td>No. 7， Ln. 96， Sec. 2， Heping E. Rd</td>\n",
              "      <td>1</td>\n",
              "      <td>2025-09-22 11:11:29</td>\n",
              "      <td>2025-09-22 11:11:48</td>\n",
              "      <td>2025-09-22 11:09:16</td>\n",
              "      <td>2025-09-22</td>\n",
              "      <td>28</td>\n",
              "      <td>0</td>\n",
              "      <td>25.02429</td>\n",
              "      <td>121.54124</td>\n",
              "      <td>27</td>\n",
              "    </tr>\n",
              "    <tr>\n",
              "      <th>3</th>\n",
              "      <td>500101004</td>\n",
              "      <td>YouBike2.0_和平公園東側</td>\n",
              "      <td>大安區</td>\n",
              "      <td>2025-09-22 10:20:25</td>\n",
              "      <td>和平東路二段118巷33號</td>\n",
              "      <td>Daan Dist.</td>\n",
              "      <td>YouBike2.0_Heping Park (East)</td>\n",
              "      <td>No. 33， Ln. 118， Sec. 2， Heping E. Rd</td>\n",
              "      <td>1</td>\n",
              "      <td>2025-09-22 11:11:29</td>\n",
              "      <td>2025-09-22 11:11:48</td>\n",
              "      <td>2025-09-22 10:20:25</td>\n",
              "      <td>2025-09-22</td>\n",
              "      <td>11</td>\n",
              "      <td>0</td>\n",
              "      <td>25.02351</td>\n",
              "      <td>121.54282</td>\n",
              "      <td>11</td>\n",
              "    </tr>\n",
              "    <tr>\n",
              "      <th>4</th>\n",
              "      <td>500101005</td>\n",
              "      <td>YouBike2.0_辛亥復興路口西北側</td>\n",
              "      <td>大安區</td>\n",
              "      <td>2025-09-22 11:02:03</td>\n",
              "      <td>復興南路二段368號</td>\n",
              "      <td>Daan Dist.</td>\n",
              "      <td>YouBike2.0_Xinhai Fuxing Rd. Intersection (Nor...</td>\n",
              "      <td>No. 368， Sec. 2， Fuxing S. Rd.</td>\n",
              "      <td>1</td>\n",
              "      <td>2025-09-22 11:11:29</td>\n",
              "      <td>2025-09-22 11:11:48</td>\n",
              "      <td>2025-09-22 11:02:03</td>\n",
              "      <td>2025-09-22</td>\n",
              "      <td>16</td>\n",
              "      <td>3</td>\n",
              "      <td>25.02153</td>\n",
              "      <td>121.54299</td>\n",
              "      <td>13</td>\n",
              "    </tr>\n",
              "  </tbody>\n",
              "</table>\n",
              "</div>\n",
              "    <div class=\"colab-df-buttons\">\n",
              "\n",
              "  <div class=\"colab-df-container\">\n",
              "    <button class=\"colab-df-convert\" onclick=\"convertToInteractive('df-8c7c6c24-d052-43dc-8daf-9cfbf30900e1')\"\n",
              "            title=\"Convert this dataframe to an interactive table.\"\n",
              "            style=\"display:none;\">\n",
              "\n",
              "  <svg xmlns=\"http://www.w3.org/2000/svg\" height=\"24px\" viewBox=\"0 -960 960 960\">\n",
              "    <path d=\"M120-120v-720h720v720H120Zm60-500h600v-160H180v160Zm220 220h160v-160H400v160Zm0 220h160v-160H400v160ZM180-400h160v-160H180v160Zm440 0h160v-160H620v160ZM180-180h160v-160H180v160Zm440 0h160v-160H620v160Z\"/>\n",
              "  </svg>\n",
              "    </button>\n",
              "\n",
              "  <style>\n",
              "    .colab-df-container {\n",
              "      display:flex;\n",
              "      gap: 12px;\n",
              "    }\n",
              "\n",
              "    .colab-df-convert {\n",
              "      background-color: #E8F0FE;\n",
              "      border: none;\n",
              "      border-radius: 50%;\n",
              "      cursor: pointer;\n",
              "      display: none;\n",
              "      fill: #1967D2;\n",
              "      height: 32px;\n",
              "      padding: 0 0 0 0;\n",
              "      width: 32px;\n",
              "    }\n",
              "\n",
              "    .colab-df-convert:hover {\n",
              "      background-color: #E2EBFA;\n",
              "      box-shadow: 0px 1px 2px rgba(60, 64, 67, 0.3), 0px 1px 3px 1px rgba(60, 64, 67, 0.15);\n",
              "      fill: #174EA6;\n",
              "    }\n",
              "\n",
              "    .colab-df-buttons div {\n",
              "      margin-bottom: 4px;\n",
              "    }\n",
              "\n",
              "    [theme=dark] .colab-df-convert {\n",
              "      background-color: #3B4455;\n",
              "      fill: #D2E3FC;\n",
              "    }\n",
              "\n",
              "    [theme=dark] .colab-df-convert:hover {\n",
              "      background-color: #434B5C;\n",
              "      box-shadow: 0px 1px 3px 1px rgba(0, 0, 0, 0.15);\n",
              "      filter: drop-shadow(0px 1px 2px rgba(0, 0, 0, 0.3));\n",
              "      fill: #FFFFFF;\n",
              "    }\n",
              "  </style>\n",
              "\n",
              "    <script>\n",
              "      const buttonEl =\n",
              "        document.querySelector('#df-8c7c6c24-d052-43dc-8daf-9cfbf30900e1 button.colab-df-convert');\n",
              "      buttonEl.style.display =\n",
              "        google.colab.kernel.accessAllowed ? 'block' : 'none';\n",
              "\n",
              "      async function convertToInteractive(key) {\n",
              "        const element = document.querySelector('#df-8c7c6c24-d052-43dc-8daf-9cfbf30900e1');\n",
              "        const dataTable =\n",
              "          await google.colab.kernel.invokeFunction('convertToInteractive',\n",
              "                                                    [key], {});\n",
              "        if (!dataTable) return;\n",
              "\n",
              "        const docLinkHtml = 'Like what you see? Visit the ' +\n",
              "          '<a target=\"_blank\" href=https://colab.research.google.com/notebooks/data_table.ipynb>data table notebook</a>'\n",
              "          + ' to learn more about interactive tables.';\n",
              "        element.innerHTML = '';\n",
              "        dataTable['output_type'] = 'display_data';\n",
              "        await google.colab.output.renderOutput(dataTable, element);\n",
              "        const docLink = document.createElement('div');\n",
              "        docLink.innerHTML = docLinkHtml;\n",
              "        element.appendChild(docLink);\n",
              "      }\n",
              "    </script>\n",
              "  </div>\n",
              "\n",
              "\n",
              "    <div id=\"df-c81b64cf-f7c9-442d-a7d2-c854d0fc10eb\">\n",
              "      <button class=\"colab-df-quickchart\" onclick=\"quickchart('df-c81b64cf-f7c9-442d-a7d2-c854d0fc10eb')\"\n",
              "                title=\"Suggest charts\"\n",
              "                style=\"display:none;\">\n",
              "\n",
              "<svg xmlns=\"http://www.w3.org/2000/svg\" height=\"24px\"viewBox=\"0 0 24 24\"\n",
              "     width=\"24px\">\n",
              "    <g>\n",
              "        <path d=\"M19 3H5c-1.1 0-2 .9-2 2v14c0 1.1.9 2 2 2h14c1.1 0 2-.9 2-2V5c0-1.1-.9-2-2-2zM9 17H7v-7h2v7zm4 0h-2V7h2v10zm4 0h-2v-4h2v4z\"/>\n",
              "    </g>\n",
              "</svg>\n",
              "      </button>\n",
              "\n",
              "<style>\n",
              "  .colab-df-quickchart {\n",
              "      --bg-color: #E8F0FE;\n",
              "      --fill-color: #1967D2;\n",
              "      --hover-bg-color: #E2EBFA;\n",
              "      --hover-fill-color: #174EA6;\n",
              "      --disabled-fill-color: #AAA;\n",
              "      --disabled-bg-color: #DDD;\n",
              "  }\n",
              "\n",
              "  [theme=dark] .colab-df-quickchart {\n",
              "      --bg-color: #3B4455;\n",
              "      --fill-color: #D2E3FC;\n",
              "      --hover-bg-color: #434B5C;\n",
              "      --hover-fill-color: #FFFFFF;\n",
              "      --disabled-bg-color: #3B4455;\n",
              "      --disabled-fill-color: #666;\n",
              "  }\n",
              "\n",
              "  .colab-df-quickchart {\n",
              "    background-color: var(--bg-color);\n",
              "    border: none;\n",
              "    border-radius: 50%;\n",
              "    cursor: pointer;\n",
              "    display: none;\n",
              "    fill: var(--fill-color);\n",
              "    height: 32px;\n",
              "    padding: 0;\n",
              "    width: 32px;\n",
              "  }\n",
              "\n",
              "  .colab-df-quickchart:hover {\n",
              "    background-color: var(--hover-bg-color);\n",
              "    box-shadow: 0 1px 2px rgba(60, 64, 67, 0.3), 0 1px 3px 1px rgba(60, 64, 67, 0.15);\n",
              "    fill: var(--button-hover-fill-color);\n",
              "  }\n",
              "\n",
              "  .colab-df-quickchart-complete:disabled,\n",
              "  .colab-df-quickchart-complete:disabled:hover {\n",
              "    background-color: var(--disabled-bg-color);\n",
              "    fill: var(--disabled-fill-color);\n",
              "    box-shadow: none;\n",
              "  }\n",
              "\n",
              "  .colab-df-spinner {\n",
              "    border: 2px solid var(--fill-color);\n",
              "    border-color: transparent;\n",
              "    border-bottom-color: var(--fill-color);\n",
              "    animation:\n",
              "      spin 1s steps(1) infinite;\n",
              "  }\n",
              "\n",
              "  @keyframes spin {\n",
              "    0% {\n",
              "      border-color: transparent;\n",
              "      border-bottom-color: var(--fill-color);\n",
              "      border-left-color: var(--fill-color);\n",
              "    }\n",
              "    20% {\n",
              "      border-color: transparent;\n",
              "      border-left-color: var(--fill-color);\n",
              "      border-top-color: var(--fill-color);\n",
              "    }\n",
              "    30% {\n",
              "      border-color: transparent;\n",
              "      border-left-color: var(--fill-color);\n",
              "      border-top-color: var(--fill-color);\n",
              "      border-right-color: var(--fill-color);\n",
              "    }\n",
              "    40% {\n",
              "      border-color: transparent;\n",
              "      border-right-color: var(--fill-color);\n",
              "      border-top-color: var(--fill-color);\n",
              "    }\n",
              "    60% {\n",
              "      border-color: transparent;\n",
              "      border-right-color: var(--fill-color);\n",
              "    }\n",
              "    80% {\n",
              "      border-color: transparent;\n",
              "      border-right-color: var(--fill-color);\n",
              "      border-bottom-color: var(--fill-color);\n",
              "    }\n",
              "    90% {\n",
              "      border-color: transparent;\n",
              "      border-bottom-color: var(--fill-color);\n",
              "    }\n",
              "  }\n",
              "</style>\n",
              "\n",
              "      <script>\n",
              "        async function quickchart(key) {\n",
              "          const quickchartButtonEl =\n",
              "            document.querySelector('#' + key + ' button');\n",
              "          quickchartButtonEl.disabled = true;  // To prevent multiple clicks.\n",
              "          quickchartButtonEl.classList.add('colab-df-spinner');\n",
              "          try {\n",
              "            const charts = await google.colab.kernel.invokeFunction(\n",
              "                'suggestCharts', [key], {});\n",
              "          } catch (error) {\n",
              "            console.error('Error during call to suggestCharts:', error);\n",
              "          }\n",
              "          quickchartButtonEl.classList.remove('colab-df-spinner');\n",
              "          quickchartButtonEl.classList.add('colab-df-quickchart-complete');\n",
              "        }\n",
              "        (() => {\n",
              "          let quickchartButtonEl =\n",
              "            document.querySelector('#df-c81b64cf-f7c9-442d-a7d2-c854d0fc10eb button');\n",
              "          quickchartButtonEl.style.display =\n",
              "            google.colab.kernel.accessAllowed ? 'block' : 'none';\n",
              "        })();\n",
              "      </script>\n",
              "    </div>\n",
              "\n",
              "    </div>\n",
              "  </div>\n"
            ],
            "application/vnd.google.colaboratory.intrinsic+json": {
              "type": "dataframe",
              "summary": "{\n  \"name\": \"display(ubike_df\",\n  \"rows\": 5,\n  \"fields\": [\n    {\n      \"column\": \"sno\",\n      \"properties\": {\n        \"dtype\": \"number\",\n        \"std\": 1,\n        \"min\": 500101001,\n        \"max\": 500101005,\n        \"num_unique_values\": 5,\n        \"samples\": [\n          500101002,\n          500101005,\n          500101003\n        ],\n        \"semantic_type\": \"\",\n        \"description\": \"\"\n      }\n    },\n    {\n      \"column\": \"sna\",\n      \"properties\": {\n        \"dtype\": \"string\",\n        \"num_unique_values\": 5,\n        \"samples\": [\n          \"YouBike2.0_\\u5fa9\\u8208\\u5357\\u8def\\u4e8c\\u6bb5273\\u865f\\u524d\",\n          \"YouBike2.0_\\u8f9b\\u4ea5\\u5fa9\\u8208\\u8def\\u53e3\\u897f\\u5317\\u5074\",\n          \"YouBike2.0_\\u570b\\u5317\\u6559\\u5927\\u5be6\\u5c0f\\u6771\\u5074\\u9580\"\n        ],\n        \"semantic_type\": \"\",\n        \"description\": \"\"\n      }\n    },\n    {\n      \"column\": \"sarea\",\n      \"properties\": {\n        \"dtype\": \"category\",\n        \"num_unique_values\": 1,\n        \"samples\": [\n          \"\\u5927\\u5b89\\u5340\"\n        ],\n        \"semantic_type\": \"\",\n        \"description\": \"\"\n      }\n    },\n    {\n      \"column\": \"mday\",\n      \"properties\": {\n        \"dtype\": \"object\",\n        \"num_unique_values\": 5,\n        \"samples\": [\n          \"2025-09-22 10:59:15\"\n        ],\n        \"semantic_type\": \"\",\n        \"description\": \"\"\n      }\n    },\n    {\n      \"column\": \"ar\",\n      \"properties\": {\n        \"dtype\": \"string\",\n        \"num_unique_values\": 5,\n        \"samples\": [\n          \"\\u5fa9\\u8208\\u5357\\u8def\\u4e8c\\u6bb5273\\u865f\\u897f\\u5074\"\n        ],\n        \"semantic_type\": \"\",\n        \"description\": \"\"\n      }\n    },\n    {\n      \"column\": \"sareaen\",\n      \"properties\": {\n        \"dtype\": \"category\",\n        \"num_unique_values\": 1,\n        \"samples\": [\n          \"Daan Dist.\"\n        ],\n        \"semantic_type\": \"\",\n        \"description\": \"\"\n      }\n    },\n    {\n      \"column\": \"snaen\",\n      \"properties\": {\n        \"dtype\": \"string\",\n        \"num_unique_values\": 5,\n        \"samples\": [\n          \"YouBike2.0_No.273\\uff0c Sec. 2\\uff0c Fuxing S. Rd.\"\n        ],\n        \"semantic_type\": \"\",\n        \"description\": \"\"\n      }\n    },\n    {\n      \"column\": \"aren\",\n      \"properties\": {\n        \"dtype\": \"string\",\n        \"num_unique_values\": 5,\n        \"samples\": [\n          \"No.273\\uff0c Sec. 2\\uff0c Fuxing S. Rd. (West)\"\n        ],\n        \"semantic_type\": \"\",\n        \"description\": \"\"\n      }\n    },\n    {\n      \"column\": \"act\",\n      \"properties\": {\n        \"dtype\": \"number\",\n        \"std\": 0,\n        \"min\": 1,\n        \"max\": 1,\n        \"num_unique_values\": 1,\n        \"samples\": [\n          1\n        ],\n        \"semantic_type\": \"\",\n        \"description\": \"\"\n      }\n    },\n    {\n      \"column\": \"srcUpdateTime\",\n      \"properties\": {\n        \"dtype\": \"object\",\n        \"num_unique_values\": 1,\n        \"samples\": [\n          \"2025-09-22 11:11:29\"\n        ],\n        \"semantic_type\": \"\",\n        \"description\": \"\"\n      }\n    },\n    {\n      \"column\": \"updateTime\",\n      \"properties\": {\n        \"dtype\": \"object\",\n        \"num_unique_values\": 1,\n        \"samples\": [\n          \"2025-09-22 11:11:48\"\n        ],\n        \"semantic_type\": \"\",\n        \"description\": \"\"\n      }\n    },\n    {\n      \"column\": \"infoTime\",\n      \"properties\": {\n        \"dtype\": \"object\",\n        \"num_unique_values\": 5,\n        \"samples\": [\n          \"2025-09-22 10:59:15\"\n        ],\n        \"semantic_type\": \"\",\n        \"description\": \"\"\n      }\n    },\n    {\n      \"column\": \"infoDate\",\n      \"properties\": {\n        \"dtype\": \"object\",\n        \"num_unique_values\": 1,\n        \"samples\": [\n          \"2025-09-22\"\n        ],\n        \"semantic_type\": \"\",\n        \"description\": \"\"\n      }\n    },\n    {\n      \"column\": \"Quantity\",\n      \"properties\": {\n        \"dtype\": \"number\",\n        \"std\": 7,\n        \"min\": 11,\n        \"max\": 28,\n        \"num_unique_values\": 4,\n        \"samples\": [\n          21\n        ],\n        \"semantic_type\": \"\",\n        \"description\": \"\"\n      }\n    },\n    {\n      \"column\": \"available_rent_bikes\",\n      \"properties\": {\n        \"dtype\": \"number\",\n        \"std\": 1,\n        \"min\": 0,\n        \"max\": 3,\n        \"num_unique_values\": 3,\n        \"samples\": [\n          0\n        ],\n        \"semantic_type\": \"\",\n        \"description\": \"\"\n      }\n    },\n    {\n      \"column\": \"latitude\",\n      \"properties\": {\n        \"dtype\": \"number\",\n        \"std\": 0.0018123134386749877,\n        \"min\": 25.02153,\n        \"max\": 25.02605,\n        \"num_unique_values\": 5,\n        \"samples\": [\n          25.02565\n        ],\n        \"semantic_type\": \"\",\n        \"description\": \"\"\n      }\n    },\n    {\n      \"column\": \"longitude\",\n      \"properties\": {\n        \"dtype\": \"number\",\n        \"std\": 0.0009609006192102912,\n        \"min\": 121.54124,\n        \"max\": 121.5436,\n        \"num_unique_values\": 5,\n        \"samples\": [\n          121.54357\n        ],\n        \"semantic_type\": \"\",\n        \"description\": \"\"\n      }\n    },\n    {\n      \"column\": \"available_return_bikes\",\n      \"properties\": {\n        \"dtype\": \"number\",\n        \"std\": 7,\n        \"min\": 11,\n        \"max\": 27,\n        \"num_unique_values\": 5,\n        \"samples\": [\n          20\n        ],\n        \"semantic_type\": \"\",\n        \"description\": \"\"\n      }\n    }\n  ]\n}"
            }
          },
          "metadata": {}
        }
      ]
    },
    {
      "cell_type": "markdown",
      "id": "2108c36a",
      "metadata": {
        "id": "2108c36a"
      },
      "source": [
        "### 2.2 Properties of DataFrame\n",
        "\n",
        "**Display and rename columns**\n",
        "\n",
        "1. **`head()`**\n",
        "   To get a quick overview of a DataFrame, we can use the `.head()` method. By default, it displays the first five rows, allowing us to quickly check the structure and content of the dataset.\n",
        "\n",
        "2. **`.columns` and renaming columns**\n",
        "   Sometimes we may want to adjust the column names in a DataFrame to make them more descriptive or tailored to our needs. One way is to directly assign a new list of column names to the `.columns` attribute. Alternatively, we can use the `.rename()` method to map old column names to new ones. For example:"
      ]
    },
    {
      "cell_type": "code",
      "execution_count": null,
      "id": "69918aef",
      "metadata": {
        "id": "69918aef",
        "outputId": "2264541e-eb25-4b05-dd33-69cbf849e484"
      },
      "outputs": [
        {
          "data": {
            "text/plain": [
              "Index(['違規產品名稱', '違規廠商名稱或負責人', '處分機關', '處分日期', '處分法條', '違規情節', '刊播日期',\n",
              "       '刊播媒體類別', '刊播媒體', '查處情形'],\n",
              "      dtype='object')"
            ]
          },
          "metadata": {},
          "output_type": "display_data"
        }
      ],
      "source": [
        "# Check all variables of the dataframe\n",
        "drug_df.columns"
      ]
    },
    {
      "cell_type": "code",
      "execution_count": null,
      "id": "f4637290",
      "metadata": {
        "id": "f4637290",
        "outputId": "bd13ecde-2c2e-4162-adeb-8d361fc32051"
      },
      "outputs": [
        {
          "data": {
            "application/vnd.microsoft.datawrangler.viewer.v0+json": {
              "columns": [
                {
                  "name": "index",
                  "rawType": "int64",
                  "type": "integer"
                },
                {
                  "name": "pname",
                  "rawType": "object",
                  "type": "string"
                },
                {
                  "name": "cname",
                  "rawType": "object",
                  "type": "string"
                },
                {
                  "name": "agency",
                  "rawType": "object",
                  "type": "unknown"
                },
                {
                  "name": "issuedate",
                  "rawType": "object",
                  "type": "string"
                },
                {
                  "name": "law",
                  "rawType": "object",
                  "type": "unknown"
                },
                {
                  "name": "fact",
                  "rawType": "object",
                  "type": "string"
                },
                {
                  "name": "pubDate",
                  "rawType": "object",
                  "type": "string"
                },
                {
                  "name": "pubMediaType",
                  "rawType": "object",
                  "type": "string"
                },
                {
                  "name": "pubMedia",
                  "rawType": "object",
                  "type": "string"
                },
                {
                  "name": "trace",
                  "rawType": "object",
                  "type": "unknown"
                }
              ],
              "conversionMethod": "pd.DataFrame",
              "ref": "e41bf86a-369f-4410-823b-5768382e4f7f",
              "rows": [
                [
                  "0",
                  "維他肝",
                  "豐怡生化科技股份有限公司/朱O",
                  null,
                  "03 31 2022 12:00AM",
                  null,
                  "廣告內容誇大不實",
                  "02 2 2022 12:00AM",
                  "廣播電台",
                  "噶瑪蘭廣播電台股份有限公司",
                  null
                ],
                [
                  "1",
                  "現貨澳洲Swisse ULTIBOOST維他命D片calcium vitamin VITAMIN D400粒 補鈣 骨頭",
                  "張O雯/張O雯",
                  null,
                  "01 21 2022 12:00AM",
                  null,
                  "廣告違規",
                  "11 30 2021 12:00AM",
                  "網路",
                  "蝦皮購物",
                  "輔導結案"
                ],
                [
                  "2",
                  "✈日本 代購 參天製藥 處方簽點眼液",
                  "蘇O涵/蘇O涵",
                  null,
                  "01 25 2022 12:00AM",
                  null,
                  "無照藥商",
                  "08 27 2021 12:00AM",
                  "網路",
                  "蝦皮購物",
                  null
                ],
                [
                  "3",
                  "✈日本 代購 TSUMURA 中將湯 24天包裝",
                  "蘇O涵/蘇O涵",
                  null,
                  "01 25 2022 12:00AM",
                  null,
                  "無照藥商",
                  "08 27 2021 12:00AM",
                  "網路",
                  "蝦皮購物",
                  "輔導結案"
                ],
                [
                  "4",
                  "_Salty.shop 日本代購 樂敦小花",
                  "曾O嫺/曾O嫺",
                  null,
                  "02 17 2022 12:00AM",
                  "藥事法第27條",
                  "無照藥商",
                  "12 6 2021 12:00AM",
                  "網路",
                  "蝦皮購物",
                  "處分結案"
                ]
              ],
              "shape": {
                "columns": 10,
                "rows": 5
              }
            },
            "text/html": [
              "<div>\n",
              "<style scoped>\n",
              "    .dataframe tbody tr th:only-of-type {\n",
              "        vertical-align: middle;\n",
              "    }\n",
              "\n",
              "    .dataframe tbody tr th {\n",
              "        vertical-align: top;\n",
              "    }\n",
              "\n",
              "    .dataframe thead th {\n",
              "        text-align: right;\n",
              "    }\n",
              "</style>\n",
              "<table border=\"1\" class=\"dataframe\">\n",
              "  <thead>\n",
              "    <tr style=\"text-align: right;\">\n",
              "      <th></th>\n",
              "      <th>pname</th>\n",
              "      <th>cname</th>\n",
              "      <th>agency</th>\n",
              "      <th>issuedate</th>\n",
              "      <th>law</th>\n",
              "      <th>fact</th>\n",
              "      <th>pubDate</th>\n",
              "      <th>pubMediaType</th>\n",
              "      <th>pubMedia</th>\n",
              "      <th>trace</th>\n",
              "    </tr>\n",
              "  </thead>\n",
              "  <tbody>\n",
              "    <tr>\n",
              "      <th>0</th>\n",
              "      <td>維他肝</td>\n",
              "      <td>豐怡生化科技股份有限公司/朱O</td>\n",
              "      <td>NaN</td>\n",
              "      <td>03 31 2022 12:00AM</td>\n",
              "      <td>NaN</td>\n",
              "      <td>廣告內容誇大不實</td>\n",
              "      <td>02 2 2022 12:00AM</td>\n",
              "      <td>廣播電台</td>\n",
              "      <td>噶瑪蘭廣播電台股份有限公司</td>\n",
              "      <td>NaN</td>\n",
              "    </tr>\n",
              "    <tr>\n",
              "      <th>1</th>\n",
              "      <td>現貨澳洲Swisse ULTIBOOST維他命D片calcium vitamin VITAM...</td>\n",
              "      <td>張O雯/張O雯</td>\n",
              "      <td>NaN</td>\n",
              "      <td>01 21 2022 12:00AM</td>\n",
              "      <td>NaN</td>\n",
              "      <td>廣告違規</td>\n",
              "      <td>11 30 2021 12:00AM</td>\n",
              "      <td>網路</td>\n",
              "      <td>蝦皮購物</td>\n",
              "      <td>輔導結案</td>\n",
              "    </tr>\n",
              "    <tr>\n",
              "      <th>2</th>\n",
              "      <td>✈日本 代購 參天製藥 處方簽點眼液</td>\n",
              "      <td>蘇O涵/蘇O涵</td>\n",
              "      <td>NaN</td>\n",
              "      <td>01 25 2022 12:00AM</td>\n",
              "      <td>NaN</td>\n",
              "      <td>無照藥商</td>\n",
              "      <td>08 27 2021 12:00AM</td>\n",
              "      <td>網路</td>\n",
              "      <td>蝦皮購物</td>\n",
              "      <td>NaN</td>\n",
              "    </tr>\n",
              "    <tr>\n",
              "      <th>3</th>\n",
              "      <td>✈日本 代購 TSUMURA 中將湯 24天包裝</td>\n",
              "      <td>蘇O涵/蘇O涵</td>\n",
              "      <td>NaN</td>\n",
              "      <td>01 25 2022 12:00AM</td>\n",
              "      <td>NaN</td>\n",
              "      <td>無照藥商</td>\n",
              "      <td>08 27 2021 12:00AM</td>\n",
              "      <td>網路</td>\n",
              "      <td>蝦皮購物</td>\n",
              "      <td>輔導結案</td>\n",
              "    </tr>\n",
              "    <tr>\n",
              "      <th>4</th>\n",
              "      <td>_Salty.shop 日本代購 樂敦小花</td>\n",
              "      <td>曾O嫺/曾O嫺</td>\n",
              "      <td>NaN</td>\n",
              "      <td>02 17 2022 12:00AM</td>\n",
              "      <td>藥事法第27條</td>\n",
              "      <td>無照藥商</td>\n",
              "      <td>12 6 2021 12:00AM</td>\n",
              "      <td>網路</td>\n",
              "      <td>蝦皮購物</td>\n",
              "      <td>處分結案</td>\n",
              "    </tr>\n",
              "  </tbody>\n",
              "</table>\n",
              "</div>"
            ],
            "text/plain": [
              "                                               pname            cname agency  \\\n",
              "0                                                維他肝  豐怡生化科技股份有限公司/朱O    NaN   \n",
              "1  現貨澳洲Swisse ULTIBOOST維他命D片calcium vitamin VITAM...          張O雯/張O雯    NaN   \n",
              "2                                 ✈日本 代購 參天製藥 處方簽點眼液          蘇O涵/蘇O涵    NaN   \n",
              "3                           ✈日本 代購 TSUMURA 中將湯 24天包裝          蘇O涵/蘇O涵    NaN   \n",
              "4                              _Salty.shop 日本代購 樂敦小花          曾O嫺/曾O嫺    NaN   \n",
              "\n",
              "            issuedate      law      fact             pubDate pubMediaType  \\\n",
              "0  03 31 2022 12:00AM      NaN  廣告內容誇大不實   02 2 2022 12:00AM         廣播電台   \n",
              "1  01 21 2022 12:00AM      NaN      廣告違規  11 30 2021 12:00AM           網路   \n",
              "2  01 25 2022 12:00AM      NaN      無照藥商  08 27 2021 12:00AM           網路   \n",
              "3  01 25 2022 12:00AM      NaN      無照藥商  08 27 2021 12:00AM           網路   \n",
              "4  02 17 2022 12:00AM  藥事法第27條      無照藥商   12 6 2021 12:00AM           網路   \n",
              "\n",
              "        pubMedia trace  \n",
              "0  噶瑪蘭廣播電台股份有限公司   NaN  \n",
              "1           蝦皮購物  輔導結案  \n",
              "2           蝦皮購物   NaN  \n",
              "3           蝦皮購物  輔導結案  \n",
              "4           蝦皮購物  處分結案  "
            ]
          },
          "metadata": {},
          "output_type": "display_data"
        }
      ],
      "source": [
        "drug_df.columns = [\n",
        "    'pname', 'cname', 'agency', 'issuedate', 'law', 'fact',\n",
        "    'pubDate', 'pubMediaType', 'pubMedia', 'trace']\n",
        "drug_df.columns\n",
        "drug_df.head()"
      ]
    },
    {
      "cell_type": "markdown",
      "id": "d5c81e89",
      "metadata": {
        "id": "d5c81e89"
      },
      "source": [
        "### 2.3 Columns of Dataframe: pandas Series\n",
        "\n",
        "Pandas Series 是一種一維陣列結構，用於存儲同類型的資料，並且每個資料點都有一個與之相關聯的索引。與 Python 的原生 list 不同，Pandas Series 提供了更豐富的功能和操作，包括但不限於資料對齊、切片、過濾以及集成的描述性統計方法。除了這些，Pandas Series 支援更多複雜的資料類型，並且能夠更高效地進行向量化操作。簡而言之，雖然 Pandas Series 和 list 都可以用於存儲一維資料，但 Series 提供了更多專為數據分析而設計的功能和優化。"
      ]
    },
    {
      "cell_type": "code",
      "execution_count": null,
      "id": "e25c998d",
      "metadata": {
        "id": "e25c998d",
        "outputId": "da0a8b5b-0395-4db6-9eb7-0d33d789e504"
      },
      "outputs": [
        {
          "name": "stdout",
          "output_type": "stream",
          "text": [
            "<class 'pandas.core.series.Series'>\n",
            "<class 'list'>\n"
          ]
        },
        {
          "data": {
            "application/vnd.microsoft.datawrangler.viewer.v0+json": {
              "columns": [
                {
                  "name": "index",
                  "rawType": "int64",
                  "type": "integer"
                },
                {
                  "name": "pubMediaType",
                  "rawType": "object",
                  "type": "string"
                }
              ],
              "conversionMethod": "pd.DataFrame",
              "ref": "23d25029-19dd-41f9-866a-a55c1a20dc6d",
              "rows": [
                [
                  "0",
                  "廣播電台"
                ],
                [
                  "1",
                  "網路"
                ],
                [
                  "2",
                  "網路"
                ],
                [
                  "3",
                  "網路"
                ],
                [
                  "4",
                  "網路"
                ]
              ],
              "shape": {
                "columns": 1,
                "rows": 5
              }
            },
            "text/html": [
              "<div>\n",
              "<style scoped>\n",
              "    .dataframe tbody tr th:only-of-type {\n",
              "        vertical-align: middle;\n",
              "    }\n",
              "\n",
              "    .dataframe tbody tr th {\n",
              "        vertical-align: top;\n",
              "    }\n",
              "\n",
              "    .dataframe thead th {\n",
              "        text-align: right;\n",
              "    }\n",
              "</style>\n",
              "<table border=\"1\" class=\"dataframe\">\n",
              "  <thead>\n",
              "    <tr style=\"text-align: right;\">\n",
              "      <th></th>\n",
              "      <th>pubMediaType</th>\n",
              "    </tr>\n",
              "  </thead>\n",
              "  <tbody>\n",
              "    <tr>\n",
              "      <th>0</th>\n",
              "      <td>廣播電台</td>\n",
              "    </tr>\n",
              "    <tr>\n",
              "      <th>1</th>\n",
              "      <td>網路</td>\n",
              "    </tr>\n",
              "    <tr>\n",
              "      <th>2</th>\n",
              "      <td>網路</td>\n",
              "    </tr>\n",
              "    <tr>\n",
              "      <th>3</th>\n",
              "      <td>網路</td>\n",
              "    </tr>\n",
              "    <tr>\n",
              "      <th>4</th>\n",
              "      <td>網路</td>\n",
              "    </tr>\n",
              "  </tbody>\n",
              "</table>\n",
              "</div>"
            ],
            "text/plain": [
              "  pubMediaType\n",
              "0         廣播電台\n",
              "1           網路\n",
              "2           網路\n",
              "3           網路\n",
              "4           網路"
            ]
          },
          "metadata": {},
          "output_type": "display_data"
        }
      ],
      "source": [
        "print(type(drug_df.pubMediaType))\n",
        "pubMediaType = list(drug_df.pubMediaType)\n",
        "print(type(pubMediaType))\n",
        "\n",
        "pubMediaType_df = pd.DataFrame(pubMediaType, columns=['pubMediaType'])\n",
        "pubMediaType_df.head()         # Show the first 10 rows\n",
        "# print(set(drug_df.pubMediaType))\n",
        "# drug_df"
      ]
    },
    {
      "cell_type": "markdown",
      "id": "2c07f86b",
      "metadata": {
        "id": "2c07f86b"
      },
      "source": [
        "### 2.4 Counting: Operations on Series\n",
        "\n",
        "接下來希望計算一下每個廣告類型`pubMediaType`的數量，以便我們可以了解哪些類型的廣告最多。\n",
        "\n",
        "過去我們會用`collections`套件的`Counter`方法來計算。但是現在我們可以使用`.value_counts()`方法來計算每個類型的廣告數量。這個方法將返回一個包含每個類型廣告數量的 Pandas Series，其中索引是廣告類型，值是廣告數量。"
      ]
    },
    {
      "cell_type": "code",
      "execution_count": null,
      "id": "e61a4ee3",
      "metadata": {
        "id": "e61a4ee3",
        "outputId": "c0c2a53f-0a1f-4d8a-904f-34836d760383"
      },
      "outputs": [
        {
          "name": "stdout",
          "output_type": "stream",
          "text": [
            "Counter({'網路': 2609, '廣播電台': 119, '平面媒體': 117, '電視': 109, '其他': 16, nan: 2})\n",
            "[('無照藥商', 1434), ('廣告違規', 248), ('無違規', 185), ('其刊登或宣播之廣告內容與原核准廣告內容不符', 134), (nan, 132), ('非藥商刊登或宣播藥物廣告', 108), ('藥品未申請查驗登記', 94), ('刊播未申請核准之廣告', 85), ('廣告內容誇大不實', 67), ('禁藥', 40)]\n"
          ]
        }
      ],
      "source": [
        "# Using `Counter` to count the number of each type of publication media\n",
        "from collections import Counter\n",
        "\n",
        "type_dict = Counter(drug_df.pubMediaType)\n",
        "print(type_dict)\n",
        "print(Counter(drug_df.fact).most_common(10))"
      ]
    },
    {
      "cell_type": "code",
      "execution_count": null,
      "id": "db5a9de0",
      "metadata": {
        "id": "db5a9de0",
        "outputId": "6fec46eb-5990-493a-9e0d-1f5303f6ed50"
      },
      "outputs": [
        {
          "data": {
            "text/plain": [
              "pubMediaType\n",
              "網路      2609\n",
              "廣播電台     119\n",
              "平面媒體     117\n",
              "電視       109\n",
              "其他        16\n",
              "Name: count, dtype: int64"
            ]
          },
          "metadata": {},
          "output_type": "display_data"
        }
      ],
      "source": [
        "drug_df.pubMediaType.value_counts()\n",
        "# drug_df['pubMediaType'].value_counts()"
      ]
    },
    {
      "cell_type": "markdown",
      "id": "03d1bb18",
      "metadata": {
        "id": "03d1bb18"
      },
      "source": [
        "## 3. Pandas Operations"
      ]
    },
    {
      "cell_type": "markdown",
      "id": "5fc086c6",
      "metadata": {
        "id": "5fc086c6"
      },
      "source": [
        "### 3.1 Convert JSON to DataFrame: Youbike\n",
        "\n",
        "In the following example, we will read the Youbike data from a JSON file and convert it into a Pandas DataFrame for further analysis.Current Youbike data API will return data in JSON format. We have three methods to convert JSON data into a Pandas DataFrame.\n",
        "\n",
        "1. We can use the `requests` library to fetch the data from the API endpoint, and then convert the JSON data into a python objects composed of lists and dictionaries using the `.json()` method. Finally, we can pass the list of dictionaries to the `pd.DataFrame()` constructor to create a DataFrame.\n",
        "2. We can use the `pd.json_normalize()` function to convert the nested JSON data into a flat table structure, which is suitable for analysis with Pandas.\n",
        "3. We can use the `pd.read_json()` function to read the JSON data directly from a URL or a file and convert it into a DataFrame.\n"
      ]
    },
    {
      "cell_type": "code",
      "execution_count": null,
      "id": "6b8cae3b",
      "metadata": {
        "id": "6b8cae3b",
        "outputId": "c52fcc0c-d3e3-4c46-8b55-05382d92f774"
      },
      "outputs": [
        {
          "name": "stdout",
          "output_type": "stream",
          "text": [
            "<class 'list'>\n"
          ]
        },
        {
          "data": {
            "application/vnd.microsoft.datawrangler.viewer.v0+json": {
              "columns": [
                {
                  "name": "index",
                  "rawType": "int64",
                  "type": "integer"
                },
                {
                  "name": "sno",
                  "rawType": "object",
                  "type": "string"
                },
                {
                  "name": "sna",
                  "rawType": "object",
                  "type": "string"
                },
                {
                  "name": "sarea",
                  "rawType": "object",
                  "type": "string"
                },
                {
                  "name": "mday",
                  "rawType": "object",
                  "type": "string"
                },
                {
                  "name": "ar",
                  "rawType": "object",
                  "type": "string"
                },
                {
                  "name": "sareaen",
                  "rawType": "object",
                  "type": "string"
                },
                {
                  "name": "snaen",
                  "rawType": "object",
                  "type": "string"
                },
                {
                  "name": "aren",
                  "rawType": "object",
                  "type": "string"
                },
                {
                  "name": "act",
                  "rawType": "object",
                  "type": "string"
                },
                {
                  "name": "srcUpdateTime",
                  "rawType": "object",
                  "type": "string"
                },
                {
                  "name": "updateTime",
                  "rawType": "object",
                  "type": "string"
                },
                {
                  "name": "infoTime",
                  "rawType": "object",
                  "type": "string"
                },
                {
                  "name": "infoDate",
                  "rawType": "object",
                  "type": "string"
                },
                {
                  "name": "Quantity",
                  "rawType": "int64",
                  "type": "integer"
                },
                {
                  "name": "available_rent_bikes",
                  "rawType": "int64",
                  "type": "integer"
                },
                {
                  "name": "latitude",
                  "rawType": "float64",
                  "type": "float"
                },
                {
                  "name": "longitude",
                  "rawType": "float64",
                  "type": "float"
                },
                {
                  "name": "available_return_bikes",
                  "rawType": "int64",
                  "type": "integer"
                }
              ],
              "ref": "a635fd20-c0a0-4cf9-8a07-043ce0c09e36",
              "rows": [
                [
                  "0",
                  "500101001",
                  "YouBike2.0_捷運科技大樓站",
                  "大安區",
                  "2025-09-21 22:49:02",
                  "復興南路二段235號前",
                  "Daan Dist.",
                  "YouBike2.0_MRT Technology Bldg. Sta.",
                  "No.235， Sec. 2， Fuxing S. Rd.",
                  "1",
                  "2025-09-21 22:49:30",
                  "2025-09-21 22:49:52",
                  "2025-09-21 22:49:02",
                  "2025-09-21",
                  "28",
                  "0",
                  "25.02605",
                  "121.5436",
                  "28"
                ],
                [
                  "1",
                  "500101002",
                  "YouBike2.0_復興南路二段273號前",
                  "大安區",
                  "2025-09-21 22:47:17",
                  "復興南路二段273號西側",
                  "Daan Dist.",
                  "YouBike2.0_No.273， Sec. 2， Fuxing S. Rd.",
                  "No.273， Sec. 2， Fuxing S. Rd. (West)",
                  "1",
                  "2025-09-21 22:49:30",
                  "2025-09-21 22:49:52",
                  "2025-09-21 22:47:17",
                  "2025-09-21",
                  "21",
                  "2",
                  "25.02565",
                  "121.54357",
                  "19"
                ],
                [
                  "2",
                  "500101003",
                  "YouBike2.0_國北教大實小東側門",
                  "大安區",
                  "2025-09-21 22:49:02",
                  "和平東路二段96巷7號",
                  "Daan Dist.",
                  "YouBike2.0_NTUE Experiment Elementary School (East)",
                  "No. 7， Ln. 96， Sec. 2， Heping E. Rd",
                  "1",
                  "2025-09-21 22:49:30",
                  "2025-09-21 22:49:52",
                  "2025-09-21 22:49:02",
                  "2025-09-21",
                  "28",
                  "13",
                  "25.02429",
                  "121.54124",
                  "14"
                ],
                [
                  "3",
                  "500101004",
                  "YouBike2.0_和平公園東側",
                  "大安區",
                  "2025-09-21 22:43:02",
                  "和平東路二段118巷33號",
                  "Daan Dist.",
                  "YouBike2.0_Heping Park (East)",
                  "No. 33， Ln. 118， Sec. 2， Heping E. Rd",
                  "1",
                  "2025-09-21 22:49:30",
                  "2025-09-21 22:49:52",
                  "2025-09-21 22:43:02",
                  "2025-09-21",
                  "11",
                  "3",
                  "25.02351",
                  "121.54282",
                  "8"
                ],
                [
                  "4",
                  "500101005",
                  "YouBike2.0_辛亥復興路口西北側",
                  "大安區",
                  "2025-09-21 22:49:02",
                  "復興南路二段368號",
                  "Daan Dist.",
                  "YouBike2.0_Xinhai Fuxing Rd. Intersection (Northwest)",
                  "No. 368， Sec. 2， Fuxing S. Rd.",
                  "1",
                  "2025-09-21 22:49:30",
                  "2025-09-21 22:49:52",
                  "2025-09-21 22:49:02",
                  "2025-09-21",
                  "16",
                  "11",
                  "25.02153",
                  "121.54299",
                  "5"
                ]
              ],
              "shape": {
                "columns": 18,
                "rows": 5
              }
            },
            "text/html": [
              "<div>\n",
              "<style scoped>\n",
              "    .dataframe tbody tr th:only-of-type {\n",
              "        vertical-align: middle;\n",
              "    }\n",
              "\n",
              "    .dataframe tbody tr th {\n",
              "        vertical-align: top;\n",
              "    }\n",
              "\n",
              "    .dataframe thead th {\n",
              "        text-align: right;\n",
              "    }\n",
              "</style>\n",
              "<table border=\"1\" class=\"dataframe\">\n",
              "  <thead>\n",
              "    <tr style=\"text-align: right;\">\n",
              "      <th></th>\n",
              "      <th>sno</th>\n",
              "      <th>sna</th>\n",
              "      <th>sarea</th>\n",
              "      <th>mday</th>\n",
              "      <th>ar</th>\n",
              "      <th>sareaen</th>\n",
              "      <th>snaen</th>\n",
              "      <th>aren</th>\n",
              "      <th>act</th>\n",
              "      <th>srcUpdateTime</th>\n",
              "      <th>updateTime</th>\n",
              "      <th>infoTime</th>\n",
              "      <th>infoDate</th>\n",
              "      <th>Quantity</th>\n",
              "      <th>available_rent_bikes</th>\n",
              "      <th>latitude</th>\n",
              "      <th>longitude</th>\n",
              "      <th>available_return_bikes</th>\n",
              "    </tr>\n",
              "  </thead>\n",
              "  <tbody>\n",
              "    <tr>\n",
              "      <th>0</th>\n",
              "      <td>500101001</td>\n",
              "      <td>YouBike2.0_捷運科技大樓站</td>\n",
              "      <td>大安區</td>\n",
              "      <td>2025-09-21 22:49:02</td>\n",
              "      <td>復興南路二段235號前</td>\n",
              "      <td>Daan Dist.</td>\n",
              "      <td>YouBike2.0_MRT Technology Bldg. Sta.</td>\n",
              "      <td>No.235， Sec. 2， Fuxing S. Rd.</td>\n",
              "      <td>1</td>\n",
              "      <td>2025-09-21 22:49:30</td>\n",
              "      <td>2025-09-21 22:49:52</td>\n",
              "      <td>2025-09-21 22:49:02</td>\n",
              "      <td>2025-09-21</td>\n",
              "      <td>28</td>\n",
              "      <td>0</td>\n",
              "      <td>25.02605</td>\n",
              "      <td>121.54360</td>\n",
              "      <td>28</td>\n",
              "    </tr>\n",
              "    <tr>\n",
              "      <th>1</th>\n",
              "      <td>500101002</td>\n",
              "      <td>YouBike2.0_復興南路二段273號前</td>\n",
              "      <td>大安區</td>\n",
              "      <td>2025-09-21 22:47:17</td>\n",
              "      <td>復興南路二段273號西側</td>\n",
              "      <td>Daan Dist.</td>\n",
              "      <td>YouBike2.0_No.273， Sec. 2， Fuxing S. Rd.</td>\n",
              "      <td>No.273， Sec. 2， Fuxing S. Rd. (West)</td>\n",
              "      <td>1</td>\n",
              "      <td>2025-09-21 22:49:30</td>\n",
              "      <td>2025-09-21 22:49:52</td>\n",
              "      <td>2025-09-21 22:47:17</td>\n",
              "      <td>2025-09-21</td>\n",
              "      <td>21</td>\n",
              "      <td>2</td>\n",
              "      <td>25.02565</td>\n",
              "      <td>121.54357</td>\n",
              "      <td>19</td>\n",
              "    </tr>\n",
              "    <tr>\n",
              "      <th>2</th>\n",
              "      <td>500101003</td>\n",
              "      <td>YouBike2.0_國北教大實小東側門</td>\n",
              "      <td>大安區</td>\n",
              "      <td>2025-09-21 22:49:02</td>\n",
              "      <td>和平東路二段96巷7號</td>\n",
              "      <td>Daan Dist.</td>\n",
              "      <td>YouBike2.0_NTUE Experiment Elementary School (...</td>\n",
              "      <td>No. 7， Ln. 96， Sec. 2， Heping E. Rd</td>\n",
              "      <td>1</td>\n",
              "      <td>2025-09-21 22:49:30</td>\n",
              "      <td>2025-09-21 22:49:52</td>\n",
              "      <td>2025-09-21 22:49:02</td>\n",
              "      <td>2025-09-21</td>\n",
              "      <td>28</td>\n",
              "      <td>13</td>\n",
              "      <td>25.02429</td>\n",
              "      <td>121.54124</td>\n",
              "      <td>14</td>\n",
              "    </tr>\n",
              "    <tr>\n",
              "      <th>3</th>\n",
              "      <td>500101004</td>\n",
              "      <td>YouBike2.0_和平公園東側</td>\n",
              "      <td>大安區</td>\n",
              "      <td>2025-09-21 22:43:02</td>\n",
              "      <td>和平東路二段118巷33號</td>\n",
              "      <td>Daan Dist.</td>\n",
              "      <td>YouBike2.0_Heping Park (East)</td>\n",
              "      <td>No. 33， Ln. 118， Sec. 2， Heping E. Rd</td>\n",
              "      <td>1</td>\n",
              "      <td>2025-09-21 22:49:30</td>\n",
              "      <td>2025-09-21 22:49:52</td>\n",
              "      <td>2025-09-21 22:43:02</td>\n",
              "      <td>2025-09-21</td>\n",
              "      <td>11</td>\n",
              "      <td>3</td>\n",
              "      <td>25.02351</td>\n",
              "      <td>121.54282</td>\n",
              "      <td>8</td>\n",
              "    </tr>\n",
              "    <tr>\n",
              "      <th>4</th>\n",
              "      <td>500101005</td>\n",
              "      <td>YouBike2.0_辛亥復興路口西北側</td>\n",
              "      <td>大安區</td>\n",
              "      <td>2025-09-21 22:49:02</td>\n",
              "      <td>復興南路二段368號</td>\n",
              "      <td>Daan Dist.</td>\n",
              "      <td>YouBike2.0_Xinhai Fuxing Rd. Intersection (Nor...</td>\n",
              "      <td>No. 368， Sec. 2， Fuxing S. Rd.</td>\n",
              "      <td>1</td>\n",
              "      <td>2025-09-21 22:49:30</td>\n",
              "      <td>2025-09-21 22:49:52</td>\n",
              "      <td>2025-09-21 22:49:02</td>\n",
              "      <td>2025-09-21</td>\n",
              "      <td>16</td>\n",
              "      <td>11</td>\n",
              "      <td>25.02153</td>\n",
              "      <td>121.54299</td>\n",
              "      <td>5</td>\n",
              "    </tr>\n",
              "  </tbody>\n",
              "</table>\n",
              "</div>"
            ],
            "text/plain": [
              "         sno                     sna sarea                 mday  \\\n",
              "0  500101001      YouBike2.0_捷運科技大樓站   大安區  2025-09-21 22:49:02   \n",
              "1  500101002  YouBike2.0_復興南路二段273號前   大安區  2025-09-21 22:47:17   \n",
              "2  500101003    YouBike2.0_國北教大實小東側門   大安區  2025-09-21 22:49:02   \n",
              "3  500101004       YouBike2.0_和平公園東側   大安區  2025-09-21 22:43:02   \n",
              "4  500101005    YouBike2.0_辛亥復興路口西北側   大安區  2025-09-21 22:49:02   \n",
              "\n",
              "              ar     sareaen  \\\n",
              "0    復興南路二段235號前  Daan Dist.   \n",
              "1   復興南路二段273號西側  Daan Dist.   \n",
              "2    和平東路二段96巷7號  Daan Dist.   \n",
              "3  和平東路二段118巷33號  Daan Dist.   \n",
              "4     復興南路二段368號  Daan Dist.   \n",
              "\n",
              "                                               snaen  \\\n",
              "0               YouBike2.0_MRT Technology Bldg. Sta.   \n",
              "1           YouBike2.0_No.273， Sec. 2， Fuxing S. Rd.   \n",
              "2  YouBike2.0_NTUE Experiment Elementary School (...   \n",
              "3                      YouBike2.0_Heping Park (East)   \n",
              "4  YouBike2.0_Xinhai Fuxing Rd. Intersection (Nor...   \n",
              "\n",
              "                                    aren act        srcUpdateTime  \\\n",
              "0          No.235， Sec. 2， Fuxing S. Rd.   1  2025-09-21 22:49:30   \n",
              "1   No.273， Sec. 2， Fuxing S. Rd. (West)   1  2025-09-21 22:49:30   \n",
              "2    No. 7， Ln. 96， Sec. 2， Heping E. Rd   1  2025-09-21 22:49:30   \n",
              "3  No. 33， Ln. 118， Sec. 2， Heping E. Rd   1  2025-09-21 22:49:30   \n",
              "4         No. 368， Sec. 2， Fuxing S. Rd.   1  2025-09-21 22:49:30   \n",
              "\n",
              "            updateTime             infoTime    infoDate  Quantity  \\\n",
              "0  2025-09-21 22:49:52  2025-09-21 22:49:02  2025-09-21        28   \n",
              "1  2025-09-21 22:49:52  2025-09-21 22:47:17  2025-09-21        21   \n",
              "2  2025-09-21 22:49:52  2025-09-21 22:49:02  2025-09-21        28   \n",
              "3  2025-09-21 22:49:52  2025-09-21 22:43:02  2025-09-21        11   \n",
              "4  2025-09-21 22:49:52  2025-09-21 22:49:02  2025-09-21        16   \n",
              "\n",
              "   available_rent_bikes  latitude  longitude  available_return_bikes  \n",
              "0                     0  25.02605  121.54360                      28  \n",
              "1                     2  25.02565  121.54357                      19  \n",
              "2                    13  25.02429  121.54124                      14  \n",
              "3                     3  25.02351  121.54282                       8  \n",
              "4                    11  25.02153  121.54299                       5  "
            ]
          },
          "execution_count": 20,
          "metadata": {},
          "output_type": "execute_result"
        }
      ],
      "source": [
        "import pandas as pd\n",
        "\n",
        "pd.set_option('display.max_columns', None) # Show all columns when displaying a DataFrame\n",
        "\n",
        "import requests\n",
        "raw = requests.get('https://tcgbusfs.blob.core.windows.net/dotapp/youbike/v2/youbike_immediate.json').json()\n",
        "print(type(raw))  # list\n",
        "\n",
        "# Convert list of dict to DataFrame\n",
        "ubike_df = pd.DataFrame(raw)\n",
        "ubike_df.head()"
      ]
    },
    {
      "cell_type": "markdown",
      "id": "b350e520",
      "metadata": {
        "id": "b350e520"
      },
      "source": [
        "### 3.2 Observation of DataFrame\n",
        "\n",
        "**Oberserving data**\n",
        "\n",
        "* `df.info()` can be used to check data type, non-null count, memory usage.\n",
        "* `df.describe()` can be used to get statistical summary of numerical columns, including count, mean, std, min, 25%, 50%, 75%, max.\n",
        "\n"
      ]
    },
    {
      "cell_type": "code",
      "execution_count": null,
      "id": "656b8115",
      "metadata": {
        "id": "656b8115",
        "outputId": "e5cff282-dd38-4e37-e309-34039426e82c"
      },
      "outputs": [
        {
          "name": "stdout",
          "output_type": "stream",
          "text": [
            "Dimension of DataFrame: (1653, 18)\n"
          ]
        },
        {
          "data": {
            "application/vnd.microsoft.datawrangler.viewer.v0+json": {
              "columns": [
                {
                  "name": "index",
                  "rawType": "object",
                  "type": "string"
                },
                {
                  "name": "Quantity",
                  "rawType": "float64",
                  "type": "float"
                },
                {
                  "name": "available_rent_bikes",
                  "rawType": "float64",
                  "type": "float"
                },
                {
                  "name": "latitude",
                  "rawType": "float64",
                  "type": "float"
                },
                {
                  "name": "longitude",
                  "rawType": "float64",
                  "type": "float"
                },
                {
                  "name": "available_return_bikes",
                  "rawType": "float64",
                  "type": "float"
                }
              ],
              "ref": "1abf5d82-add4-40c1-90ab-0ac62c4b79b5",
              "rows": [
                [
                  "count",
                  "1653.0",
                  "1653.0",
                  "1653.0",
                  "1653.0",
                  "1653.0"
                ],
                [
                  "mean",
                  "27.266787658802176",
                  "9.633393829401088",
                  "25.05311443785722",
                  "121.54510122089576",
                  "17.01330913490623"
                ],
                [
                  "std",
                  "14.155256098259258",
                  "9.008599491967042",
                  "0.03340312702982161",
                  "0.0319156848989007",
                  "14.039026097006905"
                ],
                [
                  "min",
                  "5.0",
                  "0.0",
                  "24.97619",
                  "121.46228",
                  "0.0"
                ],
                [
                  "25%",
                  "18.0",
                  "3.0",
                  "25.0301",
                  "121.5223",
                  "8.0"
                ],
                [
                  "50%",
                  "24.0",
                  "8.0",
                  "25.05023",
                  "121.54117",
                  "14.0"
                ],
                [
                  "75%",
                  "33.0",
                  "14.0",
                  "25.07332",
                  "121.56651",
                  "22.0"
                ],
                [
                  "max",
                  "99.0",
                  "61.0",
                  "25.14582",
                  "121.62306",
                  "98.0"
                ]
              ],
              "shape": {
                "columns": 5,
                "rows": 8
              }
            },
            "text/html": [
              "<div>\n",
              "<style scoped>\n",
              "    .dataframe tbody tr th:only-of-type {\n",
              "        vertical-align: middle;\n",
              "    }\n",
              "\n",
              "    .dataframe tbody tr th {\n",
              "        vertical-align: top;\n",
              "    }\n",
              "\n",
              "    .dataframe thead th {\n",
              "        text-align: right;\n",
              "    }\n",
              "</style>\n",
              "<table border=\"1\" class=\"dataframe\">\n",
              "  <thead>\n",
              "    <tr style=\"text-align: right;\">\n",
              "      <th></th>\n",
              "      <th>Quantity</th>\n",
              "      <th>available_rent_bikes</th>\n",
              "      <th>latitude</th>\n",
              "      <th>longitude</th>\n",
              "      <th>available_return_bikes</th>\n",
              "    </tr>\n",
              "  </thead>\n",
              "  <tbody>\n",
              "    <tr>\n",
              "      <th>count</th>\n",
              "      <td>1653.000000</td>\n",
              "      <td>1653.000000</td>\n",
              "      <td>1653.000000</td>\n",
              "      <td>1653.000000</td>\n",
              "      <td>1653.000000</td>\n",
              "    </tr>\n",
              "    <tr>\n",
              "      <th>mean</th>\n",
              "      <td>27.266788</td>\n",
              "      <td>9.633394</td>\n",
              "      <td>25.053114</td>\n",
              "      <td>121.545101</td>\n",
              "      <td>17.013309</td>\n",
              "    </tr>\n",
              "    <tr>\n",
              "      <th>std</th>\n",
              "      <td>14.155256</td>\n",
              "      <td>9.008599</td>\n",
              "      <td>0.033403</td>\n",
              "      <td>0.031916</td>\n",
              "      <td>14.039026</td>\n",
              "    </tr>\n",
              "    <tr>\n",
              "      <th>min</th>\n",
              "      <td>5.000000</td>\n",
              "      <td>0.000000</td>\n",
              "      <td>24.976190</td>\n",
              "      <td>121.462280</td>\n",
              "      <td>0.000000</td>\n",
              "    </tr>\n",
              "    <tr>\n",
              "      <th>25%</th>\n",
              "      <td>18.000000</td>\n",
              "      <td>3.000000</td>\n",
              "      <td>25.030100</td>\n",
              "      <td>121.522300</td>\n",
              "      <td>8.000000</td>\n",
              "    </tr>\n",
              "    <tr>\n",
              "      <th>50%</th>\n",
              "      <td>24.000000</td>\n",
              "      <td>8.000000</td>\n",
              "      <td>25.050230</td>\n",
              "      <td>121.541170</td>\n",
              "      <td>14.000000</td>\n",
              "    </tr>\n",
              "    <tr>\n",
              "      <th>75%</th>\n",
              "      <td>33.000000</td>\n",
              "      <td>14.000000</td>\n",
              "      <td>25.073320</td>\n",
              "      <td>121.566510</td>\n",
              "      <td>22.000000</td>\n",
              "    </tr>\n",
              "    <tr>\n",
              "      <th>max</th>\n",
              "      <td>99.000000</td>\n",
              "      <td>61.000000</td>\n",
              "      <td>25.145820</td>\n",
              "      <td>121.623060</td>\n",
              "      <td>98.000000</td>\n",
              "    </tr>\n",
              "  </tbody>\n",
              "</table>\n",
              "</div>"
            ],
            "text/plain": [
              "          Quantity  available_rent_bikes     latitude    longitude  \\\n",
              "count  1653.000000           1653.000000  1653.000000  1653.000000   \n",
              "mean     27.266788              9.633394    25.053114   121.545101   \n",
              "std      14.155256              9.008599     0.033403     0.031916   \n",
              "min       5.000000              0.000000    24.976190   121.462280   \n",
              "25%      18.000000              3.000000    25.030100   121.522300   \n",
              "50%      24.000000              8.000000    25.050230   121.541170   \n",
              "75%      33.000000             14.000000    25.073320   121.566510   \n",
              "max      99.000000             61.000000    25.145820   121.623060   \n",
              "\n",
              "       available_return_bikes  \n",
              "count             1653.000000  \n",
              "mean                17.013309  \n",
              "std                 14.039026  \n",
              "min                  0.000000  \n",
              "25%                  8.000000  \n",
              "50%                 14.000000  \n",
              "75%                 22.000000  \n",
              "max                 98.000000  "
            ]
          },
          "execution_count": 15,
          "metadata": {},
          "output_type": "execute_result"
        }
      ],
      "source": [
        "print(\"Dimension of DataFrame:\", ubike_df.shape)\n",
        "ubike_df.describe()"
      ]
    },
    {
      "cell_type": "markdown",
      "id": "a34cee82",
      "metadata": {
        "id": "a34cee82"
      },
      "source": [
        "### 3.3 Select part of columns\n",
        "\n",
        "There are two common ways to select specific columns from a Pandas DataFrame: one is by specifying the column **names** directly, and the other is by selecting columns, rows or cells based on their **index** positions.\n",
        "\n",
        "#### 3.3.1 Subset columns by specifying column names\n",
        "\n",
        "1. Subsetting them by passing a list of column names inside the square brackets `df[['col1', 'col2']]`\n",
        "2. Using the `.drop()` method to drop columns `df.drop(['col1', 'col2'], axis=1)`"
      ]
    },
    {
      "cell_type": "code",
      "execution_count": null,
      "id": "bd72a557",
      "metadata": {
        "id": "bd72a557",
        "outputId": "d61fa591-7ef1-4173-b0c5-db21b39f9c0f"
      },
      "outputs": [
        {
          "data": {
            "application/vnd.microsoft.datawrangler.viewer.v0+json": {
              "columns": [
                {
                  "name": "index",
                  "rawType": "int64",
                  "type": "integer"
                },
                {
                  "name": "sno",
                  "rawType": "object",
                  "type": "string"
                },
                {
                  "name": "sna",
                  "rawType": "object",
                  "type": "string"
                },
                {
                  "name": "sarea",
                  "rawType": "object",
                  "type": "string"
                },
                {
                  "name": "mday",
                  "rawType": "object",
                  "type": "string"
                },
                {
                  "name": "sareaen",
                  "rawType": "object",
                  "type": "string"
                },
                {
                  "name": "act",
                  "rawType": "object",
                  "type": "string"
                },
                {
                  "name": "srcUpdateTime",
                  "rawType": "object",
                  "type": "string"
                },
                {
                  "name": "updateTime",
                  "rawType": "object",
                  "type": "string"
                },
                {
                  "name": "infoTime",
                  "rawType": "object",
                  "type": "string"
                },
                {
                  "name": "infoDate",
                  "rawType": "object",
                  "type": "string"
                },
                {
                  "name": "Quantity",
                  "rawType": "int64",
                  "type": "integer"
                },
                {
                  "name": "available_rent_bikes",
                  "rawType": "int64",
                  "type": "integer"
                },
                {
                  "name": "available_return_bikes",
                  "rawType": "int64",
                  "type": "integer"
                }
              ],
              "ref": "77613a5a-141c-4e32-976a-5b8e45e0a7da",
              "rows": [
                [
                  "0",
                  "500101001",
                  "YouBike2.0_捷運科技大樓站",
                  "大安區",
                  "2025-09-21 22:25:18",
                  "Daan Dist.",
                  "1",
                  "2025-09-21 22:25:29",
                  "2025-09-21 22:25:52",
                  "2025-09-21 22:25:18",
                  "2025-09-21",
                  "28",
                  "0",
                  "28"
                ],
                [
                  "1",
                  "500101002",
                  "YouBike2.0_復興南路二段273號前",
                  "大安區",
                  "2025-09-21 22:20:05",
                  "Daan Dist.",
                  "1",
                  "2025-09-21 22:25:29",
                  "2025-09-21 22:25:52",
                  "2025-09-21 22:20:05",
                  "2025-09-21",
                  "21",
                  "1",
                  "20"
                ],
                [
                  "2",
                  "500101003",
                  "YouBike2.0_國北教大實小東側門",
                  "大安區",
                  "2025-09-21 22:21:01",
                  "Daan Dist.",
                  "1",
                  "2025-09-21 22:25:29",
                  "2025-09-21 22:25:52",
                  "2025-09-21 22:21:01",
                  "2025-09-21",
                  "28",
                  "6",
                  "21"
                ],
                [
                  "3",
                  "500101004",
                  "YouBike2.0_和平公園東側",
                  "大安區",
                  "2025-09-21 22:10:03",
                  "Daan Dist.",
                  "1",
                  "2025-09-21 22:25:29",
                  "2025-09-21 22:25:52",
                  "2025-09-21 22:10:03",
                  "2025-09-21",
                  "11",
                  "3",
                  "8"
                ],
                [
                  "4",
                  "500101005",
                  "YouBike2.0_辛亥復興路口西北側",
                  "大安區",
                  "2025-09-21 22:02:02",
                  "Daan Dist.",
                  "1",
                  "2025-09-21 22:25:29",
                  "2025-09-21 22:25:52",
                  "2025-09-21 22:02:02",
                  "2025-09-21",
                  "16",
                  "13",
                  "3"
                ]
              ],
              "shape": {
                "columns": 13,
                "rows": 5
              }
            },
            "text/html": [
              "<div>\n",
              "<style scoped>\n",
              "    .dataframe tbody tr th:only-of-type {\n",
              "        vertical-align: middle;\n",
              "    }\n",
              "\n",
              "    .dataframe tbody tr th {\n",
              "        vertical-align: top;\n",
              "    }\n",
              "\n",
              "    .dataframe thead th {\n",
              "        text-align: right;\n",
              "    }\n",
              "</style>\n",
              "<table border=\"1\" class=\"dataframe\">\n",
              "  <thead>\n",
              "    <tr style=\"text-align: right;\">\n",
              "      <th></th>\n",
              "      <th>sno</th>\n",
              "      <th>sna</th>\n",
              "      <th>sarea</th>\n",
              "      <th>mday</th>\n",
              "      <th>sareaen</th>\n",
              "      <th>act</th>\n",
              "      <th>srcUpdateTime</th>\n",
              "      <th>updateTime</th>\n",
              "      <th>infoTime</th>\n",
              "      <th>infoDate</th>\n",
              "      <th>Quantity</th>\n",
              "      <th>available_rent_bikes</th>\n",
              "      <th>available_return_bikes</th>\n",
              "    </tr>\n",
              "  </thead>\n",
              "  <tbody>\n",
              "    <tr>\n",
              "      <th>0</th>\n",
              "      <td>500101001</td>\n",
              "      <td>YouBike2.0_捷運科技大樓站</td>\n",
              "      <td>大安區</td>\n",
              "      <td>2025-09-21 22:25:18</td>\n",
              "      <td>Daan Dist.</td>\n",
              "      <td>1</td>\n",
              "      <td>2025-09-21 22:25:29</td>\n",
              "      <td>2025-09-21 22:25:52</td>\n",
              "      <td>2025-09-21 22:25:18</td>\n",
              "      <td>2025-09-21</td>\n",
              "      <td>28</td>\n",
              "      <td>0</td>\n",
              "      <td>28</td>\n",
              "    </tr>\n",
              "    <tr>\n",
              "      <th>1</th>\n",
              "      <td>500101002</td>\n",
              "      <td>YouBike2.0_復興南路二段273號前</td>\n",
              "      <td>大安區</td>\n",
              "      <td>2025-09-21 22:20:05</td>\n",
              "      <td>Daan Dist.</td>\n",
              "      <td>1</td>\n",
              "      <td>2025-09-21 22:25:29</td>\n",
              "      <td>2025-09-21 22:25:52</td>\n",
              "      <td>2025-09-21 22:20:05</td>\n",
              "      <td>2025-09-21</td>\n",
              "      <td>21</td>\n",
              "      <td>1</td>\n",
              "      <td>20</td>\n",
              "    </tr>\n",
              "    <tr>\n",
              "      <th>2</th>\n",
              "      <td>500101003</td>\n",
              "      <td>YouBike2.0_國北教大實小東側門</td>\n",
              "      <td>大安區</td>\n",
              "      <td>2025-09-21 22:21:01</td>\n",
              "      <td>Daan Dist.</td>\n",
              "      <td>1</td>\n",
              "      <td>2025-09-21 22:25:29</td>\n",
              "      <td>2025-09-21 22:25:52</td>\n",
              "      <td>2025-09-21 22:21:01</td>\n",
              "      <td>2025-09-21</td>\n",
              "      <td>28</td>\n",
              "      <td>6</td>\n",
              "      <td>21</td>\n",
              "    </tr>\n",
              "    <tr>\n",
              "      <th>3</th>\n",
              "      <td>500101004</td>\n",
              "      <td>YouBike2.0_和平公園東側</td>\n",
              "      <td>大安區</td>\n",
              "      <td>2025-09-21 22:10:03</td>\n",
              "      <td>Daan Dist.</td>\n",
              "      <td>1</td>\n",
              "      <td>2025-09-21 22:25:29</td>\n",
              "      <td>2025-09-21 22:25:52</td>\n",
              "      <td>2025-09-21 22:10:03</td>\n",
              "      <td>2025-09-21</td>\n",
              "      <td>11</td>\n",
              "      <td>3</td>\n",
              "      <td>8</td>\n",
              "    </tr>\n",
              "    <tr>\n",
              "      <th>4</th>\n",
              "      <td>500101005</td>\n",
              "      <td>YouBike2.0_辛亥復興路口西北側</td>\n",
              "      <td>大安區</td>\n",
              "      <td>2025-09-21 22:02:02</td>\n",
              "      <td>Daan Dist.</td>\n",
              "      <td>1</td>\n",
              "      <td>2025-09-21 22:25:29</td>\n",
              "      <td>2025-09-21 22:25:52</td>\n",
              "      <td>2025-09-21 22:02:02</td>\n",
              "      <td>2025-09-21</td>\n",
              "      <td>16</td>\n",
              "      <td>13</td>\n",
              "      <td>3</td>\n",
              "    </tr>\n",
              "  </tbody>\n",
              "</table>\n",
              "</div>"
            ],
            "text/plain": [
              "         sno                     sna sarea                 mday     sareaen  \\\n",
              "0  500101001      YouBike2.0_捷運科技大樓站   大安區  2025-09-21 22:25:18  Daan Dist.   \n",
              "1  500101002  YouBike2.0_復興南路二段273號前   大安區  2025-09-21 22:20:05  Daan Dist.   \n",
              "2  500101003    YouBike2.0_國北教大實小東側門   大安區  2025-09-21 22:21:01  Daan Dist.   \n",
              "3  500101004       YouBike2.0_和平公園東側   大安區  2025-09-21 22:10:03  Daan Dist.   \n",
              "4  500101005    YouBike2.0_辛亥復興路口西北側   大安區  2025-09-21 22:02:02  Daan Dist.   \n",
              "\n",
              "  act        srcUpdateTime           updateTime             infoTime  \\\n",
              "0   1  2025-09-21 22:25:29  2025-09-21 22:25:52  2025-09-21 22:25:18   \n",
              "1   1  2025-09-21 22:25:29  2025-09-21 22:25:52  2025-09-21 22:20:05   \n",
              "2   1  2025-09-21 22:25:29  2025-09-21 22:25:52  2025-09-21 22:21:01   \n",
              "3   1  2025-09-21 22:25:29  2025-09-21 22:25:52  2025-09-21 22:10:03   \n",
              "4   1  2025-09-21 22:25:29  2025-09-21 22:25:52  2025-09-21 22:02:02   \n",
              "\n",
              "     infoDate  Quantity  available_rent_bikes  available_return_bikes  \n",
              "0  2025-09-21        28                     0                      28  \n",
              "1  2025-09-21        21                     1                      20  \n",
              "2  2025-09-21        28                     6                      21  \n",
              "3  2025-09-21        11                     3                       8  \n",
              "4  2025-09-21        16                    13                       3  "
            ]
          },
          "execution_count": 17,
          "metadata": {},
          "output_type": "execute_result"
        }
      ],
      "source": [
        "# Select part of columns\n",
        "ubike_df[['sno', 'sna', 'Quantity', 'available_rent_bikes', 'sarea']].head()\n",
        "\n",
        "# Drop part of columns\n",
        "# axis=1 means drop columns, axis=0 means drop rows\n",
        "ubike_df.drop(['ar', 'aren', 'snaen', 'latitude', 'longitude'], axis=1).head()"
      ]
    },
    {
      "cell_type": "markdown",
      "id": "8e3e6b86",
      "metadata": {
        "id": "8e3e6b86"
      },
      "source": [
        "#### 3.3.2 Selecting rows and cells by index"
      ]
    },
    {
      "cell_type": "code",
      "execution_count": null,
      "id": "49325ac1",
      "metadata": {
        "id": "49325ac1",
        "outputId": "2247f69f-77c4-4757-b9b0-391633f63dd6"
      },
      "outputs": [
        {
          "data": {
            "application/vnd.microsoft.datawrangler.viewer.v0+json": {
              "columns": [
                {
                  "name": "index",
                  "rawType": "object",
                  "type": "string"
                },
                {
                  "name": "2",
                  "rawType": "object",
                  "type": "unknown"
                }
              ],
              "ref": "d2e4fb46-c10f-405e-9cab-83fc18272cbe",
              "rows": [
                [
                  "sno",
                  "500101003"
                ],
                [
                  "sna",
                  "YouBike2.0_國北教大實小東側門"
                ],
                [
                  "sarea",
                  "大安區"
                ],
                [
                  "mday",
                  "2025-09-21 22:21:01"
                ],
                [
                  "ar",
                  "和平東路二段96巷7號"
                ],
                [
                  "sareaen",
                  "Daan Dist."
                ],
                [
                  "snaen",
                  "YouBike2.0_NTUE Experiment Elementary School (East)"
                ],
                [
                  "aren",
                  "No. 7， Ln. 96， Sec. 2， Heping E. Rd"
                ],
                [
                  "act",
                  "1"
                ],
                [
                  "srcUpdateTime",
                  "2025-09-21 22:25:29"
                ],
                [
                  "updateTime",
                  "2025-09-21 22:25:52"
                ],
                [
                  "infoTime",
                  "2025-09-21 22:21:01"
                ],
                [
                  "infoDate",
                  "2025-09-21"
                ],
                [
                  "Quantity",
                  "28"
                ],
                [
                  "available_rent_bikes",
                  "6"
                ],
                [
                  "latitude",
                  "25.02429"
                ],
                [
                  "longitude",
                  "121.54124"
                ],
                [
                  "available_return_bikes",
                  "21"
                ]
              ],
              "shape": {
                "columns": 1,
                "rows": 18
              }
            },
            "text/plain": [
              "sno                                                               500101003\n",
              "sna                                                    YouBike2.0_國北教大實小東側門\n",
              "sarea                                                                   大安區\n",
              "mday                                                    2025-09-21 22:21:01\n",
              "ar                                                              和平東路二段96巷7號\n",
              "sareaen                                                          Daan Dist.\n",
              "snaen                     YouBike2.0_NTUE Experiment Elementary School (...\n",
              "aren                                    No. 7， Ln. 96， Sec. 2， Heping E. Rd\n",
              "act                                                                       1\n",
              "srcUpdateTime                                           2025-09-21 22:25:29\n",
              "updateTime                                              2025-09-21 22:25:52\n",
              "infoTime                                                2025-09-21 22:21:01\n",
              "infoDate                                                         2025-09-21\n",
              "Quantity                                                                 28\n",
              "available_rent_bikes                                                      6\n",
              "latitude                                                           25.02429\n",
              "longitude                                                         121.54124\n",
              "available_return_bikes                                                   21\n",
              "Name: 2, dtype: object"
            ]
          },
          "metadata": {},
          "output_type": "display_data"
        },
        {
          "name": "stdout",
          "output_type": "stream",
          "text": [
            "Show value of ubike_df at row 2, column 0 ==> 500101003\n"
          ]
        }
      ],
      "source": [
        "# Select a single row\n",
        "# .pipe() method is used to apply a function to the DataFrame\n",
        "# display() function is used to display the DataFrame in a Jupyter Notebook\n",
        "ubike_df.iloc[2].pipe(display)\n",
        "\n",
        "# Select a single cell with row and column index\n",
        "print(\"Show value of ubike_df at row 2, column 0 ==>\", ubike_df.iloc[2, 0])"
      ]
    },
    {
      "cell_type": "markdown",
      "id": "9bbe711e",
      "metadata": {
        "id": "9bbe711e"
      },
      "source": [
        "### 3.4 Convert data type of columns\n",
        "\n",
        "Using `pd.to_numeric(var)` or `pd.to_datetime(var)` to convert a pandas Series to numeric or datetime type.\n"
      ]
    },
    {
      "cell_type": "code",
      "execution_count": null,
      "id": "84b5ca60",
      "metadata": {
        "id": "84b5ca60",
        "outputId": "c7341ea2-9a3a-4a0c-87e2-b308025d70f5"
      },
      "outputs": [
        {
          "name": "stdout",
          "output_type": "stream",
          "text": [
            "<class 'pandas.core.series.Series'>\n"
          ]
        },
        {
          "data": {
            "application/vnd.microsoft.datawrangler.viewer.v0+json": {
              "columns": [
                {
                  "name": "index",
                  "rawType": "int64",
                  "type": "integer"
                },
                {
                  "name": "sno",
                  "rawType": "object",
                  "type": "string"
                },
                {
                  "name": "sna",
                  "rawType": "object",
                  "type": "string"
                },
                {
                  "name": "total",
                  "rawType": "int64",
                  "type": "integer"
                },
                {
                  "name": "available_rent_bikes",
                  "rawType": "int64",
                  "type": "integer"
                },
                {
                  "name": "ratio",
                  "rawType": "float64",
                  "type": "float"
                }
              ],
              "conversionMethod": "pd.DataFrame",
              "ref": "5814b4ff-b660-4b75-946e-d82c3255fd7c",
              "rows": [
                [
                  "0",
                  "500101001",
                  "YouBike2.0_捷運科技大樓站",
                  "28",
                  "3",
                  "0.10714285714285714"
                ],
                [
                  "1",
                  "500101002",
                  "YouBike2.0_復興南路二段273號前",
                  "21",
                  "1",
                  "0.047619047619047616"
                ],
                [
                  "2",
                  "500101003",
                  "YouBike2.0_國北教大實小東側門",
                  "16",
                  "4",
                  "0.25"
                ],
                [
                  "3",
                  "500101004",
                  "YouBike2.0_和平公園東側",
                  "11",
                  "1",
                  "0.09090909090909091"
                ],
                [
                  "4",
                  "500101005",
                  "YouBike2.0_辛亥復興路口西北側",
                  "16",
                  "2",
                  "0.125"
                ]
              ],
              "shape": {
                "columns": 5,
                "rows": 5
              }
            },
            "text/html": [
              "<div>\n",
              "<style scoped>\n",
              "    .dataframe tbody tr th:only-of-type {\n",
              "        vertical-align: middle;\n",
              "    }\n",
              "\n",
              "    .dataframe tbody tr th {\n",
              "        vertical-align: top;\n",
              "    }\n",
              "\n",
              "    .dataframe thead th {\n",
              "        text-align: right;\n",
              "    }\n",
              "</style>\n",
              "<table border=\"1\" class=\"dataframe\">\n",
              "  <thead>\n",
              "    <tr style=\"text-align: right;\">\n",
              "      <th></th>\n",
              "      <th>sno</th>\n",
              "      <th>sna</th>\n",
              "      <th>total</th>\n",
              "      <th>available_rent_bikes</th>\n",
              "      <th>ratio</th>\n",
              "    </tr>\n",
              "  </thead>\n",
              "  <tbody>\n",
              "    <tr>\n",
              "      <th>0</th>\n",
              "      <td>500101001</td>\n",
              "      <td>YouBike2.0_捷運科技大樓站</td>\n",
              "      <td>28</td>\n",
              "      <td>3</td>\n",
              "      <td>0.107143</td>\n",
              "    </tr>\n",
              "    <tr>\n",
              "      <th>1</th>\n",
              "      <td>500101002</td>\n",
              "      <td>YouBike2.0_復興南路二段273號前</td>\n",
              "      <td>21</td>\n",
              "      <td>1</td>\n",
              "      <td>0.047619</td>\n",
              "    </tr>\n",
              "    <tr>\n",
              "      <th>2</th>\n",
              "      <td>500101003</td>\n",
              "      <td>YouBike2.0_國北教大實小東側門</td>\n",
              "      <td>16</td>\n",
              "      <td>4</td>\n",
              "      <td>0.250000</td>\n",
              "    </tr>\n",
              "    <tr>\n",
              "      <th>3</th>\n",
              "      <td>500101004</td>\n",
              "      <td>YouBike2.0_和平公園東側</td>\n",
              "      <td>11</td>\n",
              "      <td>1</td>\n",
              "      <td>0.090909</td>\n",
              "    </tr>\n",
              "    <tr>\n",
              "      <th>4</th>\n",
              "      <td>500101005</td>\n",
              "      <td>YouBike2.0_辛亥復興路口西北側</td>\n",
              "      <td>16</td>\n",
              "      <td>2</td>\n",
              "      <td>0.125000</td>\n",
              "    </tr>\n",
              "  </tbody>\n",
              "</table>\n",
              "</div>"
            ],
            "text/plain": [
              "         sno                     sna  total  available_rent_bikes     ratio\n",
              "0  500101001      YouBike2.0_捷運科技大樓站     28                     3  0.107143\n",
              "1  500101002  YouBike2.0_復興南路二段273號前     21                     1  0.047619\n",
              "2  500101003    YouBike2.0_國北教大實小東側門     16                     4  0.250000\n",
              "3  500101004       YouBike2.0_和平公園東側     11                     1  0.090909\n",
              "4  500101005    YouBike2.0_辛亥復興路口西北側     16                     2  0.125000"
            ]
          },
          "metadata": {},
          "output_type": "display_data"
        }
      ],
      "source": [
        "# ratio = sbi/tot\n",
        "print(type(ubike_df['available_rent_bikes']))\n",
        "ubike_df['ratio'] = pd.to_numeric(ubike_df['available_rent_bikes'])/pd.to_numeric(ubike_df['total'])\n",
        "ubike_df[['sno', 'sna', 'total', 'available_rent_bikes', 'ratio']].head()"
      ]
    },
    {
      "cell_type": "markdown",
      "id": "eed48c00",
      "metadata": {
        "id": "eed48c00"
      },
      "source": [
        " ### 3.5 Creating a New Variable\n",
        "\n",
        "* **Method 1 – Using `.assign()`**. This creates a new variable (or column). Be careful—if you want to update the original DataFrame, you must assign the result back to `df`.\n",
        "\n",
        "  ```python\n",
        "  df = df.assign(new_var = df.old_var1 / df.old_var2)\n",
        "  ```\n",
        "\n",
        "* **Method 2 – Direct assignment**, This is another way to add a new column directly.\n",
        "\n",
        "  ```python\n",
        "  df[\"new_var\"] = df.old_var1 / df.old_var2\n",
        "  ```\n",
        "* **Example**: Creating a new variable `ratio = available_rent_bikes / total` for the Ubike dataset.\n",
        "\n",
        "* **Type conversion**: Use `pd.to_numeric()` to convert a variable to a numeric type when needed.\n"
      ]
    },
    {
      "cell_type": "code",
      "execution_count": null,
      "id": "c68d29c8",
      "metadata": {
        "id": "c68d29c8",
        "outputId": "11002174-b023-4690-fe0a-c50668f2481c"
      },
      "outputs": [
        {
          "data": {
            "application/vnd.microsoft.datawrangler.viewer.v0+json": {
              "columns": [
                {
                  "name": "index",
                  "rawType": "int64",
                  "type": "integer"
                },
                {
                  "name": "sno",
                  "rawType": "object",
                  "type": "string"
                },
                {
                  "name": "sna",
                  "rawType": "object",
                  "type": "string"
                },
                {
                  "name": "Quantity",
                  "rawType": "int64",
                  "type": "integer"
                },
                {
                  "name": "available_rent_bikes",
                  "rawType": "int64",
                  "type": "integer"
                },
                {
                  "name": "ratio",
                  "rawType": "float64",
                  "type": "float"
                }
              ],
              "ref": "70abcb3b-82b1-47b2-a8ff-4fd0a17a1210",
              "rows": [
                [
                  "0",
                  "500101001",
                  "YouBike2.0_捷運科技大樓站",
                  "28",
                  "0",
                  "0.0"
                ],
                [
                  "1",
                  "500101002",
                  "YouBike2.0_復興南路二段273號前",
                  "21",
                  "2",
                  "0.09523809523809523"
                ],
                [
                  "2",
                  "500101003",
                  "YouBike2.0_國北教大實小東側門",
                  "28",
                  "13",
                  "0.4642857142857143"
                ],
                [
                  "3",
                  "500101004",
                  "YouBike2.0_和平公園東側",
                  "11",
                  "3",
                  "0.2727272727272727"
                ],
                [
                  "4",
                  "500101005",
                  "YouBike2.0_辛亥復興路口西北側",
                  "16",
                  "11",
                  "0.6875"
                ]
              ],
              "shape": {
                "columns": 5,
                "rows": 5
              }
            },
            "text/html": [
              "<div>\n",
              "<style scoped>\n",
              "    .dataframe tbody tr th:only-of-type {\n",
              "        vertical-align: middle;\n",
              "    }\n",
              "\n",
              "    .dataframe tbody tr th {\n",
              "        vertical-align: top;\n",
              "    }\n",
              "\n",
              "    .dataframe thead th {\n",
              "        text-align: right;\n",
              "    }\n",
              "</style>\n",
              "<table border=\"1\" class=\"dataframe\">\n",
              "  <thead>\n",
              "    <tr style=\"text-align: right;\">\n",
              "      <th></th>\n",
              "      <th>sno</th>\n",
              "      <th>sna</th>\n",
              "      <th>Quantity</th>\n",
              "      <th>available_rent_bikes</th>\n",
              "      <th>ratio</th>\n",
              "    </tr>\n",
              "  </thead>\n",
              "  <tbody>\n",
              "    <tr>\n",
              "      <th>0</th>\n",
              "      <td>500101001</td>\n",
              "      <td>YouBike2.0_捷運科技大樓站</td>\n",
              "      <td>28</td>\n",
              "      <td>0</td>\n",
              "      <td>0.000000</td>\n",
              "    </tr>\n",
              "    <tr>\n",
              "      <th>1</th>\n",
              "      <td>500101002</td>\n",
              "      <td>YouBike2.0_復興南路二段273號前</td>\n",
              "      <td>21</td>\n",
              "      <td>2</td>\n",
              "      <td>0.095238</td>\n",
              "    </tr>\n",
              "    <tr>\n",
              "      <th>2</th>\n",
              "      <td>500101003</td>\n",
              "      <td>YouBike2.0_國北教大實小東側門</td>\n",
              "      <td>28</td>\n",
              "      <td>13</td>\n",
              "      <td>0.464286</td>\n",
              "    </tr>\n",
              "    <tr>\n",
              "      <th>3</th>\n",
              "      <td>500101004</td>\n",
              "      <td>YouBike2.0_和平公園東側</td>\n",
              "      <td>11</td>\n",
              "      <td>3</td>\n",
              "      <td>0.272727</td>\n",
              "    </tr>\n",
              "    <tr>\n",
              "      <th>4</th>\n",
              "      <td>500101005</td>\n",
              "      <td>YouBike2.0_辛亥復興路口西北側</td>\n",
              "      <td>16</td>\n",
              "      <td>11</td>\n",
              "      <td>0.687500</td>\n",
              "    </tr>\n",
              "  </tbody>\n",
              "</table>\n",
              "</div>"
            ],
            "text/plain": [
              "         sno                     sna  Quantity  available_rent_bikes     ratio\n",
              "0  500101001      YouBike2.0_捷運科技大樓站        28                     0  0.000000\n",
              "1  500101002  YouBike2.0_復興南路二段273號前        21                     2  0.095238\n",
              "2  500101003    YouBike2.0_國北教大實小東側門        28                    13  0.464286\n",
              "3  500101004       YouBike2.0_和平公園東側        11                     3  0.272727\n",
              "4  500101005    YouBike2.0_辛亥復興路口西北側        16                    11  0.687500"
            ]
          },
          "metadata": {},
          "output_type": "display_data"
        },
        {
          "data": {
            "application/vnd.microsoft.datawrangler.viewer.v0+json": {
              "columns": [
                {
                  "name": "index",
                  "rawType": "object",
                  "type": "string"
                },
                {
                  "name": "Quantity",
                  "rawType": "float64",
                  "type": "float"
                },
                {
                  "name": "available_rent_bikes",
                  "rawType": "float64",
                  "type": "float"
                },
                {
                  "name": "latitude",
                  "rawType": "float64",
                  "type": "float"
                },
                {
                  "name": "longitude",
                  "rawType": "float64",
                  "type": "float"
                },
                {
                  "name": "available_return_bikes",
                  "rawType": "float64",
                  "type": "float"
                },
                {
                  "name": "ratio",
                  "rawType": "float64",
                  "type": "float"
                }
              ],
              "ref": "ac133b4f-896b-438b-ae3a-2e4d2f3a0608",
              "rows": [
                [
                  "count",
                  "1653.0",
                  "1653.0",
                  "1653.0",
                  "1653.0",
                  "1653.0",
                  "1653.0"
                ],
                [
                  "mean",
                  "27.266787658802176",
                  "9.973381730187537",
                  "25.05311443785722",
                  "121.54510122089576",
                  "16.632183908045977",
                  "0.39042712067127716"
                ],
                [
                  "std",
                  "14.155256098259258",
                  "9.174090687868217",
                  "0.03340312702982161",
                  "0.0319156848989007",
                  "14.046713139013713",
                  "0.2916530110777127"
                ],
                [
                  "min",
                  "5.0",
                  "0.0",
                  "24.97619",
                  "121.46228",
                  "0.0",
                  "0.0"
                ],
                [
                  "25%",
                  "18.0",
                  "3.0",
                  "25.0301",
                  "121.5223",
                  "7.0",
                  "0.13043478260869565"
                ],
                [
                  "50%",
                  "24.0",
                  "8.0",
                  "25.05023",
                  "121.54117",
                  "14.0",
                  "0.35714285714285715"
                ],
                [
                  "75%",
                  "33.0",
                  "14.0",
                  "25.07332",
                  "121.56651",
                  "22.0",
                  "0.6"
                ],
                [
                  "max",
                  "99.0",
                  "61.0",
                  "25.14582",
                  "121.62306",
                  "96.0",
                  "1.0"
                ]
              ],
              "shape": {
                "columns": 6,
                "rows": 8
              }
            },
            "text/html": [
              "<div>\n",
              "<style scoped>\n",
              "    .dataframe tbody tr th:only-of-type {\n",
              "        vertical-align: middle;\n",
              "    }\n",
              "\n",
              "    .dataframe tbody tr th {\n",
              "        vertical-align: top;\n",
              "    }\n",
              "\n",
              "    .dataframe thead th {\n",
              "        text-align: right;\n",
              "    }\n",
              "</style>\n",
              "<table border=\"1\" class=\"dataframe\">\n",
              "  <thead>\n",
              "    <tr style=\"text-align: right;\">\n",
              "      <th></th>\n",
              "      <th>Quantity</th>\n",
              "      <th>available_rent_bikes</th>\n",
              "      <th>latitude</th>\n",
              "      <th>longitude</th>\n",
              "      <th>available_return_bikes</th>\n",
              "      <th>ratio</th>\n",
              "    </tr>\n",
              "  </thead>\n",
              "  <tbody>\n",
              "    <tr>\n",
              "      <th>count</th>\n",
              "      <td>1653.000000</td>\n",
              "      <td>1653.000000</td>\n",
              "      <td>1653.000000</td>\n",
              "      <td>1653.000000</td>\n",
              "      <td>1653.000000</td>\n",
              "      <td>1653.000000</td>\n",
              "    </tr>\n",
              "    <tr>\n",
              "      <th>mean</th>\n",
              "      <td>27.266788</td>\n",
              "      <td>9.973382</td>\n",
              "      <td>25.053114</td>\n",
              "      <td>121.545101</td>\n",
              "      <td>16.632184</td>\n",
              "      <td>0.390427</td>\n",
              "    </tr>\n",
              "    <tr>\n",
              "      <th>std</th>\n",
              "      <td>14.155256</td>\n",
              "      <td>9.174091</td>\n",
              "      <td>0.033403</td>\n",
              "      <td>0.031916</td>\n",
              "      <td>14.046713</td>\n",
              "      <td>0.291653</td>\n",
              "    </tr>\n",
              "    <tr>\n",
              "      <th>min</th>\n",
              "      <td>5.000000</td>\n",
              "      <td>0.000000</td>\n",
              "      <td>24.976190</td>\n",
              "      <td>121.462280</td>\n",
              "      <td>0.000000</td>\n",
              "      <td>0.000000</td>\n",
              "    </tr>\n",
              "    <tr>\n",
              "      <th>25%</th>\n",
              "      <td>18.000000</td>\n",
              "      <td>3.000000</td>\n",
              "      <td>25.030100</td>\n",
              "      <td>121.522300</td>\n",
              "      <td>7.000000</td>\n",
              "      <td>0.130435</td>\n",
              "    </tr>\n",
              "    <tr>\n",
              "      <th>50%</th>\n",
              "      <td>24.000000</td>\n",
              "      <td>8.000000</td>\n",
              "      <td>25.050230</td>\n",
              "      <td>121.541170</td>\n",
              "      <td>14.000000</td>\n",
              "      <td>0.357143</td>\n",
              "    </tr>\n",
              "    <tr>\n",
              "      <th>75%</th>\n",
              "      <td>33.000000</td>\n",
              "      <td>14.000000</td>\n",
              "      <td>25.073320</td>\n",
              "      <td>121.566510</td>\n",
              "      <td>22.000000</td>\n",
              "      <td>0.600000</td>\n",
              "    </tr>\n",
              "    <tr>\n",
              "      <th>max</th>\n",
              "      <td>99.000000</td>\n",
              "      <td>61.000000</td>\n",
              "      <td>25.145820</td>\n",
              "      <td>121.623060</td>\n",
              "      <td>96.000000</td>\n",
              "      <td>1.000000</td>\n",
              "    </tr>\n",
              "  </tbody>\n",
              "</table>\n",
              "</div>"
            ],
            "text/plain": [
              "          Quantity  available_rent_bikes     latitude    longitude  \\\n",
              "count  1653.000000           1653.000000  1653.000000  1653.000000   \n",
              "mean     27.266788              9.973382    25.053114   121.545101   \n",
              "std      14.155256              9.174091     0.033403     0.031916   \n",
              "min       5.000000              0.000000    24.976190   121.462280   \n",
              "25%      18.000000              3.000000    25.030100   121.522300   \n",
              "50%      24.000000              8.000000    25.050230   121.541170   \n",
              "75%      33.000000             14.000000    25.073320   121.566510   \n",
              "max      99.000000             61.000000    25.145820   121.623060   \n",
              "\n",
              "       available_return_bikes        ratio  \n",
              "count             1653.000000  1653.000000  \n",
              "mean                16.632184     0.390427  \n",
              "std                 14.046713     0.291653  \n",
              "min                  0.000000     0.000000  \n",
              "25%                  7.000000     0.130435  \n",
              "50%                 14.000000     0.357143  \n",
              "75%                 22.000000     0.600000  \n",
              "max                 96.000000     1.000000  "
            ]
          },
          "metadata": {},
          "output_type": "display_data"
        }
      ],
      "source": [
        "ubike_df = ubike_df.assign(\n",
        "    available_rent_bikes = pd.to_numeric(ubike_df.available_rent_bikes),\n",
        "    Quantity = pd.to_numeric(ubike_df.Quantity))\n",
        "\n",
        "ubike_df[\"ratio\"] = ubike_df.available_rent_bikes / ubike_df.Quantity\n",
        "# ubike_df.ratio2 = ubike_df.sbi / ubike_df.tot\n",
        "# ubike_df = ubike_df.assign(ratio = ubike_df.sbi/ubike_df.tot)\n",
        "# ubike_df.info()\n",
        "ubike_df[['sno', 'sna', 'Quantity', 'available_rent_bikes', 'ratio']].head().pipe(display)\n",
        "\n",
        "ubike_df.describe().pipe(display)"
      ]
    },
    {
      "cell_type": "markdown",
      "id": "28b0a62a",
      "metadata": {
        "id": "28b0a62a"
      },
      "source": [
        "## 4. Summarizing data\n",
        "\n",
        "- Tutorial: [groupby pandas](https://jamesrledoux.com/code/group-by-aggregate-pandas)\n",
        "* `df.groupby(col1)[col2].count()` summarize col2 according to col1 by counting\n",
        "* `df.groupby(col1)[col2].mean()` summarize col2 according to col1 by calculating their average of each category\n",
        "* `df.groupby([col1, col3])[col2].count()` summarize col2 according to col1 and col3 by counting"
      ]
    },
    {
      "cell_type": "markdown",
      "id": "30992a50",
      "metadata": {
        "id": "30992a50"
      },
      "source": [
        "### 4.1 Count single variable by `value_counts()`"
      ]
    },
    {
      "cell_type": "code",
      "execution_count": null,
      "id": "9da1b996",
      "metadata": {
        "id": "9da1b996",
        "outputId": "ee6b519d-8086-493a-84b6-bd08068dbd39"
      },
      "outputs": [
        {
          "data": {
            "text/plain": [
              "Counter({'網路': 2609, '廣播電台': 119, '平面媒體': 117, '電視': 109, '其他': 16, nan: 2})"
            ]
          },
          "metadata": {},
          "output_type": "display_data"
        }
      ],
      "source": [
        "# Conventional way\n",
        "from collections import Counter\n",
        "Counter(drug_df.pubMediaType)"
      ]
    },
    {
      "cell_type": "code",
      "execution_count": null,
      "id": "a8e320af",
      "metadata": {
        "id": "a8e320af",
        "outputId": "23aec8ee-feb8-4c0e-b8b5-73cb43359f02"
      },
      "outputs": [
        {
          "data": {
            "text/html": [
              "<div>\n",
              "<style scoped>\n",
              "    .dataframe tbody tr th:only-of-type {\n",
              "        vertical-align: middle;\n",
              "    }\n",
              "\n",
              "    .dataframe tbody tr th {\n",
              "        vertical-align: top;\n",
              "    }\n",
              "\n",
              "    .dataframe thead th {\n",
              "        text-align: right;\n",
              "    }\n",
              "</style>\n",
              "<table border=\"1\" class=\"dataframe\">\n",
              "  <thead>\n",
              "    <tr style=\"text-align: center;\">\n",
              "      <th></th>\n",
              "      <th>pname</th>\n",
              "      <th>cname</th>\n",
              "      <th>agency</th>\n",
              "      <th>issuedate</th>\n",
              "      <th>law</th>\n",
              "      <th>fact</th>\n",
              "      <th>pubDate</th>\n",
              "      <th>pubMediaType</th>\n",
              "      <th>pubMedia</th>\n",
              "      <th>trace</th>\n",
              "    </tr>\n",
              "  </thead>\n",
              "  <tbody>\n",
              "    <tr>\n",
              "      <th>0</th>\n",
              "      <td>維他肝</td>\n",
              "      <td>豐怡生化科技股份有限公司/朱O</td>\n",
              "      <td>NaN</td>\n",
              "      <td>03 31 2022 12:00AM</td>\n",
              "      <td>NaN</td>\n",
              "      <td>廣告內容誇大不實</td>\n",
              "      <td>02 2 2022 12:00AM</td>\n",
              "      <td>廣播電台</td>\n",
              "      <td>噶瑪蘭廣播電台股份有限公司</td>\n",
              "      <td>NaN</td>\n",
              "    </tr>\n",
              "    <tr>\n",
              "      <th>1</th>\n",
              "      <td>現貨澳洲Swisse ULTIBOOST維他命D片calcium vitamin VITAM...</td>\n",
              "      <td>張O雯/張O雯</td>\n",
              "      <td>NaN</td>\n",
              "      <td>01 21 2022 12:00AM</td>\n",
              "      <td>NaN</td>\n",
              "      <td>廣告違規</td>\n",
              "      <td>11 30 2021 12:00AM</td>\n",
              "      <td>網路</td>\n",
              "      <td>蝦皮購物</td>\n",
              "      <td>輔導結案</td>\n",
              "    </tr>\n",
              "    <tr>\n",
              "      <th>2</th>\n",
              "      <td>✈日本 代購 參天製藥 處方簽點眼液</td>\n",
              "      <td>蘇O涵/蘇O涵</td>\n",
              "      <td>NaN</td>\n",
              "      <td>01 25 2022 12:00AM</td>\n",
              "      <td>NaN</td>\n",
              "      <td>無照藥商</td>\n",
              "      <td>08 27 2021 12:00AM</td>\n",
              "      <td>網路</td>\n",
              "      <td>蝦皮購物</td>\n",
              "      <td>NaN</td>\n",
              "    </tr>\n",
              "    <tr>\n",
              "      <th>3</th>\n",
              "      <td>✈日本 代購 TSUMURA 中將湯 24天包裝</td>\n",
              "      <td>蘇O涵/蘇O涵</td>\n",
              "      <td>NaN</td>\n",
              "      <td>01 25 2022 12:00AM</td>\n",
              "      <td>NaN</td>\n",
              "      <td>無照藥商</td>\n",
              "      <td>08 27 2021 12:00AM</td>\n",
              "      <td>網路</td>\n",
              "      <td>蝦皮購物</td>\n",
              "      <td>輔導結案</td>\n",
              "    </tr>\n",
              "    <tr>\n",
              "      <th>4</th>\n",
              "      <td>_Salty.shop 日本代購 樂敦小花</td>\n",
              "      <td>曾O嫺/曾O嫺</td>\n",
              "      <td>NaN</td>\n",
              "      <td>02 17 2022 12:00AM</td>\n",
              "      <td>藥事法第27條</td>\n",
              "      <td>無照藥商</td>\n",
              "      <td>12 6 2021 12:00AM</td>\n",
              "      <td>網路</td>\n",
              "      <td>蝦皮購物</td>\n",
              "      <td>處分結案</td>\n",
              "    </tr>\n",
              "  </tbody>\n",
              "</table>\n",
              "</div>"
            ],
            "text/plain": [
              "                        pname                             cname       agency      issuedate        law       fact         pubDate       pubMediaType    pubMedia    trace\n",
              "0                                                維他肝  豐怡生化科技股份有限公司/朱O   NaN   03 31 2022 12:00AM      NaN  廣告內容誇大不實   02 2 2022 12:00AM     廣播電台      噶瑪蘭廣播電台股份有限公司   NaN\n",
              "1  現貨澳洲Swisse ULTIBOOST維他命D片calcium vitamin VITAM...          張O雯/張O雯   NaN   01 21 2022 12:00AM      NaN      廣告違規  11 30 2021 12:00AM       網路               蝦皮購物  輔導結案\n",
              "2                                 ✈日本 代購 參天製藥 處方簽點眼液          蘇O涵/蘇O涵   NaN   01 25 2022 12:00AM      NaN      無照藥商  08 27 2021 12:00AM       網路               蝦皮購物   NaN\n",
              "3                           ✈日本 代購 TSUMURA 中將湯 24天包裝          蘇O涵/蘇O涵   NaN   01 25 2022 12:00AM      NaN      無照藥商  08 27 2021 12:00AM       網路               蝦皮購物  輔導結案\n",
              "4                              _Salty.shop 日本代購 樂敦小花          曾O嫺/曾O嫺   NaN   02 17 2022 12:00AM  藥事法第27條      無照藥商   12 6 2021 12:00AM       網路               蝦皮購物  處分結案"
            ]
          },
          "metadata": {},
          "output_type": "display_data"
        }
      ],
      "source": [
        "drug_df.head()"
      ]
    },
    {
      "cell_type": "code",
      "execution_count": null,
      "id": "0c893967",
      "metadata": {
        "id": "0c893967",
        "outputId": "56beda48-7cf5-4e40-f532-80fe29758706"
      },
      "outputs": [
        {
          "data": {
            "text/plain": [
              "pubMediaType\n",
              "網路      2609\n",
              "廣播電台     119\n",
              "平面媒體     117\n",
              "電視       109\n",
              "其他        16\n",
              "Name: count, dtype: int64"
            ]
          },
          "metadata": {},
          "output_type": "display_data"
        }
      ],
      "source": [
        "# Pandas way\n",
        "drug_df.pubMediaType.value_counts()"
      ]
    },
    {
      "cell_type": "markdown",
      "id": "f6940859",
      "metadata": {
        "id": "f6940859"
      },
      "source": [
        "### 4.2 `groupby()` then `count()`"
      ]
    },
    {
      "cell_type": "code",
      "execution_count": null,
      "id": "fbb5b530",
      "metadata": {
        "id": "fbb5b530",
        "outputId": "906c9474-b878-438b-8952-e9618b79fc62"
      },
      "outputs": [
        {
          "data": {
            "application/vnd.microsoft.datawrangler.viewer.v0+json": {
              "columns": [
                {
                  "name": "pubMediaType",
                  "rawType": "object",
                  "type": "string"
                },
                {
                  "name": "pname",
                  "rawType": "int64",
                  "type": "integer"
                },
                {
                  "name": "agency",
                  "rawType": "int64",
                  "type": "integer"
                }
              ],
              "conversionMethod": "pd.DataFrame",
              "ref": "ecb6390a-1116-4efc-ae72-119a3f7ccbab",
              "rows": [
                [
                  "其他",
                  "16",
                  "0"
                ],
                [
                  "平面媒體",
                  "117",
                  "117"
                ],
                [
                  "廣播電台",
                  "119",
                  "0"
                ],
                [
                  "網路",
                  "2609",
                  "0"
                ],
                [
                  "電視",
                  "109",
                  "0"
                ]
              ],
              "shape": {
                "columns": 2,
                "rows": 5
              }
            },
            "text/html": [
              "<div>\n",
              "<style scoped>\n",
              "    .dataframe tbody tr th:only-of-type {\n",
              "        vertical-align: middle;\n",
              "    }\n",
              "\n",
              "    .dataframe tbody tr th {\n",
              "        vertical-align: top;\n",
              "    }\n",
              "\n",
              "    .dataframe thead th {\n",
              "        text-align: right;\n",
              "    }\n",
              "</style>\n",
              "<table border=\"1\" class=\"dataframe\">\n",
              "  <thead>\n",
              "    <tr style=\"text-align: right;\">\n",
              "      <th></th>\n",
              "      <th>pname</th>\n",
              "      <th>agency</th>\n",
              "    </tr>\n",
              "    <tr>\n",
              "      <th>pubMediaType</th>\n",
              "      <th></th>\n",
              "      <th></th>\n",
              "    </tr>\n",
              "  </thead>\n",
              "  <tbody>\n",
              "    <tr>\n",
              "      <th>其他</th>\n",
              "      <td>16</td>\n",
              "      <td>0</td>\n",
              "    </tr>\n",
              "    <tr>\n",
              "      <th>平面媒體</th>\n",
              "      <td>117</td>\n",
              "      <td>117</td>\n",
              "    </tr>\n",
              "    <tr>\n",
              "      <th>廣播電台</th>\n",
              "      <td>119</td>\n",
              "      <td>0</td>\n",
              "    </tr>\n",
              "    <tr>\n",
              "      <th>網路</th>\n",
              "      <td>2609</td>\n",
              "      <td>0</td>\n",
              "    </tr>\n",
              "    <tr>\n",
              "      <th>電視</th>\n",
              "      <td>109</td>\n",
              "      <td>0</td>\n",
              "    </tr>\n",
              "  </tbody>\n",
              "</table>\n",
              "</div>"
            ],
            "text/plain": [
              "              pname  agency\n",
              "pubMediaType               \n",
              "其他               16       0\n",
              "平面媒體            117     117\n",
              "廣播電台            119       0\n",
              "網路             2609       0\n",
              "電視              109       0"
            ]
          },
          "metadata": {},
          "output_type": "display_data"
        }
      ],
      "source": [
        "drug_df.groupby('pubMediaType')[['pname', 'agency']].count()"
      ]
    },
    {
      "cell_type": "markdown",
      "id": "138a4c37",
      "metadata": {
        "id": "138a4c37"
      },
      "source": [
        "### 4.3 `groupby()` then `sum()`\n",
        "\n",
        "Format: `df.groupby(col_for_group)[variable_to_group].func()`\n",
        "\n",
        "- `col_for_group`: 要作為群組根據的variable，例如將村里彙整為鄉鎮市區資料時，鄉鎮市區資料極為group的根據\n",
        "- `variable_to_group`: 哪些要根據上述的群組來彙整，通常是值，如上例，那就是人口數、土地面積等。\n",
        "- `func()`: 要用什麼函式來計算，是要計算每組組內的加總或平均？"
      ]
    },
    {
      "cell_type": "code",
      "execution_count": null,
      "id": "178c58f0",
      "metadata": {
        "id": "178c58f0",
        "outputId": "f62e9eda-0960-4e5a-c02f-ff465fc5e06b"
      },
      "outputs": [
        {
          "data": {
            "application/vnd.microsoft.datawrangler.viewer.v0+json": {
              "columns": [
                {
                  "name": "index",
                  "rawType": "int64",
                  "type": "integer"
                },
                {
                  "name": "sarea",
                  "rawType": "object",
                  "type": "string"
                },
                {
                  "name": "total",
                  "rawType": "int64",
                  "type": "integer"
                },
                {
                  "name": "available_rent_bikes",
                  "rawType": "int64",
                  "type": "integer"
                }
              ],
              "conversionMethod": "pd.DataFrame",
              "ref": "c9b0fdec-a75d-4450-b0f6-707313de83c2",
              "rows": [
                [
                  "0",
                  "大安區",
                  "28",
                  "3"
                ],
                [
                  "1",
                  "大安區",
                  "21",
                  "1"
                ],
                [
                  "2",
                  "大安區",
                  "16",
                  "4"
                ],
                [
                  "3",
                  "大安區",
                  "11",
                  "1"
                ],
                [
                  "4",
                  "大安區",
                  "16",
                  "2"
                ],
                [
                  "5",
                  "大安區",
                  "27",
                  "0"
                ],
                [
                  "6",
                  "大安區",
                  "11",
                  "0"
                ],
                [
                  "7",
                  "大安區",
                  "17",
                  "1"
                ],
                [
                  "8",
                  "大安區",
                  "16",
                  "0"
                ],
                [
                  "9",
                  "大安區",
                  "20",
                  "0"
                ],
                [
                  "10",
                  "大安區",
                  "8",
                  "3"
                ],
                [
                  "11",
                  "大安區",
                  "9",
                  "1"
                ],
                [
                  "12",
                  "大安區",
                  "11",
                  "0"
                ],
                [
                  "13",
                  "大安區",
                  "19",
                  "0"
                ],
                [
                  "14",
                  "大安區",
                  "8",
                  "0"
                ],
                [
                  "15",
                  "大安區",
                  "5",
                  "1"
                ],
                [
                  "16",
                  "大安區",
                  "24",
                  "3"
                ],
                [
                  "17",
                  "大安區",
                  "5",
                  "0"
                ],
                [
                  "18",
                  "大安區",
                  "7",
                  "0"
                ],
                [
                  "19",
                  "大安區",
                  "99",
                  "5"
                ],
                [
                  "20",
                  "大安區",
                  "25",
                  "1"
                ],
                [
                  "21",
                  "大安區",
                  "50",
                  "1"
                ],
                [
                  "22",
                  "大安區",
                  "99",
                  "0"
                ],
                [
                  "23",
                  "大安區",
                  "30",
                  "0"
                ],
                [
                  "24",
                  "大安區",
                  "39",
                  "1"
                ],
                [
                  "25",
                  "大安區",
                  "20",
                  "2"
                ],
                [
                  "26",
                  "大安區",
                  "15",
                  "0"
                ],
                [
                  "27",
                  "大安區",
                  "34",
                  "3"
                ],
                [
                  "28",
                  "大安區",
                  "20",
                  "18"
                ],
                [
                  "29",
                  "大安區",
                  "61",
                  "46"
                ],
                [
                  "30",
                  "大安區",
                  "40",
                  "30"
                ],
                [
                  "31",
                  "大安區",
                  "18",
                  "1"
                ],
                [
                  "32",
                  "大安區",
                  "24",
                  "1"
                ],
                [
                  "33",
                  "大安區",
                  "20",
                  "0"
                ],
                [
                  "34",
                  "大安區",
                  "20",
                  "2"
                ],
                [
                  "35",
                  "大安區",
                  "27",
                  "0"
                ],
                [
                  "36",
                  "大安區",
                  "28",
                  "0"
                ],
                [
                  "37",
                  "大安區",
                  "25",
                  "0"
                ],
                [
                  "38",
                  "大安區",
                  "50",
                  "3"
                ],
                [
                  "39",
                  "大安區",
                  "15",
                  "7"
                ],
                [
                  "40",
                  "大安區",
                  "34",
                  "5"
                ],
                [
                  "41",
                  "大安區",
                  "25",
                  "9"
                ],
                [
                  "42",
                  "大安區",
                  "23",
                  "1"
                ],
                [
                  "43",
                  "大安區",
                  "20",
                  "18"
                ],
                [
                  "44",
                  "大安區",
                  "37",
                  "22"
                ],
                [
                  "45",
                  "大安區",
                  "41",
                  "37"
                ],
                [
                  "46",
                  "大安區",
                  "25",
                  "19"
                ],
                [
                  "47",
                  "大安區",
                  "44",
                  "43"
                ],
                [
                  "48",
                  "大安區",
                  "50",
                  "41"
                ],
                [
                  "49",
                  "大安區",
                  "64",
                  "8"
                ]
              ],
              "shape": {
                "columns": 3,
                "rows": 1533
              }
            },
            "text/html": [
              "<div>\n",
              "<style scoped>\n",
              "    .dataframe tbody tr th:only-of-type {\n",
              "        vertical-align: middle;\n",
              "    }\n",
              "\n",
              "    .dataframe tbody tr th {\n",
              "        vertical-align: top;\n",
              "    }\n",
              "\n",
              "    .dataframe thead th {\n",
              "        text-align: right;\n",
              "    }\n",
              "</style>\n",
              "<table border=\"1\" class=\"dataframe\">\n",
              "  <thead>\n",
              "    <tr style=\"text-align: right;\">\n",
              "      <th></th>\n",
              "      <th>sarea</th>\n",
              "      <th>total</th>\n",
              "      <th>available_rent_bikes</th>\n",
              "    </tr>\n",
              "  </thead>\n",
              "  <tbody>\n",
              "    <tr>\n",
              "      <th>0</th>\n",
              "      <td>大安區</td>\n",
              "      <td>28</td>\n",
              "      <td>3</td>\n",
              "    </tr>\n",
              "    <tr>\n",
              "      <th>1</th>\n",
              "      <td>大安區</td>\n",
              "      <td>21</td>\n",
              "      <td>1</td>\n",
              "    </tr>\n",
              "    <tr>\n",
              "      <th>2</th>\n",
              "      <td>大安區</td>\n",
              "      <td>16</td>\n",
              "      <td>4</td>\n",
              "    </tr>\n",
              "    <tr>\n",
              "      <th>3</th>\n",
              "      <td>大安區</td>\n",
              "      <td>11</td>\n",
              "      <td>1</td>\n",
              "    </tr>\n",
              "    <tr>\n",
              "      <th>4</th>\n",
              "      <td>大安區</td>\n",
              "      <td>16</td>\n",
              "      <td>2</td>\n",
              "    </tr>\n",
              "    <tr>\n",
              "      <th>...</th>\n",
              "      <td>...</td>\n",
              "      <td>...</td>\n",
              "      <td>...</td>\n",
              "    </tr>\n",
              "    <tr>\n",
              "      <th>1528</th>\n",
              "      <td>臺大公館校區</td>\n",
              "      <td>36</td>\n",
              "      <td>0</td>\n",
              "    </tr>\n",
              "    <tr>\n",
              "      <th>1529</th>\n",
              "      <td>臺大公館校區</td>\n",
              "      <td>40</td>\n",
              "      <td>0</td>\n",
              "    </tr>\n",
              "    <tr>\n",
              "      <th>1530</th>\n",
              "      <td>臺大公館校區</td>\n",
              "      <td>33</td>\n",
              "      <td>0</td>\n",
              "    </tr>\n",
              "    <tr>\n",
              "      <th>1531</th>\n",
              "      <td>臺大公館校區</td>\n",
              "      <td>99</td>\n",
              "      <td>46</td>\n",
              "    </tr>\n",
              "    <tr>\n",
              "      <th>1532</th>\n",
              "      <td>臺大公館校區</td>\n",
              "      <td>67</td>\n",
              "      <td>0</td>\n",
              "    </tr>\n",
              "  </tbody>\n",
              "</table>\n",
              "<p>1533 rows × 3 columns</p>\n",
              "</div>"
            ],
            "text/plain": [
              "       sarea  total  available_rent_bikes\n",
              "0        大安區     28                     3\n",
              "1        大安區     21                     1\n",
              "2        大安區     16                     4\n",
              "3        大安區     11                     1\n",
              "4        大安區     16                     2\n",
              "...      ...    ...                   ...\n",
              "1528  臺大公館校區     36                     0\n",
              "1529  臺大公館校區     40                     0\n",
              "1530  臺大公館校區     33                     0\n",
              "1531  臺大公館校區     99                    46\n",
              "1532  臺大公館校區     67                     0\n",
              "\n",
              "[1533 rows x 3 columns]"
            ]
          },
          "metadata": {},
          "output_type": "display_data"
        }
      ],
      "source": [
        "ubike_df[['sarea', 'total', 'available_rent_bikes']]"
      ]
    },
    {
      "cell_type": "code",
      "execution_count": null,
      "id": "aca06874",
      "metadata": {
        "id": "aca06874",
        "outputId": "552686b7-0d1c-4fe5-c5fd-7b3e3ece4439"
      },
      "outputs": [
        {
          "data": {
            "text/plain": [
              "sarea\n",
              "中山區       4342\n",
              "中正區       3493\n",
              "信義區       3559\n",
              "內湖區       4181\n",
              "北投區       2832\n",
              "南港區       2723\n",
              "士林區       3162\n",
              "大同區       1899\n",
              "大安區       5348\n",
              "文山區       2478\n",
              "松山區       2490\n",
              "臺大公館校區    2048\n",
              "萬華區       2109\n",
              "Name: total, dtype: int64"
            ]
          },
          "metadata": {},
          "output_type": "display_data"
        }
      ],
      "source": [
        "# sum up tot in each region(town-level)\n",
        "\n",
        "ubike_df.groupby(\"sarea\")[\"total\"].sum()"
      ]
    },
    {
      "cell_type": "code",
      "execution_count": null,
      "id": "1924dc16",
      "metadata": {
        "id": "1924dc16",
        "outputId": "ec022bf5-fb36-41ab-a6c0-9502fe8318f9"
      },
      "outputs": [
        {
          "data": {
            "application/vnd.microsoft.datawrangler.viewer.v0+json": {
              "columns": [
                {
                  "name": "index",
                  "rawType": "int64",
                  "type": "integer"
                },
                {
                  "name": "sarea",
                  "rawType": "object",
                  "type": "string"
                },
                {
                  "name": "total",
                  "rawType": "int64",
                  "type": "integer"
                },
                {
                  "name": "available_rent_bikes",
                  "rawType": "int64",
                  "type": "integer"
                }
              ],
              "conversionMethod": "pd.DataFrame",
              "ref": "535c0a8d-a111-410f-93af-14aa0b0df0ab",
              "rows": [
                [
                  "0",
                  "中山區",
                  "4342",
                  "1398"
                ],
                [
                  "1",
                  "中正區",
                  "3493",
                  "892"
                ],
                [
                  "2",
                  "信義區",
                  "3559",
                  "1077"
                ],
                [
                  "3",
                  "內湖區",
                  "4181",
                  "1303"
                ],
                [
                  "4",
                  "北投區",
                  "2832",
                  "1079"
                ],
                [
                  "5",
                  "南港區",
                  "2723",
                  "1107"
                ],
                [
                  "6",
                  "士林區",
                  "3162",
                  "1020"
                ],
                [
                  "7",
                  "大同區",
                  "1899",
                  "917"
                ],
                [
                  "8",
                  "大安區",
                  "5348",
                  "1362"
                ],
                [
                  "9",
                  "文山區",
                  "2478",
                  "986"
                ],
                [
                  "10",
                  "松山區",
                  "2490",
                  "873"
                ],
                [
                  "11",
                  "臺大公館校區",
                  "2048",
                  "203"
                ],
                [
                  "12",
                  "萬華區",
                  "2109",
                  "1001"
                ]
              ],
              "shape": {
                "columns": 3,
                "rows": 13
              }
            },
            "text/html": [
              "<div>\n",
              "<style scoped>\n",
              "    .dataframe tbody tr th:only-of-type {\n",
              "        vertical-align: middle;\n",
              "    }\n",
              "\n",
              "    .dataframe tbody tr th {\n",
              "        vertical-align: top;\n",
              "    }\n",
              "\n",
              "    .dataframe thead th {\n",
              "        text-align: right;\n",
              "    }\n",
              "</style>\n",
              "<table border=\"1\" class=\"dataframe\">\n",
              "  <thead>\n",
              "    <tr style=\"text-align: right;\">\n",
              "      <th></th>\n",
              "      <th>sarea</th>\n",
              "      <th>total</th>\n",
              "      <th>available_rent_bikes</th>\n",
              "    </tr>\n",
              "  </thead>\n",
              "  <tbody>\n",
              "    <tr>\n",
              "      <th>0</th>\n",
              "      <td>中山區</td>\n",
              "      <td>4342</td>\n",
              "      <td>1398</td>\n",
              "    </tr>\n",
              "    <tr>\n",
              "      <th>1</th>\n",
              "      <td>中正區</td>\n",
              "      <td>3493</td>\n",
              "      <td>892</td>\n",
              "    </tr>\n",
              "    <tr>\n",
              "      <th>2</th>\n",
              "      <td>信義區</td>\n",
              "      <td>3559</td>\n",
              "      <td>1077</td>\n",
              "    </tr>\n",
              "    <tr>\n",
              "      <th>3</th>\n",
              "      <td>內湖區</td>\n",
              "      <td>4181</td>\n",
              "      <td>1303</td>\n",
              "    </tr>\n",
              "    <tr>\n",
              "      <th>4</th>\n",
              "      <td>北投區</td>\n",
              "      <td>2832</td>\n",
              "      <td>1079</td>\n",
              "    </tr>\n",
              "    <tr>\n",
              "      <th>5</th>\n",
              "      <td>南港區</td>\n",
              "      <td>2723</td>\n",
              "      <td>1107</td>\n",
              "    </tr>\n",
              "    <tr>\n",
              "      <th>6</th>\n",
              "      <td>士林區</td>\n",
              "      <td>3162</td>\n",
              "      <td>1020</td>\n",
              "    </tr>\n",
              "    <tr>\n",
              "      <th>7</th>\n",
              "      <td>大同區</td>\n",
              "      <td>1899</td>\n",
              "      <td>917</td>\n",
              "    </tr>\n",
              "    <tr>\n",
              "      <th>8</th>\n",
              "      <td>大安區</td>\n",
              "      <td>5348</td>\n",
              "      <td>1362</td>\n",
              "    </tr>\n",
              "    <tr>\n",
              "      <th>9</th>\n",
              "      <td>文山區</td>\n",
              "      <td>2478</td>\n",
              "      <td>986</td>\n",
              "    </tr>\n",
              "    <tr>\n",
              "      <th>10</th>\n",
              "      <td>松山區</td>\n",
              "      <td>2490</td>\n",
              "      <td>873</td>\n",
              "    </tr>\n",
              "    <tr>\n",
              "      <th>11</th>\n",
              "      <td>臺大公館校區</td>\n",
              "      <td>2048</td>\n",
              "      <td>203</td>\n",
              "    </tr>\n",
              "    <tr>\n",
              "      <th>12</th>\n",
              "      <td>萬華區</td>\n",
              "      <td>2109</td>\n",
              "      <td>1001</td>\n",
              "    </tr>\n",
              "  </tbody>\n",
              "</table>\n",
              "</div>"
            ],
            "text/plain": [
              "     sarea  total  available_rent_bikes\n",
              "0      中山區   4342                  1398\n",
              "1      中正區   3493                   892\n",
              "2      信義區   3559                  1077\n",
              "3      內湖區   4181                  1303\n",
              "4      北投區   2832                  1079\n",
              "5      南港區   2723                  1107\n",
              "6      士林區   3162                  1020\n",
              "7      大同區   1899                   917\n",
              "8      大安區   5348                  1362\n",
              "9      文山區   2478                   986\n",
              "10     松山區   2490                   873\n",
              "11  臺大公館校區   2048                   203\n",
              "12     萬華區   2109                  1001"
            ]
          },
          "metadata": {},
          "output_type": "display_data"
        }
      ],
      "source": [
        "ubike_stat = ubike_df.groupby(\"sarea\").agg({\"total\": \"sum\", \"available_rent_bikes\": \"sum\"}).reset_index()\n",
        "ubike_stat"
      ]
    },
    {
      "cell_type": "markdown",
      "id": "910c33a0",
      "metadata": {
        "id": "910c33a0"
      },
      "source": [
        "## 5. Sort-by (Arrange)"
      ]
    },
    {
      "cell_type": "code",
      "execution_count": null,
      "id": "ddbeb0f3",
      "metadata": {
        "id": "ddbeb0f3",
        "outputId": "e3a39561-c1bb-4acd-9ddb-b386dbc5ad37"
      },
      "outputs": [
        {
          "data": {
            "application/vnd.microsoft.datawrangler.viewer.v0+json": {
              "columns": [
                {
                  "name": "index",
                  "rawType": "int64",
                  "type": "integer"
                },
                {
                  "name": "sarea",
                  "rawType": "object",
                  "type": "string"
                },
                {
                  "name": "total",
                  "rawType": "int64",
                  "type": "integer"
                },
                {
                  "name": "available_rent_bikes",
                  "rawType": "int64",
                  "type": "integer"
                }
              ],
              "conversionMethod": "pd.DataFrame",
              "ref": "225bb5a0-1e98-41cf-a4c5-9557ac412283",
              "rows": [
                [
                  "8",
                  "大安區",
                  "5348",
                  "1362"
                ],
                [
                  "0",
                  "中山區",
                  "4342",
                  "1398"
                ],
                [
                  "3",
                  "內湖區",
                  "4181",
                  "1303"
                ],
                [
                  "2",
                  "信義區",
                  "3559",
                  "1077"
                ],
                [
                  "1",
                  "中正區",
                  "3493",
                  "892"
                ],
                [
                  "6",
                  "士林區",
                  "3162",
                  "1020"
                ],
                [
                  "4",
                  "北投區",
                  "2832",
                  "1079"
                ],
                [
                  "5",
                  "南港區",
                  "2723",
                  "1107"
                ],
                [
                  "10",
                  "松山區",
                  "2490",
                  "873"
                ],
                [
                  "9",
                  "文山區",
                  "2478",
                  "986"
                ],
                [
                  "12",
                  "萬華區",
                  "2109",
                  "1001"
                ],
                [
                  "11",
                  "臺大公館校區",
                  "2048",
                  "203"
                ],
                [
                  "7",
                  "大同區",
                  "1899",
                  "917"
                ]
              ],
              "shape": {
                "columns": 3,
                "rows": 13
              }
            },
            "text/html": [
              "<div>\n",
              "<style scoped>\n",
              "    .dataframe tbody tr th:only-of-type {\n",
              "        vertical-align: middle;\n",
              "    }\n",
              "\n",
              "    .dataframe tbody tr th {\n",
              "        vertical-align: top;\n",
              "    }\n",
              "\n",
              "    .dataframe thead th {\n",
              "        text-align: right;\n",
              "    }\n",
              "</style>\n",
              "<table border=\"1\" class=\"dataframe\">\n",
              "  <thead>\n",
              "    <tr style=\"text-align: right;\">\n",
              "      <th></th>\n",
              "      <th>sarea</th>\n",
              "      <th>total</th>\n",
              "      <th>available_rent_bikes</th>\n",
              "    </tr>\n",
              "  </thead>\n",
              "  <tbody>\n",
              "    <tr>\n",
              "      <th>8</th>\n",
              "      <td>大安區</td>\n",
              "      <td>5348</td>\n",
              "      <td>1362</td>\n",
              "    </tr>\n",
              "    <tr>\n",
              "      <th>0</th>\n",
              "      <td>中山區</td>\n",
              "      <td>4342</td>\n",
              "      <td>1398</td>\n",
              "    </tr>\n",
              "    <tr>\n",
              "      <th>3</th>\n",
              "      <td>內湖區</td>\n",
              "      <td>4181</td>\n",
              "      <td>1303</td>\n",
              "    </tr>\n",
              "    <tr>\n",
              "      <th>2</th>\n",
              "      <td>信義區</td>\n",
              "      <td>3559</td>\n",
              "      <td>1077</td>\n",
              "    </tr>\n",
              "    <tr>\n",
              "      <th>1</th>\n",
              "      <td>中正區</td>\n",
              "      <td>3493</td>\n",
              "      <td>892</td>\n",
              "    </tr>\n",
              "    <tr>\n",
              "      <th>6</th>\n",
              "      <td>士林區</td>\n",
              "      <td>3162</td>\n",
              "      <td>1020</td>\n",
              "    </tr>\n",
              "    <tr>\n",
              "      <th>4</th>\n",
              "      <td>北投區</td>\n",
              "      <td>2832</td>\n",
              "      <td>1079</td>\n",
              "    </tr>\n",
              "    <tr>\n",
              "      <th>5</th>\n",
              "      <td>南港區</td>\n",
              "      <td>2723</td>\n",
              "      <td>1107</td>\n",
              "    </tr>\n",
              "    <tr>\n",
              "      <th>10</th>\n",
              "      <td>松山區</td>\n",
              "      <td>2490</td>\n",
              "      <td>873</td>\n",
              "    </tr>\n",
              "    <tr>\n",
              "      <th>9</th>\n",
              "      <td>文山區</td>\n",
              "      <td>2478</td>\n",
              "      <td>986</td>\n",
              "    </tr>\n",
              "    <tr>\n",
              "      <th>12</th>\n",
              "      <td>萬華區</td>\n",
              "      <td>2109</td>\n",
              "      <td>1001</td>\n",
              "    </tr>\n",
              "    <tr>\n",
              "      <th>11</th>\n",
              "      <td>臺大公館校區</td>\n",
              "      <td>2048</td>\n",
              "      <td>203</td>\n",
              "    </tr>\n",
              "    <tr>\n",
              "      <th>7</th>\n",
              "      <td>大同區</td>\n",
              "      <td>1899</td>\n",
              "      <td>917</td>\n",
              "    </tr>\n",
              "  </tbody>\n",
              "</table>\n",
              "</div>"
            ],
            "text/plain": [
              "     sarea  total  available_rent_bikes\n",
              "8      大安區   5348                  1362\n",
              "0      中山區   4342                  1398\n",
              "3      內湖區   4181                  1303\n",
              "2      信義區   3559                  1077\n",
              "1      中正區   3493                   892\n",
              "6      士林區   3162                  1020\n",
              "4      北投區   2832                  1079\n",
              "5      南港區   2723                  1107\n",
              "10     松山區   2490                   873\n",
              "9      文山區   2478                   986\n",
              "12     萬華區   2109                  1001\n",
              "11  臺大公館校區   2048                   203\n",
              "7      大同區   1899                   917"
            ]
          },
          "metadata": {},
          "output_type": "display_data"
        }
      ],
      "source": [
        "# ascending=False to sort by dscending order\n",
        "ubike_stat.sort_values('total', ascending=False)"
      ]
    },
    {
      "cell_type": "code",
      "execution_count": null,
      "id": "52532600",
      "metadata": {
        "id": "52532600",
        "outputId": "74ebb21a-1c8f-4f25-f6ad-0685ebb06033"
      },
      "outputs": [
        {
          "data": {
            "application/vnd.microsoft.datawrangler.viewer.v0+json": {
              "columns": [
                {
                  "name": "index",
                  "rawType": "int64",
                  "type": "integer"
                },
                {
                  "name": "sno",
                  "rawType": "object",
                  "type": "string"
                },
                {
                  "name": "sna",
                  "rawType": "object",
                  "type": "string"
                },
                {
                  "name": "total",
                  "rawType": "int64",
                  "type": "integer"
                },
                {
                  "name": "available_rent_bikes",
                  "rawType": "int64",
                  "type": "integer"
                },
                {
                  "name": "ratio",
                  "rawType": "float64",
                  "type": "float"
                }
              ],
              "conversionMethod": "pd.DataFrame",
              "ref": "7e83a153-d8b9-407c-af39-c1f3bc0f56a5",
              "rows": [
                [
                  "1192",
                  "500111015",
                  "YouBike2.0_福山公園",
                  "30",
                  "30",
                  "1.0"
                ],
                [
                  "1235",
                  "500111058",
                  "YouBike2.0_舊莊國小(舊莊街一段)",
                  "18",
                  "18",
                  "1.0"
                ],
                [
                  "311",
                  "500104052",
                  "YouBike2.0_重慶北路四段190巷口",
                  "13",
                  "13",
                  "1.0"
                ],
                [
                  "1138",
                  "500110052",
                  "YouBike2.0_南京東路五段59巷口",
                  "17",
                  "17",
                  "1.0"
                ],
                [
                  "762",
                  "500107141",
                  "YouBike2.0_建國北路高架橋下停車場G區",
                  "18",
                  "18",
                  "1.0"
                ],
                [
                  "757",
                  "500107136",
                  "YouBike2.0_建國五常街口",
                  "20",
                  "20",
                  "1.0"
                ],
                [
                  "1370",
                  "500112094",
                  "YouBike2.0_吳興街284巷(廣安宮)",
                  "15",
                  "15",
                  "1.0"
                ],
                [
                  "1234",
                  "500111057",
                  "YouBike2.0_力行橋(南港)",
                  "18",
                  "18",
                  "1.0"
                ],
                [
                  "1236",
                  "500111059",
                  "YouBike2.0_向陽公園",
                  "17",
                  "17",
                  "1.0"
                ],
                [
                  "1259",
                  "500111082",
                  "YouBike2.0_南港路三段130巷口",
                  "12",
                  "12",
                  "1.0"
                ]
              ],
              "shape": {
                "columns": 5,
                "rows": 10
              }
            },
            "text/html": [
              "<div>\n",
              "<style scoped>\n",
              "    .dataframe tbody tr th:only-of-type {\n",
              "        vertical-align: middle;\n",
              "    }\n",
              "\n",
              "    .dataframe tbody tr th {\n",
              "        vertical-align: top;\n",
              "    }\n",
              "\n",
              "    .dataframe thead th {\n",
              "        text-align: right;\n",
              "    }\n",
              "</style>\n",
              "<table border=\"1\" class=\"dataframe\">\n",
              "  <thead>\n",
              "    <tr style=\"text-align: right;\">\n",
              "      <th></th>\n",
              "      <th>sno</th>\n",
              "      <th>sna</th>\n",
              "      <th>total</th>\n",
              "      <th>available_rent_bikes</th>\n",
              "      <th>ratio</th>\n",
              "    </tr>\n",
              "  </thead>\n",
              "  <tbody>\n",
              "    <tr>\n",
              "      <th>1192</th>\n",
              "      <td>500111015</td>\n",
              "      <td>YouBike2.0_福山公園</td>\n",
              "      <td>30</td>\n",
              "      <td>30</td>\n",
              "      <td>1.0</td>\n",
              "    </tr>\n",
              "    <tr>\n",
              "      <th>1235</th>\n",
              "      <td>500111058</td>\n",
              "      <td>YouBike2.0_舊莊國小(舊莊街一段)</td>\n",
              "      <td>18</td>\n",
              "      <td>18</td>\n",
              "      <td>1.0</td>\n",
              "    </tr>\n",
              "    <tr>\n",
              "      <th>311</th>\n",
              "      <td>500104052</td>\n",
              "      <td>YouBike2.0_重慶北路四段190巷口</td>\n",
              "      <td>13</td>\n",
              "      <td>13</td>\n",
              "      <td>1.0</td>\n",
              "    </tr>\n",
              "    <tr>\n",
              "      <th>1138</th>\n",
              "      <td>500110052</td>\n",
              "      <td>YouBike2.0_南京東路五段59巷口</td>\n",
              "      <td>17</td>\n",
              "      <td>17</td>\n",
              "      <td>1.0</td>\n",
              "    </tr>\n",
              "    <tr>\n",
              "      <th>762</th>\n",
              "      <td>500107141</td>\n",
              "      <td>YouBike2.0_建國北路高架橋下停車場G區</td>\n",
              "      <td>18</td>\n",
              "      <td>18</td>\n",
              "      <td>1.0</td>\n",
              "    </tr>\n",
              "    <tr>\n",
              "      <th>757</th>\n",
              "      <td>500107136</td>\n",
              "      <td>YouBike2.0_建國五常街口</td>\n",
              "      <td>20</td>\n",
              "      <td>20</td>\n",
              "      <td>1.0</td>\n",
              "    </tr>\n",
              "    <tr>\n",
              "      <th>1370</th>\n",
              "      <td>500112094</td>\n",
              "      <td>YouBike2.0_吳興街284巷(廣安宮)</td>\n",
              "      <td>15</td>\n",
              "      <td>15</td>\n",
              "      <td>1.0</td>\n",
              "    </tr>\n",
              "    <tr>\n",
              "      <th>1234</th>\n",
              "      <td>500111057</td>\n",
              "      <td>YouBike2.0_力行橋(南港)</td>\n",
              "      <td>18</td>\n",
              "      <td>18</td>\n",
              "      <td>1.0</td>\n",
              "    </tr>\n",
              "    <tr>\n",
              "      <th>1236</th>\n",
              "      <td>500111059</td>\n",
              "      <td>YouBike2.0_向陽公園</td>\n",
              "      <td>17</td>\n",
              "      <td>17</td>\n",
              "      <td>1.0</td>\n",
              "    </tr>\n",
              "    <tr>\n",
              "      <th>1259</th>\n",
              "      <td>500111082</td>\n",
              "      <td>YouBike2.0_南港路三段130巷口</td>\n",
              "      <td>12</td>\n",
              "      <td>12</td>\n",
              "      <td>1.0</td>\n",
              "    </tr>\n",
              "  </tbody>\n",
              "</table>\n",
              "</div>"
            ],
            "text/plain": [
              "            sno                       sna  total  available_rent_bikes  ratio\n",
              "1192  500111015           YouBike2.0_福山公園     30                    30    1.0\n",
              "1235  500111058    YouBike2.0_舊莊國小(舊莊街一段)     18                    18    1.0\n",
              "311   500104052    YouBike2.0_重慶北路四段190巷口     13                    13    1.0\n",
              "1138  500110052     YouBike2.0_南京東路五段59巷口     17                    17    1.0\n",
              "762   500107141  YouBike2.0_建國北路高架橋下停車場G區     18                    18    1.0\n",
              "757   500107136         YouBike2.0_建國五常街口     20                    20    1.0\n",
              "1370  500112094   YouBike2.0_吳興街284巷(廣安宮)     15                    15    1.0\n",
              "1234  500111057        YouBike2.0_力行橋(南港)     18                    18    1.0\n",
              "1236  500111059           YouBike2.0_向陽公園     17                    17    1.0\n",
              "1259  500111082     YouBike2.0_南港路三段130巷口     12                    12    1.0"
            ]
          },
          "metadata": {},
          "output_type": "display_data"
        }
      ],
      "source": [
        "ubike_df.sort_values('ratio', ascending=False)[['sno', 'sna', 'total', 'available_rent_bikes', 'ratio']].head(10)"
      ]
    },
    {
      "cell_type": "markdown",
      "id": "d09c9a80",
      "metadata": {
        "id": "d09c9a80"
      },
      "source": [
        "## 6. Dataframe to files\n",
        "\n",
        "這門課，尤其是資料科學，會傾向於用Pandas DataFrame來操作資料，對於初期的觀察資料，或者資料的排序、彙整、計數、篩選、儲存與檔案轉換等，都非常方便。你會用到Pandas Dataframe來操作資料可能會有以下幾種情形：\n",
        "1. 將CSV或EXCEL檔案讀入成為Pandas DataFrame（常用）\n",
        "2. 將JSON檔案讀入成為Pandas DataFrame（常用）\n",
        "3. 將Pandas DataFrame寫入成為CSV或EXCEL檔案（常用）\n",
        "4. 將Pandas DataFrame寫入成為JSON檔案（常用）\n",
        "5. 將List of Dicts轉為Pandas DataFrame（常用）\n",
        "6. 將List of Lists轉為Pandas DataFrame\n",
        "7. 將Pandas DataFrame轉為List of Dicts\n",
        "8. 將Pandas DataFrame轉為List of Lists\n",
        "\n",
        "![Alt text](https://github.com/p4css/py4css/blob/master/_sources/PSS/img/image-6-1.png?raw=1)\n",
        "\n",
        "### Write Dataframe to files\n",
        "```python\n",
        "# Write DataFrame to CSV file\n",
        "df.to_csv('data1.csv', index=False)\n",
        "\n",
        "# Write DataFrame to Excel file\n",
        "df.to_excel('data1.xlsx', index=False)\n",
        "\n",
        "# Write DataFrame to JSON file\n",
        "df.to_json('data1.json', orient='records')\n",
        "```\n",
        "\n",
        "### Read files to Dataframe\n",
        "```python\n",
        "# Read CSV file to DataFrame\n",
        "df = pd.read_csv('data1.csv')\n",
        "# Read Excel file to DataFrame\n",
        "df = pd.read_excel('data1.xlsx')\n",
        "# Read JSON file to DataFrame\n",
        "df = pd.read_json('data1.json', orient='records')"
      ]
    },
    {
      "cell_type": "markdown",
      "id": "6800ff94",
      "metadata": {
        "id": "6800ff94"
      },
      "source": []
    }
  ],
  "metadata": {
    "kernelspec": {
      "display_name": "new_tm_py310",
      "language": "python",
      "name": "python3"
    },
    "language_info": {
      "codemirror_mode": {
        "name": "ipython",
        "version": 3
      },
      "file_extension": ".py",
      "mimetype": "text/x-python",
      "name": "python",
      "nbconvert_exporter": "python",
      "pygments_lexer": "ipython3",
      "version": "3.10.18"
    },
    "colab": {
      "provenance": []
    }
  },
  "nbformat": 4,
  "nbformat_minor": 5
}