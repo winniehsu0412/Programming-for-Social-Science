{
 "cells": [
  {
   "cell_type": "markdown",
   "metadata": {
    "colab_type": "text",
    "id": "view-in-github"
   },
   "source": [
    "<a href=\"https://colab.research.google.com/github/P4CSS/PSS/blob/master/P02_basic.ipynb\" target=\"_parent\"><img src=\"https://colab.research.google.com/assets/colab-badge.svg\" alt=\"Open In Colab\"/></a>"
   ]
  },
  {
   "cell_type": "markdown",
   "metadata": {
    "id": "hzg-pAHOWMd5"
   },
   "source": [
    "# P02 Python Basic\n",
    "\n",
    "* [Slide: Py02 Basic](https://docs.google.com/presentation/d/e/2PACX-1vSlofAj4mFI_gXntfgMTelq-9qKHj1XE6-36DI87vGoKdyW9vaF-jeJzZqGIT7d-kknaQQc4M4DfROx/pub?start=false&loop=false&delayms=3000)\n",
    "* [Github repo: P4CSS/PSS](https://github.com/P4CSS/PSS)"
   ]
  },
  {
   "cell_type": "markdown",
   "metadata": {
    "id": "rSa4e2fkV4wE"
   },
   "source": [
    "## Outline\n",
    "\n",
    "1. Print and print format\n",
    "2. Variables and variable types\n",
    "3. Arithemetic operations\n",
    "4. Example: Converting temperature format"
   ]
  },
  {
   "cell_type": "markdown",
   "metadata": {
    "id": "TfL6xn2sV4wJ"
   },
   "source": [
    "## print\n",
    "\n",
    "語法是`print()`。\n",
    "1. 可用於印出字串、數字、以及變數的內容。\n",
    "2. 若是一個變數的話，會印出變數的內容；\n",
    "3. 若是一個「運算式」的話，會印出運算式的結果。\n",
    "\n",
    "### 印出字串\n",
    "以下兩者是相同的，但不可以交錯使用，例如`print('hello world\")`會產生Error。"
   ]
  },
  {
   "cell_type": "code",
   "execution_count": 1,
   "metadata": {
    "ExecuteTime": {
     "end_time": "2020-03-16T16:36:55.580891Z",
     "start_time": "2020-03-16T16:36:55.574389Z"
    },
    "id": "hbaBwSDSV4wK",
    "outputId": "9cfa6453-ce46-4f96-b7e2-25939ab90f01"
   },
   "outputs": [
    {
     "name": "stdout",
     "output_type": "stream",
     "text": [
      "hello world\n",
      "hello world\n"
     ]
    }
   ],
   "source": [
    "print(\"hello world\")\n",
    "print('hello world')"
   ]
  },
  {
   "cell_type": "markdown",
   "metadata": {},
   "source": [
    "如果要印出雙引號，外部需要加上單引號；反之亦然。"
   ]
  },
  {
   "cell_type": "code",
   "execution_count": 1,
   "metadata": {},
   "outputs": [
    {
     "name": "stdout",
     "output_type": "stream",
     "text": [
      "'hello world'\n",
      "\"hello world\"\n"
     ]
    }
   ],
   "source": [
    "print(\"'hello world'\")\n",
    "print('\"hello world\"')"
   ]
  },
  {
   "cell_type": "markdown",
   "metadata": {},
   "source": [
    "### 列印計算式\n",
    "\n",
    "可以直接列印運算的結果，甚至像是`\"-\"`這種文字型態資料的也可以運算，`\"-\"*20`的意思是該符號重複20次。"
   ]
  },
  {
   "cell_type": "code",
   "execution_count": 6,
   "metadata": {},
   "outputs": [
    {
     "name": "stdout",
     "output_type": "stream",
     "text": [
      "12\n",
      "--------------------\n",
      "13\n",
      "19311\n"
     ]
    }
   ],
   "source": [
    "print(1+2+4+5)\n",
    "print(\"-\"*20)\n",
    "print((3-1)*4+5)\n",
    "print(123*345-(188*123))"
   ]
  },
  {
   "cell_type": "markdown",
   "metadata": {
    "id": "DtSjUi5sV4wL"
   },
   "source": [
    "### Print multiple terms\n",
    "「`,`」在`print()`中可列印數個變數或值。可以把它想像成「接下去印」的意思。"
   ]
  },
  {
   "cell_type": "code",
   "execution_count": 8,
   "metadata": {
    "ExecuteTime": {
     "end_time": "2020-03-17T02:41:59.841939Z",
     "start_time": "2020-03-17T02:41:59.838671Z"
    },
    "id": "R6yfVvg1V4wL",
    "outputId": "f9c490dc-693a-43b3-a79a-ba04d7cf140a"
   },
   "outputs": [
    {
     "name": "stdout",
     "output_type": "stream",
     "text": [
      "1 2 2\n",
      "33 4 6\n"
     ]
    }
   ],
   "source": [
    "a, b, c = 1, 2, 3\n",
    "print(a, b, b)\n",
    "print(\"33\", 4, c*2)"
   ]
  },
  {
   "cell_type": "markdown",
   "metadata": {
    "id": "LfRe0WwPV4wM"
   },
   "source": [
    "### Print tab and newline\n",
    "\n",
    "在程式語言中，`\\t`代表一個tab，`\\n`代表使用者敲Enter下去時所產生的換行符號（Newline）。這些也可以用`print()`列印出來。通常要列印`\\t`或`\\n`是為了使得印出更容易閱讀。\n"
   ]
  },
  {
   "cell_type": "code",
   "execution_count": 17,
   "metadata": {
    "ExecuteTime": {
     "end_time": "2020-03-17T02:43:26.296920Z",
     "start_time": "2020-03-17T02:43:26.294023Z"
    },
    "id": "tfJoTVEwV4wM",
    "outputId": "2409de0e-0258-44ae-95f3-590db1b9eebf"
   },
   "outputs": [
    {
     "name": "stdout",
     "output_type": "stream",
     "text": [
      "a+b =  \t 7\n",
      "a*b =  \t 10\n",
      "a/b =  \t 2.5\n",
      "a%b =  \t 1\n",
      "a**b =  \t 25\n"
     ]
    }
   ],
   "source": [
    "a, b, c = 5, 2, 3\n",
    "print(\"a+b = \", \"\\t\", a+b)\n",
    "print(\"a*b = \", \"\\t\", a*b)\n",
    "print(\"a/b = \", \"\\t\", a/b)\n",
    "print(\"a%b = \", \"\\t\", a%b)\n",
    "print(\"a**b = \", \"\\t\", a**b)\n"
   ]
  },
  {
   "cell_type": "markdown",
   "metadata": {},
   "source": [
    "## Comments\n",
    "\n",
    "註解（Comments）是用來讓別人或自己後續還可以看得懂自己的程式碼的。優秀的程式設計師會把註解寫得很清楚，以利團隊合作。只要是`#`開頭的程式碼便是註解，都不會被程式所執行。"
   ]
  },
  {
   "cell_type": "code",
   "execution_count": 10,
   "metadata": {},
   "outputs": [
    {
     "name": "stdout",
     "output_type": "stream",
     "text": [
      "This is not a comment\n"
     ]
    }
   ],
   "source": [
    "# print(\"123\")\n",
    "print(\"This is not a comment\")"
   ]
  },
  {
   "cell_type": "markdown",
   "metadata": {
    "id": "8lyOmqh0V4wM"
   },
   "source": [
    "## Variable\n",
    "\n",
    "### Assignment  =\n",
    "\n",
    "**自右而左的Assignment：**在幾乎所有的程式語言中，`=`的記號均為assignment，意是把右方演算的結果，Assign（指）給左方的變數。`=`符號左方幾乎都是變數。且右方的資料如果是整數，Assign給左方時，左方就是個整數；如果右方資料是文字字串，Assign給左方變數，左方變數便是文字字串。\n",
    "\n",
    "**那「等於」的符號是什麼？**如果想要在程式語言中表達「相等」，通常是連續兩個等號`==`，例如`1/2 == 4/2`，為邏輯運算式，邏輯運算的結果會得到`true`或`false`。\n",
    "\n",
    "在Python中最特別的是，Assignment的使用可以多對多，例如`a, b = 1, 2`"
   ]
  },
  {
   "cell_type": "markdown",
   "metadata": {},
   "source": [
    "### Naming of variables\n",
    "\n",
    "* 不可用數字開始，例如`123b = 13a + 14b`。當然也不可以是中文。\n",
    "* 中間不得有空白，例如`my book = 13a + 14b` (why?)\n",
    "* 不可使用保留字（[reserved word](https://docs.python.org/2.5/ref/keywords.html)）(why?) 。因為這些保留字都是程式碼的基本語法，如果把它們拿來當變數，你的程式編輯器怎麼看得懂，這到底是一個指令，還是一個變數呢？基本保留字有這些。\n",
    "    ```\n",
    "    and       del       from      not       while    \n",
    "    as        elif      global    or        with     \n",
    "    assert    else      if        pass      yield    \n",
    "    break     except    import    print              \n",
    "    class     exec      in        raise              \n",
    "    continue  finally   is        return             \n",
    "    def       for       lambda    try\n",
    "    ```\n",
    "* 關於Python程式寫作的風格，可參考[PEP 0008](https://www.python.org/dev/peps/pep-0008/)，其中，[Naming conventions](https://www.python.org/dev/peps/pep-0008/#naming-conventions)一節有提到變數要如何命名。\n",
    "    * 若全部是大寫的，多半是常數，例如最大寬度、PI的值。\n",
    "    * 若是底線開頭的，應該是區域變數（Local variable，你還不用知道）"
   ]
  },
  {
   "cell_type": "markdown",
   "metadata": {},
   "source": [
    "以下這些都是合法的（參考自[W3School: Python Varialbe Names](https://www.w3schools.com/python/python_variables_names.asp)）"
   ]
  },
  {
   "cell_type": "code",
   "execution_count": 18,
   "metadata": {},
   "outputs": [],
   "source": [
    "myvar = \"Hsieh\"\n",
    "my_var = \"Hsieh\"\n",
    "_my_var = \"Hsieh\"\n",
    "myVar = \"Hsieh\"\n",
    "MYVAR = \"Hsieh\"\n",
    "myvar2 = \"Hsieh\""
   ]
  },
  {
   "cell_type": "markdown",
   "metadata": {},
   "source": [
    "以下這些都是不合法的變數名稱，(1) 不可以是數字開頭，(2)中間可以有`_`但不可以有`-`，(3)不可以有空白，不然程式不知道，這是兩個字還是一個字，(4)不可以有dot（但R是允許有dot的）"
   ]
  },
  {
   "cell_type": "code",
   "execution_count": 19,
   "metadata": {
    "id": "Cyxybe1PV4wM"
   },
   "outputs": [
    {
     "ename": "SyntaxError",
     "evalue": "invalid syntax (3828854825.py, line 1)",
     "output_type": "error",
     "traceback": [
      "\u001b[0;36m  Input \u001b[0;32mIn [19]\u001b[0;36m\u001b[0m\n\u001b[0;31m    2myvar = \"Hsieh\"\u001b[0m\n\u001b[0m     ^\u001b[0m\n\u001b[0;31mSyntaxError\u001b[0m\u001b[0;31m:\u001b[0m invalid syntax\n"
     ]
    }
   ],
   "source": [
    "2myvar = \"Hsieh\" # cannot start with number\n",
    "my-var = \"Hsieh\" # cannot have dash\n",
    "my var = \"Hsieh\" # cannot have space\n",
    "my.var = \"Hsieh\" # cannot have dot"
   ]
  },
  {
   "cell_type": "markdown",
   "metadata": {
    "id": "mR5UGXS6V4wN",
    "tags": []
   },
   "source": [
    "### Data types\n",
    "\n",
    "`list`, `dictionary`是python這個程式語言的內建資料型態。請參閱[5. Built-in Types](https://docs.python.org/2/library/stdtypes.html)。常見的資料型態共有以下幾種\n",
    "\n",
    "* **(1)真／偽（True/False）**: 如果`a=3`，然後用等號測試變數`a`是否等於3時，`a==3`的結果即會傳回`True`。\n",
    "* **(2)數值（Numeric Types）**：包含 `int`(整數), `float`(有小數點的), long, complex\n",
    "    * 非整數的小數（floating point number）: e.g., `b = 12.3`\n",
    "    * 整數（integer）: e.g., `c = 123`\n",
    "* **(3)字串（string）**: e.g., `a = '12.3'`，用成對的雙引號或單引號括起來的為文字。例如`\"test\"`和`'test'`其實是相同的，只是用單引號或雙引號而已，但不可以交錯使用。\n",
    "---\n",
    "* **(4)序列（Sequence Types）**\n",
    "    * list: `alist = []`\n",
    "    * tuple: `ab = (1, 2, 3)`\n",
    "    * 文字字串（`str`）也是一種序列型態\n",
    "* **(5)集合（Set Types）**： `set`, frozenset\n",
    "* **(6)對應（Mapping Types）**： `dict`。例如`bdict = {5:2, '5':6, 12:[13, 14], 13:{14:'15', '16':[17]}}`\n",
    "* **(7)檔案（File Objects）**\n"
   ]
  },
  {
   "cell_type": "markdown",
   "metadata": {},
   "source": [
    "在下例中的`bdict`，整數`5`和字串`'5'`分別對應到兩個不同的數值，可見是字串或文字是不可混淆的。除此之外，數字可以拿來相除，字串是不能拿來相除的。"
   ]
  },
  {
   "cell_type": "code",
   "execution_count": 39,
   "metadata": {},
   "outputs": [
    {
     "name": "stdout",
     "output_type": "stream",
     "text": [
      "True False True True\n",
      "{5: 2, '5': 6, 12: [13, 14], 13: {14: '15', '16': [17]}}\n",
      "[13, 14]\n",
      "6\n",
      "2\n"
     ]
    }
   ],
   "source": [
    "print(True, False, 4/2==2, 5/2==2.5)\n",
    "bdict = {5:2, '5':6, 12:[13, 14], 13:{14:'15', '16':[17]}}\n",
    "print(bdict)\n",
    "print(bdict[12])\n",
    "print(bdict['5'])\n",
    "print(bdict[5])"
   ]
  },
  {
   "cell_type": "code",
   "execution_count": 40,
   "metadata": {},
   "outputs": [
    {
     "name": "stdout",
     "output_type": "stream",
     "text": [
      "True\n",
      "False\n",
      "if '2'==2? False\n",
      "if 2==2.0? True\n"
     ]
    }
   ],
   "source": [
    "print(\"test\"=='test')\n",
    "print(\"5\"==5) \n",
    "a, b, c = '2', 2, 2.0\n",
    "print(\"if '2'==2?\", a==b)\n",
    "print(\"if 2==2.0?\", b==c)"
   ]
  },
  {
   "cell_type": "markdown",
   "metadata": {
    "id": "IR4ZuAbgV4wN"
   },
   "source": [
    "### Assignment also creates data type\n",
    "變數使用Assignment（指派）來讓程式知道該變數的變數型態為何。右側的運算必然會產生一個某種變數型態的值，當把這樣的變數型態assign給左側的變數時，左側的變數便會自動被設定為該型態。注意！一定是把右方的內容（右方可能是數值也可能是變數）指定給左方的變數。\n",
    "\n",
    "下例把`a = 2`，那麼`a`就是整數的`2`；若是`a = 2.0`，那麼`a`就會是浮點數（floating point，也就是有小數點的）的`a`。"
   ]
  },
  {
   "cell_type": "code",
   "execution_count": 35,
   "metadata": {
    "ExecuteTime": {
     "end_time": "2020-02-22T14:10:36.293269Z",
     "start_time": "2020-02-22T14:10:36.289458Z"
    },
    "id": "vOgsw8EnV4wN"
   },
   "outputs": [],
   "source": [
    "a = 2 # integer\n",
    "b = 3.0 # floating point number\n",
    "c = '1.123' # string\n",
    "d = \"2\" # string"
   ]
  },
  {
   "cell_type": "markdown",
   "metadata": {
    "id": "hFTi6ZHUV4wO"
   },
   "source": [
    "#### Using `type()` to check data type\n",
    "\n",
    "承上節，因為在Python中，Assignment後會自動將「=」右方的變數型態Assign給左方的變數，我們可以用`type()`函式來得知某個變數的變數型態。"
   ]
  },
  {
   "cell_type": "code",
   "execution_count": 45,
   "metadata": {
    "ExecuteTime": {
     "end_time": "2020-02-22T14:10:33.650103Z",
     "start_time": "2020-02-22T14:10:33.641249Z"
    },
    "id": "5NqUW-msV4wO",
    "outputId": "200efc9e-9019-4add-f4da-80484883cee3"
   },
   "outputs": [
    {
     "name": "stdout",
     "output_type": "stream",
     "text": [
      "<class 'str'> <class 'str'>\n",
      "<class 'bool'>\n",
      "<class 'float'>\n",
      "<class 'float'>\n",
      "<class 'list'>\n",
      "<class 'dict'>\n"
     ]
    }
   ],
   "source": [
    "x, y = '1.1', \"1.1\" # string\n",
    "print(type(x), type(y))\n",
    "print(type(x==y))\n",
    "print(type(5/2))\n",
    "print(type(4/2))\n",
    "\n",
    "# check the type of d, e\n",
    "z, w = [], {}\n",
    "print(type(z))\n",
    "print(type(w))\n"
   ]
  },
  {
   "cell_type": "markdown",
   "metadata": {
    "id": "B7GOk98wV4wO"
   },
   "source": [
    "### Converting data type\n",
    "\n",
    "* 變數可以用`int()`、`float()`和`str()`在彼此間轉換（左側為最常用的三個）。\n",
    "* 但要注意的是，`float()`相當於是有小數點的數字，若被`int()`強制轉換，會伴隨精確度的流失。例如`a = int(2.3)`會只剩下`2`，且沒辦法復原。\n",
    "* 如果將`integer`乘上`float`的話，整個變數會變成`float`。如下面的例子中，type將會是`float`。\n",
    "\n",
    "```\n",
    "a = 3\n",
    "print(type(a * 3.0))\n",
    "```"
   ]
  },
  {
   "cell_type": "code",
   "execution_count": 53,
   "metadata": {
    "ExecuteTime": {
     "end_time": "2020-03-17T03:05:34.452727Z",
     "start_time": "2020-03-17T03:05:34.449073Z"
    },
    "id": "aiPwL9BoV4wP",
    "outputId": "2ddfe27c-70cc-4ead-f24e-317a31cbf645"
   },
   "outputs": [
    {
     "name": "stdout",
     "output_type": "stream",
     "text": [
      "2.3 \t type(2.3): <class 'float'>\n",
      "2 \t type(int(2.3)): <class 'int'>\n",
      "2.3 \t type(str(2.3)): <class 'str'>\n",
      "3 <class 'int'>\n",
      "9.0 <class 'float'>\n"
     ]
    }
   ],
   "source": [
    "# convert a to integer, then assign to b\n",
    "print(2.3, '\\t', \"type(2.3):\", type(2.3))\n",
    "print(int(2.3), '\\t', 'type(int(2.3)):', type(int(2.3)))\n",
    "print(str(2.3), '\\t', 'type(str(2.3)):', type(str(2.3)))\n",
    "      \n",
    "a = 3\n",
    "print(a, type(a))\n",
    "print(a*3.0, type(a*3.0))"
   ]
  },
  {
   "cell_type": "markdown",
   "metadata": {
    "id": "jvXc-zBXV4wP"
   },
   "source": [
    "### Printing with variables\n",
    "\n",
    "在列印輸出時，有時候我們會希望在前後多印出一些字串來說明印出來的那個結果是什麼。此時要用print formatting[String print formatting](https://docs.python.org/2/library/string.html)。以`print(\"my name is %s, age %s\"%(name, 36.1234567))`為例，其表示要將後面那兩個變數或者數值的內容，放到前面兩個`%s`的位置，且`%s`是表示，要用字串來輸出。\n",
    "* `%d` means printing as decimal number\n",
    "* `%s` means printing as string\n",
    "* `%f` means print as floating point number\n",
    "\n",
    "**參考資料：**可以參考這篇[PyFormat](https://pyformat.info/)來了解`%d`和`.format()`另外一種print formatting的寫法。也可參考以下網址的內容：https://docs.python.org/3/tutorial/inputoutput.html"
   ]
  },
  {
   "cell_type": "markdown",
   "metadata": {},
   "source": [
    "#### 輸出範例（Python2.x style）\n",
    "\n",
    "在下面的例子中，`age`一開始就經過Assignment成為浮點數（有小數點的）型態的變數，根據控制符號的不同，會有以下差別：\n",
    "1. 用`%f`當成浮點數來輸出的話，會輸出`42.00000`\n",
    "2. 用`%s`當成字串來輸出的話，會輸出`42.0`，其實只要是印出來的都是字串，所以印成字串，原本長怎樣就會輸出怎樣。\n",
    "3. 用`%d`當成整數來輸出的話，就會輸出成整數的樣子`42`\n",
    "4. `%10s`的意思代表留10格，但靠右輸出，`%-10s`的意思代表留10格，靠左輸出。\n",
    "5. `%10.3f`代表留10格，浮點數打到小數第三位。"
   ]
  },
  {
   "cell_type": "code",
   "execution_count": 80,
   "metadata": {
    "ExecuteTime": {
     "end_time": "2020-03-17T03:10:28.330710Z",
     "start_time": "2020-03-17T03:10:28.327110Z"
    },
    "id": "4mEh1YdjV4wP",
    "outputId": "010c951a-e9f2-4348-809c-8bae096ffd77"
   },
   "outputs": [
    {
     "name": "stdout",
     "output_type": "stream",
     "text": [
      "Your name is HSIEH ! Your age is 42.0 !\n",
      "Your name is HSIEH ! Your age is 42.000000! \n",
      "Your name is HSIEH ! Your age is 42.0! \n",
      "Your name is HSIEH ! Your age is 42! \n",
      "Your name is      HSIEH and age       42.0\n",
      "Your name is HSIEH      and age 42.0      \n",
      "Your name is HSIEH ! Your age is     42.000! \n"
     ]
    }
   ],
   "source": [
    "name = \"HSIEH\"\n",
    "age = 42.0\n",
    "print(\"Your name is\", name, \"! Your age is\", age, \"!\")\n",
    "print(\"Your name is %s ! Your age is %f! \"%(name, age))\n",
    "print(\"Your name is %s ! Your age is %s! \"%(name, age))\n",
    "print(\"Your name is %s ! Your age is %d! \"%(name, age))\n",
    "print(\"Your name is %10s and age %10s\"%(name, age))\n",
    "print(\"Your name is %-10s and age %-10s\"%(name, age))\n",
    "print(\"Your name is %s ! Your age is %10.3f! \"%(name, age))"
   ]
  },
  {
   "cell_type": "markdown",
   "metadata": {},
   "source": [
    "#### 輸出範例（Python3.x style）\n",
    "\n",
    "以下是Python3.x的寫法，但兩種同時都可以使用。"
   ]
  },
  {
   "cell_type": "code",
   "execution_count": 81,
   "metadata": {
    "id": "grBDjOSWV4wP",
    "outputId": "994d60d3-3d58-4266-bee8-54c69c1de301"
   },
   "outputs": [
    {
     "name": "stdout",
     "output_type": "stream",
     "text": [
      "Your name is HSIEH ! Your age is 42.0\n",
      "Your name is HSIEH and age 42.0\n",
      "Your name is HSIEH      and age       42.0\n",
      "Your name is HSIEH      and age       42.0\n"
     ]
    }
   ],
   "source": [
    "name = \"HSIEH\"\n",
    "age = 42.0\n",
    "print(\"Your name is {} ! Your age is {}\".format(name, age))\n",
    "print(f\"Your name is {name} and age {age}\")\n",
    "print(\"Your name is {:10} and age {:10}\".format(name, age))\n",
    "print(f\"Your name is {name:10} and age {age:10}\")"
   ]
  },
  {
   "cell_type": "markdown",
   "metadata": {},
   "source": [
    "為什麼要有這麼複雜的格式化輸出，是為了讓輸出可以整齊好看，例如以下的例子。"
   ]
  },
  {
   "cell_type": "code",
   "execution_count": 85,
   "metadata": {},
   "outputs": [
    {
     "name": "stdout",
     "output_type": "stream",
     "text": [
      "Sjoerd     ==>      41273\n",
      "Jack       ==>        409\n",
      "Dcab       ==>       7678\n"
     ]
    }
   ],
   "source": [
    "table = {'Sjoerd': 41273, 'Jack': 409, 'Dcab': 7678}\n",
    "for name, id in table.items():\n",
    "    print(f'{name:10} ==> {id:10d}')"
   ]
  },
  {
   "cell_type": "markdown",
   "metadata": {
    "id": "hJZISpewV4wP"
   },
   "source": [
    "**常見錯誤一**：前面字串中所預留的位置和後面所欲帶入的變數／數值數量若不相同會怎樣？例如下面這個例子中，後面的arguments只有一個，前面則有兩個formatted slot。"
   ]
  },
  {
   "cell_type": "code",
   "execution_count": null,
   "metadata": {
    "ExecuteTime": {
     "end_time": "2020-03-16T16:42:51.707522Z",
     "start_time": "2020-03-16T16:42:51.551692Z"
    },
    "id": "fENnyCJTV4wQ",
    "outputId": "290588a6-c54e-4c55-f8eb-607cd006bd75"
   },
   "outputs": [
    {
     "ename": "TypeError",
     "evalue": "not enough arguments for format string",
     "output_type": "error",
     "traceback": [
      "\u001b[0;31m---------------------------------------------------------------------------\u001b[0m",
      "\u001b[0;31mTypeError\u001b[0m                                 Traceback (most recent call last)",
      "\u001b[0;32m<ipython-input-6-493e0e8bd587>\u001b[0m in \u001b[0;36m<module>\u001b[0;34m\u001b[0m\n\u001b[0;32m----> 1\u001b[0;31m \u001b[0mprint\u001b[0m\u001b[0;34m(\u001b[0m\u001b[0;34m\"Your name is %s ! You age is %s\"\u001b[0m\u001b[0;34m%\u001b[0m\u001b[0;34m(\u001b[0m\u001b[0;34m'jilung'\u001b[0m\u001b[0;34m)\u001b[0m\u001b[0;34m)\u001b[0m\u001b[0;34m\u001b[0m\u001b[0;34m\u001b[0m\u001b[0m\n\u001b[0m",
      "\u001b[0;31mTypeError\u001b[0m: not enough arguments for format string"
     ]
    }
   ],
   "source": [
    "print(\"Your name is %s ! You age is %s\"%('jilung'))"
   ]
  },
  {
   "cell_type": "markdown",
   "metadata": {
    "id": "b89KTgr2V4wQ"
   },
   "source": [
    "**常見錯誤二**：而下面這個是少一個formatted slot，後面有兩個變數，前面僅有一個`%s`。"
   ]
  },
  {
   "cell_type": "code",
   "execution_count": null,
   "metadata": {
    "id": "QQPcX--yV4wQ",
    "outputId": "f81e3600-893d-476f-d950-ba3226c8e55e"
   },
   "outputs": [
    {
     "ename": "TypeError",
     "evalue": "not all arguments converted during string formatting",
     "output_type": "error",
     "traceback": [
      "\u001b[0;31m---------------------------------------------------------------------------\u001b[0m",
      "\u001b[0;31mTypeError\u001b[0m                                 Traceback (most recent call last)",
      "\u001b[0;32m<ipython-input-24-b35bbcc85cdb>\u001b[0m in \u001b[0;36m<module>\u001b[0;34m()\u001b[0m\n\u001b[0;32m----> 1\u001b[0;31m \u001b[0mprint\u001b[0m\u001b[0;34m(\u001b[0m\u001b[0;34m\"Your name is ! Your age is %s! \"\u001b[0m\u001b[0;34m%\u001b[0m\u001b[0;34m(\u001b[0m\u001b[0mname\u001b[0m\u001b[0;34m,\u001b[0m \u001b[0mage\u001b[0m\u001b[0;34m)\u001b[0m\u001b[0;34m)\u001b[0m\u001b[0;34m\u001b[0m\u001b[0m\n\u001b[0m",
      "\u001b[0;31mTypeError\u001b[0m: not all arguments converted during string formatting"
     ]
    }
   ],
   "source": [
    "print(\"Your name is ! Your age is %s! \"%(name, age))"
   ]
  },
  {
   "cell_type": "markdown",
   "metadata": {
    "id": "EuDxODHyV4wQ"
   },
   "source": [
    "## Arithemetic operations +, -, *, **, /, %\n",
    "\n",
    "四則運算的計算方式和普遍數學的運算相同，由左而右，括號內先做，先乘除後加減。\n",
    "\n",
    "* `**` - \"power of.\"\n",
    "* `%` - \"mod\" e.g., `5%3==2`, `4%2==0`.\n",
    "* `/` - \"divide\" varied by data type of numberator and denominator"
   ]
  },
  {
   "cell_type": "code",
   "execution_count": 87,
   "metadata": {
    "ExecuteTime": {
     "end_time": "2020-03-17T03:16:31.910318Z",
     "start_time": "2020-03-17T03:16:31.904837Z"
    },
    "id": "QyoSUIbiV4wQ",
    "outputId": "4e602af1-709c-444b-d6a7-0c84298ed9a3"
   },
   "outputs": [
    {
     "name": "stdout",
     "output_type": "stream",
     "text": [
      "a = 10, b = 3\n",
      "a/b= 3.3333333333333335 a/b= 1\n",
      "a/b=3, a%b=1\n",
      "a/b=3.333333, a%b=1.000000\n",
      "3.3333333333333335\n",
      "3.3333333333333335\n",
      "((a+b)**2+(a-b)**2)/float(a**2+b**2) =  2.0\n"
     ]
    }
   ],
   "source": [
    "a, b = 10, 3\n",
    "\n",
    "# print a and b\n",
    "print(\"a = %d, b = %d\"%(a, b))\n",
    "\n",
    "# print the result of a/b and a%b\n",
    "print(\"a/b=\", a/b, \"a/b=\", a%b)\n",
    "\n",
    "# print a/b and a%b but formatted to integer\n",
    "print(\"a/b=%d, a%%b=%d\"%(a/b, a%b))\n",
    "\n",
    "# print a/b and a%b but formatted to float\n",
    "print(\"a/b=%f, a%%b=%f\"%(a/b, a%b))\n",
    "\n",
    "\n",
    "# a divided by float(b)\n",
    "print(a/float(b))\n",
    "\n",
    "# b divides float(a)\n",
    "print(float(a)/b)\n",
    "\n",
    "# print ((a+b)**2+(a-b)**2)/float(a**2+b**2) and it result\n",
    "print(\"((a+b)**2+(a-b)**2)/float(a**2+b**2) = \", ((a+b)**2+(a-b)**2)/float(a**2+b**2))\n"
   ]
  },
  {
   "cell_type": "markdown",
   "metadata": {
    "id": "A848xMgwV4wR"
   },
   "source": [
    "**字串除以數字**：如果把字串除以整數的話會產生什麼樣的情形？字串是沒辦法除以整數的，因為沒有意義，所以會產生*TypeError*。"
   ]
  },
  {
   "cell_type": "code",
   "execution_count": 86,
   "metadata": {
    "id": "RrT_dA5mV4wR"
   },
   "outputs": [
    {
     "ename": "TypeError",
     "evalue": "unsupported operand type(s) for /: 'str' and 'int'",
     "output_type": "error",
     "traceback": [
      "\u001b[0;31m---------------------------------------------------------------------------\u001b[0m",
      "\u001b[0;31mTypeError\u001b[0m                                 Traceback (most recent call last)",
      "Input \u001b[0;32mIn [86]\u001b[0m, in \u001b[0;36m<cell line: 1>\u001b[0;34m()\u001b[0m\n\u001b[0;32m----> 1\u001b[0m \u001b[38;5;28mprint\u001b[39m(\u001b[38;5;28;43mstr\u001b[39;49m\u001b[43m(\u001b[49m\u001b[43ma\u001b[49m\u001b[43m)\u001b[49m\u001b[38;5;241;43m/\u001b[39;49m\u001b[43mb\u001b[49m)\n",
      "\u001b[0;31mTypeError\u001b[0m: unsupported operand type(s) for /: 'str' and 'int'"
     ]
    }
   ],
   "source": [
    "print(str(a)/b)\n",
    "# TypeError: unsupported operand type(s) for /: 'str' and 'int'"
   ]
  },
  {
   "cell_type": "markdown",
   "metadata": {
    "id": "2lUdrQ7IV4wR"
   },
   "source": [
    "## Practice. Converting Temperature format\n",
    "\n",
    "攝氏tc溫度等於華氏tf溫度-32後乘以5/9。"
   ]
  },
  {
   "cell_type": "code",
   "execution_count": 89,
   "metadata": {
    "ExecuteTime": {
     "end_time": "2020-03-12T02:46:13.422836Z",
     "start_time": "2020-03-12T02:46:13.419889Z"
    },
    "id": "ozf27rjkV4wR",
    "outputId": "40ea9b55-8f0e-4174-ec3d-d8b323ef4310"
   },
   "outputs": [
    {
     "name": "stdout",
     "output_type": "stream",
     "text": [
      "10.0\n"
     ]
    }
   ],
   "source": [
    "tf = 50\n",
    "tc = (tf-32)*5/9\n",
    "print(tc)"
   ]
  },
  {
   "cell_type": "code",
   "execution_count": 99,
   "metadata": {},
   "outputs": [
    {
     "name": "stdout",
     "output_type": "stream",
     "text": [
      "    1 ==>   -17.22\n",
      "    2 ==>   -16.67\n",
      "    3 ==>   -16.11\n",
      "    4 ==>   -15.56\n",
      "    5 ==>   -15.00\n",
      "    6 ==>   -14.44\n",
      "    7 ==>   -13.89\n",
      "    8 ==>   -13.33\n",
      "    9 ==>   -12.78\n",
      "   10 ==>   -12.22\n",
      "   11 ==>   -11.67\n",
      "   12 ==>   -11.11\n",
      "   13 ==>   -10.56\n",
      "   14 ==>   -10.00\n",
      "   15 ==>    -9.44\n",
      "   16 ==>    -8.89\n",
      "   17 ==>    -8.33\n",
      "   18 ==>    -7.78\n",
      "   19 ==>    -7.22\n",
      "   20 ==>    -6.67\n",
      "   21 ==>    -6.11\n",
      "   22 ==>    -5.56\n",
      "   23 ==>    -5.00\n",
      "   24 ==>    -4.44\n",
      "   25 ==>    -3.89\n",
      "   26 ==>    -3.33\n",
      "   27 ==>    -2.78\n",
      "   28 ==>    -2.22\n",
      "   29 ==>    -1.67\n",
      "   30 ==>    -1.11\n",
      "   31 ==>    -0.56\n",
      "   32 ==>     0.00\n",
      "   33 ==>     0.56\n",
      "   34 ==>     1.11\n",
      "   35 ==>     1.67\n",
      "   36 ==>     2.22\n",
      "   37 ==>     2.78\n",
      "   38 ==>     3.33\n",
      "   39 ==>     3.89\n",
      "   40 ==>     4.44\n",
      "   41 ==>     5.00\n",
      "   42 ==>     5.56\n",
      "   43 ==>     6.11\n",
      "   44 ==>     6.67\n",
      "   45 ==>     7.22\n",
      "   46 ==>     7.78\n",
      "   47 ==>     8.33\n",
      "   48 ==>     8.89\n",
      "   49 ==>     9.44\n",
      "   50 ==>    10.00\n",
      "   51 ==>    10.56\n",
      "   52 ==>    11.11\n",
      "   53 ==>    11.67\n",
      "   54 ==>    12.22\n",
      "   55 ==>    12.78\n",
      "   56 ==>    13.33\n",
      "   57 ==>    13.89\n",
      "   58 ==>    14.44\n",
      "   59 ==>    15.00\n",
      "   60 ==>    15.56\n",
      "   61 ==>    16.11\n",
      "   62 ==>    16.67\n",
      "   63 ==>    17.22\n",
      "   64 ==>    17.78\n",
      "   65 ==>    18.33\n",
      "   66 ==>    18.89\n",
      "   67 ==>    19.44\n",
      "   68 ==>    20.00\n",
      "   69 ==>    20.56\n",
      "   70 ==>    21.11\n",
      "   71 ==>    21.67\n",
      "   72 ==>    22.22\n",
      "   73 ==>    22.78\n",
      "   74 ==>    23.33\n",
      "   75 ==>    23.89\n",
      "   76 ==>    24.44\n",
      "   77 ==>    25.00\n",
      "   78 ==>    25.56\n",
      "   79 ==>    26.11\n",
      "   80 ==>    26.67\n",
      "   81 ==>    27.22\n",
      "   82 ==>    27.78\n",
      "   83 ==>    28.33\n",
      "   84 ==>    28.89\n",
      "   85 ==>    29.44\n",
      "   86 ==>    30.00\n",
      "   87 ==>    30.56\n",
      "   88 ==>    31.11\n",
      "   89 ==>    31.67\n",
      "   90 ==>    32.22\n",
      "   91 ==>    32.78\n",
      "   92 ==>    33.33\n",
      "   93 ==>    33.89\n",
      "   94 ==>    34.44\n",
      "   95 ==>    35.00\n",
      "   96 ==>    35.56\n",
      "   97 ==>    36.11\n",
      "   98 ==>    36.67\n",
      "   99 ==>    37.22\n",
      "  100 ==>    37.78\n"
     ]
    }
   ],
   "source": [
    "for tf in range(1, 101):\n",
    "    tc = (tf-32)*5/9\n",
    "    print(f'{tf:5} ==> {tc:-8.2f}')"
   ]
  }
 ],
 "metadata": {
  "colab": {
   "include_colab_link": true,
   "name": "P02_basic_blank.ipynb",
   "provenance": [],
   "toc_visible": true
  },
  "kernelspec": {
   "display_name": "Python 3 (ipykernel)",
   "language": "python",
   "name": "python3"
  },
  "language_info": {
   "codemirror_mode": {
    "name": "ipython",
    "version": 3
   },
   "file_extension": ".py",
   "mimetype": "text/x-python",
   "name": "python",
   "nbconvert_exporter": "python",
   "pygments_lexer": "ipython3",
   "version": "3.7.4"
  },
  "toc": {
   "base_numbering": 1,
   "nav_menu": {},
   "number_sections": true,
   "sideBar": true,
   "skip_h1_title": false,
   "title_cell": "Table of Contents",
   "title_sidebar": "Contents",
   "toc_cell": false,
   "toc_position": {},
   "toc_section_display": true,
   "toc_window_display": true
  },
  "toc-autonumbering": false,
  "toc-showcode": false,
  "toc-showmarkdowntxt": false,
  "toc-showtags": false,
  "varInspector": {
   "cols": {
    "lenName": 16,
    "lenType": 16,
    "lenVar": 40
   },
   "kernels_config": {
    "python": {
     "delete_cmd_postfix": "",
     "delete_cmd_prefix": "del ",
     "library": "var_list.py",
     "varRefreshCmd": "print(var_dic_list())"
    },
    "r": {
     "delete_cmd_postfix": ") ",
     "delete_cmd_prefix": "rm(",
     "library": "var_list.r",
     "varRefreshCmd": "cat(var_dic_list()) "
    }
   },
   "types_to_exclude": [
    "module",
    "function",
    "builtin_function_or_method",
    "instance",
    "_Feature"
   ],
   "window_display": false
  }
 },
 "nbformat": 4,
 "nbformat_minor": 4
}
